{
 "cells": [
  {
   "cell_type": "code",
   "execution_count": 1,
   "metadata": {
    "nbsphinx": "hidden"
   },
   "outputs": [],
   "source": [
    "from pystencils.session import *"
   ]
  },
  {
   "cell_type": "markdown",
   "metadata": {},
   "source": [
    "# Demo: Assignment collections and simplification\n",
    "\n",
    "\n",
    "## Assignment collections\n",
    "\n",
    "The assignment collection class helps to formulate and simplify assignments for numerical kernels. \n",
    "\n",
    "An ``AssignmentCollection`` is an ordered collection of assignments, together with an optional ordered collection of subexpressions, that are required to evaluate the main assignments. There are various simplification rules available that operate on ``AssignmentCollection``s."
   ]
  },
  {
   "cell_type": "markdown",
   "metadata": {},
   "source": [
    "We start by defining some stencil update rule. Here we also use the *pystencils* ``Field``, note however that the assignment collection module works purely on the *sympy* level."
   ]
  },
  {
   "cell_type": "code",
   "execution_count": 2,
   "metadata": {},
   "outputs": [
    {
     "data": {
      "text/html": [
       "<div>Main Assignments:</div><table style=\"border:none; width: 100%; \"><tr style=\"border:none\"> <td style=\"border:none\">$${g}_{(0,0)}^{1} \\leftarrow_{} {f}_{(1,0)}^{0} \\left(a^{2} - c\\right) + {f}_{(0,1)}^{0} \\left(a^{2} + b\\right) + {f}_{(0,-1)}^{0} a^{2} + {f}_{(-1,0)}^{0} \\left(a^{2} - 2 c\\right)$$</td>  </tr> <tr style=\"border:none\"> <td style=\"border:none\">$${g}_{(0,0)}^{0} \\leftarrow_{} {f}_{(1,0)}^{0} \\left(c^{2} - c\\right) + {f}_{(0,1)}^{0} \\left(b + c^{2}\\right) + {f}_{(0,-1)}^{0} \\left(- a^{2} + c^{2}\\right) + {f}_{(-1,0)}^{0} \\left(c^{2} - 2 c\\right)$$</td>  </tr> </table>"
      ],
      "text/plain": [
       "AssignmentCollection: g_C^0, g_C^1 <- f(f_N^0, b, f_S^0, f_E^0, a, f_W^0, c)"
      ]
     },
     "execution_count": 2,
     "metadata": {},
     "output_type": "execute_result"
    }
   ],
   "source": [
    "a,b,c = sp.symbols(\"a b c\")\n",
    "f = ps.fields(\"f(2) : [2D]\")\n",
    "g = ps.fields(\"g(2) : [2D]\")\n",
    "\n",
    "a1 = ps.Assignment(g[0,0](1), (a**2 +b) * f[0,1] + \\\n",
    "                  (a**2 - c) * f[1,0] + \\\n",
    "                  (a**2 - 2*c) * f[-1,0] + \\\n",
    "                  (a**2) * f[0, -1])\n",
    "\n",
    "a2 = ps.Assignment(g[0,0](0), (c**2 +b) * f[0,1] + \\\n",
    "                  (c**2 - c) * f[1,0] + \\\n",
    "                  (c**2 - 2*c) * f[-1,0] + \\\n",
    "                  (c**2 - a**2) * f[0, -1])\n",
    "\n",
    "\n",
    "ac = ps.AssignmentCollection([a1, a2], subexpressions=[])\n",
    "ac"
   ]
  },
  {
   "cell_type": "markdown",
   "metadata": {},
   "source": [
    "*sympy* operations can be applied on an assignment collection: In this example we first expand the collection, then look for common subexpressions."
   ]
  },
  {
   "cell_type": "code",
   "execution_count": 3,
   "metadata": {},
   "outputs": [],
   "source": [
    "expand_all = ps.simp.apply_to_all_assignments(sp.expand)\n",
    "expandedEc = expand_all(ac)"
   ]
  },
  {
   "cell_type": "code",
   "execution_count": 4,
   "metadata": {},
   "outputs": [
    {
     "data": {
      "text/html": [
       "<div>Subexpressions:</div><table style=\"border:none; width: 100%; \"><tr style=\"border:none\"> <td style=\"border:none\">$$\\xi_{0} \\leftarrow_{} a^{2}$$</td>  </tr> <tr style=\"border:none\"> <td style=\"border:none\">$$\\xi_{1} \\leftarrow_{} {f}_{(0,-1)}^{0} \\xi_{0}$$</td>  </tr> <tr style=\"border:none\"> <td style=\"border:none\">$$\\xi_{2} \\leftarrow_{} - {f}_{(1,0)}^{0} c + {f}_{(0,1)}^{0} b - 2 {f}_{(-1,0)}^{0} c$$</td>  </tr> <tr style=\"border:none\"> <td style=\"border:none\">$$\\xi_{3} \\leftarrow_{} c^{2}$$</td>  </tr> </table><div>Main Assignments:</div><table style=\"border:none; width: 100%; \"><tr style=\"border:none\"> <td style=\"border:none\">$${g}_{(0,0)}^{1} \\leftarrow_{} {f}_{(1,0)}^{0} \\xi_{0} + {f}_{(0,1)}^{0} \\xi_{0} + {f}_{(-1,0)}^{0} \\xi_{0} + \\xi_{1} + \\xi_{2}$$</td>  </tr> <tr style=\"border:none\"> <td style=\"border:none\">$${g}_{(0,0)}^{0} \\leftarrow_{} {f}_{(1,0)}^{0} \\xi_{3} + {f}_{(0,1)}^{0} \\xi_{3} + {f}_{(0,-1)}^{0} \\xi_{3} + {f}_{(-1,0)}^{0} \\xi_{3} - \\xi_{1} + \\xi_{2}$$</td>  </tr> </table>"
      ],
      "text/plain": [
       "AssignmentCollection: g_C^0, g_C^1 <- f(f_N^0, b, f_S^0, f_E^0, a, f_W^0, c)"
      ]
     },
     "execution_count": 4,
     "metadata": {},
     "output_type": "execute_result"
    }
   ],
   "source": [
    "ac_cse = ps.simp.sympy_cse(expandedEc)\n",
    "ac_cse"
   ]
  },
  {
   "cell_type": "markdown",
   "metadata": {},
   "source": [
    "Symbols occuring in assignment collections are classified into 3 categories:\n",
    "- ``free_symbols``: symbols that occur in right-hand-sides but never on left-hand-sides\n",
    "- ``bound_symbols``: symbols that occur on left-hand-sides\n",
    "- ``defined_symbols``: symbols that occur on left-hand-sides of a main assignment"
   ]
  },
  {
   "cell_type": "code",
   "execution_count": 5,
   "metadata": {},
   "outputs": [
    {
     "data": {
      "image/png": "[encoded data removed]",
      "text/latex": [
       "$\\displaystyle \\left\\{{f}_{(1,0)}^{0}, {f}_{(0,1)}^{0}, {f}_{(0,-1)}^{0}, {f}_{(-1,0)}^{0}, a, b, c\\right\\}$"
      ],
      "text/plain": [
       "{f_E__0, f_N__0, f_S__0, f_W__0, a, b, c}"
      ]
     },
     "execution_count": 5,
     "metadata": {},
     "output_type": "execute_result"
    }
   ],
   "source": [
    "ac_cse.free_symbols"
   ]
  },
  {
   "cell_type": "code",
   "execution_count": 6,
   "metadata": {},
   "outputs": [
    {
     "data": {
      "image/png": "[encoded data removed]",
      "text/latex": [
       "$\\displaystyle \\left\\{{g}_{(0,0)}^{0}, {g}_{(0,0)}^{1}, \\xi_{0}, \\xi_{1}, \\xi_{2}, \\xi_{3}\\right\\}$"
      ],
      "text/plain": [
       "{g_C__0, g_C__1, ξ₀, ξ₁, ξ₂, ξ₃}"
      ]
     },
     "execution_count": 6,
     "metadata": {},
     "output_type": "execute_result"
    }
   ],
   "source": [
    "ac_cse.bound_symbols"
   ]
  },
  {
   "cell_type": "code",
   "execution_count": 7,
   "metadata": {},
   "outputs": [
    {
     "data": {
      "image/png": "[encoded data removed]",
      "text/latex": [
       "$\\displaystyle \\left\\{{g}_{(0,0)}^{0}, {g}_{(0,0)}^{1}\\right\\}$"
      ],
      "text/plain": [
       "{g_C__0, g_C__1}"
      ]
     },
     "execution_count": 7,
     "metadata": {},
     "output_type": "execute_result"
    }
   ],
   "source": [
    "ac_cse.defined_symbols"
   ]
  },
  {
   "cell_type": "markdown",
   "metadata": {},
   "source": [
    "Assignment collections can be splitted up, and merged together. For splitting, a list of symbols that occur on the left-hand-side in the main assignments has to be passed. The returned assignment collection only contains these main assignments together with all necessary subexpressions."
   ]
  },
  {
   "cell_type": "code",
   "execution_count": 8,
   "metadata": {},
   "outputs": [
    {
     "data": {
      "text/html": [
       "<div>Subexpressions:</div><table style=\"border:none; width: 100%; \"><tr style=\"border:none\"> <td style=\"border:none\">$$\\xi_{0} \\leftarrow_{} a^{2}$$</td>  </tr> <tr style=\"border:none\"> <td style=\"border:none\">$$\\xi_{1} \\leftarrow_{} {f}_{(0,-1)}^{0} \\xi_{0}$$</td>  </tr> <tr style=\"border:none\"> <td style=\"border:none\">$$\\xi_{2} \\leftarrow_{} - {f}_{(1,0)}^{0} c + {f}_{(0,1)}^{0} b - 2 {f}_{(-1,0)}^{0} c$$</td>  </tr> </table><div>Main Assignments:</div><table style=\"border:none; width: 100%; \"><tr style=\"border:none\"> <td style=\"border:none\">$${g}_{(0,0)}^{1} \\leftarrow_{} {f}_{(1,0)}^{0} \\xi_{0} + {f}_{(0,1)}^{0} \\xi_{0} + {f}_{(-1,0)}^{0} \\xi_{0} + \\xi_{1} + \\xi_{2}$$</td>  </tr> </table>"
      ],
      "text/plain": [
       "AssignmentCollection: g_C^1, <- f(f_N^0, b, f_S^0, f_E^0, a, f_W^0, c)"
      ]
     },
     "execution_count": 8,
     "metadata": {},
     "output_type": "execute_result"
    }
   ],
   "source": [
    "ac_f0 = ac_cse.new_filtered([g(0)])\n",
    "ac_f1 = ac_cse.new_filtered([g(1)])\n",
    "ac_f1"
   ]
  },
  {
   "cell_type": "markdown",
   "metadata": {},
   "source": [
    "Note here that $\\xi_4$ is no longer part of the subexpressions, since it is not used in the main assignment of $f_C^1$.\n",
    "\n",
    "If we merge both collections together, we end up with the original collection."
   ]
  },
  {
   "cell_type": "code",
   "execution_count": 9,
   "metadata": {},
   "outputs": [
    {
     "data": {
      "text/html": [
       "<div>Subexpressions:</div><table style=\"border:none; width: 100%; \"><tr style=\"border:none\"> <td style=\"border:none\">$$\\xi_{0} \\leftarrow_{} a^{2}$$</td>  </tr> <tr style=\"border:none\"> <td style=\"border:none\">$$\\xi_{1} \\leftarrow_{} {f}_{(0,-1)}^{0} \\xi_{0}$$</td>  </tr> <tr style=\"border:none\"> <td style=\"border:none\">$$\\xi_{2} \\leftarrow_{} - {f}_{(1,0)}^{0} c + {f}_{(0,1)}^{0} b - 2 {f}_{(-1,0)}^{0} c$$</td>  </tr> <tr style=\"border:none\"> <td style=\"border:none\">$$\\xi_{3} \\leftarrow_{} c^{2}$$</td>  </tr> </table><div>Main Assignments:</div><table style=\"border:none; width: 100%; \"><tr style=\"border:none\"> <td style=\"border:none\">$${g}_{(0,0)}^{0} \\leftarrow_{} {f}_{(1,0)}^{0} \\xi_{3} + {f}_{(0,1)}^{0} \\xi_{3} + {f}_{(0,-1)}^{0} \\xi_{3} + {f}_{(-1,0)}^{0} \\xi_{3} - \\xi_{1} + \\xi_{2}$$</td>  </tr> <tr style=\"border:none\"> <td style=\"border:none\">$${g}_{(0,0)}^{1} \\leftarrow_{} {f}_{(1,0)}^{0} \\xi_{0} + {f}_{(0,1)}^{0} \\xi_{0} + {f}_{(-1,0)}^{0} \\xi_{0} + \\xi_{1} + \\xi_{2}$$</td>  </tr> </table>"
      ],
      "text/plain": [
       "AssignmentCollection: g_C^0, g_C^1 <- f(f_N^0, b, f_S^0, f_E^0, a, f_W^0, c)"
      ]
     },
     "execution_count": 9,
     "metadata": {},
     "output_type": "execute_result"
    }
   ],
   "source": [
    "ac_f0.new_merged(ac_f1)"
   ]
  },
  {
   "cell_type": "markdown",
   "metadata": {},
   "source": [
    "There is also a method that inserts all subexpressions into the main assignments. This is the inverse operation of common subexpression elimination."
   ]
  },
  {
   "cell_type": "code",
   "execution_count": 10,
   "metadata": {},
   "outputs": [
    {
     "data": {
      "text/html": [
       "<div>Main Assignments:</div><table style=\"border:none; width: 100%; \"><tr style=\"border:none\"> <td style=\"border:none\">$${g}_{(0,0)}^{0} \\leftarrow_{} {f}_{(1,0)}^{0} c^{2} - {f}_{(1,0)}^{0} c + {f}_{(0,1)}^{0} b + {f}_{(0,1)}^{0} c^{2} - {f}_{(0,-1)}^{0} a^{2} + {f}_{(0,-1)}^{0} c^{2} + {f}_{(-1,0)}^{0} c^{2} - 2 {f}_{(-1,0)}^{0} c$$</td>  </tr> </table>"
      ],
      "text/plain": [
       "AssignmentCollection: g_C^0, <- f(f_N^0, b, f_S^0, f_E^0, a, f_W^0, c)"
      ]
     },
     "execution_count": 10,
     "metadata": {},
     "output_type": "execute_result"
    }
   ],
   "source": [
    "assert sp.simplify(ac_f0.new_without_subexpressions().main_assignments[0].rhs - a2.rhs) == 0\n",
    "ac_f0.new_without_subexpressions()"
   ]
  },
  {
   "cell_type": "markdown",
   "metadata": {},
   "source": [
    "To evaluate an assignment collection, use the ``lambdify`` method. It is very similar to *sympy*s ``lambdify`` function."
   ]
  },
  {
   "cell_type": "code",
   "execution_count": 11,
   "metadata": {},
   "outputs": [
    {
     "data": {
      "image/png": "[encoded data removed]",
      "text/latex": [
       "$\\displaystyle \\left\\{ {g}_{(0,0)}^{0} : 75, \\  {g}_{(0,0)}^{1} : -17\\right\\}$"
      ],
      "text/plain": [
       "{g_C__0: 75, g_C__1: -17}"
      ]
     },
     "execution_count": 11,
     "metadata": {},
     "output_type": "execute_result"
    }
   ],
   "source": [
    "evalFct = ac_cse.lambdify([f[0,1], f[1,0]],  # new parameters of returned function\n",
    "                          fixed_symbols={a:1, b:2, c:3, f[0,-1]: 4, f[-1,0]: 5}) # fix values of other symbols\n",
    "evalFct(2,1)"
   ]
  },
  {
   "cell_type": "markdown",
   "metadata": {},
   "source": [
    "lambdify is rather slow for evaluation. The intended way to evaluate an assignment collection is *pystencils* i.e. create a fast kernel, that applies the update at every site of a structured grid. The collection can be directly passed to the `create_kernel` function."
   ]
  },
  {
   "cell_type": "code",
   "execution_count": 12,
   "metadata": {},
   "outputs": [],
   "source": [
    "func = ps.create_kernel(ac_cse).compile()"
   ]
  },
  {
   "cell_type": "markdown",
   "metadata": {},
   "source": [
    "## Simplification Strategies\n",
    "\n",
    "In above examples, we already applied simplification rules to assignment collections. Simplification rules are functions that take, as a single argument, an assignment collection and return an modified/simplified copy of it. The ``SimplificationStrategy`` class holds a list of simplification rules and can apply all of them in the specified order. Additionally it provides useful printing and reporting functions. \n",
    "\n",
    "We start by creating a simplification strategy, consisting of the expand and CSE simplifications we have already applied above:"
   ]
  },
  {
   "cell_type": "code",
   "execution_count": 13,
   "metadata": {},
   "outputs": [],
   "source": [
    "strategy = ps.simp.SimplificationStrategy()\n",
    "strategy.add(ps.simp.apply_to_all_assignments(sp.expand))\n",
    "strategy.add(ps.simp.sympy_cse)"
   ]
  },
  {
   "cell_type": "markdown",
   "metadata": {},
   "source": [
    "This strategy can be applied to any assignment collection:"
   ]
  },
  {
   "cell_type": "code",
   "execution_count": 14,
   "metadata": {},
   "outputs": [
    {
     "data": {
      "text/html": [
       "<div>Subexpressions:</div><table style=\"border:none; width: 100%; \"><tr style=\"border:none\"> <td style=\"border:none\">$$\\xi_{0} \\leftarrow_{} a^{2}$$</td>  </tr> <tr style=\"border:none\"> <td style=\"border:none\">$$\\xi_{1} \\leftarrow_{} {f}_{(0,-1)}^{0} \\xi_{0}$$</td>  </tr> <tr style=\"border:none\"> <td style=\"border:none\">$$\\xi_{2} \\leftarrow_{} - {f}_{(1,0)}^{0} c + {f}_{(0,1)}^{0} b - 2 {f}_{(-1,0)}^{0} c$$</td>  </tr> <tr style=\"border:none\"> <td style=\"border:none\">$$\\xi_{3} \\leftarrow_{} c^{2}$$</td>  </tr> </table><div>Main Assignments:</div><table style=\"border:none; width: 100%; \"><tr style=\"border:none\"> <td style=\"border:none\">$${g}_{(0,0)}^{1} \\leftarrow_{} {f}_{(1,0)}^{0} \\xi_{0} + {f}_{(0,1)}^{0} \\xi_{0} + {f}_{(-1,0)}^{0} \\xi_{0} + \\xi_{1} + \\xi_{2}$$</td>  </tr> <tr style=\"border:none\"> <td style=\"border:none\">$${g}_{(0,0)}^{0} \\leftarrow_{} {f}_{(1,0)}^{0} \\xi_{3} + {f}_{(0,1)}^{0} \\xi_{3} + {f}_{(0,-1)}^{0} \\xi_{3} + {f}_{(-1,0)}^{0} \\xi_{3} - \\xi_{1} + \\xi_{2}$$</td>  </tr> </table>"
      ],
      "text/plain": [
       "AssignmentCollection: g_C^0, g_C^1 <- f(f_N^0, b, f_S^0, f_E^0, a, f_W^0, c)"
      ]
     },
     "execution_count": 14,
     "metadata": {},
     "output_type": "execute_result"
    }
   ],
   "source": [
    "strategy(ac)"
   ]
  },
  {
   "cell_type": "markdown",
   "metadata": {},
   "source": [
    "The strategy can also print the simplification results at each stage. \n",
    "The report contains information about the number of operations after each simplification as well as the runtime of each simplification routine."
   ]
  },
  {
   "cell_type": "code",
   "execution_count": 15,
   "metadata": {},
   "outputs": [
    {
     "data": {
      "text/html": [
       "<table style=\"border:none\"><tr><th>Name</th><th>Runtime</th><th>Adds</th><th>Muls</th><th>Divs</th><th>Total</th></tr><tr><td>OriginalTerm</td><td>-</td> <td>13</td> <td>19</td> <td>0</td>  <td>32</td> </tr><tr><td>expand</td><td>0.03 ms</td> <td>13</td> <td>26</td> <td>0</td>  <td>39</td> </tr><tr><td>sympy_cse</td><td>0.52 ms</td> <td>11</td> <td>14</td> <td>0</td>  <td>25</td> </tr></table>"
      ],
      "text/plain": [
       "<pystencils.simp.simplificationstrategy.SimplificationStrategy.create_simplification_report.<locals>.Report at 0x147de3e90>"
      ]
     },
     "execution_count": 15,
     "metadata": {},
     "output_type": "execute_result"
    }
   ],
   "source": [
    "strategy.create_simplification_report(ac)"
   ]
  },
  {
   "cell_type": "markdown",
   "metadata": {},
   "source": [
    "The strategy can also print the full collection after each simplification..."
   ]
  },
  {
   "cell_type": "code",
   "execution_count": 16,
   "metadata": {},
   "outputs": [
    {
     "data": {
      "text/html": [
       "<h5 style=\"padding-bottom:10px\">Initial Version</h5> <div style=\"padding-left:20px;\"><div>Main Assignments:</div><table style=\"border:none; width: 100%; \"><tr style=\"border:none\"> <td style=\"border:none\">$${g}_{(0,0)}^{1} \\leftarrow_{} {f}_{(1,0)}^{0} \\left(a^{2} - c\\right) + {f}_{(0,1)}^{0} \\left(a^{2} + b\\right) + {f}_{(0,-1)}^{0} a^{2} + {f}_{(-1,0)}^{0} \\left(a^{2} - 2 c\\right)$$</td>  </tr> <tr style=\"border:none\"> <td style=\"border:none\">$${g}_{(0,0)}^{0} \\leftarrow_{} {f}_{(1,0)}^{0} \\left(c^{2} - c\\right) + {f}_{(0,1)}^{0} \\left(b + c^{2}\\right) + {f}_{(0,-1)}^{0} \\left(- a^{2} + c^{2}\\right) + {f}_{(-1,0)}^{0} \\left(c^{2} - 2 c\\right)$$</td>  </tr> </table></div><h5 style=\"padding-bottom:10px\">expand</h5> <div style=\"padding-left:20px;\"><div>Main Assignments:</div><table style=\"border:none; width: 100%; \"><tr style=\"border:none\"> <td style=\"border:none\">$${g}_{(0,0)}^{1} \\leftarrow_{} {f}_{(1,0)}^{0} a^{2} - {f}_{(1,0)}^{0} c + {f}_{(0,1)}^{0} a^{2} + {f}_{(0,1)}^{0} b + {f}_{(0,-1)}^{0} a^{2} + {f}_{(-1,0)}^{0} a^{2} - 2 {f}_{(-1,0)}^{0} c$$</td>  </tr> <tr style=\"border:none\"> <td style=\"border:none\">$${g}_{(0,0)}^{0} \\leftarrow_{} {f}_{(1,0)}^{0} c^{2} - {f}_{(1,0)}^{0} c + {f}_{(0,1)}^{0} b + {f}_{(0,1)}^{0} c^{2} - {f}_{(0,-1)}^{0} a^{2} + {f}_{(0,-1)}^{0} c^{2} + {f}_{(-1,0)}^{0} c^{2} - 2 {f}_{(-1,0)}^{0} c$$</td>  </tr> </table></div><h5 style=\"padding-bottom:10px\">sympy_cse</h5> <div style=\"padding-left:20px;\"><div>Subexpressions:</div><table style=\"border:none; width: 100%; \"><tr style=\"border:none\"> <td style=\"border:none\">$$\\xi_{0} \\leftarrow_{} a^{2}$$</td>  </tr> <tr style=\"border:none\"> <td style=\"border:none\">$$\\xi_{1} \\leftarrow_{} {f}_{(0,-1)}^{0} \\xi_{0}$$</td>  </tr> <tr style=\"border:none\"> <td style=\"border:none\">$$\\xi_{2} \\leftarrow_{} - {f}_{(1,0)}^{0} c + {f}_{(0,1)}^{0} b - 2 {f}_{(-1,0)}^{0} c$$</td>  </tr> <tr style=\"border:none\"> <td style=\"border:none\">$$\\xi_{3} \\leftarrow_{} c^{2}$$</td>  </tr> </table><div>Main Assignments:</div><table style=\"border:none; width: 100%; \"><tr style=\"border:none\"> <td style=\"border:none\">$${g}_{(0,0)}^{1} \\leftarrow_{} {f}_{(1,0)}^{0} \\xi_{0} + {f}_{(0,1)}^{0} \\xi_{0} + {f}_{(-1,0)}^{0} \\xi_{0} + \\xi_{1} + \\xi_{2}$$</td>  </tr> <tr style=\"border:none\"> <td style=\"border:none\">$${g}_{(0,0)}^{0} \\leftarrow_{} {f}_{(1,0)}^{0} \\xi_{3} + {f}_{(0,1)}^{0} \\xi_{3} + {f}_{(0,-1)}^{0} \\xi_{3} + {f}_{(-1,0)}^{0} \\xi_{3} - \\xi_{1} + \\xi_{2}$$</td>  </tr> </table></div>"
      ],
      "text/plain": [
       "<pystencils.simp.simplificationstrategy.SimplificationStrategy.show_intermediate_results.<locals>.IntermediateResults at 0x147e09c90>"
      ]
     },
     "execution_count": 16,
     "metadata": {},
     "output_type": "execute_result"
    }
   ],
   "source": [
    "strategy.show_intermediate_results(ac)"
   ]
  },
  {
   "cell_type": "markdown",
   "metadata": {},
   "source": [
    "... or only specific assignments for better readability"
   ]
  },
  {
   "cell_type": "code",
   "execution_count": 18,
   "metadata": {},
   "outputs": [
    {
     "data": {
      "text/html": [
       "<h5 style=\"padding-bottom:10px\">Initial Version</h5> <div style=\"padding-left:20px;\">$${g}_{(0,0)}^{1} \\leftarrow_{} {f}_{(1,0)}^{0} \\left(a^{2} - c\\right) + {f}_{(0,1)}^{0} \\left(a^{2} + b\\right) + {f}_{(0,-1)}^{0} a^{2} + {f}_{(-1,0)}^{0} \\left(a^{2} - 2 c\\right)$$</div><h5 style=\"padding-bottom:10px\">expand</h5> <div style=\"padding-left:20px;\">$${g}_{(0,0)}^{1} \\leftarrow_{} {f}_{(1,0)}^{0} a^{2} - {f}_{(1,0)}^{0} c + {f}_{(0,1)}^{0} a^{2} + {f}_{(0,1)}^{0} b + {f}_{(0,-1)}^{0} a^{2} + {f}_{(-1,0)}^{0} a^{2} - 2 {f}_{(-1,0)}^{0} c$$</div><h5 style=\"padding-bottom:10px\">sympy_cse</h5> <div style=\"padding-left:20px;\">$${g}_{(0,0)}^{1} \\leftarrow_{} {f}_{(1,0)}^{0} \\xi_{0} + {f}_{(0,1)}^{0} \\xi_{0} + {f}_{(-1,0)}^{0} \\xi_{0} + \\xi_{1} + \\xi_{2}$$</div>"
      ],
      "text/plain": [
       "<pystencils.simp.simplificationstrategy.SimplificationStrategy.show_intermediate_results.<locals>.IntermediateResults at 0x1265a1b90>"
      ]
     },
     "execution_count": 18,
     "metadata": {},
     "output_type": "execute_result"
    }
   ],
   "source": [
    "strategy.show_intermediate_results(ac, symbols=[g(1)])"
   ]
  },
  {
   "cell_type": "code",
   "execution_count": null,
   "metadata": {},
   "outputs": [],
   "source": []
  }
 ],
 "metadata": {
  "kernelspec": {
   "display_name": "Python 3 (ipykernel)",
   "language": "python",
   "name": "python3"
  },
  "language_info": {
   "codemirror_mode": {
    "name": "ipython",
    "version": 3
   },
   "file_extension": ".py",
   "mimetype": "text/x-python",
   "name": "python",
   "nbconvert_exporter": "python",
   "pygments_lexer": "ipython3",
   "version": "3.11.4"
  }
 },
 "nbformat": 4,
 "nbformat_minor": 1
}
