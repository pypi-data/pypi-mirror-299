{
 "cells": [
  {
   "cell_type": "markdown",
   "metadata": {},
   "source": [
    "# MAT-Clustering: Clustering Methods for Multiple Aspect Trajectory Data Mining \\[MAT-Tools Framework\\]\n",
    "\n",
    "Sample Code in python notebook to use `mat-clustering` as a python library.\n",
    "\n",
    "The present package offers a tool, to support the user in the task of clustering of multiple aspect trajectories. It integrates into a unique framework for multiple aspects trajectories and in general for multidimensional sequence data mining methods.\n",
    "\n",
    "Created on Apr, 2024\n",
    "Copyright (C) 2024, License GPL Version 3 or superior (see LICENSE file)"
   ]
  },
  {
   "cell_type": "code",
   "execution_count": null,
   "metadata": {
    "tags": []
   },
   "outputs": [],
   "source": [
    "!pip install mat-clustering"
   ]
  },
  {
   "cell_type": "markdown",
   "metadata": {
    "jp-MarkdownHeadingCollapsed": true,
    "tags": []
   },
   "source": [
    "### 1. Loading Sample Data\n"
   ]
  },
  {
   "cell_type": "code",
   "execution_count": 1,
   "metadata": {
    "tags": []
   },
   "outputs": [
    {
     "name": "stdout",
     "output_type": "stream",
     "text": [
      "Loading dataset file: https://github.com/mat-analysis/datasets/tree/main/mat/FoursquareNYC/\n"
     ]
    },
    {
     "name": "stderr",
     "output_type": "stream",
     "text": [
      "  % Total    % Received % Xferd  Average Speed   Time    Time     Time  Current\n",
      "                                 Dload  Upload   Total   Spent    Left  Speed\n",
      "100 1055k  100 1055k    0     0  1275k      0 --:--:-- --:--:-- --:--:-- 1279k\n"
     ]
    },
    {
     "data": {
      "text/html": [
       "<div>\n",
       "<style scoped>\n",
       "    .dataframe tbody tr th:only-of-type {\n",
       "        vertical-align: middle;\n",
       "    }\n",
       "\n",
       "    .dataframe tbody tr th {\n",
       "        vertical-align: top;\n",
       "    }\n",
       "\n",
       "    .dataframe thead th {\n",
       "        text-align: right;\n",
       "    }\n",
       "</style>\n",
       "<table border=\"1\" class=\"dataframe\">\n",
       "  <thead>\n",
       "    <tr style=\"text-align: right;\">\n",
       "      <th></th>\n",
       "      <th>space</th>\n",
       "      <th>time</th>\n",
       "      <th>day</th>\n",
       "      <th>poi</th>\n",
       "      <th>type</th>\n",
       "      <th>root_type</th>\n",
       "      <th>rating</th>\n",
       "      <th>weather</th>\n",
       "      <th>tid</th>\n",
       "      <th>label</th>\n",
       "    </tr>\n",
       "  </thead>\n",
       "  <tbody>\n",
       "    <tr>\n",
       "      <th>0</th>\n",
       "      <td>40.8331652006224 -73.9418603427692</td>\n",
       "      <td>317</td>\n",
       "      <td>Monday</td>\n",
       "      <td>The Lair Of Modern Strange Cowboy</td>\n",
       "      <td>Home (private)</td>\n",
       "      <td>Residence</td>\n",
       "      <td>-1.0</td>\n",
       "      <td>Clear</td>\n",
       "      <td>126</td>\n",
       "      <td>6</td>\n",
       "    </tr>\n",
       "    <tr>\n",
       "      <th>1</th>\n",
       "      <td>40.8340978041072 -73.9452672225881</td>\n",
       "      <td>1404</td>\n",
       "      <td>Monday</td>\n",
       "      <td>Galaxy Gourmet Deli</td>\n",
       "      <td>Deli / Bodega</td>\n",
       "      <td>Food</td>\n",
       "      <td>8.2</td>\n",
       "      <td>Clouds</td>\n",
       "      <td>126</td>\n",
       "      <td>6</td>\n",
       "    </tr>\n",
       "    <tr>\n",
       "      <th>2</th>\n",
       "      <td>40.8331652006224 -73.9418603427692</td>\n",
       "      <td>0</td>\n",
       "      <td>Tuesday</td>\n",
       "      <td>The Lair Of Modern Strange Cowboy</td>\n",
       "      <td>Home (private)</td>\n",
       "      <td>Residence</td>\n",
       "      <td>-1.0</td>\n",
       "      <td>Clouds</td>\n",
       "      <td>126</td>\n",
       "      <td>6</td>\n",
       "    </tr>\n",
       "    <tr>\n",
       "      <th>3</th>\n",
       "      <td>40.7646959283254 -73.8851974964414</td>\n",
       "      <td>1069</td>\n",
       "      <td>Thursday</td>\n",
       "      <td>Popeyes Louisiana Kitchen</td>\n",
       "      <td>Fried Chicken Joint</td>\n",
       "      <td>Food</td>\n",
       "      <td>6.6</td>\n",
       "      <td>Clear</td>\n",
       "      <td>126</td>\n",
       "      <td>6</td>\n",
       "    </tr>\n",
       "    <tr>\n",
       "      <th>4</th>\n",
       "      <td>40.7660790376824 -73.8835287094116</td>\n",
       "      <td>1120</td>\n",
       "      <td>Thursday</td>\n",
       "      <td>MTA Bus Operations Depot - LaGuardia</td>\n",
       "      <td>Bus Station</td>\n",
       "      <td>Travel &amp; Transport</td>\n",
       "      <td>-1.0</td>\n",
       "      <td>Clear</td>\n",
       "      <td>126</td>\n",
       "      <td>6</td>\n",
       "    </tr>\n",
       "    <tr>\n",
       "      <th>...</th>\n",
       "      <td>...</td>\n",
       "      <td>...</td>\n",
       "      <td>...</td>\n",
       "      <td>...</td>\n",
       "      <td>...</td>\n",
       "      <td>...</td>\n",
       "      <td>...</td>\n",
       "      <td>...</td>\n",
       "      <td>...</td>\n",
       "      <td>...</td>\n",
       "    </tr>\n",
       "    <tr>\n",
       "      <th>66941</th>\n",
       "      <td>40.7047332789043 -73.9877378940582</td>\n",
       "      <td>1037</td>\n",
       "      <td>Friday</td>\n",
       "      <td>Miami Ad School Brooklyn</td>\n",
       "      <td>General College &amp; University</td>\n",
       "      <td>College &amp; University</td>\n",
       "      <td>-1.0</td>\n",
       "      <td>Clouds</td>\n",
       "      <td>29563</td>\n",
       "      <td>1070</td>\n",
       "    </tr>\n",
       "    <tr>\n",
       "      <th>66942</th>\n",
       "      <td>40.6951627360199 -73.9954478691072</td>\n",
       "      <td>1210</td>\n",
       "      <td>Friday</td>\n",
       "      <td>Lantern Thai Kitchen</td>\n",
       "      <td>Thai Restaurant</td>\n",
       "      <td>Food</td>\n",
       "      <td>8.0</td>\n",
       "      <td>Clouds</td>\n",
       "      <td>29563</td>\n",
       "      <td>1070</td>\n",
       "    </tr>\n",
       "    <tr>\n",
       "      <th>66943</th>\n",
       "      <td>40.6978026652822 -73.9941451630314</td>\n",
       "      <td>481</td>\n",
       "      <td>Saturday</td>\n",
       "      <td>Eastern Athletic Club</td>\n",
       "      <td>Gym</td>\n",
       "      <td>Outdoors &amp; Recreation</td>\n",
       "      <td>6.9</td>\n",
       "      <td>Clouds</td>\n",
       "      <td>29563</td>\n",
       "      <td>1070</td>\n",
       "    </tr>\n",
       "    <tr>\n",
       "      <th>66944</th>\n",
       "      <td>40.6946728967503 -73.9940820360805</td>\n",
       "      <td>819</td>\n",
       "      <td>Saturday</td>\n",
       "      <td>Starbucks</td>\n",
       "      <td>Coffee Shop</td>\n",
       "      <td>Food</td>\n",
       "      <td>7.0</td>\n",
       "      <td>Clouds</td>\n",
       "      <td>29563</td>\n",
       "      <td>1070</td>\n",
       "    </tr>\n",
       "    <tr>\n",
       "      <th>66945</th>\n",
       "      <td>40.6978026652822 -73.9941451630314</td>\n",
       "      <td>476</td>\n",
       "      <td>Sunday</td>\n",
       "      <td>Eastern Athletic Club</td>\n",
       "      <td>Gym</td>\n",
       "      <td>Outdoors &amp; Recreation</td>\n",
       "      <td>6.9</td>\n",
       "      <td>Clouds</td>\n",
       "      <td>29563</td>\n",
       "      <td>1070</td>\n",
       "    </tr>\n",
       "  </tbody>\n",
       "</table>\n",
       "<p>66946 rows × 10 columns</p>\n",
       "</div>"
      ],
      "text/plain": [
       "                                    space  time       day  \\\n",
       "0      40.8331652006224 -73.9418603427692   317    Monday   \n",
       "1      40.8340978041072 -73.9452672225881  1404    Monday   \n",
       "2      40.8331652006224 -73.9418603427692     0   Tuesday   \n",
       "3      40.7646959283254 -73.8851974964414  1069  Thursday   \n",
       "4      40.7660790376824 -73.8835287094116  1120  Thursday   \n",
       "...                                   ...   ...       ...   \n",
       "66941  40.7047332789043 -73.9877378940582  1037    Friday   \n",
       "66942  40.6951627360199 -73.9954478691072  1210    Friday   \n",
       "66943  40.6978026652822 -73.9941451630314   481  Saturday   \n",
       "66944  40.6946728967503 -73.9940820360805   819  Saturday   \n",
       "66945  40.6978026652822 -73.9941451630314   476    Sunday   \n",
       "\n",
       "                                        poi                          type  \\\n",
       "0         The Lair Of Modern Strange Cowboy                Home (private)   \n",
       "1                       Galaxy Gourmet Deli                 Deli / Bodega   \n",
       "2         The Lair Of Modern Strange Cowboy                Home (private)   \n",
       "3                 Popeyes Louisiana Kitchen           Fried Chicken Joint   \n",
       "4      MTA Bus Operations Depot - LaGuardia                   Bus Station   \n",
       "...                                     ...                           ...   \n",
       "66941              Miami Ad School Brooklyn  General College & University   \n",
       "66942                  Lantern Thai Kitchen               Thai Restaurant   \n",
       "66943                 Eastern Athletic Club                           Gym   \n",
       "66944                             Starbucks                   Coffee Shop   \n",
       "66945                 Eastern Athletic Club                           Gym   \n",
       "\n",
       "                   root_type  rating weather    tid  label  \n",
       "0                  Residence    -1.0   Clear    126      6  \n",
       "1                       Food     8.2  Clouds    126      6  \n",
       "2                  Residence    -1.0  Clouds    126      6  \n",
       "3                       Food     6.6   Clear    126      6  \n",
       "4         Travel & Transport    -1.0   Clear    126      6  \n",
       "...                      ...     ...     ...    ...    ...  \n",
       "66941   College & University    -1.0  Clouds  29563   1070  \n",
       "66942                   Food     8.0  Clouds  29563   1070  \n",
       "66943  Outdoors & Recreation     6.9  Clouds  29563   1070  \n",
       "66944                   Food     7.0  Clouds  29563   1070  \n",
       "66945  Outdoors & Recreation     6.9  Clouds  29563   1070  \n",
       "\n",
       "[66946 rows x 10 columns]"
      ]
     },
     "execution_count": 1,
     "metadata": {},
     "output_type": "execute_result"
    }
   ],
   "source": [
    "from matdata.dataset import load_ds\n",
    "\n",
    "dataset='mat.FoursquareNYC'\n",
    "\n",
    "data = load_ds(dataset, missing='-999')\n",
    "data"
   ]
  },
  {
   "cell_type": "markdown",
   "metadata": {},
   "source": [
    "We select only 5 classes from dataset for this example tutorial: "
   ]
  },
  {
   "cell_type": "code",
   "execution_count": 2,
   "metadata": {
    "tags": []
   },
   "outputs": [
    {
     "data": {
      "application/vnd.jupyter.widget-view+json": {
       "model_id": "1376149ac0114dabb287f99e86af9022",
       "version_major": 2,
       "version_minor": 0
      },
      "text/plain": [
       "Spliting Data (class-balanced):   0%|          | 0/5 [00:00<?, ?it/s]"
      ]
     },
     "metadata": {},
     "output_type": "display_data"
    },
    {
     "data": {
      "application/vnd.jupyter.widget-view+json": {
       "model_id": "29301aaa46e14a46ac1d93c3ce5dd3c9",
       "version_major": 2,
       "version_minor": 0
      },
      "text/plain": [
       "Sorting data:   0%|          | 0/5 [00:00<?, ?it/s]"
      ]
     },
     "metadata": {},
     "output_type": "display_data"
    }
   ],
   "source": [
    "from matdata.preprocess import klabels_extract\n",
    "data = klabels_extract(data, kl=5)"
   ]
  },
  {
   "cell_type": "markdown",
   "metadata": {
    "jp-MarkdownHeadingCollapsed": true,
    "tags": []
   },
   "source": [
    "### 2. Similarity-Based Clustering\n"
   ]
  },
  {
   "cell_type": "markdown",
   "metadata": {
    "tags": []
   },
   "source": [
    "#### 2.1. Birtch+MUITAS Clustering\n"
   ]
  },
  {
   "cell_type": "code",
   "execution_count": 6,
   "metadata": {
    "tags": []
   },
   "outputs": [
    {
     "name": "stdout",
     "output_type": "stream",
     "text": [
      "\n",
      "[TSBirch:] Building model\n"
     ]
    },
    {
     "data": {
      "application/vnd.jupyter.widget-view+json": {
       "model_id": "d111e441326d42c9a40405e78157084c",
       "version_major": 2,
       "version_minor": 0
      },
      "text/plain": [
       "Converting Trajectories:   0%|          | 0/84 [00:00<?, ?it/s]"
      ]
     },
     "metadata": {},
     "output_type": "display_data"
    },
    {
     "name": "stdout",
     "output_type": "stream",
     "text": [
      "\n",
      "[TSBirch:] Default metric set to MUITAS.\n",
      "Feature: Attributes: [0], Weight: 1\n",
      "Feature: Attributes: [1], Weight: 1\n",
      "Feature: Attributes: [2], Weight: 1\n",
      "Feature: Attributes: [3], Weight: 1\n",
      "Feature: Attributes: [4], Weight: 1\n",
      "Feature: Attributes: [5], Weight: 1\n",
      "Feature: Attributes: [6], Weight: 1\n",
      "Feature: Attributes: [7], Weight: 1\n"
     ]
    },
    {
     "data": {
      "application/vnd.jupyter.widget-view+json": {
       "model_id": "57bcbe82fe574dc8874a5797aea21b87",
       "version_major": 2,
       "version_minor": 0
      },
      "text/plain": [
       "Computing similarity matrix:   0%|          | 0/83 [00:00<?, ?it/s]"
      ]
     },
     "metadata": {},
     "output_type": "display_data"
    },
    {
     "name": "stdout",
     "output_type": "stream",
     "text": [
      "[TSBirch:] Creating a model to test set\n"
     ]
    },
    {
     "data": {
      "application/vnd.jupyter.widget-view+json": {
       "model_id": "16d7611c242d4eccb0170b026e39a116",
       "version_major": 2,
       "version_minor": 0
      },
      "text/plain": [
       "Model Testing:   0%|          | 0/1 [00:00<?, ?it/s]"
      ]
     },
     "metadata": {},
     "output_type": "display_data"
    },
    {
     "name": "stdout",
     "output_type": "stream",
     "text": [
      "[TSBirch:] Processing time: 18488.084 milliseconds. Done.\n"
     ]
    },
    {
     "data": {
      "text/plain": [
       "(   rand_index  adusted_rand_index  mutual_info  adusted_mutual_info  \\\n",
       " 0    0.917384            0.764747     1.262444             0.830818   \n",
       " \n",
       "    norm_mutual_info  fm_index  v_measure  completeness  homogeneity  \\\n",
       " 0          0.842544  0.820334   0.842544      0.881483     0.806899   \n",
       " \n",
       "    silhouette  db_index  ch_index  random_state    runtime  \n",
       " 0    0.267276  1.344771  20.93315             1  18450.434  ,\n",
       " array([3, 3, 3, 3, 3, 3, 3, 3, 3, 3, 3, 3, 3, 3, 3, 1, 3, 3, 3, 1, 3, 3,\n",
       "        1, 3, 0, 0, 0, 0, 0, 0, 2, 0, 0, 0, 2, 4, 4, 4, 4, 4, 4, 4, 4, 4,\n",
       "        4, 4, 4, 1, 1, 1, 1, 1, 1, 1, 1, 1, 1, 1, 1, 1, 1, 1, 1, 1, 1, 1,\n",
       "        1, 1, 0, 0, 0, 0, 0, 0, 0, 0, 0, 0, 0, 0, 0, 0, 0, 0]))"
      ]
     },
     "execution_count": 6,
     "metadata": {},
     "output_type": "execute_result"
    }
   ],
   "source": [
    "from matclustering.methods import TSBirch\n",
    "\n",
    "# We use number of clusters as k=5, as we assume the 5 labels will be the clusters.\n",
    "model = TSBirch(k=5) \n",
    "\n",
    "model.prepare_input(data)\n",
    "#model.train()\n",
    "model.test()"
   ]
  },
  {
   "cell_type": "code",
   "execution_count": 7,
   "metadata": {},
   "outputs": [
    {
     "data": {
      "text/html": [
       "<div>\n",
       "<style scoped>\n",
       "    .dataframe tbody tr th:only-of-type {\n",
       "        vertical-align: middle;\n",
       "    }\n",
       "\n",
       "    .dataframe tbody tr th {\n",
       "        vertical-align: top;\n",
       "    }\n",
       "\n",
       "    .dataframe thead th {\n",
       "        text-align: right;\n",
       "    }\n",
       "</style>\n",
       "<table border=\"1\" class=\"dataframe\">\n",
       "  <thead>\n",
       "    <tr style=\"text-align: right;\">\n",
       "      <th></th>\n",
       "      <th>rand_index</th>\n",
       "      <th>adusted_rand_index</th>\n",
       "      <th>mutual_info</th>\n",
       "      <th>adusted_mutual_info</th>\n",
       "      <th>norm_mutual_info</th>\n",
       "      <th>fm_index</th>\n",
       "      <th>v_measure</th>\n",
       "      <th>completeness</th>\n",
       "      <th>homogeneity</th>\n",
       "      <th>silhouette</th>\n",
       "      <th>db_index</th>\n",
       "      <th>ch_index</th>\n",
       "      <th>random_state</th>\n",
       "      <th>runtime</th>\n",
       "    </tr>\n",
       "  </thead>\n",
       "  <tbody>\n",
       "    <tr>\n",
       "      <th>0</th>\n",
       "      <td>0.917384</td>\n",
       "      <td>0.764747</td>\n",
       "      <td>1.262444</td>\n",
       "      <td>0.830818</td>\n",
       "      <td>0.842544</td>\n",
       "      <td>0.820334</td>\n",
       "      <td>0.842544</td>\n",
       "      <td>0.881483</td>\n",
       "      <td>0.806899</td>\n",
       "      <td>0.267276</td>\n",
       "      <td>1.344771</td>\n",
       "      <td>20.93315</td>\n",
       "      <td>1.0</td>\n",
       "      <td>18450.434</td>\n",
       "    </tr>\n",
       "  </tbody>\n",
       "</table>\n",
       "</div>"
      ],
      "text/plain": [
       "   rand_index  adusted_rand_index  mutual_info  adusted_mutual_info  \\\n",
       "0    0.917384            0.764747     1.262444             0.830818   \n",
       "\n",
       "   norm_mutual_info  fm_index  v_measure  completeness  homogeneity  \\\n",
       "0          0.842544  0.820334   0.842544      0.881483     0.806899   \n",
       "\n",
       "   silhouette  db_index  ch_index  random_state    runtime  \n",
       "0    0.267276  1.344771  20.93315           1.0  18450.434  "
      ]
     },
     "execution_count": 7,
     "metadata": {},
     "output_type": "execute_result"
    }
   ],
   "source": [
    "model.summary()"
   ]
  },
  {
   "cell_type": "code",
   "execution_count": 8,
   "metadata": {
    "tags": []
   },
   "outputs": [
    {
     "name": "stdout",
     "output_type": "stream",
     "text": [
      "\n",
      "[TSBirch:] Building model\n"
     ]
    },
    {
     "data": {
      "application/vnd.jupyter.widget-view+json": {
       "model_id": "97a33cf5688c414783e45d774a6397fa",
       "version_major": 2,
       "version_minor": 0
      },
      "text/plain": [
       "Converting Trajectories:   0%|          | 0/84 [00:00<?, ?it/s]"
      ]
     },
     "metadata": {},
     "output_type": "display_data"
    },
    {
     "name": "stdout",
     "output_type": "stream",
     "text": [
      "\n",
      "[TSBirch:] Default metric set to MUITAS.\n",
      "Feature: Attributes: [0], Weight: 1\n",
      "Feature: Attributes: [1], Weight: 1\n",
      "Feature: Attributes: [2], Weight: 1\n",
      "Feature: Attributes: [3], Weight: 1\n",
      "Feature: Attributes: [4], Weight: 1\n",
      "Feature: Attributes: [5], Weight: 1\n",
      "Feature: Attributes: [6], Weight: 1\n",
      "Feature: Attributes: [7], Weight: 1\n"
     ]
    },
    {
     "data": {
      "application/vnd.jupyter.widget-view+json": {
       "model_id": "380276c338364176b1159b971f7d32cf",
       "version_major": 2,
       "version_minor": 0
      },
      "text/plain": [
       "Computing similarity matrix:   0%|          | 0/83 [00:00<?, ?it/s]"
      ]
     },
     "metadata": {},
     "output_type": "display_data"
    },
    {
     "name": "stdout",
     "output_type": "stream",
     "text": [
      "[TSBirch:] Training model\n"
     ]
    },
    {
     "data": {
      "application/vnd.jupyter.widget-view+json": {
       "model_id": "c15f7415d6ad4d8bbeb3f9d8850bc1a4",
       "version_major": 2,
       "version_minor": 0
      },
      "text/plain": [
       "[TSBirch:] Model Training:   0%|          | 0/3 [00:00<?, ?it/s]"
      ]
     },
     "metadata": {},
     "output_type": "display_data"
    },
    {
     "name": "stdout",
     "output_type": "stream",
     "text": [
      "[TSBirch:] Creating a model to test set\n"
     ]
    },
    {
     "data": {
      "application/vnd.jupyter.widget-view+json": {
       "model_id": "53712c0763ee427d9bf35e3ce1edb508",
       "version_major": 2,
       "version_minor": 0
      },
      "text/plain": [
       "Model Testing:   0%|          | 0/1 [00:00<?, ?it/s]"
      ]
     },
     "metadata": {},
     "output_type": "display_data"
    },
    {
     "name": "stdout",
     "output_type": "stream",
     "text": [
      "[TSBirch:] Processing time: 81.336 milliseconds. Done.\n"
     ]
    },
    {
     "data": {
      "text/plain": [
       "(   rand_index  adusted_rand_index  mutual_info  adusted_mutual_info  \\\n",
       " 0    0.963855            0.883798     1.524502             0.898436   \n",
       " \n",
       "    norm_mutual_info  fm_index  v_measure  completeness  homogeneity  \\\n",
       " 0          0.909084  0.909267   0.909084      0.851978     0.974395   \n",
       " \n",
       "    silhouette  db_index   ch_index  random_state  runtime  \n",
       " 0    0.278595   1.33091  17.676677             1   75.362  ,\n",
       " array([3, 3, 3, 3, 3, 3, 3, 3, 3, 3, 3, 3, 3, 3, 3, 0, 3, 3, 3, 0, 3, 3,\n",
       "        0, 3, 2, 2, 2, 2, 2, 2, 7, 2, 2, 2, 5, 4, 4, 4, 4, 4, 4, 4, 4, 4,\n",
       "        4, 4, 4, 6, 6, 0, 6, 6, 6, 6, 6, 6, 6, 6, 0, 6, 6, 6, 6, 6, 6, 6,\n",
       "        6, 6, 1, 1, 1, 1, 1, 1, 1, 1, 1, 1, 1, 1, 1, 1, 1, 1]))"
      ]
     },
     "execution_count": 8,
     "metadata": {},
     "output_type": "execute_result"
    }
   ],
   "source": [
    "from matclustering.methods import TSBirch\n",
    "\n",
    "# We can test parameters as list to try find the best model:\n",
    "model = TSBirch(k = [2, 5, 8]) \n",
    "\n",
    "model.prepare_input(data)\n",
    "model.train() # Call train to experiment the different parameters\n",
    "model.test() # Call test to run the best model by the adusted_rand_index"
   ]
  },
  {
   "cell_type": "code",
   "execution_count": 9,
   "metadata": {},
   "outputs": [
    {
     "data": {
      "text/html": [
       "<div>\n",
       "<style scoped>\n",
       "    .dataframe tbody tr th:only-of-type {\n",
       "        vertical-align: middle;\n",
       "    }\n",
       "\n",
       "    .dataframe tbody tr th {\n",
       "        vertical-align: top;\n",
       "    }\n",
       "\n",
       "    .dataframe thead th {\n",
       "        text-align: right;\n",
       "    }\n",
       "</style>\n",
       "<table border=\"1\" class=\"dataframe\">\n",
       "  <thead>\n",
       "    <tr style=\"text-align: right;\">\n",
       "      <th></th>\n",
       "      <th>rand_index</th>\n",
       "      <th>adusted_rand_index</th>\n",
       "      <th>mutual_info</th>\n",
       "      <th>adusted_mutual_info</th>\n",
       "      <th>norm_mutual_info</th>\n",
       "      <th>fm_index</th>\n",
       "      <th>v_measure</th>\n",
       "      <th>completeness</th>\n",
       "      <th>homogeneity</th>\n",
       "      <th>silhouette</th>\n",
       "      <th>db_index</th>\n",
       "      <th>ch_index</th>\n",
       "      <th>p0</th>\n",
       "    </tr>\n",
       "  </thead>\n",
       "  <tbody>\n",
       "    <tr>\n",
       "      <th>2</th>\n",
       "      <td>0.963855</td>\n",
       "      <td>0.883798</td>\n",
       "      <td>1.524502</td>\n",
       "      <td>0.898436</td>\n",
       "      <td>0.909084</td>\n",
       "      <td>0.909267</td>\n",
       "      <td>0.909084</td>\n",
       "      <td>0.851978</td>\n",
       "      <td>0.974395</td>\n",
       "      <td>0.278595</td>\n",
       "      <td>1.330910</td>\n",
       "      <td>17.676677</td>\n",
       "      <td>8</td>\n",
       "    </tr>\n",
       "    <tr>\n",
       "      <th>1</th>\n",
       "      <td>0.917384</td>\n",
       "      <td>0.764747</td>\n",
       "      <td>1.262444</td>\n",
       "      <td>0.830818</td>\n",
       "      <td>0.842544</td>\n",
       "      <td>0.820334</td>\n",
       "      <td>0.842544</td>\n",
       "      <td>0.881483</td>\n",
       "      <td>0.806899</td>\n",
       "      <td>0.267276</td>\n",
       "      <td>1.344771</td>\n",
       "      <td>20.933150</td>\n",
       "      <td>5</td>\n",
       "    </tr>\n",
       "    <tr>\n",
       "      <th>0</th>\n",
       "      <td>0.711991</td>\n",
       "      <td>0.421661</td>\n",
       "      <td>0.690594</td>\n",
       "      <td>0.603724</td>\n",
       "      <td>0.612458</td>\n",
       "      <td>0.648065</td>\n",
       "      <td>0.612458</td>\n",
       "      <td>1.000000</td>\n",
       "      <td>0.441398</td>\n",
       "      <td>0.165395</td>\n",
       "      <td>2.236949</td>\n",
       "      <td>16.147343</td>\n",
       "      <td>2</td>\n",
       "    </tr>\n",
       "  </tbody>\n",
       "</table>\n",
       "</div>"
      ],
      "text/plain": [
       "   rand_index  adusted_rand_index  mutual_info  adusted_mutual_info  \\\n",
       "2    0.963855            0.883798     1.524502             0.898436   \n",
       "1    0.917384            0.764747     1.262444             0.830818   \n",
       "0    0.711991            0.421661     0.690594             0.603724   \n",
       "\n",
       "   norm_mutual_info  fm_index  v_measure  completeness  homogeneity  \\\n",
       "2          0.909084  0.909267   0.909084      0.851978     0.974395   \n",
       "1          0.842544  0.820334   0.842544      0.881483     0.806899   \n",
       "0          0.612458  0.648065   0.612458      1.000000     0.441398   \n",
       "\n",
       "   silhouette  db_index   ch_index  p0  \n",
       "2    0.278595  1.330910  17.676677   8  \n",
       "1    0.267276  1.344771  20.933150   5  \n",
       "0    0.165395  2.236949  16.147343   2  "
      ]
     },
     "execution_count": 9,
     "metadata": {},
     "output_type": "execute_result"
    }
   ],
   "source": [
    "# The training report:\n",
    "model.report"
   ]
  },
  {
   "cell_type": "code",
   "execution_count": 10,
   "metadata": {},
   "outputs": [
    {
     "data": {
      "text/html": [
       "<div>\n",
       "<style scoped>\n",
       "    .dataframe tbody tr th:only-of-type {\n",
       "        vertical-align: middle;\n",
       "    }\n",
       "\n",
       "    .dataframe tbody tr th {\n",
       "        vertical-align: top;\n",
       "    }\n",
       "\n",
       "    .dataframe thead th {\n",
       "        text-align: right;\n",
       "    }\n",
       "</style>\n",
       "<table border=\"1\" class=\"dataframe\">\n",
       "  <thead>\n",
       "    <tr style=\"text-align: right;\">\n",
       "      <th></th>\n",
       "      <th>rand_index</th>\n",
       "      <th>adusted_rand_index</th>\n",
       "      <th>mutual_info</th>\n",
       "      <th>adusted_mutual_info</th>\n",
       "      <th>norm_mutual_info</th>\n",
       "      <th>fm_index</th>\n",
       "      <th>v_measure</th>\n",
       "      <th>completeness</th>\n",
       "      <th>homogeneity</th>\n",
       "      <th>silhouette</th>\n",
       "      <th>db_index</th>\n",
       "      <th>ch_index</th>\n",
       "      <th>random_state</th>\n",
       "      <th>runtime</th>\n",
       "    </tr>\n",
       "  </thead>\n",
       "  <tbody>\n",
       "    <tr>\n",
       "      <th>0</th>\n",
       "      <td>0.963855</td>\n",
       "      <td>0.883798</td>\n",
       "      <td>1.524502</td>\n",
       "      <td>0.898436</td>\n",
       "      <td>0.909084</td>\n",
       "      <td>0.909267</td>\n",
       "      <td>0.909084</td>\n",
       "      <td>0.851978</td>\n",
       "      <td>0.974395</td>\n",
       "      <td>0.278595</td>\n",
       "      <td>1.33091</td>\n",
       "      <td>17.676677</td>\n",
       "      <td>1</td>\n",
       "      <td>75.362</td>\n",
       "    </tr>\n",
       "  </tbody>\n",
       "</table>\n",
       "</div>"
      ],
      "text/plain": [
       "   rand_index  adusted_rand_index  mutual_info  adusted_mutual_info  \\\n",
       "0    0.963855            0.883798     1.524502             0.898436   \n",
       "\n",
       "   norm_mutual_info  fm_index  v_measure  completeness  homogeneity  \\\n",
       "0          0.909084  0.909267   0.909084      0.851978     0.974395   \n",
       "\n",
       "   silhouette  db_index   ch_index  random_state  runtime  \n",
       "0    0.278595   1.33091  17.676677             1   75.362  "
      ]
     },
     "execution_count": 10,
     "metadata": {},
     "output_type": "execute_result"
    }
   ],
   "source": [
    "# Test evaluation results\n",
    "model.test_report"
   ]
  },
  {
   "cell_type": "code",
   "execution_count": 11,
   "metadata": {},
   "outputs": [
    {
     "data": {
      "text/html": [
       "<div>\n",
       "<style scoped>\n",
       "    .dataframe tbody tr th:only-of-type {\n",
       "        vertical-align: middle;\n",
       "    }\n",
       "\n",
       "    .dataframe tbody tr th {\n",
       "        vertical-align: top;\n",
       "    }\n",
       "\n",
       "    .dataframe thead th {\n",
       "        text-align: right;\n",
       "    }\n",
       "</style>\n",
       "<table border=\"1\" class=\"dataframe\">\n",
       "  <thead>\n",
       "    <tr style=\"text-align: right;\">\n",
       "      <th></th>\n",
       "      <th>rand_index</th>\n",
       "      <th>adusted_rand_index</th>\n",
       "      <th>mutual_info</th>\n",
       "      <th>adusted_mutual_info</th>\n",
       "      <th>norm_mutual_info</th>\n",
       "      <th>fm_index</th>\n",
       "      <th>v_measure</th>\n",
       "      <th>completeness</th>\n",
       "      <th>homogeneity</th>\n",
       "      <th>silhouette</th>\n",
       "      <th>db_index</th>\n",
       "      <th>ch_index</th>\n",
       "      <th>random_state</th>\n",
       "      <th>runtime</th>\n",
       "    </tr>\n",
       "  </thead>\n",
       "  <tbody>\n",
       "    <tr>\n",
       "      <th>0</th>\n",
       "      <td>0.963855</td>\n",
       "      <td>0.883798</td>\n",
       "      <td>1.524502</td>\n",
       "      <td>0.898436</td>\n",
       "      <td>0.909084</td>\n",
       "      <td>0.909267</td>\n",
       "      <td>0.909084</td>\n",
       "      <td>0.851978</td>\n",
       "      <td>0.974395</td>\n",
       "      <td>0.278595</td>\n",
       "      <td>1.33091</td>\n",
       "      <td>17.676677</td>\n",
       "      <td>1.0</td>\n",
       "      <td>75.362</td>\n",
       "    </tr>\n",
       "  </tbody>\n",
       "</table>\n",
       "</div>"
      ],
      "text/plain": [
       "   rand_index  adusted_rand_index  mutual_info  adusted_mutual_info  \\\n",
       "0    0.963855            0.883798     1.524502             0.898436   \n",
       "\n",
       "   norm_mutual_info  fm_index  v_measure  completeness  homogeneity  \\\n",
       "0          0.909084  0.909267   0.909084      0.851978     0.974395   \n",
       "\n",
       "   silhouette  db_index   ch_index  random_state  runtime  \n",
       "0    0.278595   1.33091  17.676677           1.0   75.362  "
      ]
     },
     "execution_count": 11,
     "metadata": {},
     "output_type": "execute_result"
    }
   ],
   "source": [
    "# Mean results:\n",
    "model.summary()"
   ]
  },
  {
   "cell_type": "markdown",
   "metadata": {
    "tags": []
   },
   "source": [
    "#### 2.2. DBSCAN+MUITAS Clustering\n"
   ]
  },
  {
   "cell_type": "code",
   "execution_count": 9,
   "metadata": {
    "collapsed": true,
    "jupyter": {
     "outputs_hidden": true
    },
    "tags": []
   },
   "outputs": [
    {
     "name": "stdout",
     "output_type": "stream",
     "text": [
      "\n",
      "[TSDBSCAN:] Building model\n"
     ]
    },
    {
     "data": {
      "application/vnd.jupyter.widget-view+json": {
       "model_id": "3076e0794e3a45dd8a32e3debb317de9",
       "version_major": 2,
       "version_minor": 0
      },
      "text/plain": [
       "Converting Trajectories:   0%|          | 0/84 [00:00<?, ?it/s]"
      ]
     },
     "metadata": {},
     "output_type": "display_data"
    },
    {
     "name": "stdout",
     "output_type": "stream",
     "text": [
      "\n",
      "[TSDBSCAN:] Default metric set to MUITAS.\n",
      "Feature: Attributes: [0], Weight: 1\n",
      "Feature: Attributes: [1], Weight: 1\n",
      "Feature: Attributes: [2], Weight: 1\n",
      "Feature: Attributes: [3], Weight: 1\n",
      "Feature: Attributes: [4], Weight: 1\n",
      "Feature: Attributes: [5], Weight: 1\n",
      "Feature: Attributes: [6], Weight: 1\n",
      "Feature: Attributes: [7], Weight: 1\n",
      "[TSDBSCAN:] Training model\n"
     ]
    },
    {
     "data": {
      "application/vnd.jupyter.widget-view+json": {
       "model_id": "a1d491dff8a44691864bea121739c127",
       "version_major": 2,
       "version_minor": 0
      },
      "text/plain": [
       "[TSDBSCAN:] Model Training:   0%|          | 0/1 [00:00<?, ?it/s]"
      ]
     },
     "metadata": {},
     "output_type": "display_data"
    },
    {
     "name": "stdout",
     "output_type": "stream",
     "text": [
      "[TSDBSCAN:] Creating a model to test set\n"
     ]
    },
    {
     "data": {
      "application/vnd.jupyter.widget-view+json": {
       "model_id": "2e4c68f3b2d145bc8c2d1bd0de108e4c",
       "version_major": 2,
       "version_minor": 0
      },
      "text/plain": [
       "Model Testing:   0%|          | 0/1 [00:00<?, ?it/s]"
      ]
     },
     "metadata": {},
     "output_type": "display_data"
    },
    {
     "name": "stdout",
     "output_type": "stream",
     "text": [
      "[TSDBSCAN:] Processing time: 39.352 milliseconds. Done.\n"
     ]
    },
    {
     "data": {
      "text/plain": [
       "(   rand_index  adusted_rand_index  mutual_info  adusted_mutual_info  \\\n",
       " 0      0.3144            0.018677      0.14603             0.077324   \n",
       " \n",
       "    norm_mutual_info  fm_index  v_measure  completeness  homogeneity  \\\n",
       " 0          0.150444  0.434324   0.150444      0.387601     0.093336   \n",
       " \n",
       "    silhouette  db_index  ch_index  random_state  runtime  \n",
       " 0   -0.088371  1.146518   3.19763             1   38.217  ,\n",
       " array([-1, -1, -1, -1, -1, -1, -1, -1, -1, -1, -1, -1, -1, -1, -1, -1, -1,\n",
       "        -1, -1, -1, -1, -1, -1, -1, -1, -1, -1, -1, -1, -1, -1, -1, -1, -1,\n",
       "        -1, -1, -1, -1, -1,  0, -1, -1, -1, -1,  0, -1,  0, -1, -1, -1, -1,\n",
       "        -1, -1, -1, -1, -1, -1, -1, -1, -1, -1, -1, -1, -1, -1, -1,  1,  1,\n",
       "        -1, -1, -1, -1, -1,  2,  2, -1, -1, -1, -1, -1, -1, -1, -1, -1]))"
      ]
     },
     "execution_count": 9,
     "metadata": {},
     "output_type": "execute_result"
    }
   ],
   "source": [
    "from matclustering.methods import TSDBSCAN\n",
    "\n",
    "samples = int(len(data.tid.unique())/5)-1\n",
    "\n",
    "model = TSDBSCAN(min_samples=2) \n",
    "\n",
    "model.prepare_input(data)\n",
    "model.train()\n",
    "model.test()"
   ]
  },
  {
   "cell_type": "code",
   "execution_count": 10,
   "metadata": {},
   "outputs": [
    {
     "data": {
      "text/html": [
       "<div>\n",
       "<style scoped>\n",
       "    .dataframe tbody tr th:only-of-type {\n",
       "        vertical-align: middle;\n",
       "    }\n",
       "\n",
       "    .dataframe tbody tr th {\n",
       "        vertical-align: top;\n",
       "    }\n",
       "\n",
       "    .dataframe thead th {\n",
       "        text-align: right;\n",
       "    }\n",
       "</style>\n",
       "<table border=\"1\" class=\"dataframe\">\n",
       "  <thead>\n",
       "    <tr style=\"text-align: right;\">\n",
       "      <th></th>\n",
       "      <th>rand_index</th>\n",
       "      <th>adusted_rand_index</th>\n",
       "      <th>mutual_info</th>\n",
       "      <th>adusted_mutual_info</th>\n",
       "      <th>norm_mutual_info</th>\n",
       "      <th>fm_index</th>\n",
       "      <th>v_measure</th>\n",
       "      <th>completeness</th>\n",
       "      <th>homogeneity</th>\n",
       "      <th>silhouette</th>\n",
       "      <th>db_index</th>\n",
       "      <th>ch_index</th>\n",
       "      <th>random_state</th>\n",
       "      <th>runtime</th>\n",
       "    </tr>\n",
       "  </thead>\n",
       "  <tbody>\n",
       "    <tr>\n",
       "      <th>0</th>\n",
       "      <td>0.3144</td>\n",
       "      <td>0.018677</td>\n",
       "      <td>0.14603</td>\n",
       "      <td>0.077324</td>\n",
       "      <td>0.150444</td>\n",
       "      <td>0.434324</td>\n",
       "      <td>0.150444</td>\n",
       "      <td>0.387601</td>\n",
       "      <td>0.093336</td>\n",
       "      <td>-0.088371</td>\n",
       "      <td>1.146518</td>\n",
       "      <td>3.19763</td>\n",
       "      <td>1.0</td>\n",
       "      <td>38.217</td>\n",
       "    </tr>\n",
       "  </tbody>\n",
       "</table>\n",
       "</div>"
      ],
      "text/plain": [
       "   rand_index  adusted_rand_index  mutual_info  adusted_mutual_info  \\\n",
       "0      0.3144            0.018677      0.14603             0.077324   \n",
       "\n",
       "   norm_mutual_info  fm_index  v_measure  completeness  homogeneity  \\\n",
       "0          0.150444  0.434324   0.150444      0.387601     0.093336   \n",
       "\n",
       "   silhouette  db_index  ch_index  random_state  runtime  \n",
       "0   -0.088371  1.146518   3.19763           1.0   38.217  "
      ]
     },
     "execution_count": 10,
     "metadata": {},
     "output_type": "execute_result"
    }
   ],
   "source": [
    "model.summary()"
   ]
  },
  {
   "cell_type": "markdown",
   "metadata": {
    "tags": []
   },
   "source": [
    "#### 2.3. SpectralClustering+MUITAS \n"
   ]
  },
  {
   "cell_type": "code",
   "execution_count": 11,
   "metadata": {
    "tags": []
   },
   "outputs": [
    {
     "name": "stdout",
     "output_type": "stream",
     "text": [
      "\n",
      "[TSpectral:] Building model\n"
     ]
    },
    {
     "data": {
      "application/vnd.jupyter.widget-view+json": {
       "model_id": "d5bdfad67f82495694c40f71469e3787",
       "version_major": 2,
       "version_minor": 0
      },
      "text/plain": [
       "Converting Trajectories:   0%|          | 0/84 [00:00<?, ?it/s]"
      ]
     },
     "metadata": {},
     "output_type": "display_data"
    },
    {
     "name": "stdout",
     "output_type": "stream",
     "text": [
      "\n",
      "[TSpectral:] Default metric set to MUITAS.\n",
      "Feature: Attributes: [0], Weight: 1\n",
      "Feature: Attributes: [1], Weight: 1\n",
      "Feature: Attributes: [2], Weight: 1\n",
      "Feature: Attributes: [3], Weight: 1\n",
      "Feature: Attributes: [4], Weight: 1\n",
      "Feature: Attributes: [5], Weight: 1\n",
      "Feature: Attributes: [6], Weight: 1\n",
      "Feature: Attributes: [7], Weight: 1\n",
      "[TSpectral:] Training model\n"
     ]
    },
    {
     "data": {
      "application/vnd.jupyter.widget-view+json": {
       "model_id": "fe108a5180424c5ab31a95b50e0409ef",
       "version_major": 2,
       "version_minor": 0
      },
      "text/plain": [
       "[TSpectral:] Model Training:   0%|          | 0/1 [00:00<?, ?it/s]"
      ]
     },
     "metadata": {},
     "output_type": "display_data"
    },
    {
     "name": "stdout",
     "output_type": "stream",
     "text": [
      "[TSpectral:] Creating a model to test set\n"
     ]
    },
    {
     "name": "stderr",
     "output_type": "stream",
     "text": [
      "/Users/tarlisportela/miniforge3/lib/python3.9/site-packages/sklearn/cluster/_spectral.py:658: UserWarning: The spectral clustering API has changed. ``fit``now constructs an affinity matrix from data. To use a custom affinity matrix, set ``affinity=precomputed``.\n",
      "  warnings.warn(\n"
     ]
    },
    {
     "data": {
      "application/vnd.jupyter.widget-view+json": {
       "model_id": "d0fcce93c4ac4fc2a90ef2ec27d84b01",
       "version_major": 2,
       "version_minor": 0
      },
      "text/plain": [
       "Model Testing:   0%|          | 0/1 [00:00<?, ?it/s]"
      ]
     },
     "metadata": {},
     "output_type": "display_data"
    },
    {
     "name": "stdout",
     "output_type": "stream",
     "text": [
      "[TSpectral:] Processing time: 45.126 milliseconds. Done.\n"
     ]
    },
    {
     "name": "stderr",
     "output_type": "stream",
     "text": [
      "/Users/tarlisportela/miniforge3/lib/python3.9/site-packages/sklearn/cluster/_spectral.py:658: UserWarning: The spectral clustering API has changed. ``fit``now constructs an affinity matrix from data. To use a custom affinity matrix, set ``affinity=precomputed``.\n",
      "  warnings.warn(\n"
     ]
    },
    {
     "data": {
      "text/plain": [
       "(   rand_index  adusted_rand_index  mutual_info  adusted_mutual_info  \\\n",
       " 0    0.942628            0.822975     1.336201             0.836083   \n",
       " \n",
       "    norm_mutual_info  fm_index  v_measure  completeness  homogeneity  \\\n",
       " 0          0.847225  0.859233   0.847225      0.840517     0.854042   \n",
       " \n",
       "    silhouette  db_index   ch_index  random_state  runtime  \n",
       " 0    0.300868  1.431809  26.485319             1   43.926  ,\n",
       " array([0, 0, 0, 0, 0, 0, 0, 0, 0, 0, 0, 0, 0, 0, 0, 3, 0, 0, 0, 4, 0, 0,\n",
       "        4, 0, 4, 4, 4, 4, 4, 4, 4, 4, 4, 4, 4, 2, 2, 2, 2, 2, 2, 2, 2, 2,\n",
       "        2, 2, 2, 3, 3, 4, 3, 3, 3, 3, 3, 3, 3, 3, 4, 3, 3, 3, 3, 3, 3, 3,\n",
       "        3, 3, 1, 1, 1, 1, 1, 1, 1, 1, 1, 1, 1, 1, 1, 1, 1, 4]))"
      ]
     },
     "execution_count": 11,
     "metadata": {},
     "output_type": "execute_result"
    }
   ],
   "source": [
    "from matclustering.methods import TSpectral\n",
    "\n",
    "model = TSpectral(k=5) # Since 5 labels\n",
    "\n",
    "model.prepare_input(data)\n",
    "model.train()\n",
    "model.test()"
   ]
  },
  {
   "cell_type": "code",
   "execution_count": 12,
   "metadata": {},
   "outputs": [
    {
     "data": {
      "text/html": [
       "<div>\n",
       "<style scoped>\n",
       "    .dataframe tbody tr th:only-of-type {\n",
       "        vertical-align: middle;\n",
       "    }\n",
       "\n",
       "    .dataframe tbody tr th {\n",
       "        vertical-align: top;\n",
       "    }\n",
       "\n",
       "    .dataframe thead th {\n",
       "        text-align: right;\n",
       "    }\n",
       "</style>\n",
       "<table border=\"1\" class=\"dataframe\">\n",
       "  <thead>\n",
       "    <tr style=\"text-align: right;\">\n",
       "      <th></th>\n",
       "      <th>rand_index</th>\n",
       "      <th>adusted_rand_index</th>\n",
       "      <th>mutual_info</th>\n",
       "      <th>adusted_mutual_info</th>\n",
       "      <th>norm_mutual_info</th>\n",
       "      <th>fm_index</th>\n",
       "      <th>v_measure</th>\n",
       "      <th>completeness</th>\n",
       "      <th>homogeneity</th>\n",
       "      <th>silhouette</th>\n",
       "      <th>db_index</th>\n",
       "      <th>ch_index</th>\n",
       "      <th>random_state</th>\n",
       "      <th>runtime</th>\n",
       "    </tr>\n",
       "  </thead>\n",
       "  <tbody>\n",
       "    <tr>\n",
       "      <th>0</th>\n",
       "      <td>0.942628</td>\n",
       "      <td>0.822975</td>\n",
       "      <td>1.336201</td>\n",
       "      <td>0.836083</td>\n",
       "      <td>0.847225</td>\n",
       "      <td>0.859233</td>\n",
       "      <td>0.847225</td>\n",
       "      <td>0.840517</td>\n",
       "      <td>0.854042</td>\n",
       "      <td>0.300868</td>\n",
       "      <td>1.431809</td>\n",
       "      <td>26.485319</td>\n",
       "      <td>1.0</td>\n",
       "      <td>43.926</td>\n",
       "    </tr>\n",
       "  </tbody>\n",
       "</table>\n",
       "</div>"
      ],
      "text/plain": [
       "   rand_index  adusted_rand_index  mutual_info  adusted_mutual_info  \\\n",
       "0    0.942628            0.822975     1.336201             0.836083   \n",
       "\n",
       "   norm_mutual_info  fm_index  v_measure  completeness  homogeneity  \\\n",
       "0          0.847225  0.859233   0.847225      0.840517     0.854042   \n",
       "\n",
       "   silhouette  db_index   ch_index  random_state  runtime  \n",
       "0    0.300868  1.431809  26.485319           1.0   43.926  "
      ]
     },
     "execution_count": 12,
     "metadata": {},
     "output_type": "execute_result"
    }
   ],
   "source": [
    "model.summary()"
   ]
  },
  {
   "cell_type": "markdown",
   "metadata": {
    "tags": []
   },
   "source": [
    "#### 2.4. KMeans+MUITAS Clustering\n"
   ]
  },
  {
   "cell_type": "code",
   "execution_count": 13,
   "metadata": {
    "tags": []
   },
   "outputs": [
    {
     "name": "stdout",
     "output_type": "stream",
     "text": [
      "\n",
      "[TSKMeans:] Building model\n"
     ]
    },
    {
     "data": {
      "application/vnd.jupyter.widget-view+json": {
       "model_id": "115f1fcaf2404d9882c47b56219ea249",
       "version_major": 2,
       "version_minor": 0
      },
      "text/plain": [
       "Converting Trajectories:   0%|          | 0/84 [00:00<?, ?it/s]"
      ]
     },
     "metadata": {},
     "output_type": "display_data"
    },
    {
     "name": "stdout",
     "output_type": "stream",
     "text": [
      "\n",
      "[TSKMeans:] Default metric set to MUITAS.\n",
      "Feature: Attributes: [0], Weight: 1\n",
      "Feature: Attributes: [1], Weight: 1\n",
      "Feature: Attributes: [2], Weight: 1\n",
      "Feature: Attributes: [3], Weight: 1\n",
      "Feature: Attributes: [4], Weight: 1\n",
      "Feature: Attributes: [5], Weight: 1\n",
      "Feature: Attributes: [6], Weight: 1\n",
      "Feature: Attributes: [7], Weight: 1\n",
      "[TSKMeans:] Training model\n"
     ]
    },
    {
     "data": {
      "application/vnd.jupyter.widget-view+json": {
       "model_id": "2b1d839360bf44a18ab9641ddd69a84a",
       "version_major": 2,
       "version_minor": 0
      },
      "text/plain": [
       "[TSKMeans:] Model Training:   0%|          | 0/3 [00:00<?, ?it/s]"
      ]
     },
     "metadata": {},
     "output_type": "display_data"
    },
    {
     "name": "stdout",
     "output_type": "stream",
     "text": [
      "[TSKMeans:] Creating a model to test set\n"
     ]
    },
    {
     "data": {
      "application/vnd.jupyter.widget-view+json": {
       "model_id": "16295aff9a6941548bc8d396226339b8",
       "version_major": 2,
       "version_minor": 0
      },
      "text/plain": [
       "Model Testing:   0%|          | 0/1 [00:00<?, ?it/s]"
      ]
     },
     "metadata": {},
     "output_type": "display_data"
    },
    {
     "name": "stdout",
     "output_type": "stream",
     "text": [
      "[TSKMeans:] Processing time: 76.154 milliseconds. Done.\n"
     ]
    },
    {
     "data": {
      "text/plain": [
       "(   rand_index  adusted_rand_index  mutual_info  adusted_mutual_info  \\\n",
       " 0    0.953528            0.857492     1.363634             0.857064   \n",
       " \n",
       "    norm_mutual_info  fm_index  v_measure  completeness  homogeneity  \\\n",
       " 0          0.866823  0.886838   0.866823      0.862122     0.871576   \n",
       " \n",
       "    silhouette  db_index   ch_index  random_state  runtime  \n",
       " 0    0.302521  1.408768  26.656144             1   75.004  ,\n",
       " array([0, 0, 0, 0, 0, 0, 0, 0, 0, 0, 0, 0, 0, 0, 0, 2, 0, 0, 0, 1, 0, 0,\n",
       "        0, 0, 1, 1, 1, 1, 1, 1, 1, 1, 1, 1, 1, 3, 3, 3, 3, 3, 3, 3, 3, 3,\n",
       "        3, 3, 3, 2, 2, 1, 2, 2, 2, 2, 2, 2, 2, 2, 2, 2, 2, 2, 2, 2, 2, 2,\n",
       "        2, 2, 4, 4, 4, 4, 4, 4, 4, 4, 4, 4, 4, 4, 4, 4, 1, 1], dtype=int32))"
      ]
     },
     "execution_count": 13,
     "metadata": {},
     "output_type": "execute_result"
    }
   ],
   "source": [
    "from matclustering.methods import TSKMeans\n",
    "\n",
    "model = TSKMeans(k=[2,5,8]) # Since 5 labels\n",
    "\n",
    "model.prepare_input(data)\n",
    "model.train()\n",
    "model.test()"
   ]
  },
  {
   "cell_type": "code",
   "execution_count": 14,
   "metadata": {},
   "outputs": [
    {
     "data": {
      "text/html": [
       "<div>\n",
       "<style scoped>\n",
       "    .dataframe tbody tr th:only-of-type {\n",
       "        vertical-align: middle;\n",
       "    }\n",
       "\n",
       "    .dataframe tbody tr th {\n",
       "        vertical-align: top;\n",
       "    }\n",
       "\n",
       "    .dataframe thead th {\n",
       "        text-align: right;\n",
       "    }\n",
       "</style>\n",
       "<table border=\"1\" class=\"dataframe\">\n",
       "  <thead>\n",
       "    <tr style=\"text-align: right;\">\n",
       "      <th></th>\n",
       "      <th>rand_index</th>\n",
       "      <th>adusted_rand_index</th>\n",
       "      <th>mutual_info</th>\n",
       "      <th>adusted_mutual_info</th>\n",
       "      <th>norm_mutual_info</th>\n",
       "      <th>fm_index</th>\n",
       "      <th>v_measure</th>\n",
       "      <th>completeness</th>\n",
       "      <th>homogeneity</th>\n",
       "      <th>silhouette</th>\n",
       "      <th>db_index</th>\n",
       "      <th>ch_index</th>\n",
       "      <th>random_state</th>\n",
       "      <th>runtime</th>\n",
       "    </tr>\n",
       "  </thead>\n",
       "  <tbody>\n",
       "    <tr>\n",
       "      <th>0</th>\n",
       "      <td>0.953528</td>\n",
       "      <td>0.857492</td>\n",
       "      <td>1.363634</td>\n",
       "      <td>0.857064</td>\n",
       "      <td>0.866823</td>\n",
       "      <td>0.886838</td>\n",
       "      <td>0.866823</td>\n",
       "      <td>0.862122</td>\n",
       "      <td>0.871576</td>\n",
       "      <td>0.302521</td>\n",
       "      <td>1.408768</td>\n",
       "      <td>26.656144</td>\n",
       "      <td>1.0</td>\n",
       "      <td>75.004</td>\n",
       "    </tr>\n",
       "  </tbody>\n",
       "</table>\n",
       "</div>"
      ],
      "text/plain": [
       "   rand_index  adusted_rand_index  mutual_info  adusted_mutual_info  \\\n",
       "0    0.953528            0.857492     1.363634             0.857064   \n",
       "\n",
       "   norm_mutual_info  fm_index  v_measure  completeness  homogeneity  \\\n",
       "0          0.866823  0.886838   0.866823      0.862122     0.871576   \n",
       "\n",
       "   silhouette  db_index   ch_index  random_state  runtime  \n",
       "0    0.302521  1.408768  26.656144           1.0   75.004  "
      ]
     },
     "execution_count": 14,
     "metadata": {},
     "output_type": "execute_result"
    }
   ],
   "source": [
    "model.summary()"
   ]
  },
  {
   "cell_type": "markdown",
   "metadata": {
    "tags": []
   },
   "source": [
    "#### 2.5. KMedoids+PairWise Clustering\n"
   ]
  },
  {
   "cell_type": "code",
   "execution_count": 15,
   "metadata": {
    "tags": []
   },
   "outputs": [
    {
     "name": "stdout",
     "output_type": "stream",
     "text": [
      "\n",
      "[TSKMedoids:] Building model\n"
     ]
    },
    {
     "data": {
      "application/vnd.jupyter.widget-view+json": {
       "model_id": "264d13a26ee84b1e9ce7c1891468885f",
       "version_major": 2,
       "version_minor": 0
      },
      "text/plain": [
       "Converting Trajectories:   0%|          | 0/84 [00:00<?, ?it/s]"
      ]
     },
     "metadata": {},
     "output_type": "display_data"
    },
    {
     "name": "stdout",
     "output_type": "stream",
     "text": [
      "\n",
      "[TSKMedoids:] Default metric set to MUITAS.\n",
      "Feature: Attributes: [0], Weight: 1\n",
      "Feature: Attributes: [1], Weight: 1\n",
      "Feature: Attributes: [2], Weight: 1\n",
      "Feature: Attributes: [3], Weight: 1\n",
      "Feature: Attributes: [4], Weight: 1\n",
      "Feature: Attributes: [5], Weight: 1\n",
      "Feature: Attributes: [6], Weight: 1\n",
      "Feature: Attributes: [7], Weight: 1\n",
      "[TSKMedoids:] Training model\n"
     ]
    },
    {
     "data": {
      "application/vnd.jupyter.widget-view+json": {
       "model_id": "21a9ce204fca483f8f705db811964e9d",
       "version_major": 2,
       "version_minor": 0
      },
      "text/plain": [
       "[TSKMedoids:] Model Training:   0%|          | 0/1 [00:00<?, ?it/s]"
      ]
     },
     "metadata": {},
     "output_type": "display_data"
    },
    {
     "name": "stdout",
     "output_type": "stream",
     "text": [
      "[TSKMedoids:] Creating a model to test set\n"
     ]
    },
    {
     "data": {
      "application/vnd.jupyter.widget-view+json": {
       "model_id": "0d43f322023a4da59601e19fa4ec01cf",
       "version_major": 2,
       "version_minor": 0
      },
      "text/plain": [
       "Model Testing:   0%|          | 0/1 [00:00<?, ?it/s]"
      ]
     },
     "metadata": {},
     "output_type": "display_data"
    },
    {
     "name": "stdout",
     "output_type": "stream",
     "text": [
      "[TSKMedoids:] Processing time: 61.092 milliseconds. Done.\n"
     ]
    },
    {
     "data": {
      "text/plain": [
       "(   rand_index  adusted_rand_index  mutual_info  adusted_mutual_info  \\\n",
       " 0    0.752151            0.243836     0.583763             0.325872   \n",
       " \n",
       "    norm_mutual_info  fm_index  v_measure  completeness  homogeneity  \\\n",
       " 0          0.372117  0.400019   0.372117      0.371124     0.373116   \n",
       " \n",
       "    silhouette  db_index  ch_index  random_state  runtime  \n",
       " 0    0.044509  3.383495  5.985744             1   59.892  ,\n",
       " array([1, 1, 1, 1, 1, 1, 2, 2, 1, 2, 2, 2, 4, 2, 2, 3, 4, 3, 3, 4, 3, 4,\n",
       "        3, 4, 1, 1, 1, 1, 1, 1, 5, 3, 4, 1, 4, 3, 3, 2, 3, 3, 2, 4, 3, 2,\n",
       "        2, 3, 2, 1, 3, 2, 1, 1, 1, 2, 3, 1, 3, 1, 3, 1, 1, 3, 3, 3, 1, 4,\n",
       "        4, 5, 5, 5, 5, 5, 5, 5, 5, 5, 5, 5, 5, 5, 5, 5, 5, 5]))"
      ]
     },
     "execution_count": 15,
     "metadata": {},
     "output_type": "execute_result"
    }
   ],
   "source": [
    "#!pip install trajminer\n",
    "from matclustering.methods import TSKMedoids\n",
    "\n",
    "# We use number of clusters as k=5, as we assume the 5 labels will be the clusters.\n",
    "model = TSKMedoids(k=5, init='park') \n",
    "\n",
    "model.prepare_input(data)\n",
    "model.train()\n",
    "model.test()"
   ]
  },
  {
   "cell_type": "code",
   "execution_count": 16,
   "metadata": {},
   "outputs": [
    {
     "data": {
      "text/html": [
       "<div>\n",
       "<style scoped>\n",
       "    .dataframe tbody tr th:only-of-type {\n",
       "        vertical-align: middle;\n",
       "    }\n",
       "\n",
       "    .dataframe tbody tr th {\n",
       "        vertical-align: top;\n",
       "    }\n",
       "\n",
       "    .dataframe thead th {\n",
       "        text-align: right;\n",
       "    }\n",
       "</style>\n",
       "<table border=\"1\" class=\"dataframe\">\n",
       "  <thead>\n",
       "    <tr style=\"text-align: right;\">\n",
       "      <th></th>\n",
       "      <th>rand_index</th>\n",
       "      <th>adusted_rand_index</th>\n",
       "      <th>mutual_info</th>\n",
       "      <th>adusted_mutual_info</th>\n",
       "      <th>norm_mutual_info</th>\n",
       "      <th>fm_index</th>\n",
       "      <th>v_measure</th>\n",
       "      <th>completeness</th>\n",
       "      <th>homogeneity</th>\n",
       "      <th>silhouette</th>\n",
       "      <th>db_index</th>\n",
       "      <th>ch_index</th>\n",
       "      <th>random_state</th>\n",
       "      <th>runtime</th>\n",
       "    </tr>\n",
       "  </thead>\n",
       "  <tbody>\n",
       "    <tr>\n",
       "      <th>0</th>\n",
       "      <td>0.752151</td>\n",
       "      <td>0.243836</td>\n",
       "      <td>0.583763</td>\n",
       "      <td>0.325872</td>\n",
       "      <td>0.372117</td>\n",
       "      <td>0.400019</td>\n",
       "      <td>0.372117</td>\n",
       "      <td>0.371124</td>\n",
       "      <td>0.373116</td>\n",
       "      <td>0.044509</td>\n",
       "      <td>3.383495</td>\n",
       "      <td>5.985744</td>\n",
       "      <td>1.0</td>\n",
       "      <td>59.892</td>\n",
       "    </tr>\n",
       "  </tbody>\n",
       "</table>\n",
       "</div>"
      ],
      "text/plain": [
       "   rand_index  adusted_rand_index  mutual_info  adusted_mutual_info  \\\n",
       "0    0.752151            0.243836     0.583763             0.325872   \n",
       "\n",
       "   norm_mutual_info  fm_index  v_measure  completeness  homogeneity  \\\n",
       "0          0.372117  0.400019   0.372117      0.371124     0.373116   \n",
       "\n",
       "   silhouette  db_index  ch_index  random_state  runtime  \n",
       "0    0.044509  3.383495  5.985744           1.0   59.892  "
      ]
     },
     "execution_count": 16,
     "metadata": {},
     "output_type": "execute_result"
    }
   ],
   "source": [
    "model.summary()"
   ]
  },
  {
   "cell_type": "markdown",
   "metadata": {
    "jp-MarkdownHeadingCollapsed": true,
    "tags": []
   },
   "source": [
    "### 3. Hierarchical Clustering (#TODO)"
   ]
  },
  {
   "cell_type": "markdown",
   "metadata": {
    "tags": []
   },
   "source": [
    "#### 3.1 MAT-Tree Clustering\n"
   ]
  },
  {
   "cell_type": "code",
   "execution_count": 3,
   "metadata": {
    "collapsed": true,
    "jupyter": {
     "outputs_hidden": true
    },
    "scrolled": true,
    "tags": []
   },
   "outputs": [
    {
     "name": "stdout",
     "output_type": "stream",
     "text": [
      "\n",
      "[MATTree:] Building model\n",
      "Computing frequency matrix...DONE!\n",
      "Computing absolute freq matrix...DONE\n",
      "Computing aspects threshold...DONE!\n",
      "Starting trajectory split on branches (split method: binary). It will do:\n",
      "\tCheck trajs for left and right branches regarding the AVG.\n",
      "\tCompute variance for each aspect and branch.\n",
      "\tRunning..."
     ]
    },
    {
     "data": {
      "application/vnd.jupyter.widget-view+json": {
       "model_id": "7f8a37fc6501425dbc81fbc68e0ec39c",
       "version_major": 2,
       "version_minor": 0
      },
      "text/plain": [
       "Processing Lvl 0:   0%|          | 0/1889 [00:00<?, ?it/s]"
      ]
     },
     "metadata": {},
     "output_type": "display_data"
    },
    {
     "name": "stderr",
     "output_type": "stream",
     "text": [
      "/Users/tarlisportela/miniforge3/lib/python3.9/site-packages/numpy/core/fromnumeric.py:3715: RuntimeWarning: Degrees of freedom <= 0 for slice\n",
      "  return _methods._var(a, axis=axis, dtype=dtype, out=out, ddof=ddof,\n",
      "/Users/tarlisportela/miniforge3/lib/python3.9/site-packages/numpy/core/_methods.py:223: RuntimeWarning: invalid value encountered in divide\n",
      "  arrmean = um.true_divide(arrmean, div, out=arrmean, casting='unsafe',\n",
      "/Users/tarlisportela/miniforge3/lib/python3.9/site-packages/numpy/core/_methods.py:257: RuntimeWarning: invalid value encountered in double_scalars\n",
      "  ret = ret.dtype.type(ret / rcount)\n"
     ]
    },
    {
     "name": "stdout",
     "output_type": "stream",
     "text": [
      "ALL DONE!\n",
      "Computing frequency matrix...DONE!\n",
      "Computing absolute freq matrix...DONE\n",
      "Stop criteria matched.\n",
      "Computing frequency matrix...DONE!\n",
      "Computing absolute freq matrix...DONE\n",
      "Stop criteria matched.\n"
     ]
    },
    {
     "data": {
      "text/plain": [
       "(   rand_index  adusted_rand_index  mutual_info  adusted_mutual_info  \\\n",
       " 0     0.51004            0.013482     0.039333             0.013126   \n",
       " \n",
       "    norm_mutual_info  fm_index  v_measure  completeness  homogeneity  \n",
       " 0          0.034848  0.331485   0.034848      0.056769      0.02514  ,\n",
       " array([0, 1, 1, 1, 1, 1, 0, 0, 1, 0, 0, 0, 1, 1, 1, 0, 0, 1, 0, 0, 1, 0,\n",
       "        0, 1, 1, 0, 1, 1, 1, 0, 0, 0, 1, 0, 0, 1, 1, 1, 0, 1, 0, 1, 0, 0,\n",
       "        0, 0, 1, 1, 1, 1, 1, 1, 1, 1, 0, 1, 1, 1, 0, 0, 1, 0, 1, 1, 1, 0,\n",
       "        0, 0, 0, 0, 0, 0, 0, 0, 1, 1, 0, 0, 1, 0, 0, 0, 1, 0]))"
      ]
     },
     "execution_count": 3,
     "metadata": {},
     "output_type": "execute_result"
    }
   ],
   "source": [
    "from matclustering.methods import MATTree\n",
    "\n",
    "# We use number of clusters as k=5, as we assume the 5 labels will be the clusters.\n",
    "model = MATTree(exclude_aspects=['weather']) \n",
    "\n",
    "X = model.prepare_input(data)\n",
    "\n",
    "model.fit(X)\n",
    "#model.train()\n",
    "#model.test()"
   ]
  },
  {
   "cell_type": "code",
   "execution_count": 4,
   "metadata": {
    "tags": []
   },
   "outputs": [
    {
     "data": {
      "text/html": [
       "<div>\n",
       "<style scoped>\n",
       "    .dataframe tbody tr th:only-of-type {\n",
       "        vertical-align: middle;\n",
       "    }\n",
       "\n",
       "    .dataframe tbody tr th {\n",
       "        vertical-align: top;\n",
       "    }\n",
       "\n",
       "    .dataframe thead th {\n",
       "        text-align: right;\n",
       "    }\n",
       "</style>\n",
       "<table border=\"1\" class=\"dataframe\">\n",
       "  <thead>\n",
       "    <tr style=\"text-align: right;\">\n",
       "      <th></th>\n",
       "      <th>rand_index</th>\n",
       "      <th>adusted_rand_index</th>\n",
       "      <th>mutual_info</th>\n",
       "      <th>adusted_mutual_info</th>\n",
       "      <th>norm_mutual_info</th>\n",
       "      <th>fm_index</th>\n",
       "      <th>v_measure</th>\n",
       "      <th>completeness</th>\n",
       "      <th>homogeneity</th>\n",
       "    </tr>\n",
       "  </thead>\n",
       "  <tbody>\n",
       "    <tr>\n",
       "      <th>0</th>\n",
       "      <td>0.51004</td>\n",
       "      <td>0.013482</td>\n",
       "      <td>0.039333</td>\n",
       "      <td>0.013126</td>\n",
       "      <td>0.034848</td>\n",
       "      <td>0.331485</td>\n",
       "      <td>0.034848</td>\n",
       "      <td>0.056769</td>\n",
       "      <td>0.02514</td>\n",
       "    </tr>\n",
       "  </tbody>\n",
       "</table>\n",
       "</div>"
      ],
      "text/plain": [
       "   rand_index  adusted_rand_index  mutual_info  adusted_mutual_info  \\\n",
       "0     0.51004            0.013482     0.039333             0.013126   \n",
       "\n",
       "   norm_mutual_info  fm_index  v_measure  completeness  homogeneity  \n",
       "0          0.034848  0.331485   0.034848      0.056769      0.02514  "
      ]
     },
     "execution_count": 4,
     "metadata": {},
     "output_type": "execute_result"
    }
   ],
   "source": [
    "model.summary()"
   ]
  },
  {
   "cell_type": "code",
   "execution_count": 5,
   "metadata": {},
   "outputs": [
    {
     "data": {
      "image/svg+xml": [
       "<?xml version=\"1.0\" encoding=\"UTF-8\" standalone=\"no\"?>\n",
       "<!DOCTYPE svg PUBLIC \"-//W3C//DTD SVG 1.1//EN\"\n",
       " \"http://www.w3.org/Graphics/SVG/1.1/DTD/svg11.dtd\">\n",
       "<!-- Generated by graphviz version 8.0.1 (20230327.1645)\n",
       " -->\n",
       "<!-- Pages: 1 -->\n",
       "<svg width=\"210pt\" height=\"230pt\"\n",
       " viewBox=\"0.00 0.00 209.92 230.12\" xmlns=\"http://www.w3.org/2000/svg\" xmlns:xlink=\"http://www.w3.org/1999/xlink\">\n",
       "<g id=\"graph0\" class=\"graph\" transform=\"scale(1 1) rotate(0) translate(4 226.12)\">\n",
       "<polygon fill=\"white\" stroke=\"none\" points=\"-4,4 -4,-226.12 205.92,-226.12 205.92,4 -4,4\"/>\n",
       "<!-- Lvl 0\n",
       "type\n",
       "[Bar]\n",
       "Mean_tres[0.0215] -->\n",
       "<g id=\"node1\" class=\"node\">\n",
       "<title>Lvl 0\n",
       "type\n",
       "[Bar]\n",
       "Mean_tres[0.0215]</title>\n",
       "<ellipse fill=\"none\" stroke=\"black\" cx=\"100.96\" cy=\"-174.04\" rx=\"85.62\" ry=\"48.17\"/>\n",
       "<text text-anchor=\"middle\" x=\"100.96\" y=\"-192.84\" font-family=\"Times,serif\" font-size=\"14.00\">Lvl 0</text>\n",
       "<text text-anchor=\"middle\" x=\"100.96\" y=\"-177.84\" font-family=\"Times,serif\" font-size=\"14.00\">type</text>\n",
       "<text text-anchor=\"middle\" x=\"100.96\" y=\"-162.84\" font-family=\"Times,serif\" font-size=\"14.00\">[Bar]</text>\n",
       "<text text-anchor=\"middle\" x=\"100.96\" y=\"-147.84\" font-family=\"Times,serif\" font-size=\"14.00\">Mean_tres[0.0215]</text>\n",
       "</g>\n",
       "<!-- Lvl 1 &#45; 0\n",
       "43\n",
       "U.T. -->\n",
       "<g id=\"node2\" class=\"node\">\n",
       "<title>Lvl 1 &#45; 0\n",
       "43\n",
       "U.T.</title>\n",
       "<ellipse fill=\"none\" stroke=\"black\" cx=\"45.96\" cy=\"-37.48\" rx=\"45.92\" ry=\"37.45\"/>\n",
       "<text text-anchor=\"middle\" x=\"45.96\" y=\"-48.78\" font-family=\"Times,serif\" font-size=\"14.00\">Lvl 1 &#45; 0</text>\n",
       "<text text-anchor=\"middle\" x=\"45.96\" y=\"-33.78\" font-family=\"Times,serif\" font-size=\"14.00\">43</text>\n",
       "<text text-anchor=\"middle\" x=\"45.96\" y=\"-18.78\" font-family=\"Times,serif\" font-size=\"14.00\">U.T.</text>\n",
       "</g>\n",
       "<!-- Lvl 0\n",
       "type\n",
       "[Bar]\n",
       "Mean_tres[0.0215]&#45;&gt;Lvl 1 &#45; 0\n",
       "43\n",
       "U.T. -->\n",
       "<g id=\"edge1\" class=\"edge\">\n",
       "<title>Lvl 0\n",
       "type\n",
       "[Bar]\n",
       "Mean_tres[0.0215]&#45;&gt;Lvl 1 &#45; 0\n",
       "43\n",
       "U.T.</title>\n",
       "<path fill=\"none\" stroke=\"black\" d=\"M82.03,-126.73C76.28,-112.66 69.98,-97.23 64.27,-83.26\"/>\n",
       "<polygon fill=\"black\" stroke=\"black\" points=\"67.26,-82.32 60.23,-74.39 60.78,-84.97 67.26,-82.32\"/>\n",
       "<text text-anchor=\"middle\" x=\"83.96\" y=\"-96.75\" font-family=\"Times,serif\" font-size=\"14.00\">NO</text>\n",
       "</g>\n",
       "<!-- Lvl 1 &#45; 1\n",
       "41\n",
       "U.T. -->\n",
       "<g id=\"node3\" class=\"node\">\n",
       "<title>Lvl 1 &#45; 1\n",
       "41\n",
       "U.T.</title>\n",
       "<ellipse fill=\"none\" stroke=\"black\" cx=\"155.96\" cy=\"-37.48\" rx=\"45.92\" ry=\"37.45\"/>\n",
       "<text text-anchor=\"middle\" x=\"155.96\" y=\"-48.78\" font-family=\"Times,serif\" font-size=\"14.00\">Lvl 1 &#45; 1</text>\n",
       "<text text-anchor=\"middle\" x=\"155.96\" y=\"-33.78\" font-family=\"Times,serif\" font-size=\"14.00\">41</text>\n",
       "<text text-anchor=\"middle\" x=\"155.96\" y=\"-18.78\" font-family=\"Times,serif\" font-size=\"14.00\">U.T.</text>\n",
       "</g>\n",
       "<!-- Lvl 0\n",
       "type\n",
       "[Bar]\n",
       "Mean_tres[0.0215]&#45;&gt;Lvl 1 &#45; 1\n",
       "41\n",
       "U.T. -->\n",
       "<g id=\"edge2\" class=\"edge\">\n",
       "<title>Lvl 0\n",
       "type\n",
       "[Bar]\n",
       "Mean_tres[0.0215]&#45;&gt;Lvl 1 &#45; 1\n",
       "41\n",
       "U.T.</title>\n",
       "<path fill=\"none\" stroke=\"black\" d=\"M119.89,-126.73C125.64,-112.66 131.95,-97.23 137.66,-83.26\"/>\n",
       "<polygon fill=\"black\" stroke=\"black\" points=\"141.15,-84.97 141.69,-74.39 134.67,-82.32 141.15,-84.97\"/>\n",
       "<text text-anchor=\"middle\" x=\"145.96\" y=\"-96.75\" font-family=\"Times,serif\" font-size=\"14.00\">YES</text>\n",
       "</g>\n",
       "</g>\n",
       "</svg>\n"
      ],
      "text/plain": [
       "<graphviz.graphs.Digraph at 0x17ff022b0>"
      ]
     },
     "execution_count": 5,
     "metadata": {},
     "output_type": "execute_result"
    }
   ],
   "source": [
    "model.digraph()"
   ]
  },
  {
   "cell_type": "markdown",
   "metadata": {
    "jp-MarkdownHeadingCollapsed": true,
    "tags": []
   },
   "source": [
    "### 4. Co-Clustering (#TODO)"
   ]
  },
  {
   "cell_type": "code",
   "execution_count": null,
   "metadata": {},
   "outputs": [],
   "source": []
  },
  {
   "cell_type": "markdown",
   "metadata": {},
   "source": [
    "#\n",
    "---"
   ]
  },
  {
   "cell_type": "markdown",
   "metadata": {},
   "source": [
    "\\# By Tarlis Portela (2023)"
   ]
  }
 ],
 "metadata": {
  "kernelspec": {
   "display_name": "Python 3 (ipykernel)",
   "language": "python",
   "name": "python3"
  },
  "language_info": {
   "codemirror_mode": {
    "name": "ipython",
    "version": 3
   },
   "file_extension": ".py",
   "mimetype": "text/x-python",
   "name": "python",
   "nbconvert_exporter": "python",
   "pygments_lexer": "ipython3",
   "version": "3.9.13"
  }
 },
 "nbformat": 4,
 "nbformat_minor": 4
}
