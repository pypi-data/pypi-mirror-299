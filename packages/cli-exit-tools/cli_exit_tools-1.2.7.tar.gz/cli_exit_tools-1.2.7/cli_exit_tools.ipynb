{
 "cells": [
  {
   "cell_type": "code",
   "execution_count": null,
   "outputs": [],
   "source": [
    "# update pip and setuptools\n",
    "import sys\n",
    "!{sys.executable} -m pip install --upgrade pip\n",
    "!{sys.executable} -m pip install --upgrade setuptools\n",
    "\n",
    "# install cli_exit_tools from pypi\n",
    "!{sys.executable} -m pip install --upgrade cli_exit_tools\n",
    "\n",
    "# install cli_exit_tools from github\n",
    "!{sys.executable} -m pip install --upgrade git+https://github.com/bitranox/cli_exit_tools.git"
   ],
   "metadata": {
    "collapsed": false,
    "pycharm": {
     "name": "#%%\n"
    }
   }
  },
  {
   "metadata": {
    "trusted": true,
    "pycharm": {
     "name": "#%%\n"
    }
   },
   "cell_type": "code",
   "source": [
    "import cli_exit_tools"
   ],
   "execution_count": null,
   "outputs": []
  }
 ],
 "metadata": {
  "language_info": {
   "name": "python",
   "version": "3.7.6",
   "mimetype": "text/x-python",
   "codemirror_mode": {
    "name": "ipython",
    "version": 3
   },
   "pygments_lexer": "ipython3",
   "nbconvert_exporter": "python",
   "file_extension": ".py"
  },
  "kernelspec": {
   "name": "python3",
   "display_name": "Python 3",
   "language": "python"
  }
 },
 "nbformat": 4,
 "nbformat_minor": 4
}