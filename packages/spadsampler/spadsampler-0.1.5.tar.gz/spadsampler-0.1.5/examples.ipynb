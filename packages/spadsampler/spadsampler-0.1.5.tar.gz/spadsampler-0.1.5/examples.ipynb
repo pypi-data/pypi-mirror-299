{
 "cells": [
  {
   "cell_type": "code",
   "execution_count": null,
   "metadata": {},
   "outputs": [],
   "source": [
    "%pip install spadsampler"
   ]
  },
  {
   "cell_type": "code",
   "execution_count": null,
   "metadata": {},
   "outputs": [],
   "source": [
    "# Examples to sample some image\n",
    "import numpy as np\n",
    "from spadsampler import sample_data, imshow_pairs, SamplingMethod\n",
    "\n",
    "data = np.random.randint(0, 256, (40, 128, 128, 5), dtype=np.uint8)\n",
    "output, _ = sample_data(data, range=(-6, -3))\n",
    "imshow_pairs({\"data\": data} | output)\n",
    "\n",
    "output_b, _ = sample_data(data, range=(-6, -3), sampling_method=SamplingMethod.BERNOULLI)\n",
    "imshow_pairs({\"data\": data} | output_b)\n"
   ]
  },
  {
   "cell_type": "code",
   "execution_count": null,
   "metadata": {},
   "outputs": [],
   "source": [
    "from spadsampler import plot_histogram\n",
    "\n",
    "# plot histogram\n",
    "plot_histogram(data)\n",
    "\n",
    "# some data have gaps in the histogram\n",
    "data = data * 1.1 - 26\n",
    "plot_histogram(data)\n",
    "\n",
    "# visual inspection to scale down the data\n",
    "plot_histogram(data, scale=0.9091)\n"
   ]
  }
 ],
 "metadata": {
  "kernelspec": {
   "display_name": "spadsampler",
   "language": "python",
   "name": "python3"
  },
  "language_info": {
   "codemirror_mode": {
    "name": "ipython",
    "version": 3
   },
   "file_extension": ".py",
   "mimetype": "text/x-python",
   "name": "python",
   "nbconvert_exporter": "python",
   "pygments_lexer": "ipython3",
   "version": "3.10.15"
  }
 },
 "nbformat": 4,
 "nbformat_minor": 2
}
