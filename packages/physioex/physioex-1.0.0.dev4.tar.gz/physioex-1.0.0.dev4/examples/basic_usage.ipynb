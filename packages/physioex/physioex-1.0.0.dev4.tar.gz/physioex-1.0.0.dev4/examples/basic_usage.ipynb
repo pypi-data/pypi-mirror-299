{
 "cells": [
  {
   "cell_type": "markdown",
   "metadata": {},
   "source": [
    "# Basic usage of the train/test/finetune utilities"
   ]
  },
  {
   "cell_type": "code",
   "execution_count": 3,
   "metadata": {},
   "outputs": [],
   "source": [
    "from physioex.train.utils import train, test, finetune\n",
    "from physioex.train.models import load_model\n",
    "\n",
    "from physioex.data import PhysioExDataModule\n",
    "\n",
    "import os"
   ]
  },
  {
   "cell_type": "code",
   "execution_count": 13,
   "metadata": {},
   "outputs": [],
   "source": [
    "# Note the best practice is to use a yaml file to store the arguments\n",
    "# datamodule arguments\n",
    "\n",
    "datamodule_kwargs = {\n",
    "    \"selected_channels\": [\"EEG\"],\n",
    "    \"sequence_length\": 21,\n",
    "    \"target_transform\": None, # needs to match model output\n",
    "    \"preprocessing\": \"xsleepnet\", # needs to match model input\n",
    "    \"data_folder\": \"/mnt/guido-data/\", # your custom path here\n",
    "    \"num_workers\": os.cpu_count(), # default value\n",
    "}\n",
    "\n",
    "# let's use the standard approach to load the model, can be any SleepModule\n",
    "# you can use it also in a .yaml file\n",
    "\n",
    "model_class = \"physioex.train.networks.seqsleepnet:SeqSleepNet\"\n",
    "\n",
    "import importlib\n",
    "module_name, class_name = model_class.split(\":\")\n",
    "model_class = getattr(importlib.import_module(module_name), class_name)\n",
    "\n",
    "# now we need to define the model parameters, \n",
    "# these should be passed in the constructor of the model as a dictionary \"model_config\"\n",
    "\n",
    "# first read the default parameters from physioex\n",
    "from physioex.train.networks import config as networks_config\n",
    "model_config = networks_config[\"default\"][\"model_kwargs\"].copy()\n",
    "\n",
    "# now we can modify the parameters as we want, first using the specific parameters for the model\n",
    "if \"model_kwargs\" in networks_config[\"seqsleepnet\"]:\n",
    "    model_config.update(networks_config[\"seqsleepnet\"][\"model_kwargs\"])\n",
    "\n",
    "# now setup the ones that depends on the datamodule\n",
    "model_config.update({\n",
    "    \"in_channels\" : len(datamodule_kwargs[\"selected_channels\"]),\n",
    "    \"sequence_length\" : datamodule_kwargs[\"sequence_length\"],\n",
    "})\n",
    "\n",
    "train_kwargs = {\n",
    "    \"datasets\": \"hmc\", # dataset to use, can be also a PhysioExDataModule\n",
    "    \"datamodule_kwargs\": datamodule_kwargs,\n",
    "    \"model_class\": model_class,\n",
    "    \"model_config\": model_config,\n",
    "    \"batch_size\": 128,\n",
    "    \"num_validations\": 10, # number of validations to perform per epoch\n",
    "    \"checkpoint_path\": \"../models/basic_usage/\", # path to save the model\n",
    "    \"max_epochs\": 1,\n",
    "    \"resume\": True, # if the train sees a checkpoint it will resume from there\n",
    "}"
   ]
  },
  {
   "cell_type": "code",
   "execution_count": 15,
   "metadata": {},
   "outputs": [
    {
     "name": "stderr",
     "output_type": "stream",
     "text": [
      "Seed set to 42\n",
      "GPU available: True (cuda), used: True\n",
      "TPU available: False, using: 0 TPU cores\n",
      "HPU available: False, using: 0 HPUs\n",
      "/home/guido/miniconda3/envs/physioex/lib/python3.12/site-packages/pytorch_lightning/callbacks/model_checkpoint.py:654: Checkpoint directory /home/guido/github/physioex-private/models/basic_usage exists and is not empty.\n",
      "LOCAL_RANK: 0 - CUDA_VISIBLE_DEVICES: [0]\n",
      "\n",
      "  | Name | Type                 | Params | Mode \n",
      "------------------------------------------------------\n",
      "0 | nn   | Net                  | 137 K  | train\n",
      "1 | wacc | MulticlassAccuracy   | 0      | train\n",
      "2 | macc | MulticlassAccuracy   | 0      | train\n",
      "3 | wf1  | MulticlassF1Score    | 0      | train\n",
      "4 | mf1  | MulticlassF1Score    | 0      | train\n",
      "5 | ck   | MulticlassCohenKappa | 0      | train\n",
      "6 | pr   | MulticlassPrecision  | 0      | train\n",
      "7 | rc   | MulticlassRecall     | 0      | train\n",
      "8 | loss | CrossEntropyLoss     | 0      | train\n",
      "------------------------------------------------------\n",
      "133 K     Trainable params\n",
      "4.1 K     Non-trainable params\n",
      "137 K     Total params\n",
      "0.551     Total estimated model params size (MB)\n",
      "17        Modules in train mode\n",
      "0         Modules in eval mode\n"
     ]
    },
    {
     "data": {
      "application/vnd.jupyter.widget-view+json": {
       "model_id": "67d14b67442e4db8ab0e2a34f0fdc600",
       "version_major": 2,
       "version_minor": 0
      },
      "text/plain": [
       "Sanity Checking: |          | 0/? [00:00<?, ?it/s]"
      ]
     },
     "metadata": {},
     "output_type": "display_data"
    },
    {
     "data": {
      "application/vnd.jupyter.widget-view+json": {
       "model_id": "3684461ac33b472aacba6b644841106f",
       "version_major": 2,
       "version_minor": 0
      },
      "text/plain": [
       "Training: |          | 0/? [00:00<?, ?it/s]"
      ]
     },
     "metadata": {},
     "output_type": "display_data"
    },
    {
     "data": {
      "application/vnd.jupyter.widget-view+json": {
       "model_id": "27d2e55f73cc4e9fa4b6d06a05dbd612",
       "version_major": 2,
       "version_minor": 0
      },
      "text/plain": [
       "Validation: |          | 0/? [00:00<?, ?it/s]"
      ]
     },
     "metadata": {},
     "output_type": "display_data"
    },
    {
     "data": {
      "application/vnd.jupyter.widget-view+json": {
       "model_id": "c4fcd2c11ea2456db726f57ef9679bcc",
       "version_major": 2,
       "version_minor": 0
      },
      "text/plain": [
       "Validation: |          | 0/? [00:00<?, ?it/s]"
      ]
     },
     "metadata": {},
     "output_type": "display_data"
    },
    {
     "data": {
      "application/vnd.jupyter.widget-view+json": {
       "model_id": "0ded109de21d444e8dec39bf504490a1",
       "version_major": 2,
       "version_minor": 0
      },
      "text/plain": [
       "Validation: |          | 0/? [00:00<?, ?it/s]"
      ]
     },
     "metadata": {},
     "output_type": "display_data"
    },
    {
     "data": {
      "application/vnd.jupyter.widget-view+json": {
       "model_id": "29cea5bb915f4fd6880ebbfd42b46f0d",
       "version_major": 2,
       "version_minor": 0
      },
      "text/plain": [
       "Validation: |          | 0/? [00:00<?, ?it/s]"
      ]
     },
     "metadata": {},
     "output_type": "display_data"
    },
    {
     "data": {
      "application/vnd.jupyter.widget-view+json": {
       "model_id": "c28202b73de74694bfeb349b3afa9c1a",
       "version_major": 2,
       "version_minor": 0
      },
      "text/plain": [
       "Validation: |          | 0/? [00:00<?, ?it/s]"
      ]
     },
     "metadata": {},
     "output_type": "display_data"
    },
    {
     "data": {
      "application/vnd.jupyter.widget-view+json": {
       "model_id": "38ca1e2960fe450684bd7f977c31b977",
       "version_major": 2,
       "version_minor": 0
      },
      "text/plain": [
       "Validation: |          | 0/? [00:00<?, ?it/s]"
      ]
     },
     "metadata": {},
     "output_type": "display_data"
    },
    {
     "data": {
      "application/vnd.jupyter.widget-view+json": {
       "model_id": "ee42daf20f644623af6541b50f0bc512",
       "version_major": 2,
       "version_minor": 0
      },
      "text/plain": [
       "Validation: |          | 0/? [00:00<?, ?it/s]"
      ]
     },
     "metadata": {},
     "output_type": "display_data"
    },
    {
     "data": {
      "application/vnd.jupyter.widget-view+json": {
       "model_id": "5073f4a0c3a24213a549d9a43ec2f560",
       "version_major": 2,
       "version_minor": 0
      },
      "text/plain": [
       "Validation: |          | 0/? [00:00<?, ?it/s]"
      ]
     },
     "metadata": {},
     "output_type": "display_data"
    },
    {
     "data": {
      "application/vnd.jupyter.widget-view+json": {
       "model_id": "19992330cfd44babbcc065d8bbb5befc",
       "version_major": 2,
       "version_minor": 0
      },
      "text/plain": [
       "Validation: |          | 0/? [00:00<?, ?it/s]"
      ]
     },
     "metadata": {},
     "output_type": "display_data"
    },
    {
     "name": "stderr",
     "output_type": "stream",
     "text": [
      "`Trainer.fit` stopped: `max_epochs=1` reached.\n"
     ]
    }
   ],
   "source": [
    "# now we can train the model\n",
    "\n",
    "best_checkpoint = train( **train_kwargs )\n",
    "\n",
    "best_checkpoint = os.path.join( train_kwargs[\"checkpoint_path\"], best_checkpoint )"
   ]
  },
  {
   "cell_type": "code",
   "execution_count": 18,
   "metadata": {},
   "outputs": [
    {
     "name": "stderr",
     "output_type": "stream",
     "text": [
      "Seed set to 42\n",
      "GPU available: True (cuda), used: True\n",
      "TPU available: False, using: 0 TPU cores\n",
      "HPU available: False, using: 0 HPUs\n",
      "LOCAL_RANK: 0 - CUDA_VISIBLE_DEVICES: [0]\n"
     ]
    },
    {
     "data": {
      "application/vnd.jupyter.widget-view+json": {
       "model_id": "33615c31d4564ef2aa2e54462d272d7b",
       "version_major": 2,
       "version_minor": 0
      },
      "text/plain": [
       "Testing: |          | 0/? [00:00<?, ?it/s]"
      ]
     },
     "metadata": {},
     "output_type": "display_data"
    },
    {
     "data": {
      "text/html": [
       "<pre style=\"white-space:pre;overflow-x:auto;line-height:normal;font-family:Menlo,'DejaVu Sans Mono',consolas,'Courier New',monospace\">┏━━━━━━━━━━━━━━━━━━━━━━━━━━━┳━━━━━━━━━━━━━━━━━━━━━━━━━━━┓\n",
       "┃<span style=\"font-weight: bold\">        Test metric        </span>┃<span style=\"font-weight: bold\">       DataLoader 0        </span>┃\n",
       "┡━━━━━━━━━━━━━━━━━━━━━━━━━━━╇━━━━━━━━━━━━━━━━━━━━━━━━━━━┩\n",
       "│<span style=\"color: #008080; text-decoration-color: #008080\">         test_acc          </span>│<span style=\"color: #800080; text-decoration-color: #800080\">    0.7125786542892456     </span>│\n",
       "│<span style=\"color: #008080; text-decoration-color: #008080\">          test_ck          </span>│<span style=\"color: #800080; text-decoration-color: #800080\">    0.6247348189353943     </span>│\n",
       "│<span style=\"color: #008080; text-decoration-color: #008080\">          test_f1          </span>│<span style=\"color: #800080; text-decoration-color: #800080\">    0.7064839005470276     </span>│\n",
       "│<span style=\"color: #008080; text-decoration-color: #008080\">         test_loss         </span>│<span style=\"color: #800080; text-decoration-color: #800080\">    0.7227525115013123     </span>│\n",
       "│<span style=\"color: #008080; text-decoration-color: #008080\">         test_macc         </span>│<span style=\"color: #800080; text-decoration-color: #800080\">    0.6801260113716125     </span>│\n",
       "│<span style=\"color: #008080; text-decoration-color: #008080\">         test_mf1          </span>│<span style=\"color: #800080; text-decoration-color: #800080\">    0.6674419045448303     </span>│\n",
       "│<span style=\"color: #008080; text-decoration-color: #008080\">          test_pr          </span>│<span style=\"color: #800080; text-decoration-color: #800080\">    0.7099131941795349     </span>│\n",
       "│<span style=\"color: #008080; text-decoration-color: #008080\">          test_rc          </span>│<span style=\"color: #800080; text-decoration-color: #800080\">    0.7125786542892456     </span>│\n",
       "└───────────────────────────┴───────────────────────────┘\n",
       "</pre>\n"
      ],
      "text/plain": [
       "┏━━━━━━━━━━━━━━━━━━━━━━━━━━━┳━━━━━━━━━━━━━━━━━━━━━━━━━━━┓\n",
       "┃\u001b[1m \u001b[0m\u001b[1m       Test metric       \u001b[0m\u001b[1m \u001b[0m┃\u001b[1m \u001b[0m\u001b[1m      DataLoader 0       \u001b[0m\u001b[1m \u001b[0m┃\n",
       "┡━━━━━━━━━━━━━━━━━━━━━━━━━━━╇━━━━━━━━━━━━━━━━━━━━━━━━━━━┩\n",
       "│\u001b[36m \u001b[0m\u001b[36m        test_acc         \u001b[0m\u001b[36m \u001b[0m│\u001b[35m \u001b[0m\u001b[35m   0.7125786542892456    \u001b[0m\u001b[35m \u001b[0m│\n",
       "│\u001b[36m \u001b[0m\u001b[36m         test_ck         \u001b[0m\u001b[36m \u001b[0m│\u001b[35m \u001b[0m\u001b[35m   0.6247348189353943    \u001b[0m\u001b[35m \u001b[0m│\n",
       "│\u001b[36m \u001b[0m\u001b[36m         test_f1         \u001b[0m\u001b[36m \u001b[0m│\u001b[35m \u001b[0m\u001b[35m   0.7064839005470276    \u001b[0m\u001b[35m \u001b[0m│\n",
       "│\u001b[36m \u001b[0m\u001b[36m        test_loss        \u001b[0m\u001b[36m \u001b[0m│\u001b[35m \u001b[0m\u001b[35m   0.7227525115013123    \u001b[0m\u001b[35m \u001b[0m│\n",
       "│\u001b[36m \u001b[0m\u001b[36m        test_macc        \u001b[0m\u001b[36m \u001b[0m│\u001b[35m \u001b[0m\u001b[35m   0.6801260113716125    \u001b[0m\u001b[35m \u001b[0m│\n",
       "│\u001b[36m \u001b[0m\u001b[36m        test_mf1         \u001b[0m\u001b[36m \u001b[0m│\u001b[35m \u001b[0m\u001b[35m   0.6674419045448303    \u001b[0m\u001b[35m \u001b[0m│\n",
       "│\u001b[36m \u001b[0m\u001b[36m         test_pr         \u001b[0m\u001b[36m \u001b[0m│\u001b[35m \u001b[0m\u001b[35m   0.7099131941795349    \u001b[0m\u001b[35m \u001b[0m│\n",
       "│\u001b[36m \u001b[0m\u001b[36m         test_rc         \u001b[0m\u001b[36m \u001b[0m│\u001b[35m \u001b[0m\u001b[35m   0.7125786542892456    \u001b[0m\u001b[35m \u001b[0m│\n",
       "└───────────────────────────┴───────────────────────────┘\n"
      ]
     },
     "metadata": {},
     "output_type": "display_data"
    },
    {
     "data": {
      "text/html": [
       "<div>\n",
       "<style scoped>\n",
       "    .dataframe tbody tr th:only-of-type {\n",
       "        vertical-align: middle;\n",
       "    }\n",
       "\n",
       "    .dataframe tbody tr th {\n",
       "        vertical-align: top;\n",
       "    }\n",
       "\n",
       "    .dataframe thead th {\n",
       "        text-align: right;\n",
       "    }\n",
       "</style>\n",
       "<table border=\"1\" class=\"dataframe\">\n",
       "  <thead>\n",
       "    <tr style=\"text-align: right;\">\n",
       "      <th></th>\n",
       "      <th>test_loss</th>\n",
       "      <th>test_acc</th>\n",
       "      <th>test_f1</th>\n",
       "      <th>test_ck</th>\n",
       "      <th>test_pr</th>\n",
       "      <th>test_rc</th>\n",
       "      <th>test_macc</th>\n",
       "      <th>test_mf1</th>\n",
       "      <th>dataset</th>\n",
       "      <th>fold</th>\n",
       "    </tr>\n",
       "  </thead>\n",
       "  <tbody>\n",
       "    <tr>\n",
       "      <th>0</th>\n",
       "      <td>0.722753</td>\n",
       "      <td>0.712579</td>\n",
       "      <td>0.706484</td>\n",
       "      <td>0.624735</td>\n",
       "      <td>0.709913</td>\n",
       "      <td>0.712579</td>\n",
       "      <td>0.680126</td>\n",
       "      <td>0.667442</td>\n",
       "      <td>hmc</td>\n",
       "      <td>-1</td>\n",
       "    </tr>\n",
       "  </tbody>\n",
       "</table>\n",
       "</div>"
      ],
      "text/plain": [
       "   test_loss  test_acc   test_f1   test_ck   test_pr   test_rc  test_macc  \\\n",
       "0   0.722753  0.712579  0.706484  0.624735  0.709913  0.712579   0.680126   \n",
       "\n",
       "   test_mf1 dataset  fold  \n",
       "0  0.667442     hmc    -1  "
      ]
     },
     "execution_count": 18,
     "metadata": {},
     "output_type": "execute_result"
    }
   ],
   "source": [
    "# now we should (optional) load and test the model on the test split of the dataset\n",
    "\n",
    "# in case you want to load the model you can just use physioex.train.models:load_model\n",
    "\n",
    "model = load_model(\n",
    "    model = model_class,\n",
    "    model_kwargs = model_config,\n",
    "    ckpt_path = best_checkpoint,\n",
    ")\n",
    "\n",
    "# or you can use the API offered by the test utility\n",
    "\n",
    "test_kwargs = {\n",
    "    \"datasets\": \"hmc\",\n",
    "    \"datamodule_kwargs\": datamodule_kwargs,\n",
    "    \"model\": None,  # if you want to use the model loaded before you can pass it here\n",
    "    \"model_class\": model_class,\n",
    "    \"model_config\": model_config,\n",
    "    \"batch_size\": 128,\n",
    "    \"checkpoint_path\": best_checkpoint,\n",
    "    \"results_path\": \"../models/basic_usage/\"\n",
    "}\n",
    "\n",
    "hmc_results = test( **test_kwargs )\n",
    "\n",
    "hmc_results.head() \n",
    "# note: fold:-1 is a random fold setted up at the beginning. HMC has 1 fold so it's always the '0'fold"
   ]
  },
  {
   "cell_type": "code",
   "execution_count": 19,
   "metadata": {},
   "outputs": [
    {
     "name": "stderr",
     "output_type": "stream",
     "text": [
      "Seed set to 42\n",
      "GPU available: True (cuda), used: True\n",
      "TPU available: False, using: 0 TPU cores\n",
      "HPU available: False, using: 0 HPUs\n",
      "LOCAL_RANK: 0 - CUDA_VISIBLE_DEVICES: [0]\n"
     ]
    },
    {
     "data": {
      "application/vnd.jupyter.widget-view+json": {
       "model_id": "c459fb0b40e74fa894f251bb9be1475d",
       "version_major": 2,
       "version_minor": 0
      },
      "text/plain": [
       "Testing: |          | 0/? [00:00<?, ?it/s]"
      ]
     },
     "metadata": {},
     "output_type": "display_data"
    },
    {
     "data": {
      "text/html": [
       "<pre style=\"white-space:pre;overflow-x:auto;line-height:normal;font-family:Menlo,'DejaVu Sans Mono',consolas,'Courier New',monospace\">┏━━━━━━━━━━━━━━━━━━━━━━━━━━━┳━━━━━━━━━━━━━━━━━━━━━━━━━━━┓\n",
       "┃<span style=\"font-weight: bold\">        Test metric        </span>┃<span style=\"font-weight: bold\">       DataLoader 0        </span>┃\n",
       "┡━━━━━━━━━━━━━━━━━━━━━━━━━━━╇━━━━━━━━━━━━━━━━━━━━━━━━━━━┩\n",
       "│<span style=\"color: #008080; text-decoration-color: #008080\">         test_acc          </span>│<span style=\"color: #800080; text-decoration-color: #800080\">    0.5655410885810852     </span>│\n",
       "│<span style=\"color: #008080; text-decoration-color: #008080\">          test_ck          </span>│<span style=\"color: #800080; text-decoration-color: #800080\">    0.40076857805252075    </span>│\n",
       "│<span style=\"color: #008080; text-decoration-color: #008080\">          test_f1          </span>│<span style=\"color: #800080; text-decoration-color: #800080\">    0.5924346446990967     </span>│\n",
       "│<span style=\"color: #008080; text-decoration-color: #008080\">         test_loss         </span>│<span style=\"color: #800080; text-decoration-color: #800080\">    1.6504909992218018     </span>│\n",
       "│<span style=\"color: #008080; text-decoration-color: #008080\">         test_macc         </span>│<span style=\"color: #800080; text-decoration-color: #800080\">    0.5929837226867676     </span>│\n",
       "│<span style=\"color: #008080; text-decoration-color: #008080\">         test_mf1          </span>│<span style=\"color: #800080; text-decoration-color: #800080\">    0.5219427347183228     </span>│\n",
       "│<span style=\"color: #008080; text-decoration-color: #008080\">          test_pr          </span>│<span style=\"color: #800080; text-decoration-color: #800080\">    0.7687985301017761     </span>│\n",
       "│<span style=\"color: #008080; text-decoration-color: #008080\">          test_rc          </span>│<span style=\"color: #800080; text-decoration-color: #800080\">    0.5655410885810852     </span>│\n",
       "└───────────────────────────┴───────────────────────────┘\n",
       "</pre>\n"
      ],
      "text/plain": [
       "┏━━━━━━━━━━━━━━━━━━━━━━━━━━━┳━━━━━━━━━━━━━━━━━━━━━━━━━━━┓\n",
       "┃\u001b[1m \u001b[0m\u001b[1m       Test metric       \u001b[0m\u001b[1m \u001b[0m┃\u001b[1m \u001b[0m\u001b[1m      DataLoader 0       \u001b[0m\u001b[1m \u001b[0m┃\n",
       "┡━━━━━━━━━━━━━━━━━━━━━━━━━━━╇━━━━━━━━━━━━━━━━━━━━━━━━━━━┩\n",
       "│\u001b[36m \u001b[0m\u001b[36m        test_acc         \u001b[0m\u001b[36m \u001b[0m│\u001b[35m \u001b[0m\u001b[35m   0.5655410885810852    \u001b[0m\u001b[35m \u001b[0m│\n",
       "│\u001b[36m \u001b[0m\u001b[36m         test_ck         \u001b[0m\u001b[36m \u001b[0m│\u001b[35m \u001b[0m\u001b[35m   0.40076857805252075   \u001b[0m\u001b[35m \u001b[0m│\n",
       "│\u001b[36m \u001b[0m\u001b[36m         test_f1         \u001b[0m\u001b[36m \u001b[0m│\u001b[35m \u001b[0m\u001b[35m   0.5924346446990967    \u001b[0m\u001b[35m \u001b[0m│\n",
       "│\u001b[36m \u001b[0m\u001b[36m        test_loss        \u001b[0m\u001b[36m \u001b[0m│\u001b[35m \u001b[0m\u001b[35m   1.6504909992218018    \u001b[0m\u001b[35m \u001b[0m│\n",
       "│\u001b[36m \u001b[0m\u001b[36m        test_macc        \u001b[0m\u001b[36m \u001b[0m│\u001b[35m \u001b[0m\u001b[35m   0.5929837226867676    \u001b[0m\u001b[35m \u001b[0m│\n",
       "│\u001b[36m \u001b[0m\u001b[36m        test_mf1         \u001b[0m\u001b[36m \u001b[0m│\u001b[35m \u001b[0m\u001b[35m   0.5219427347183228    \u001b[0m\u001b[35m \u001b[0m│\n",
       "│\u001b[36m \u001b[0m\u001b[36m         test_pr         \u001b[0m\u001b[36m \u001b[0m│\u001b[35m \u001b[0m\u001b[35m   0.7687985301017761    \u001b[0m\u001b[35m \u001b[0m│\n",
       "│\u001b[36m \u001b[0m\u001b[36m         test_rc         \u001b[0m\u001b[36m \u001b[0m│\u001b[35m \u001b[0m\u001b[35m   0.5655410885810852    \u001b[0m\u001b[35m \u001b[0m│\n",
       "└───────────────────────────┴───────────────────────────┘\n"
      ]
     },
     "metadata": {},
     "output_type": "display_data"
    },
    {
     "data": {
      "text/html": [
       "<div>\n",
       "<style scoped>\n",
       "    .dataframe tbody tr th:only-of-type {\n",
       "        vertical-align: middle;\n",
       "    }\n",
       "\n",
       "    .dataframe tbody tr th {\n",
       "        vertical-align: top;\n",
       "    }\n",
       "\n",
       "    .dataframe thead th {\n",
       "        text-align: right;\n",
       "    }\n",
       "</style>\n",
       "<table border=\"1\" class=\"dataframe\">\n",
       "  <thead>\n",
       "    <tr style=\"text-align: right;\">\n",
       "      <th></th>\n",
       "      <th>test_loss</th>\n",
       "      <th>test_acc</th>\n",
       "      <th>test_f1</th>\n",
       "      <th>test_ck</th>\n",
       "      <th>test_pr</th>\n",
       "      <th>test_rc</th>\n",
       "      <th>test_macc</th>\n",
       "      <th>test_mf1</th>\n",
       "      <th>dataset</th>\n",
       "      <th>fold</th>\n",
       "    </tr>\n",
       "  </thead>\n",
       "  <tbody>\n",
       "    <tr>\n",
       "      <th>0</th>\n",
       "      <td>1.650491</td>\n",
       "      <td>0.565541</td>\n",
       "      <td>0.592435</td>\n",
       "      <td>0.400769</td>\n",
       "      <td>0.768799</td>\n",
       "      <td>0.565541</td>\n",
       "      <td>0.592984</td>\n",
       "      <td>0.521943</td>\n",
       "      <td>dcsm</td>\n",
       "      <td>-1</td>\n",
       "    </tr>\n",
       "  </tbody>\n",
       "</table>\n",
       "</div>"
      ],
      "text/plain": [
       "   test_loss  test_acc   test_f1   test_ck   test_pr   test_rc  test_macc  \\\n",
       "0   1.650491  0.565541  0.592435  0.400769  0.768799  0.565541   0.592984   \n",
       "\n",
       "   test_mf1 dataset  fold  \n",
       "0  0.521943    dcsm    -1  "
      ]
     },
     "execution_count": 19,
     "metadata": {},
     "output_type": "execute_result"
    }
   ],
   "source": [
    "# now we can finetune the model on the dcsm dataset\n",
    "\n",
    "# first let's see the accuracy of the model on the dcsm dataset\n",
    "test_kwargs[\"datasets\"] = \"dcsm\"\n",
    "dcsm_results = test( **test_kwargs )\n",
    "\n",
    "dcsm_results.head()\n",
    "# note : the same result could be obtained setting datasets as [\"hmc\", \"dcsm\"]"
   ]
  },
  {
   "cell_type": "code",
   "execution_count": 20,
   "metadata": {},
   "outputs": [
    {
     "name": "stderr",
     "output_type": "stream",
     "text": [
      "Seed set to 42\n",
      "GPU available: True (cuda), used: True\n",
      "TPU available: False, using: 0 TPU cores\n",
      "HPU available: False, using: 0 HPUs\n",
      "/home/guido/miniconda3/envs/physioex/lib/python3.12/site-packages/pytorch_lightning/callbacks/model_checkpoint.py:654: Checkpoint directory /home/guido/github/physioex-private/models/basic_usage/finetuned exists and is not empty.\n",
      "LOCAL_RANK: 0 - CUDA_VISIBLE_DEVICES: [0]\n",
      "\n",
      "  | Name | Type                 | Params | Mode \n",
      "------------------------------------------------------\n",
      "0 | nn   | Net                  | 137 K  | train\n",
      "1 | wacc | MulticlassAccuracy   | 0      | train\n",
      "2 | macc | MulticlassAccuracy   | 0      | train\n",
      "3 | wf1  | MulticlassF1Score    | 0      | train\n",
      "4 | mf1  | MulticlassF1Score    | 0      | train\n",
      "5 | ck   | MulticlassCohenKappa | 0      | train\n",
      "6 | pr   | MulticlassPrecision  | 0      | train\n",
      "7 | rc   | MulticlassRecall     | 0      | train\n",
      "8 | loss | CrossEntropyLoss     | 0      | train\n",
      "------------------------------------------------------\n",
      "133 K     Trainable params\n",
      "4.1 K     Non-trainable params\n",
      "137 K     Total params\n",
      "0.551     Total estimated model params size (MB)\n",
      "17        Modules in train mode\n",
      "0         Modules in eval mode\n"
     ]
    },
    {
     "data": {
      "application/vnd.jupyter.widget-view+json": {
       "model_id": "2701e0a90ead481da6e438f0894d4782",
       "version_major": 2,
       "version_minor": 0
      },
      "text/plain": [
       "Sanity Checking: |          | 0/? [00:00<?, ?it/s]"
      ]
     },
     "metadata": {},
     "output_type": "display_data"
    },
    {
     "data": {
      "application/vnd.jupyter.widget-view+json": {
       "model_id": "fadd29e1e0f244e387e077defa813cd4",
       "version_major": 2,
       "version_minor": 0
      },
      "text/plain": [
       "Training: |          | 0/? [00:00<?, ?it/s]"
      ]
     },
     "metadata": {},
     "output_type": "display_data"
    },
    {
     "data": {
      "application/vnd.jupyter.widget-view+json": {
       "model_id": "2ac967f41f1b49eda896bc10ec9971ad",
       "version_major": 2,
       "version_minor": 0
      },
      "text/plain": [
       "Validation: |          | 0/? [00:00<?, ?it/s]"
      ]
     },
     "metadata": {},
     "output_type": "display_data"
    },
    {
     "data": {
      "application/vnd.jupyter.widget-view+json": {
       "model_id": "8f347d9e23484e67a8111e398a243158",
       "version_major": 2,
       "version_minor": 0
      },
      "text/plain": [
       "Validation: |          | 0/? [00:00<?, ?it/s]"
      ]
     },
     "metadata": {},
     "output_type": "display_data"
    },
    {
     "data": {
      "application/vnd.jupyter.widget-view+json": {
       "model_id": "44174ef7c2ac4eb99d7ad95081ede437",
       "version_major": 2,
       "version_minor": 0
      },
      "text/plain": [
       "Validation: |          | 0/? [00:00<?, ?it/s]"
      ]
     },
     "metadata": {},
     "output_type": "display_data"
    },
    {
     "data": {
      "application/vnd.jupyter.widget-view+json": {
       "model_id": "80e16fa477214b35aa63d53f79abe607",
       "version_major": 2,
       "version_minor": 0
      },
      "text/plain": [
       "Validation: |          | 0/? [00:00<?, ?it/s]"
      ]
     },
     "metadata": {},
     "output_type": "display_data"
    },
    {
     "data": {
      "application/vnd.jupyter.widget-view+json": {
       "model_id": "47b2a7f6a11d4c28b82b74df9b5d301d",
       "version_major": 2,
       "version_minor": 0
      },
      "text/plain": [
       "Validation: |          | 0/? [00:00<?, ?it/s]"
      ]
     },
     "metadata": {},
     "output_type": "display_data"
    },
    {
     "data": {
      "application/vnd.jupyter.widget-view+json": {
       "model_id": "3e9119c135aa434091e444a7cb638183",
       "version_major": 2,
       "version_minor": 0
      },
      "text/plain": [
       "Validation: |          | 0/? [00:00<?, ?it/s]"
      ]
     },
     "metadata": {},
     "output_type": "display_data"
    },
    {
     "data": {
      "application/vnd.jupyter.widget-view+json": {
       "model_id": "3ff0b0e37ef34d009c716ac742028a78",
       "version_major": 2,
       "version_minor": 0
      },
      "text/plain": [
       "Validation: |          | 0/? [00:00<?, ?it/s]"
      ]
     },
     "metadata": {},
     "output_type": "display_data"
    },
    {
     "data": {
      "application/vnd.jupyter.widget-view+json": {
       "model_id": "7e4f31557fea4e5a89c08490ab7144fa",
       "version_major": 2,
       "version_minor": 0
      },
      "text/plain": [
       "Validation: |          | 0/? [00:00<?, ?it/s]"
      ]
     },
     "metadata": {},
     "output_type": "display_data"
    },
    {
     "data": {
      "application/vnd.jupyter.widget-view+json": {
       "model_id": "ea3daefd2e7948738d1322e168f4d839",
       "version_major": 2,
       "version_minor": 0
      },
      "text/plain": [
       "Validation: |          | 0/? [00:00<?, ?it/s]"
      ]
     },
     "metadata": {},
     "output_type": "display_data"
    },
    {
     "name": "stderr",
     "output_type": "stream",
     "text": [
      "`Trainer.fit` stopped: `max_epochs=1` reached.\n"
     ]
    }
   ],
   "source": [
    "\n",
    "# now finetune the model on the dcsm dataset decreasing the learning rate\n",
    "\n",
    "train_kwargs[\"datasets\"] = \"dcsm\"\n",
    "train_kwargs[\"checkpoint_path\"] = \"../models/basic_usage/finetuned/\"\n",
    "\n",
    "finetune_kwargs = {\n",
    "    \"model\": None,\n",
    "    \"model_class\": model_class,\n",
    "    \"model_config\": model_config,\n",
    "    \"model_checkpoint\": best_checkpoint,\n",
    "    \"learning_rate\": 1e-7,\n",
    "    \"train_kwargs\": train_kwargs,\n",
    "}\n",
    "\n",
    "new_best_checkpoint = finetune( **finetune_kwargs )\n",
    "\n",
    "new_best_checkpoint = os.path.join( train_kwargs[\"checkpoint_path\"], new_best_checkpoint )\n"
   ]
  },
  {
   "cell_type": "code",
   "execution_count": 24,
   "metadata": {},
   "outputs": [
    {
     "name": "stderr",
     "output_type": "stream",
     "text": [
      "Seed set to 42\n",
      "GPU available: True (cuda), used: True\n",
      "TPU available: False, using: 0 TPU cores\n",
      "HPU available: False, using: 0 HPUs\n",
      "LOCAL_RANK: 0 - CUDA_VISIBLE_DEVICES: [0]\n"
     ]
    },
    {
     "data": {
      "application/vnd.jupyter.widget-view+json": {
       "model_id": "9b5b319cda244d109abd60c2e9939902",
       "version_major": 2,
       "version_minor": 0
      },
      "text/plain": [
       "Testing: |          | 0/? [00:00<?, ?it/s]"
      ]
     },
     "metadata": {},
     "output_type": "display_data"
    },
    {
     "data": {
      "text/html": [
       "<pre style=\"white-space:pre;overflow-x:auto;line-height:normal;font-family:Menlo,'DejaVu Sans Mono',consolas,'Courier New',monospace\">┏━━━━━━━━━━━━━━━━━━━━━━━━━━━┳━━━━━━━━━━━━━━━━━━━━━━━━━━━┓\n",
       "┃<span style=\"font-weight: bold\">        Test metric        </span>┃<span style=\"font-weight: bold\">       DataLoader 0        </span>┃\n",
       "┡━━━━━━━━━━━━━━━━━━━━━━━━━━━╇━━━━━━━━━━━━━━━━━━━━━━━━━━━┩\n",
       "│<span style=\"color: #008080; text-decoration-color: #008080\">         test_acc          </span>│<span style=\"color: #800080; text-decoration-color: #800080\">    0.7087806463241577     </span>│\n",
       "│<span style=\"color: #008080; text-decoration-color: #008080\">          test_ck          </span>│<span style=\"color: #800080; text-decoration-color: #800080\">    0.6214028000831604     </span>│\n",
       "│<span style=\"color: #008080; text-decoration-color: #008080\">          test_f1          </span>│<span style=\"color: #800080; text-decoration-color: #800080\">    0.7025613784790039     </span>│\n",
       "│<span style=\"color: #008080; text-decoration-color: #008080\">         test_loss         </span>│<span style=\"color: #800080; text-decoration-color: #800080\">    0.7353542447090149     </span>│\n",
       "│<span style=\"color: #008080; text-decoration-color: #008080\">         test_macc         </span>│<span style=\"color: #800080; text-decoration-color: #800080\">    0.6813777089118958     </span>│\n",
       "│<span style=\"color: #008080; text-decoration-color: #008080\">         test_mf1          </span>│<span style=\"color: #800080; text-decoration-color: #800080\">    0.6640945076942444     </span>│\n",
       "│<span style=\"color: #008080; text-decoration-color: #008080\">          test_pr          </span>│<span style=\"color: #800080; text-decoration-color: #800080\">    0.7089968919754028     </span>│\n",
       "│<span style=\"color: #008080; text-decoration-color: #008080\">          test_rc          </span>│<span style=\"color: #800080; text-decoration-color: #800080\">    0.7087806463241577     </span>│\n",
       "└───────────────────────────┴───────────────────────────┘\n",
       "</pre>\n"
      ],
      "text/plain": [
       "┏━━━━━━━━━━━━━━━━━━━━━━━━━━━┳━━━━━━━━━━━━━━━━━━━━━━━━━━━┓\n",
       "┃\u001b[1m \u001b[0m\u001b[1m       Test metric       \u001b[0m\u001b[1m \u001b[0m┃\u001b[1m \u001b[0m\u001b[1m      DataLoader 0       \u001b[0m\u001b[1m \u001b[0m┃\n",
       "┡━━━━━━━━━━━━━━━━━━━━━━━━━━━╇━━━━━━━━━━━━━━━━━━━━━━━━━━━┩\n",
       "│\u001b[36m \u001b[0m\u001b[36m        test_acc         \u001b[0m\u001b[36m \u001b[0m│\u001b[35m \u001b[0m\u001b[35m   0.7087806463241577    \u001b[0m\u001b[35m \u001b[0m│\n",
       "│\u001b[36m \u001b[0m\u001b[36m         test_ck         \u001b[0m\u001b[36m \u001b[0m│\u001b[35m \u001b[0m\u001b[35m   0.6214028000831604    \u001b[0m\u001b[35m \u001b[0m│\n",
       "│\u001b[36m \u001b[0m\u001b[36m         test_f1         \u001b[0m\u001b[36m \u001b[0m│\u001b[35m \u001b[0m\u001b[35m   0.7025613784790039    \u001b[0m\u001b[35m \u001b[0m│\n",
       "│\u001b[36m \u001b[0m\u001b[36m        test_loss        \u001b[0m\u001b[36m \u001b[0m│\u001b[35m \u001b[0m\u001b[35m   0.7353542447090149    \u001b[0m\u001b[35m \u001b[0m│\n",
       "│\u001b[36m \u001b[0m\u001b[36m        test_macc        \u001b[0m\u001b[36m \u001b[0m│\u001b[35m \u001b[0m\u001b[35m   0.6813777089118958    \u001b[0m\u001b[35m \u001b[0m│\n",
       "│\u001b[36m \u001b[0m\u001b[36m        test_mf1         \u001b[0m\u001b[36m \u001b[0m│\u001b[35m \u001b[0m\u001b[35m   0.6640945076942444    \u001b[0m\u001b[35m \u001b[0m│\n",
       "│\u001b[36m \u001b[0m\u001b[36m         test_pr         \u001b[0m\u001b[36m \u001b[0m│\u001b[35m \u001b[0m\u001b[35m   0.7089968919754028    \u001b[0m\u001b[35m \u001b[0m│\n",
       "│\u001b[36m \u001b[0m\u001b[36m         test_rc         \u001b[0m\u001b[36m \u001b[0m│\u001b[35m \u001b[0m\u001b[35m   0.7087806463241577    \u001b[0m\u001b[35m \u001b[0m│\n",
       "└───────────────────────────┴───────────────────────────┘\n"
      ]
     },
     "metadata": {},
     "output_type": "display_data"
    },
    {
     "name": "stderr",
     "output_type": "stream",
     "text": [
      "LOCAL_RANK: 0 - CUDA_VISIBLE_DEVICES: [0]\n"
     ]
    },
    {
     "data": {
      "application/vnd.jupyter.widget-view+json": {
       "model_id": "832995493d6e461d87d41d7bf6f1c711",
       "version_major": 2,
       "version_minor": 0
      },
      "text/plain": [
       "Testing: |          | 0/? [00:00<?, ?it/s]"
      ]
     },
     "metadata": {},
     "output_type": "display_data"
    },
    {
     "data": {
      "text/html": [
       "<pre style=\"white-space:pre;overflow-x:auto;line-height:normal;font-family:Menlo,'DejaVu Sans Mono',consolas,'Courier New',monospace\">┏━━━━━━━━━━━━━━━━━━━━━━━━━━━┳━━━━━━━━━━━━━━━━━━━━━━━━━━━┓\n",
       "┃<span style=\"font-weight: bold\">        Test metric        </span>┃<span style=\"font-weight: bold\">       DataLoader 0        </span>┃\n",
       "┡━━━━━━━━━━━━━━━━━━━━━━━━━━━╇━━━━━━━━━━━━━━━━━━━━━━━━━━━┩\n",
       "│<span style=\"color: #008080; text-decoration-color: #008080\">         test_acc          </span>│<span style=\"color: #800080; text-decoration-color: #800080\">    0.5887628793716431     </span>│\n",
       "│<span style=\"color: #008080; text-decoration-color: #008080\">          test_ck          </span>│<span style=\"color: #800080; text-decoration-color: #800080\">    0.4236217141151428     </span>│\n",
       "│<span style=\"color: #008080; text-decoration-color: #008080\">          test_f1          </span>│<span style=\"color: #800080; text-decoration-color: #800080\">    0.6168046593666077     </span>│\n",
       "│<span style=\"color: #008080; text-decoration-color: #008080\">         test_loss         </span>│<span style=\"color: #800080; text-decoration-color: #800080\">    1.4943362474441528     </span>│\n",
       "│<span style=\"color: #008080; text-decoration-color: #008080\">         test_macc         </span>│<span style=\"color: #800080; text-decoration-color: #800080\">     0.605950653553009     </span>│\n",
       "│<span style=\"color: #008080; text-decoration-color: #008080\">         test_mf1          </span>│<span style=\"color: #800080; text-decoration-color: #800080\">    0.5350980758666992     </span>│\n",
       "│<span style=\"color: #008080; text-decoration-color: #008080\">          test_pr          </span>│<span style=\"color: #800080; text-decoration-color: #800080\">    0.7684549689292908     </span>│\n",
       "│<span style=\"color: #008080; text-decoration-color: #008080\">          test_rc          </span>│<span style=\"color: #800080; text-decoration-color: #800080\">    0.5887628793716431     </span>│\n",
       "└───────────────────────────┴───────────────────────────┘\n",
       "</pre>\n"
      ],
      "text/plain": [
       "┏━━━━━━━━━━━━━━━━━━━━━━━━━━━┳━━━━━━━━━━━━━━━━━━━━━━━━━━━┓\n",
       "┃\u001b[1m \u001b[0m\u001b[1m       Test metric       \u001b[0m\u001b[1m \u001b[0m┃\u001b[1m \u001b[0m\u001b[1m      DataLoader 0       \u001b[0m\u001b[1m \u001b[0m┃\n",
       "┡━━━━━━━━━━━━━━━━━━━━━━━━━━━╇━━━━━━━━━━━━━━━━━━━━━━━━━━━┩\n",
       "│\u001b[36m \u001b[0m\u001b[36m        test_acc         \u001b[0m\u001b[36m \u001b[0m│\u001b[35m \u001b[0m\u001b[35m   0.5887628793716431    \u001b[0m\u001b[35m \u001b[0m│\n",
       "│\u001b[36m \u001b[0m\u001b[36m         test_ck         \u001b[0m\u001b[36m \u001b[0m│\u001b[35m \u001b[0m\u001b[35m   0.4236217141151428    \u001b[0m\u001b[35m \u001b[0m│\n",
       "│\u001b[36m \u001b[0m\u001b[36m         test_f1         \u001b[0m\u001b[36m \u001b[0m│\u001b[35m \u001b[0m\u001b[35m   0.6168046593666077    \u001b[0m\u001b[35m \u001b[0m│\n",
       "│\u001b[36m \u001b[0m\u001b[36m        test_loss        \u001b[0m\u001b[36m \u001b[0m│\u001b[35m \u001b[0m\u001b[35m   1.4943362474441528    \u001b[0m\u001b[35m \u001b[0m│\n",
       "│\u001b[36m \u001b[0m\u001b[36m        test_macc        \u001b[0m\u001b[36m \u001b[0m│\u001b[35m \u001b[0m\u001b[35m    0.605950653553009    \u001b[0m\u001b[35m \u001b[0m│\n",
       "│\u001b[36m \u001b[0m\u001b[36m        test_mf1         \u001b[0m\u001b[36m \u001b[0m│\u001b[35m \u001b[0m\u001b[35m   0.5350980758666992    \u001b[0m\u001b[35m \u001b[0m│\n",
       "│\u001b[36m \u001b[0m\u001b[36m         test_pr         \u001b[0m\u001b[36m \u001b[0m│\u001b[35m \u001b[0m\u001b[35m   0.7684549689292908    \u001b[0m\u001b[35m \u001b[0m│\n",
       "│\u001b[36m \u001b[0m\u001b[36m         test_rc         \u001b[0m\u001b[36m \u001b[0m│\u001b[35m \u001b[0m\u001b[35m   0.5887628793716431    \u001b[0m\u001b[35m \u001b[0m│\n",
       "└───────────────────────────┴───────────────────────────┘\n"
      ]
     },
     "metadata": {},
     "output_type": "display_data"
    },
    {
     "data": {
      "text/html": [
       "<div>\n",
       "<style scoped>\n",
       "    .dataframe tbody tr th:only-of-type {\n",
       "        vertical-align: middle;\n",
       "    }\n",
       "\n",
       "    .dataframe tbody tr th {\n",
       "        vertical-align: top;\n",
       "    }\n",
       "\n",
       "    .dataframe thead th {\n",
       "        text-align: right;\n",
       "    }\n",
       "</style>\n",
       "<table border=\"1\" class=\"dataframe\">\n",
       "  <thead>\n",
       "    <tr style=\"text-align: right;\">\n",
       "      <th></th>\n",
       "      <th>test_loss</th>\n",
       "      <th>test_acc</th>\n",
       "      <th>test_f1</th>\n",
       "      <th>test_ck</th>\n",
       "      <th>test_pr</th>\n",
       "      <th>test_rc</th>\n",
       "      <th>test_macc</th>\n",
       "      <th>test_mf1</th>\n",
       "      <th>dataset</th>\n",
       "      <th>fold</th>\n",
       "    </tr>\n",
       "  </thead>\n",
       "  <tbody>\n",
       "    <tr>\n",
       "      <th>0</th>\n",
       "      <td>0.735354</td>\n",
       "      <td>0.708781</td>\n",
       "      <td>0.702561</td>\n",
       "      <td>0.621403</td>\n",
       "      <td>0.708997</td>\n",
       "      <td>0.708781</td>\n",
       "      <td>0.681378</td>\n",
       "      <td>0.664095</td>\n",
       "      <td>hmc</td>\n",
       "      <td>-1</td>\n",
       "    </tr>\n",
       "    <tr>\n",
       "      <th>1</th>\n",
       "      <td>1.494336</td>\n",
       "      <td>0.588763</td>\n",
       "      <td>0.616805</td>\n",
       "      <td>0.423622</td>\n",
       "      <td>0.768455</td>\n",
       "      <td>0.588763</td>\n",
       "      <td>0.605951</td>\n",
       "      <td>0.535098</td>\n",
       "      <td>dcsm</td>\n",
       "      <td>-1</td>\n",
       "    </tr>\n",
       "  </tbody>\n",
       "</table>\n",
       "</div>"
      ],
      "text/plain": [
       "   test_loss  test_acc   test_f1   test_ck   test_pr   test_rc  test_macc  \\\n",
       "0   0.735354  0.708781  0.702561  0.621403  0.708997  0.708781   0.681378   \n",
       "1   1.494336  0.588763  0.616805  0.423622  0.768455  0.588763   0.605951   \n",
       "\n",
       "   test_mf1 dataset  fold  \n",
       "0  0.664095     hmc    -1  \n",
       "1  0.535098    dcsm    -1  "
      ]
     },
     "execution_count": 24,
     "metadata": {},
     "output_type": "execute_result"
    }
   ],
   "source": [
    "# now we can test the model on both the datasets\n",
    "\n",
    "test_kwargs[\"checkpoint_path\"] = new_best_checkpoint\n",
    "test_kwargs[\"results_path\"] = \"../models/basic_usage/finetuned/\"\n",
    "test_kwargs[\"datasets\"] = [\"hmc\", \"dcsm\"]\n",
    "test_kwargs[\"aggregate_datasets\"] = False # we want to have results for each dataset not for the aggregation of them\n",
    "\n",
    "finetuned_results = test( **test_kwargs )\n",
    "\n",
    "finetuned_results.head()\n"
   ]
  }
 ],
 "metadata": {
  "kernelspec": {
   "display_name": "Python 3 (ipykernel)",
   "language": "python",
   "name": "python3"
  },
  "language_info": {
   "codemirror_mode": {
    "name": "ipython",
    "version": 3
   },
   "file_extension": ".py",
   "mimetype": "text/x-python",
   "name": "python",
   "nbconvert_exporter": "python",
   "pygments_lexer": "ipython3",
   "version": "3.12.0"
  }
 },
 "nbformat": 4,
 "nbformat_minor": 2
}
