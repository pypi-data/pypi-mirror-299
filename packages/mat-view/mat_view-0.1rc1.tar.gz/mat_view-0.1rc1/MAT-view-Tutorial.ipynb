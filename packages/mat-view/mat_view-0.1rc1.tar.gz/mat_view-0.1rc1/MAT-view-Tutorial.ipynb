{
 "cells": [
  {
   "cell_type": "markdown",
   "metadata": {},
   "source": [
    "# MAT-view: Visualization Tools for Multiple Aspect Trajectory Data Mining \\[MAT-Tools Framework\\]\n",
    "\n",
    "Sample Code in python notebook to use mat-view as a **web application**.\n",
    "\n",
    "The present package offers a tool, to support the user in the task of visualizing multiple aspect trajectories and movelets. It integrates into a unique framework for multiple aspects trajectories and in general for multidimensional sequence data mining methods.\n",
    "\n",
    "Created on Apr, 2024\n",
    "Copyright (C) 2024, License GPL Version 3 or superior (see LICENSE file)"
   ]
  },
  {
   "cell_type": "code",
   "execution_count": null,
   "metadata": {
    "tags": []
   },
   "outputs": [],
   "source": [
    "!pip install mat-view"
   ]
  },
  {
   "cell_type": "markdown",
   "metadata": {
    "tags": []
   },
   "source": [
    "### 1. Running the Web-app\n",
    "\n",
    "Run the shell command `MAT-Web.py`, it is a script to start the Dash web app in Flask.\n",
    "\n",
    "The app will run at http://localhost:8050/"
   ]
  },
  {
   "cell_type": "code",
   "execution_count": null,
   "metadata": {
    "tags": []
   },
   "outputs": [],
   "source": [
    "!MAT-Web.py"
   ]
  },
  {
   "cell_type": "markdown",
   "metadata": {
    "tags": []
   },
   "source": [
    "### mat-view home screen:"
   ]
  },
  {
   "cell_type": "markdown",
   "metadata": {
    "jp-MarkdownHeadingCollapsed": true,
    "tags": []
   },
   "source": [
    "<img src=\"screens/home.png\" alt=\"mat-view home screen\" width=\"50%\"/>"
   ]
  },
  {
   "cell_type": "markdown",
   "metadata": {
    "tags": []
   },
   "source": [
    "### mat-view trajectories and movelets visualizattion:"
   ]
  },
  {
   "cell_type": "markdown",
   "metadata": {
    "jp-MarkdownHeadingCollapsed": true,
    "tags": []
   },
   "source": [
    "<img src=\"screens/view.png\" alt=\"trajectories and movelets visualizattion\" width=\"50%\"/>"
   ]
  },
  {
   "cell_type": "markdown",
   "metadata": {
    "tags": []
   },
   "source": [
    "### mat-view experimental scripting tool screen:"
   ]
  },
  {
   "cell_type": "markdown",
   "metadata": {
    "jp-MarkdownHeadingCollapsed": true,
    "tags": []
   },
   "source": [
    "<img src=\"screens/scripting.png\" alt=\"mat-view scripting screen\" width=\"50%\"/>"
   ]
  },
  {
   "cell_type": "markdown",
   "metadata": {
    "tags": []
   },
   "source": [
    "### mat-view results exploration screen:"
   ]
  },
  {
   "cell_type": "markdown",
   "metadata": {
    "jp-MarkdownHeadingCollapsed": true,
    "tags": []
   },
   "source": [
    "<img src=\"screens/results.png\" alt=\"mat-view results exploration screen\" width=\"50%\"/>"
   ]
  },
  {
   "cell_type": "markdown",
   "metadata": {
    "tags": []
   },
   "source": [
    "### 2. Using The Web Tools\n",
    "#### 2.1. Trajectories and Movelets Visualizattion Tools(TODO)"
   ]
  },
  {
   "cell_type": "code",
   "execution_count": null,
   "metadata": {},
   "outputs": [],
   "source": []
  },
  {
   "cell_type": "markdown",
   "metadata": {
    "tags": []
   },
   "source": [
    "### 3. Other python helpers"
   ]
  },
  {
   "cell_type": "code",
   "execution_count": null,
   "metadata": {},
   "outputs": [],
   "source": [
    "from matview.scripting.component._base import BaseMethod\n",
    "\n",
    "methods = BaseMethod.providedMethods()\n",
    "methods"
   ]
  },
  {
   "cell_type": "code",
   "execution_count": 4,
   "metadata": {
    "tags": []
   },
   "outputs": [
    {
     "name": "stdout",
     "output_type": "stream",
     "text": [
      "Listing Files ... found experiments for 1 datasets.\n"
     ]
    },
    {
     "data": {
      "application/vnd.jupyter.widget-view+json": {
       "model_id": "955d974ae07b486e97f9a09418e48db5",
       "version_major": 2,
       "version_minor": 0
      },
      "text/plain": [
       "Extracting Experiments - FoursquareNYC:   0%|          | 0/5 [00:00<?, ?it/s]"
      ]
     },
     "metadata": {},
     "output_type": "display_data"
    },
    {
     "data": {
      "application/vnd.jupyter.widget-view+json": {
       "model_id": "f860942455c54774b090ee87851329ed",
       "version_major": 2,
       "version_minor": 0
      },
      "text/plain": [
       "Reading Metrics - FoursquareNYC:   0%|          | 0/400 [00:00<?, ?it/s]"
      ]
     },
     "metadata": {},
     "output_type": "display_data"
    },
    {
     "data": {
      "text/html": [
       "<div>\n",
       "<style scoped>\n",
       "    .dataframe tbody tr th:only-of-type {\n",
       "        vertical-align: middle;\n",
       "    }\n",
       "\n",
       "    .dataframe tbody tr th {\n",
       "        vertical-align: top;\n",
       "    }\n",
       "\n",
       "    .dataframe thead th {\n",
       "        text-align: right;\n",
       "    }\n",
       "</style>\n",
       "<table border=\"1\" class=\"dataframe\">\n",
       "  <thead>\n",
       "    <tr style=\"text-align: right;\">\n",
       "      <th></th>\n",
       "      <th>#</th>\n",
       "      <th>timestamp</th>\n",
       "      <th>dataset</th>\n",
       "      <th>subset</th>\n",
       "      <th>run</th>\n",
       "      <th>subsubset</th>\n",
       "      <th>random</th>\n",
       "      <th>method</th>\n",
       "      <th>model</th>\n",
       "      <th>metric:accuracy</th>\n",
       "      <th>...</th>\n",
       "      <th>metric:avgTrajSize</th>\n",
       "      <th>file</th>\n",
       "      <th>metric:maxFeatures</th>\n",
       "      <th>metric:minFeatures</th>\n",
       "      <th>metric:scored</th>\n",
       "      <th>metric:trajectoriesCompared</th>\n",
       "      <th>metric:trajectoriesPruned</th>\n",
       "      <th>metric:cls_time</th>\n",
       "      <th>name</th>\n",
       "      <th>key</th>\n",
       "    </tr>\n",
       "  </thead>\n",
       "  <tbody>\n",
       "    <tr>\n",
       "      <th>0</th>\n",
       "      <td>0</td>\n",
       "      <td>2024-06-14 23:28:06.513803</td>\n",
       "      <td>FoursquareNYC</td>\n",
       "      <td>specific</td>\n",
       "      <td>1</td>\n",
       "      <td>space</td>\n",
       "      <td>1</td>\n",
       "      <td>Bituler</td>\n",
       "      <td>-</td>\n",
       "      <td>0.964286</td>\n",
       "      <td>...</td>\n",
       "      <td>NaN</td>\n",
       "      <td>/Users/tarlisportela/Downloads/sample/results/...</td>\n",
       "      <td>NaN</td>\n",
       "      <td>NaN</td>\n",
       "      <td>NaN</td>\n",
       "      <td>NaN</td>\n",
       "      <td>NaN</td>\n",
       "      <td>NaN</td>\n",
       "      <td>Bituler--</td>\n",
       "      <td>FoursquareNYC-specific-1</td>\n",
       "    </tr>\n",
       "    <tr>\n",
       "      <th>1</th>\n",
       "      <td>1</td>\n",
       "      <td>2024-06-14 23:29:34.030449</td>\n",
       "      <td>FoursquareNYC</td>\n",
       "      <td>specific</td>\n",
       "      <td>1</td>\n",
       "      <td>poi</td>\n",
       "      <td>1</td>\n",
       "      <td>Bituler</td>\n",
       "      <td>-</td>\n",
       "      <td>1.000000</td>\n",
       "      <td>...</td>\n",
       "      <td>NaN</td>\n",
       "      <td>/Users/tarlisportela/Downloads/sample/results/...</td>\n",
       "      <td>NaN</td>\n",
       "      <td>NaN</td>\n",
       "      <td>NaN</td>\n",
       "      <td>NaN</td>\n",
       "      <td>NaN</td>\n",
       "      <td>NaN</td>\n",
       "      <td>Bituler--</td>\n",
       "      <td>FoursquareNYC-specific-1</td>\n",
       "    </tr>\n",
       "    <tr>\n",
       "      <th>2</th>\n",
       "      <td>2</td>\n",
       "      <td>2024-06-14 23:26:02.308699</td>\n",
       "      <td>FoursquareNYC</td>\n",
       "      <td>specific</td>\n",
       "      <td>1</td>\n",
       "      <td>specific</td>\n",
       "      <td>1</td>\n",
       "      <td>DeepeST</td>\n",
       "      <td>-</td>\n",
       "      <td>0.964286</td>\n",
       "      <td>...</td>\n",
       "      <td>NaN</td>\n",
       "      <td>/Users/tarlisportela/Downloads/sample/results/...</td>\n",
       "      <td>NaN</td>\n",
       "      <td>NaN</td>\n",
       "      <td>NaN</td>\n",
       "      <td>NaN</td>\n",
       "      <td>NaN</td>\n",
       "      <td>NaN</td>\n",
       "      <td>DeepeST--</td>\n",
       "      <td>FoursquareNYC-specific-1</td>\n",
       "    </tr>\n",
       "    <tr>\n",
       "      <th>3</th>\n",
       "      <td>3</td>\n",
       "      <td>2024-06-15 14:48:03.114900</td>\n",
       "      <td>FoursquareNYC</td>\n",
       "      <td>specific</td>\n",
       "      <td>1</td>\n",
       "      <td>specific</td>\n",
       "      <td>1</td>\n",
       "      <td>Dodge</td>\n",
       "      <td>NN</td>\n",
       "      <td>0.714286</td>\n",
       "      <td>...</td>\n",
       "      <td>NaN</td>\n",
       "      <td>/Users/tarlisportela/Downloads/sample/results/...</td>\n",
       "      <td>NaN</td>\n",
       "      <td>NaN</td>\n",
       "      <td>NaN</td>\n",
       "      <td>NaN</td>\n",
       "      <td>NaN</td>\n",
       "      <td>NaN</td>\n",
       "      <td>Dodge-NN</td>\n",
       "      <td>FoursquareNYC-specific-1</td>\n",
       "    </tr>\n",
       "    <tr>\n",
       "      <th>4</th>\n",
       "      <td>4</td>\n",
       "      <td>2024-06-15 14:48:03.109155</td>\n",
       "      <td>FoursquareNYC</td>\n",
       "      <td>specific</td>\n",
       "      <td>1</td>\n",
       "      <td>specific</td>\n",
       "      <td>1</td>\n",
       "      <td>Dodge</td>\n",
       "      <td>RF</td>\n",
       "      <td>0.535714</td>\n",
       "      <td>...</td>\n",
       "      <td>NaN</td>\n",
       "      <td>/Users/tarlisportela/Downloads/sample/results/...</td>\n",
       "      <td>NaN</td>\n",
       "      <td>NaN</td>\n",
       "      <td>NaN</td>\n",
       "      <td>NaN</td>\n",
       "      <td>NaN</td>\n",
       "      <td>NaN</td>\n",
       "      <td>Dodge-RF</td>\n",
       "      <td>FoursquareNYC-specific-1</td>\n",
       "    </tr>\n",
       "    <tr>\n",
       "      <th>...</th>\n",
       "      <td>...</td>\n",
       "      <td>...</td>\n",
       "      <td>...</td>\n",
       "      <td>...</td>\n",
       "      <td>...</td>\n",
       "      <td>...</td>\n",
       "      <td>...</td>\n",
       "      <td>...</td>\n",
       "      <td>...</td>\n",
       "      <td>...</td>\n",
       "      <td>...</td>\n",
       "      <td>...</td>\n",
       "      <td>...</td>\n",
       "      <td>...</td>\n",
       "      <td>...</td>\n",
       "      <td>...</td>\n",
       "      <td>...</td>\n",
       "      <td>...</td>\n",
       "      <td>...</td>\n",
       "      <td>...</td>\n",
       "      <td>...</td>\n",
       "    </tr>\n",
       "    <tr>\n",
       "      <th>395</th>\n",
       "      <td>395</td>\n",
       "      <td>2024-06-15 14:47:55.740975</td>\n",
       "      <td>FoursquareNYC</td>\n",
       "      <td>specific</td>\n",
       "      <td>5</td>\n",
       "      <td>specific</td>\n",
       "      <td>1</td>\n",
       "      <td>Xiao</td>\n",
       "      <td>RF</td>\n",
       "      <td>0.642857</td>\n",
       "      <td>...</td>\n",
       "      <td>NaN</td>\n",
       "      <td>/Users/tarlisportela/Downloads/sample/results/...</td>\n",
       "      <td>NaN</td>\n",
       "      <td>NaN</td>\n",
       "      <td>NaN</td>\n",
       "      <td>NaN</td>\n",
       "      <td>NaN</td>\n",
       "      <td>NaN</td>\n",
       "      <td>Xiao-RF</td>\n",
       "      <td>FoursquareNYC-specific-5</td>\n",
       "    </tr>\n",
       "    <tr>\n",
       "      <th>396</th>\n",
       "      <td>396</td>\n",
       "      <td>2024-06-15 14:47:55.751630</td>\n",
       "      <td>FoursquareNYC</td>\n",
       "      <td>specific</td>\n",
       "      <td>5</td>\n",
       "      <td>specific</td>\n",
       "      <td>1</td>\n",
       "      <td>Xiao</td>\n",
       "      <td>SVM</td>\n",
       "      <td>0.642857</td>\n",
       "      <td>...</td>\n",
       "      <td>NaN</td>\n",
       "      <td>/Users/tarlisportela/Downloads/sample/results/...</td>\n",
       "      <td>NaN</td>\n",
       "      <td>NaN</td>\n",
       "      <td>NaN</td>\n",
       "      <td>NaN</td>\n",
       "      <td>NaN</td>\n",
       "      <td>NaN</td>\n",
       "      <td>Xiao-SVM</td>\n",
       "      <td>FoursquareNYC-specific-5</td>\n",
       "    </tr>\n",
       "    <tr>\n",
       "      <th>397</th>\n",
       "      <td>397</td>\n",
       "      <td>2024-06-15 14:47:57.693879</td>\n",
       "      <td>FoursquareNYC</td>\n",
       "      <td>specific</td>\n",
       "      <td>5</td>\n",
       "      <td>specific</td>\n",
       "      <td>1</td>\n",
       "      <td>Zheng</td>\n",
       "      <td>NN</td>\n",
       "      <td>0.678571</td>\n",
       "      <td>...</td>\n",
       "      <td>NaN</td>\n",
       "      <td>/Users/tarlisportela/Downloads/sample/results/...</td>\n",
       "      <td>NaN</td>\n",
       "      <td>NaN</td>\n",
       "      <td>NaN</td>\n",
       "      <td>NaN</td>\n",
       "      <td>NaN</td>\n",
       "      <td>NaN</td>\n",
       "      <td>Zheng-NN</td>\n",
       "      <td>FoursquareNYC-specific-5</td>\n",
       "    </tr>\n",
       "    <tr>\n",
       "      <th>398</th>\n",
       "      <td>398</td>\n",
       "      <td>2024-06-15 14:47:57.688417</td>\n",
       "      <td>FoursquareNYC</td>\n",
       "      <td>specific</td>\n",
       "      <td>5</td>\n",
       "      <td>specific</td>\n",
       "      <td>1</td>\n",
       "      <td>Zheng</td>\n",
       "      <td>RF</td>\n",
       "      <td>0.821429</td>\n",
       "      <td>...</td>\n",
       "      <td>NaN</td>\n",
       "      <td>/Users/tarlisportela/Downloads/sample/results/...</td>\n",
       "      <td>NaN</td>\n",
       "      <td>NaN</td>\n",
       "      <td>NaN</td>\n",
       "      <td>NaN</td>\n",
       "      <td>NaN</td>\n",
       "      <td>NaN</td>\n",
       "      <td>Zheng-RF</td>\n",
       "      <td>FoursquareNYC-specific-5</td>\n",
       "    </tr>\n",
       "    <tr>\n",
       "      <th>399</th>\n",
       "      <td>399</td>\n",
       "      <td>2024-06-15 14:47:57.699285</td>\n",
       "      <td>FoursquareNYC</td>\n",
       "      <td>specific</td>\n",
       "      <td>5</td>\n",
       "      <td>specific</td>\n",
       "      <td>1</td>\n",
       "      <td>Zheng</td>\n",
       "      <td>SVM</td>\n",
       "      <td>0.642857</td>\n",
       "      <td>...</td>\n",
       "      <td>NaN</td>\n",
       "      <td>/Users/tarlisportela/Downloads/sample/results/...</td>\n",
       "      <td>NaN</td>\n",
       "      <td>NaN</td>\n",
       "      <td>NaN</td>\n",
       "      <td>NaN</td>\n",
       "      <td>NaN</td>\n",
       "      <td>NaN</td>\n",
       "      <td>Zheng-SVM</td>\n",
       "      <td>FoursquareNYC-specific-5</td>\n",
       "    </tr>\n",
       "  </tbody>\n",
       "</table>\n",
       "<p>400 rows × 35 columns</p>\n",
       "</div>"
      ],
      "text/plain": [
       "       #                  timestamp        dataset    subset  run subsubset  \\\n",
       "0      0 2024-06-14 23:28:06.513803  FoursquareNYC  specific    1     space   \n",
       "1      1 2024-06-14 23:29:34.030449  FoursquareNYC  specific    1       poi   \n",
       "2      2 2024-06-14 23:26:02.308699  FoursquareNYC  specific    1  specific   \n",
       "3      3 2024-06-15 14:48:03.114900  FoursquareNYC  specific    1  specific   \n",
       "4      4 2024-06-15 14:48:03.109155  FoursquareNYC  specific    1  specific   \n",
       "..   ...                        ...            ...       ...  ...       ...   \n",
       "395  395 2024-06-15 14:47:55.740975  FoursquareNYC  specific    5  specific   \n",
       "396  396 2024-06-15 14:47:55.751630  FoursquareNYC  specific    5  specific   \n",
       "397  397 2024-06-15 14:47:57.693879  FoursquareNYC  specific    5  specific   \n",
       "398  398 2024-06-15 14:47:57.688417  FoursquareNYC  specific    5  specific   \n",
       "399  399 2024-06-15 14:47:57.699285  FoursquareNYC  specific    5  specific   \n",
       "\n",
       "     random   method model  metric:accuracy  ...  metric:avgTrajSize  \\\n",
       "0         1  Bituler     -         0.964286  ...                 NaN   \n",
       "1         1  Bituler     -         1.000000  ...                 NaN   \n",
       "2         1  DeepeST     -         0.964286  ...                 NaN   \n",
       "3         1    Dodge    NN         0.714286  ...                 NaN   \n",
       "4         1    Dodge    RF         0.535714  ...                 NaN   \n",
       "..      ...      ...   ...              ...  ...                 ...   \n",
       "395       1     Xiao    RF         0.642857  ...                 NaN   \n",
       "396       1     Xiao   SVM         0.642857  ...                 NaN   \n",
       "397       1    Zheng    NN         0.678571  ...                 NaN   \n",
       "398       1    Zheng    RF         0.821429  ...                 NaN   \n",
       "399       1    Zheng   SVM         0.642857  ...                 NaN   \n",
       "\n",
       "                                                  file  metric:maxFeatures  \\\n",
       "0    /Users/tarlisportela/Downloads/sample/results/...                 NaN   \n",
       "1    /Users/tarlisportela/Downloads/sample/results/...                 NaN   \n",
       "2    /Users/tarlisportela/Downloads/sample/results/...                 NaN   \n",
       "3    /Users/tarlisportela/Downloads/sample/results/...                 NaN   \n",
       "4    /Users/tarlisportela/Downloads/sample/results/...                 NaN   \n",
       "..                                                 ...                 ...   \n",
       "395  /Users/tarlisportela/Downloads/sample/results/...                 NaN   \n",
       "396  /Users/tarlisportela/Downloads/sample/results/...                 NaN   \n",
       "397  /Users/tarlisportela/Downloads/sample/results/...                 NaN   \n",
       "398  /Users/tarlisportela/Downloads/sample/results/...                 NaN   \n",
       "399  /Users/tarlisportela/Downloads/sample/results/...                 NaN   \n",
       "\n",
       "     metric:minFeatures  metric:scored  metric:trajectoriesCompared  \\\n",
       "0                   NaN            NaN                          NaN   \n",
       "1                   NaN            NaN                          NaN   \n",
       "2                   NaN            NaN                          NaN   \n",
       "3                   NaN            NaN                          NaN   \n",
       "4                   NaN            NaN                          NaN   \n",
       "..                  ...            ...                          ...   \n",
       "395                 NaN            NaN                          NaN   \n",
       "396                 NaN            NaN                          NaN   \n",
       "397                 NaN            NaN                          NaN   \n",
       "398                 NaN            NaN                          NaN   \n",
       "399                 NaN            NaN                          NaN   \n",
       "\n",
       "     metric:trajectoriesPruned  metric:cls_time       name  \\\n",
       "0                          NaN              NaN  Bituler--   \n",
       "1                          NaN              NaN  Bituler--   \n",
       "2                          NaN              NaN  DeepeST--   \n",
       "3                          NaN              NaN   Dodge-NN   \n",
       "4                          NaN              NaN   Dodge-RF   \n",
       "..                         ...              ...        ...   \n",
       "395                        NaN              NaN    Xiao-RF   \n",
       "396                        NaN              NaN   Xiao-SVM   \n",
       "397                        NaN              NaN   Zheng-NN   \n",
       "398                        NaN              NaN   Zheng-RF   \n",
       "399                        NaN              NaN  Zheng-SVM   \n",
       "\n",
       "                          key  \n",
       "0    FoursquareNYC-specific-1  \n",
       "1    FoursquareNYC-specific-1  \n",
       "2    FoursquareNYC-specific-1  \n",
       "3    FoursquareNYC-specific-1  \n",
       "4    FoursquareNYC-specific-1  \n",
       "..                        ...  \n",
       "395  FoursquareNYC-specific-5  \n",
       "396  FoursquareNYC-specific-5  \n",
       "397  FoursquareNYC-specific-5  \n",
       "398  FoursquareNYC-specific-5  \n",
       "399  FoursquareNYC-specific-5  \n",
       "\n",
       "[400 rows x 35 columns]"
      ]
     },
     "execution_count": 4,
     "metadata": {},
     "output_type": "execute_result"
    }
   ],
   "source": [
    "from matview.scripting.result import history\n",
    "respath = '/Users/tarlisportela/Downloads/sample/results'\n",
    "\n",
    "histres = history(respath)\n",
    "histres.to_csv('history.csv')\n",
    "histres"
   ]
  },
  {
   "cell_type": "markdown",
   "metadata": {},
   "source": [
    "#\n",
    "---"
   ]
  },
  {
   "cell_type": "markdown",
   "metadata": {},
   "source": [
    "\\# By Tarlis Portela (2023)"
   ]
  }
 ],
 "metadata": {
  "kernelspec": {
   "display_name": "Python 3 (ipykernel)",
   "language": "python",
   "name": "python3"
  },
  "language_info": {
   "codemirror_mode": {
    "name": "ipython",
    "version": 3
   },
   "file_extension": ".py",
   "mimetype": "text/x-python",
   "name": "python",
   "nbconvert_exporter": "python",
   "pygments_lexer": "ipython3",
   "version": "3.9.13"
  }
 },
 "nbformat": 4,
 "nbformat_minor": 4
}
