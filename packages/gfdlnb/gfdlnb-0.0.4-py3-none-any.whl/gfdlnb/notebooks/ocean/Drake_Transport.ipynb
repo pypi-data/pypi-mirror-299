{
 "cells": [
  {
   "cell_type": "markdown",
   "metadata": {
    "editable": true,
    "slideshow": {
     "slide_type": ""
    },
    "tags": []
   },
   "source": [
    "# Drake Passsage Transport\n",
    "\n",
    "<i>From Stephen Griffies -- CM4X Development<br>https://github.com/StephenGriffies/CM4X</i>\n",
    "\n",
    "This notebook plots the eastward transport through the Drake Passage."
   ]
  },
  {
   "cell_type": "markdown",
   "metadata": {},
   "source": [
    "### MAR Configuration"
   ]
  },
  {
   "cell_type": "code",
   "execution_count": 1,
   "metadata": {},
   "outputs": [
    {
     "name": "stdout",
     "output_type": "stream",
     "text": [
      "numpy version  :  1.26.4\n",
      "pandas version :  2.2.2\n",
      "xarray version :  2024.5.0\n"
     ]
    }
   ],
   "source": [
    "import os\n",
    "import datetime\n",
    "import doralite\n",
    "import xarray as xr\n",
    "import matplotlib.pyplot as plt\n",
    "import numpy as np\n",
    "import pandas as pd\n",
    "import doralite\n",
    "import glob\n",
    "import subprocess\n",
    "import momlevel\n",
    "import itertools\n",
    "\n",
    "from datetime import timedelta\n",
    "\n",
    "print(\"numpy version  : \", np.__version__)\n",
    "print(\"pandas version : \", pd.__version__)\n",
    "print(\"xarray version : \", xr.__version__)\n",
    "\n",
    "config = {\n",
    "    \"startyr\": \"1958\",\n",
    "    \"endyr\": \"2022\",\n",
    "    \"dora_id\": \"odiv-384\",\n",
    "    \"pathPP\": \"\",\n",
    "}\n",
    "\n",
    "for k, v in config.items():\n",
    "    config[k] = (\n",
    "        os.environ[f\"MAR_{k.upper()}\"]\n",
    "        if f\"MAR_{k.upper()}\" in os.environ.keys()\n",
    "        else v\n",
    "    )"
   ]
  },
  {
   "cell_type": "markdown",
   "metadata": {},
   "source": [
    "MAR will pass for environment variables to the script when running via the web engine:\n",
    "\n",
    "* `MAR_STARTYR`: Beginning year of analysis from model\n",
    "* `MAR_ENDYR`: Ending year of analysis from model\n",
    "* `MAR_DORA_ID`: The experiment ID in the database\n",
    "* `MAR_PATHPP`: The top-level path to the post-processing experiment directory of the experiment\n",
    "\n",
    "The block below will use values passed in by Dora but default to the values defined above in `config`. This is useful for interactive usage and debugging.\n",
    "\n",
    "If executed from Dora, there will also be a `DORA_EXECUTE` variable that is set."
   ]
  },
  {
   "cell_type": "code",
   "execution_count": 2,
   "metadata": {},
   "outputs": [
    {
     "name": "stdout",
     "output_type": "stream",
     "text": [
      "1958 2022\n"
     ]
    }
   ],
   "source": [
    "# Define some local variables. These are taken from the doralite object\n",
    "# or they can be defined locally\n",
    "\n",
    "# 1. List of all experiments to consider\n",
    "experiments = [doralite.dora_metadata(x) for x in config[\"dora_id\"].split(\",\")]\n",
    "\n",
    "# Define start and end years\n",
    "start = int(config[\"startyr\"])\n",
    "end = int(config[\"endyr\"])\n",
    "\n",
    "print(start,end)"
   ]
  },
  {
   "cell_type": "markdown",
   "metadata": {},
   "source": [
    "### Load Files"
   ]
  },
  {
   "cell_type": "code",
   "execution_count": 3,
   "metadata": {},
   "outputs": [],
   "source": [
    "def is_in_range(file,start,end):\n",
    "    start = int(start)\n",
    "    end = int(end)\n",
    "    target = set(list(range(start,end+1)))\n",
    "    fname = os.path.basename(file)\n",
    "    times = fname.split(\".\")[1]\n",
    "    times = times.split(\"-\")\n",
    "    times = [int(x[0:4]) for x in times]\n",
    "    candidate = set(list(range(times[0],times[1]+1)))\n",
    "    return len(candidate.intersection(target)) > 0"
   ]
  },
  {
   "cell_type": "code",
   "execution_count": 4,
   "metadata": {},
   "outputs": [],
   "source": [
    "datafiles = []\n",
    "staticfiles = []\n",
    "\n",
    "for experiment in experiments:\n",
    "    _pathPP = experiment[\"pathPP\"]\n",
    "    \n",
    "    component = \"ocean_Drake_Passage\"\n",
    "    static = f\"{component}/{component}.static.nc\"\n",
    "    varname = \"umo\"\n",
    "    \n",
    "    chunk = \"5yr\"\n",
    "    filelist = sorted(glob.glob(f\"{_pathPP}{component}/ts/monthly/{chunk}/{component}.*.{varname}.nc\"))\n",
    "    \n",
    "    filelist = [x for x in filelist if is_in_range(x,start,end)]\n",
    "    _staticfile = f\"{_pathPP}/{static}\"\n",
    "    \n",
    "    staticfiles.append(_staticfile)\n",
    "    datafiles.append(filelist)"
   ]
  },
  {
   "cell_type": "code",
   "execution_count": 5,
   "metadata": {
    "editable": true,
    "slideshow": {
     "slide_type": ""
    },
    "tags": []
   },
   "outputs": [
    {
     "name": "stdout",
     "output_type": "stream",
     "text": [
      "/archive/Brandon.Reichl/fre_om5/FMS2023.01_om5_20240508/om5_b04_fixICbug/gfdl.ncrc5-intel23-prod/pp//ocean_Drake_Passage/ocean_Drake_Passage.static.nc\n",
      "/archive/Brandon.Reichl/fre_om5/FMS2023.01_om5_20240508/om5_b04_fixICbug/gfdl.ncrc5-intel23-prod/pp/ocean_Drake_Passage/ts/monthly/5yr/ocean_Drake_Passage.195801-196212.umo.nc\n",
      "/archive/Brandon.Reichl/fre_om5/FMS2023.01_om5_20240508/om5_b04_fixICbug/gfdl.ncrc5-intel23-prod/pp/ocean_Drake_Passage/ts/monthly/5yr/ocean_Drake_Passage.196301-196712.umo.nc\n",
      "/archive/Brandon.Reichl/fre_om5/FMS2023.01_om5_20240508/om5_b04_fixICbug/gfdl.ncrc5-intel23-prod/pp/ocean_Drake_Passage/ts/monthly/5yr/ocean_Drake_Passage.196801-197212.umo.nc\n",
      "/archive/Brandon.Reichl/fre_om5/FMS2023.01_om5_20240508/om5_b04_fixICbug/gfdl.ncrc5-intel23-prod/pp/ocean_Drake_Passage/ts/monthly/5yr/ocean_Drake_Passage.197301-197712.umo.nc\n",
      "/archive/Brandon.Reichl/fre_om5/FMS2023.01_om5_20240508/om5_b04_fixICbug/gfdl.ncrc5-intel23-prod/pp/ocean_Drake_Passage/ts/monthly/5yr/ocean_Drake_Passage.197801-198212.umo.nc\n",
      "/archive/Brandon.Reichl/fre_om5/FMS2023.01_om5_20240508/om5_b04_fixICbug/gfdl.ncrc5-intel23-prod/pp/ocean_Drake_Passage/ts/monthly/5yr/ocean_Drake_Passage.198301-198712.umo.nc\n",
      "/archive/Brandon.Reichl/fre_om5/FMS2023.01_om5_20240508/om5_b04_fixICbug/gfdl.ncrc5-intel23-prod/pp/ocean_Drake_Passage/ts/monthly/5yr/ocean_Drake_Passage.198801-199212.umo.nc\n",
      "/archive/Brandon.Reichl/fre_om5/FMS2023.01_om5_20240508/om5_b04_fixICbug/gfdl.ncrc5-intel23-prod/pp/ocean_Drake_Passage/ts/monthly/5yr/ocean_Drake_Passage.199301-199712.umo.nc\n",
      "/archive/Brandon.Reichl/fre_om5/FMS2023.01_om5_20240508/om5_b04_fixICbug/gfdl.ncrc5-intel23-prod/pp/ocean_Drake_Passage/ts/monthly/5yr/ocean_Drake_Passage.199801-200212.umo.nc\n",
      "/archive/Brandon.Reichl/fre_om5/FMS2023.01_om5_20240508/om5_b04_fixICbug/gfdl.ncrc5-intel23-prod/pp/ocean_Drake_Passage/ts/monthly/5yr/ocean_Drake_Passage.200301-200712.umo.nc\n",
      "/archive/Brandon.Reichl/fre_om5/FMS2023.01_om5_20240508/om5_b04_fixICbug/gfdl.ncrc5-intel23-prod/pp/ocean_Drake_Passage/ts/monthly/5yr/ocean_Drake_Passage.200801-201212.umo.nc\n",
      "/archive/Brandon.Reichl/fre_om5/FMS2023.01_om5_20240508/om5_b04_fixICbug/gfdl.ncrc5-intel23-prod/pp/ocean_Drake_Passage/ts/monthly/5yr/ocean_Drake_Passage.201301-201712.umo.nc\n",
      "/archive/Brandon.Reichl/fre_om5/FMS2023.01_om5_20240508/om5_b04_fixICbug/gfdl.ncrc5-intel23-prod/pp/ocean_Drake_Passage/ts/monthly/5yr/ocean_Drake_Passage.201801-202212.umo.nc\n"
     ]
    }
   ],
   "source": [
    "allfiles = sorted(list(itertools.chain(*datafiles)) + staticfiles)\n",
    "_ = [print(x) for x in allfiles]"
   ]
  },
  {
   "cell_type": "code",
   "execution_count": null,
   "metadata": {
    "editable": true,
    "slideshow": {
     "slide_type": ""
    },
    "tags": [
     "stop_here"
    ]
   },
   "outputs": [
    {
     "name": "stdout",
     "output_type": "stream",
     "text": [
      "Calling dmget on files ...\n"
     ]
    }
   ],
   "source": [
    "if not \"DORA_EXECUTE\" in os.environ.keys():\n",
    "    print(\"Calling dmget on files ...\")\n",
    "    cmd = [\"dmget\"]+allfiles\n",
    "    _ = subprocess.check_output(cmd)"
   ]
  },
  {
   "cell_type": "markdown",
   "metadata": {},
   "source": [
    "### Calculations and Plots from CM4X Notebook"
   ]
  },
  {
   "cell_type": "code",
   "execution_count": null,
   "metadata": {},
   "outputs": [],
   "source": [
    "# Open dataset\n",
    "ds = xr.open_mfdataset(filelist, use_cftime=True)\n",
    "\n",
    "# Sum transport and convert to Sv\n",
    "umo = ds['umo'].sum(dim=['yh_sub02','z_l'])/1e9\n",
    "\n",
    "# Drop singleton dimension\n",
    "umo = umo.squeeze()\n",
    "\n",
    "# Compute the time mean, taking into account the number of days in a month\n",
    "# (momlevel utility appropriately handles gregorian and noleap calendars)\n",
    "umo = momlevel.util.annual_average(umo)"
   ]
  },
  {
   "cell_type": "code",
   "execution_count": null,
   "metadata": {},
   "outputs": [],
   "source": [
    "fig, axis = plt.subplots(ncols=1, nrows=1, figsize=(8,4), dpi=100)\n",
    "\n",
    "for n,exp in enumerate(experiments):\n",
    "\n",
    "    expName = exp[\"expName\"]\n",
    "    \n",
    "    # Open dataset\n",
    "    ds = xr.open_mfdataset(datafiles[n], use_cftime=True)  \n",
    "    # Sum transport and convert to Sv\n",
    "    umo = ds['umo'].sum(dim=['yh_sub02','z_l'])/1e9\n",
    "    # Drop singleton dimension\n",
    "    umo = umo.squeeze()\n",
    "    # Compute the time mean, taking into account the number of days in a month\n",
    "    # (momlevel utility appropriately handles gregorian and noleap calendars)\n",
    "    umo = momlevel.util.annual_average(umo)\n",
    "\n",
    "    umo.plot.line(ax=axis, label=expName,linestyle='solid', linewidth=1.5)\n",
    "    \n",
    "axis.legend(loc='lower center',fontsize=10)\n",
    "axis.set_ylim([115,175])\n",
    "axis.set_ylabel('Sv ($10^{9}$kg/s)', fontsize=12)\n",
    "axis.set_xlabel('year', fontsize=12)\n",
    "axis.grid(linewidth=1, linestyle=\"dotted\")\n",
    "\n",
    "axis.set_title('Drake Passage Eastward Mass Transport (Sv)', fontsize=14)\n"
   ]
  }
 ],
 "metadata": {
  "kernelspec": {
   "display_name": "Python 3 (ipykernel)",
   "language": "python",
   "name": "python3"
  },
  "language_info": {
   "codemirror_mode": {
    "name": "ipython",
    "version": 3
   },
   "file_extension": ".py",
   "mimetype": "text/x-python",
   "name": "python",
   "nbconvert_exporter": "python",
   "pygments_lexer": "ipython3",
   "version": "3.11.6"
  }
 },
 "nbformat": 4,
 "nbformat_minor": 4
}
