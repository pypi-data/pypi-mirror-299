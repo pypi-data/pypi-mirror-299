{
 "cells": [
  {
   "cell_type": "markdown",
   "metadata": {
    "editable": true,
    "slideshow": {
     "slide_type": ""
    },
    "tags": []
   },
   "source": [
    "# ENSO Region Variability\n",
    "\n",
    "This notebook plots basic ENSO variability."
   ]
  },
  {
   "cell_type": "markdown",
   "metadata": {},
   "source": [
    "### MAR Configuration"
   ]
  },
  {
   "cell_type": "code",
   "execution_count": 11,
   "metadata": {
    "editable": true,
    "slideshow": {
     "slide_type": ""
    },
    "tags": []
   },
   "outputs": [
    {
     "name": "stdout",
     "output_type": "stream",
     "text": [
      "numpy version  :  1.23.5\n",
      "pandas version :  2.1.1\n",
      "xarray version :  2023.10.1\n"
     ]
    }
   ],
   "source": [
    "import os\n",
    "import datetime\n",
    "import doralite\n",
    "import xarray as xr\n",
    "import matplotlib.pyplot as plt\n",
    "import numpy as np\n",
    "import pandas as pd\n",
    "import doralite\n",
    "import glob\n",
    "import subprocess\n",
    "import momlevel\n",
    "import itertools\n",
    "import xwavelet as xw\n",
    "import momgrid as mg\n",
    "\n",
    "from datetime import timedelta\n",
    "\n",
    "print(\"numpy version  : \", np.__version__)\n",
    "print(\"pandas version : \", pd.__version__)\n",
    "print(\"xarray version : \", xr.__version__)\n",
    "\n",
    "config = {\n",
    "    \"startyr\": \"1\",\n",
    "    \"endyr\": \"60\",\n",
    "    \"dora_id\": \"odiv-413\",\n",
    "    \"pathPP\": \"\",\n",
    "}\n",
    "\n",
    "for k, v in config.items():\n",
    "    config[k] = (\n",
    "        os.environ[f\"MAR_{k.upper()}\"]\n",
    "        if f\"MAR_{k.upper()}\" in os.environ.keys()\n",
    "        else v\n",
    "    )"
   ]
  },
  {
   "cell_type": "code",
   "execution_count": 13,
   "metadata": {},
   "outputs": [],
   "source": [
    "import momgrid\n",
    "os.environ[\"MOMGRID_WEIGHTS_DIR\"] = \"/nbhome/John.Krasting/grid_weights\""
   ]
  },
  {
   "cell_type": "markdown",
   "metadata": {},
   "source": [
    "MAR will pass for environment variables to the script when running via the web engine:\n",
    "\n",
    "* `MAR_STARTYR`: Beginning year of analysis from model\n",
    "* `MAR_ENDYR`: Ending year of analysis from model\n",
    "* `MAR_DORA_ID`: The experiment ID in the database\n",
    "* `MAR_PATHPP`: The top-level path to the post-processing experiment directory of the experiment\n",
    "\n",
    "The block below will use values passed in by Dora but default to the values defined above in `config`. This is useful for interactive usage and debugging.\n",
    "\n",
    "If executed from Dora, there will also be a `DORA_EXECUTE` variable that is set."
   ]
  },
  {
   "cell_type": "code",
   "execution_count": 4,
   "metadata": {},
   "outputs": [],
   "source": [
    "# Define some local variables. These are taken from the doralite object\n",
    "# or they can be defined locally\n",
    "\n",
    "# 1. List of all experiments to consider\n",
    "experiments = [doralite.dora_metadata(x) for x in config[\"dora_id\"].split(\",\")]\n",
    "\n",
    "# Define start and end years\n",
    "start = int(config[\"startyr\"])\n",
    "end = int(config[\"endyr\"])"
   ]
  },
  {
   "cell_type": "markdown",
   "metadata": {},
   "source": [
    "### Load Files"
   ]
  },
  {
   "cell_type": "code",
   "execution_count": 5,
   "metadata": {},
   "outputs": [],
   "source": [
    "def is_in_range(file,start,end):\n",
    "    start = int(start)\n",
    "    end = int(end)\n",
    "    target = set(list(range(start,end+1)))\n",
    "    fname = os.path.basename(file)\n",
    "    times = fname.split(\".\")[1]\n",
    "    times = times.split(\"-\")\n",
    "    times = [int(x[0:4]) for x in times]\n",
    "    candidate = set(list(range(times[0],times[1]+1)))\n",
    "    return len(candidate.intersection(target)) > 0"
   ]
  },
  {
   "cell_type": "code",
   "execution_count": 6,
   "metadata": {},
   "outputs": [],
   "source": [
    "datafiles = []\n",
    "staticfiles = []\n",
    "\n",
    "for experiment in experiments:\n",
    "    _pathPP = experiment[\"pathPP\"]\n",
    "    \n",
    "    component = \"ocean_monthly\"\n",
    "    static = f\"{component}/{component}.static.nc\"\n",
    "    varname = \"tos\"\n",
    "    \n",
    "    chunk = \"5yr\"\n",
    "    filelist = sorted(glob.glob(f\"{_pathPP}{component}/ts/monthly/{chunk}/{component}.*.{varname}.nc\"))\n",
    "    \n",
    "    filelist = [x for x in filelist if is_in_range(x,start,end)]\n",
    "    _staticfile = f\"{_pathPP}/{static}\"\n",
    "    \n",
    "    staticfiles.append(_staticfile)\n",
    "    datafiles.append(filelist)"
   ]
  },
  {
   "cell_type": "code",
   "execution_count": 7,
   "metadata": {
    "editable": true,
    "slideshow": {
     "slide_type": ""
    },
    "tags": []
   },
   "outputs": [
    {
     "name": "stdout",
     "output_type": "stream",
     "text": [
      "/archive/John.Krasting/fre/FMS2024.02_OM5_20240724/CM4.5v01_om5b06_piC_noBLING/gfdl.ncrc5-intel23-prod-openmp/pp//ocean_monthly/ocean_monthly.static.nc\n",
      "/archive/John.Krasting/fre/FMS2024.02_OM5_20240724/CM4.5v01_om5b06_piC_noBLING/gfdl.ncrc5-intel23-prod-openmp/pp/ocean_monthly/ts/monthly/5yr/ocean_monthly.000101-000512.tos.nc\n",
      "/archive/John.Krasting/fre/FMS2024.02_OM5_20240724/CM4.5v01_om5b06_piC_noBLING/gfdl.ncrc5-intel23-prod-openmp/pp/ocean_monthly/ts/monthly/5yr/ocean_monthly.000601-001012.tos.nc\n",
      "/archive/John.Krasting/fre/FMS2024.02_OM5_20240724/CM4.5v01_om5b06_piC_noBLING/gfdl.ncrc5-intel23-prod-openmp/pp/ocean_monthly/ts/monthly/5yr/ocean_monthly.001101-001512.tos.nc\n",
      "/archive/John.Krasting/fre/FMS2024.02_OM5_20240724/CM4.5v01_om5b06_piC_noBLING/gfdl.ncrc5-intel23-prod-openmp/pp/ocean_monthly/ts/monthly/5yr/ocean_monthly.001601-002012.tos.nc\n",
      "/archive/John.Krasting/fre/FMS2024.02_OM5_20240724/CM4.5v01_om5b06_piC_noBLING/gfdl.ncrc5-intel23-prod-openmp/pp/ocean_monthly/ts/monthly/5yr/ocean_monthly.002101-002512.tos.nc\n",
      "/archive/John.Krasting/fre/FMS2024.02_OM5_20240724/CM4.5v01_om5b06_piC_noBLING/gfdl.ncrc5-intel23-prod-openmp/pp/ocean_monthly/ts/monthly/5yr/ocean_monthly.002601-003012.tos.nc\n",
      "/archive/John.Krasting/fre/FMS2024.02_OM5_20240724/CM4.5v01_om5b06_piC_noBLING/gfdl.ncrc5-intel23-prod-openmp/pp/ocean_monthly/ts/monthly/5yr/ocean_monthly.003101-003512.tos.nc\n",
      "/archive/John.Krasting/fre/FMS2024.02_OM5_20240724/CM4.5v01_om5b06_piC_noBLING/gfdl.ncrc5-intel23-prod-openmp/pp/ocean_monthly/ts/monthly/5yr/ocean_monthly.003601-004012.tos.nc\n",
      "/archive/John.Krasting/fre/FMS2024.02_OM5_20240724/CM4.5v01_om5b06_piC_noBLING/gfdl.ncrc5-intel23-prod-openmp/pp/ocean_monthly/ts/monthly/5yr/ocean_monthly.004601-005012.tos.nc\n",
      "/archive/John.Krasting/fre/FMS2024.02_OM5_20240724/CM4.5v01_om5b06_piC_noBLING/gfdl.ncrc5-intel23-prod-openmp/pp/ocean_monthly/ts/monthly/5yr/ocean_monthly.005101-005512.tos.nc\n",
      "/archive/John.Krasting/fre/FMS2024.02_OM5_20240724/CM4.5v01_om5b06_piC_noBLING/gfdl.ncrc5-intel23-prod-openmp/pp/ocean_monthly/ts/monthly/5yr/ocean_monthly.005601-006012.tos.nc\n"
     ]
    }
   ],
   "source": [
    "allfiles = sorted(list(itertools.chain(*datafiles)) + staticfiles)\n",
    "_ = [print(x) for x in allfiles]"
   ]
  },
  {
   "cell_type": "code",
   "execution_count": 8,
   "metadata": {
    "editable": true,
    "slideshow": {
     "slide_type": ""
    },
    "tags": [
     "stop_here"
    ]
   },
   "outputs": [
    {
     "name": "stdout",
     "output_type": "stream",
     "text": [
      "Calling dmget on files ...\n"
     ]
    }
   ],
   "source": [
    "if not \"DORA_EXECUTE\" in os.environ.keys():\n",
    "    print(\"Calling dmget on files ...\")\n",
    "    cmd = [\"dmget\"]+allfiles\n",
    "    _ = subprocess.check_output(cmd)"
   ]
  },
  {
   "cell_type": "markdown",
   "metadata": {},
   "source": [
    "### Calculations and Plots from CM4X Notebook"
   ]
  },
  {
   "cell_type": "code",
   "execution_count": 33,
   "metadata": {},
   "outputs": [],
   "source": [
    "# Open dataset\n",
    "ds = mg.Gridset(filelist).data\n",
    "\n",
    "# Nino3.4 SST\n",
    "nino34 = mg.geoslice.geoslice(ds.tos,y=(-5,5),x=(-170,-120))\n",
    "nino34 = nino34.weighted(nino34.areacello).mean((\"yh\",\"xh\"))\n",
    "nino34 = nino34.load()"
   ]
  },
  {
   "cell_type": "code",
   "execution_count": 35,
   "metadata": {},
   "outputs": [],
   "source": [
    "# Figure\n",
    "result = xw.Wavelet(nino34, scaled=True)\n",
    "fig = result.composite()"
   ]
  }
 ],
 "metadata": {
  "kernelspec": {
   "display_name": "Python 3 (ipykernel)",
   "language": "python",
   "name": "python3"
  },
  "language_info": {
   "codemirror_mode": {
    "name": "ipython",
    "version": 3
   },
   "file_extension": ".py",
   "mimetype": "text/x-python",
   "name": "python",
   "nbconvert_exporter": "python",
   "pygments_lexer": "ipython3",
   "version": "3.11.6"
  }
 },
 "nbformat": 4,
 "nbformat_minor": 4
}
