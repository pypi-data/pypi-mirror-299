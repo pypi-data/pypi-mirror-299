{
 "cells": [
  {
   "cell_type": "markdown",
   "source": [
    "# Polyspectra of a two-state Markov system"
   ],
   "metadata": {
    "collapsed": false
   },
   "id": "fc39c229f168fb60"
  },
  {
   "cell_type": "markdown",
   "source": [
    "Here, we are demonstrating how the MarkovAnalyzer Toolbox can be used to predict the polyspectra of a measurement on one or more states of a continuous-time hidden Markov model. These predictions can later be used to fit our model to the polyspectra calculated from a real measurement."
   ],
   "metadata": {
    "collapsed": false
   },
   "id": "92cf123862c73ffb"
  },
  {
   "cell_type": "code",
   "execution_count": 1,
   "source": [
    "from markovanalyzer.polyspectra_calculator import System\n",
    "import numpy as np"
   ],
   "metadata": {
    "collapsed": false,
    "ExecuteTime": {
     "end_time": "2024-02-02T12:29:10.451800Z",
     "start_time": "2024-02-02T12:28:54.941069Z"
    }
   },
   "id": "initial_id",
   "outputs": []
  },
  {
   "cell_type": "markdown",
   "source": [
    "For demontrational purposes, we are defining a simple two-state model. The measurement operator assigns a measurement value of 3 to the state *0* and a measurement value of 2 to state *1*."
   ],
   "metadata": {
    "collapsed": false
   },
   "id": "64dae52989f907cb"
  },
  {
   "cell_type": "code",
   "execution_count": 2,
   "source": [
    "rates = {'0->1': 0.7, '1->0': 0.3}\n",
    "m_op = np.array([3,2])\n",
    "\n",
    "markov_system = System(rates, m_op)"
   ],
   "metadata": {
    "collapsed": false,
    "ExecuteTime": {
     "end_time": "2024-02-02T12:26:41.733422Z",
     "start_time": "2024-02-02T12:26:41.730565Z"
    }
   },
   "id": "5608a6a7a0e24451",
   "outputs": []
  },
  {
   "cell_type": "code",
   "execution_count": 3,
   "source": [
    "f_data = np.linspace(0,1,100)\n",
    "s = markov_system.calculate_spectrum(f_data, order_in='all')"
   ],
   "metadata": {
    "collapsed": false,
    "ExecuteTime": {
     "end_time": "2024-02-02T12:26:42.941372Z",
     "start_time": "2024-02-02T12:26:41.738963Z"
    }
   },
   "id": "b67cce18cbe6b444",
   "outputs": []
  },
  {
   "cell_type": "code",
   "execution_count": 4,
   "source": [
    "fig = markov_system.plot()"
   ],
   "metadata": {
    "collapsed": false,
    "ExecuteTime": {
     "end_time": "2024-02-02T12:26:50.372010Z",
     "start_time": "2024-02-02T12:26:49.587721Z"
    }
   },
   "id": "41aeb071ffd237de",
   "outputs": []
  },
  {
   "cell_type": "markdown",
   "source": [
    "The resulting polyspecta can now be used to compare our model to a measurement on a real-life system."
   ],
   "metadata": {
    "collapsed": false
   },
   "id": "b5c3a2adbcd54eed"
  },
  {
   "cell_type": "code",
   "execution_count": null,
   "source": [],
   "metadata": {
    "collapsed": false
   },
   "id": "7617f41a7dd067ac",
   "outputs": []
  }
 ],
 "metadata": {
  "kernelspec": {
   "display_name": "Python 3",
   "language": "python",
   "name": "python3"
  },
  "language_info": {
   "codemirror_mode": {
    "name": "ipython",
    "version": 2
   },
   "file_extension": ".py",
   "mimetype": "text/x-python",
   "name": "python",
   "nbconvert_exporter": "python",
   "pygments_lexer": "ipython2",
   "version": "2.7.6"
  }
 },
 "nbformat": 4,
 "nbformat_minor": 5
}
