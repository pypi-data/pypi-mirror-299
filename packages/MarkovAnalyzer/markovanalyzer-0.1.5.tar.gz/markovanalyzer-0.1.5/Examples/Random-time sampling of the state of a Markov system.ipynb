{
 "cells": [
  {
   "cell_type": "markdown",
   "source": [
    "# Random-time sampling of a Markov process "
   ],
   "metadata": {
    "collapsed": false
   },
   "id": "b8e829e2f2f814b"
  },
  {
   "cell_type": "markdown",
   "source": [
    "There are situations in real-life where the state of a Markov system can only be probed at random, discrete times. This is, for example, the case in protein folding measurents in biology. Fluorescence markers are used, which are emitting single photons at a certain rate depending on the state of the protein structure. Transitions between different structures can be described with a Markov model. However, the state of the system can only be inferred from the timely distribute of photon arrival times. \n",
    "Here, we are defining a model of a random-time sampled Markov model. The polyspectra predicted from the model can afterwards be compared to the polyspectra calculated from the photon arrival time extrected by an experiment using the [SignalSnap](https://github.com/MarkusSifft/SignalSnap) library."
   ],
   "metadata": {
    "collapsed": false
   },
   "id": "421ee50a44fdc99a"
  },
  {
   "cell_type": "code",
   "execution_count": 1,
   "source": [
    "from markovanalyzer.polyspectra_calculator import System \n",
    "import numpy as np"
   ],
   "metadata": {
    "collapsed": false,
    "ExecuteTime": {
     "end_time": "2024-02-02T13:47:02.156236Z",
     "start_time": "2024-02-02T13:46:44.926870Z"
    }
   },
   "id": "bfe778a104f88613",
   "outputs": []
  },
  {
   "cell_type": "markdown",
   "source": [
    "In addition to the model transition rates, we now have to set the *blinking* rate *gamma_ph* of the emitting/probed state and the avarage time the detector will be in the *on* state (1/*gamma_det*). Which state is the blinking state is set via the measurenet operator. Here, the second state is emitting."
   ],
   "metadata": {
    "collapsed": false
   },
   "id": "fce5f298b9837321"
  },
  {
   "cell_type": "code",
   "execution_count": 2,
   "source": [
    "gamma_ph = 10\n",
    "gamma_det = 1000\n",
    "\n",
    "rates = {'0->1': 0.7, '1->0': 0.3}\n",
    "m_op = np.array([0,1])\n",
    "\n",
    "markov_system = System(rates, m_op, gamma_ph, gamma_det)"
   ],
   "metadata": {
    "collapsed": false,
    "ExecuteTime": {
     "end_time": "2024-02-02T13:47:02.163125Z",
     "start_time": "2024-02-02T13:47:02.159026Z"
    }
   },
   "id": "748e985b01ee44cb",
   "outputs": []
  },
  {
   "cell_type": "markdown",
   "source": [
    "*gamma_det* mostly relates to the deadtime of the detector, which might be very short, hence, *gamma_det* is ofter larger compared to the other timescales."
   ],
   "metadata": {
    "collapsed": false
   },
   "id": "b05820714e56afa0"
  },
  {
   "cell_type": "code",
   "execution_count": 3,
   "source": [
    "f_data = np.linspace(0,1,100)\n",
    "\n",
    "s1_m = markov_system.calculate_spectrum(f_data, order_in='all')"
   ],
   "metadata": {
    "collapsed": false,
    "ExecuteTime": {
     "end_time": "2024-02-02T13:47:03.572051Z",
     "start_time": "2024-02-02T13:47:02.164891Z"
    }
   },
   "id": "24aa58e30af87f7f",
   "outputs": []
  },
  {
   "cell_type": "code",
   "execution_count": 4,
   "source": [
    "fig = markov_system.plot()"
   ],
   "metadata": {
    "collapsed": false,
    "ExecuteTime": {
     "end_time": "2024-02-02T13:47:04.491873Z",
     "start_time": "2024-02-02T13:47:03.567522Z"
    }
   },
   "id": "7e07c372f3a7734d",
   "outputs": []
  },
  {
   "cell_type": "code",
   "execution_count": null,
   "source": [],
   "metadata": {
    "collapsed": false
   },
   "id": "63e5066842a02979",
   "outputs": []
  }
 ],
 "metadata": {
  "kernelspec": {
   "display_name": "Python 3",
   "language": "python",
   "name": "python3"
  },
  "language_info": {
   "codemirror_mode": {
    "name": "ipython",
    "version": 2
   },
   "file_extension": ".py",
   "mimetype": "text/x-python",
   "name": "python",
   "nbconvert_exporter": "python",
   "pygments_lexer": "ipython2",
   "version": "2.7.6"
  }
 },
 "nbformat": 4,
 "nbformat_minor": 5
}
