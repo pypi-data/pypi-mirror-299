{
 "cells": [
  {
   "cell_type": "markdown",
   "source": [
    "# How to define a Markov model in MarkovAnalyzer?"
   ],
   "metadata": {
    "collapsed": false
   },
   "id": "deca2482026c9480"
  },
  {
   "cell_type": "markdown",
   "source": [
    "When using the MarkovAnalyzer Toolbox, a Markov model is easily defined by providing transition rates between state in the form of a dictionary. In the key of entries should contain the start state number *a* followed by a *->* and the end state number *b* to with population is transferred. For example, a transition from state 3 to state 1 at a rate of 0.5 can be written as {\"3->1\": 0.5}. Here, is an example for a four-state Markov model:"
   ],
   "metadata": {
    "collapsed": false
   },
   "id": "fcf9b8af13b47f9f"
  },
  {
   "cell_type": "code",
   "execution_count": 1,
   "source": [
    "from markovanalyzer.polyspectra_calculator import rates_to_matrix"
   ],
   "metadata": {
    "collapsed": false,
    "ExecuteTime": {
     "end_time": "2024-02-02T13:46:25.079591Z",
     "start_time": "2024-02-02T13:46:09.140413Z"
    }
   },
   "id": "initial_id",
   "outputs": []
  },
  {
   "cell_type": "code",
   "execution_count": 2,
   "source": [
    "rates = {\"3->1\": 0.6, \"2->3\": 1.4, \"3->2\": 0.1, \"1->2\": 0.7, \"4->3\": 0.7}\n",
    "matrix = rates_to_matrix(rates)\n",
    "print(\"Transition Rate Matrix:\")\n",
    "print(matrix)"
   ],
   "metadata": {
    "collapsed": false,
    "ExecuteTime": {
     "end_time": "2024-02-02T13:46:25.085482Z",
     "start_time": "2024-02-02T13:46:25.083431Z"
    }
   },
   "id": "9184b6faf2b0c4ed",
   "outputs": []
  },
  {
   "cell_type": "markdown",
   "source": [
    "When using the toolbox, you do not have to worry about the state transition matrix, you can simply provide the rates dictionary. The total number of state are automatically inferred from the dictionary and the transition matrix is computed internally. "
   ],
   "metadata": {
    "collapsed": false
   },
   "id": "da78710a27defa0e"
  },
  {
   "cell_type": "code",
   "execution_count": null,
   "source": [],
   "metadata": {
    "collapsed": false
   },
   "id": "1228100205d3fddf",
   "outputs": []
  }
 ],
 "metadata": {
  "kernelspec": {
   "display_name": "Python 3",
   "language": "python",
   "name": "python3"
  },
  "language_info": {
   "codemirror_mode": {
    "name": "ipython",
    "version": 2
   },
   "file_extension": ".py",
   "mimetype": "text/x-python",
   "name": "python",
   "nbconvert_exporter": "python",
   "pygments_lexer": "ipython2",
   "version": "2.7.6"
  }
 },
 "nbformat": 4,
 "nbformat_minor": 5
}
