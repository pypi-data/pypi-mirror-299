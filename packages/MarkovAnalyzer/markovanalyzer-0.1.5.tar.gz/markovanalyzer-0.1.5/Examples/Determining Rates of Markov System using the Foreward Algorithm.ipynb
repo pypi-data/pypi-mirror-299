{
 "cells": [
  {
   "cell_type": "markdown",
   "source": [
    "# Determining Rates of Markov System using the Foreward Algorithm"
   ],
   "metadata": {
    "collapsed": false
   },
   "id": "79c034c787193498"
  },
  {
   "cell_type": "code",
   "execution_count": 1,
   "source": [
    "from markovanalyzer.forward import DiscreteHaugSystem\n",
    "import numpy as np\n",
    "%matplotlib inline"
   ],
   "metadata": {
    "collapsed": false,
    "ExecuteTime": {
     "end_time": "2023-08-02T13:50:49.581332Z",
     "start_time": "2023-08-02T13:50:45.986410Z"
    }
   },
   "id": "initial_id",
   "outputs": []
  },
  {
   "cell_type": "markdown",
   "source": [
    "## Load Dataset"
   ],
   "metadata": {
    "collapsed": false
   },
   "id": "66f9b36b3561e954"
  },
  {
   "cell_type": "markdown",
   "source": [
    "The dataset has n rows, where n is the number of jumps and 3 columns. Column 1: current level, column 2: time spend in this level, and column 3: time elapsed when jumping to that level."
   ],
   "metadata": {
    "collapsed": false
   },
   "id": "89294a2345324eb5"
  },
  {
   "cell_type": "code",
   "execution_count": 2,
   "source": [
    "path = 'example_data/V_qpc_0.5mV-0_digital_gaussian_filter_2_with_level_5_6_as_one.npy'\n",
    "dataset = np.load(path)\n",
    "n_steps = dataset.shape[0]\n",
    "delta_t = 1 / 400e3\n",
    "dataset = dataset.astype(np.int32)\n",
    "dataset"
   ],
   "metadata": {
    "collapsed": false,
    "ExecuteTime": {
     "end_time": "2023-08-02T13:50:49.592820Z",
     "start_time": "2023-08-02T13:50:49.583313Z"
    }
   },
   "id": "d91dde81cdb29039",
   "outputs": []
  },
  {
   "cell_type": "code",
   "execution_count": 4,
   "source": [
    "dataset[:,0].max()"
   ],
   "metadata": {
    "collapsed": false,
    "ExecuteTime": {
     "end_time": "2023-08-02T13:51:38.028773Z",
     "start_time": "2023-08-02T13:51:38.015828Z"
    }
   },
   "id": "a184c39af458a126",
   "outputs": []
  },
  {
   "cell_type": "markdown",
   "source": [
    "## Define initial state and fit system rates"
   ],
   "metadata": {
    "collapsed": false
   },
   "id": "9a4801ef6f6a4f68"
  },
  {
   "cell_type": "code",
   "execution_count": 5,
   "source": [
    "init = np.array( # for 1.0mV\n",
    "[ 1.11402988e+02,  1.28911556e+00, -5.85500121e-09,\n",
    "  7.56994802e+02,  2.46499466e+00,  2.34568809e-01,\n",
    "  1.77727393e+02,  9.97553568e-01, -1.06451333e-03,\n",
    "  9.18552712e+02,  2.80328638e+01,  1.29819722e-01,\n",
    "  1.74886070e+02,  9.40535137e-01,  4.95709712e-04,\n",
    "  7.40000424e+01,  1.01762755e+00,  2.54223609e-03,\n",
    " \n",
    "  1.10108137e+02,  1.68592423e+00, -5.04938490e-08,\n",
    "  1.33534981e+03,  4.83217040e-01, -2.92942193e-07,\n",
    "  2.21471526e+02,  5.76323255e-02, -3.91361939e-07,\n",
    "  6.75541471e+02,  6.53011364e+00,  9.34433358e-05,\n",
    "  6.60687610e+01,  6.70393567e+00,  7.51044013e-03,\n",
    "  3.15170862e+03,  1.68823670e+00,  1.58763909e-03,\n",
    "    ]\n",
    ")\n",
    "\n",
    "lower = 0.5 * init\n",
    "upper = 2 * init\n",
    "\n",
    "system = DiscreteHaugSystem(dataset, init, lower, upper)\n",
    "result = system.fit_system(with_bounds=False)"
   ],
   "metadata": {
    "collapsed": false,
    "ExecuteTime": {
     "end_time": "2023-08-02T13:52:05.524391Z",
     "start_time": "2023-08-02T13:51:49.458525Z"
    }
   },
   "id": "e12c7acd6eedd77c",
   "outputs": []
  },
  {
   "cell_type": "code",
   "execution_count": null,
   "source": [
    "result.x.reshape(-1,3)"
   ],
   "metadata": {
    "collapsed": false
   },
   "id": "17d492eb9ca8f71",
   "outputs": []
  },
  {
   "cell_type": "code",
   "execution_count": null,
   "source": [
    "np.save('Data/Fitted_Rates_with_Johannes_Decay_Function/rates_V_qpc_1.0mV_digital_gaussian_filter_7_with_level_5_6_as_one', result.x)"
   ],
   "metadata": {
    "collapsed": false
   },
   "id": "afae43fb39cbb280",
   "outputs": []
  }
 ],
 "metadata": {
  "kernelspec": {
   "display_name": "Python 3",
   "language": "python",
   "name": "python3"
  },
  "language_info": {
   "codemirror_mode": {
    "name": "ipython",
    "version": 2
   },
   "file_extension": ".py",
   "mimetype": "text/x-python",
   "name": "python",
   "nbconvert_exporter": "python",
   "pygments_lexer": "ipython2",
   "version": "2.7.6"
  }
 },
 "nbformat": 4,
 "nbformat_minor": 5
}
