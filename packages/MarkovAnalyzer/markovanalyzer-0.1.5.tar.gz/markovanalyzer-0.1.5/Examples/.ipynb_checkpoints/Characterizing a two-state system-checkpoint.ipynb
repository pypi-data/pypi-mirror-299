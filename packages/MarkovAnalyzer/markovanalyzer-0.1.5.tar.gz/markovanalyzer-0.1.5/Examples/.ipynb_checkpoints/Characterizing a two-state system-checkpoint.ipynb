{
 "cells": [
  {
   "cell_type": "markdown",
   "id": "a1500dc0f6c035cf",
   "metadata": {},
   "source": [
    "# Characterizing a two-state system"
   ]
  },
  {
   "cell_type": "markdown",
   "id": "7dc52bcf0299daae",
   "metadata": {},
   "source": [
    "Here is full recipy with example code for the characterization of a two-state system. Data must by given is form of a numpy array, or hdf5 file."
   ]
  },
  {
   "cell_type": "markdown",
   "id": "3131bc1f0bf2d66b",
   "metadata": {},
   "source": [
    "## 1. Use SignalSnap to calculate the polyspectra of a measurement"
   ]
  },
  {
   "cell_type": "markdown",
   "id": "53c349830cd9d732",
   "metadata": {},
   "source": [
    "The documenation of SignalSnap can be found [here](https://github.com/MarkusSifft/SignalSnap). Here, we are only providing a working code example."
   ]
  },
  {
   "cell_type": "code",
   "execution_count": 1,
   "id": "2a04c35362188bb9",
   "metadata": {
    "ExecuteTime": {
     "end_time": "2024-02-02T13:30:24.390321Z",
     "start_time": "2024-02-02T13:30:07.046018Z"
    }
   },
   "source": [
    "from signalsnap import SpectrumCalculator, SpectrumConfig, PlotConfig\n",
    "import numpy as np\n",
    "import h5py\n",
    "import matplotlib.pyplot as plt\n",
    "import markovanalyzer as ma"
   ],
   "outputs": []
  },
  {
   "cell_type": "code",
   "execution_count": 2,
   "id": "4bbd94ab1066ee30",
   "metadata": {
    "ExecuteTime": {
     "end_time": "2024-02-02T12:37:48.159479Z",
     "start_time": "2024-02-02T12:37:47.268093Z"
    }
   },
   "source": [
    "path = 'example_data/long_measurement.h5'\n",
    "f = h5py.File(path, \"r\")\n",
    "group = f['day1']\n",
    "dataset = group['measurement1'][()] \n",
    "\n",
    "_ = plt.hist(dataset, bins=180)\n",
    "plt.xlabel('bins')\n",
    "plt.ylabel('counts')\n",
    "plt.yscale('log')"
   ],
   "outputs": []
  },
  {
   "cell_type": "code",
   "execution_count": 3,
   "id": "f2de6ea5dd6821f4",
   "metadata": {
    "ExecuteTime": {
     "end_time": "2024-02-02T12:37:48.796710Z",
     "start_time": "2024-02-02T12:37:48.162869Z"
    }
   },
   "source": [
    "dt = group['measurement1'].attrs['dt'] # sampling time in seconds \n",
    "t = np.arange(0,dataset.shape[0]) * dt\n",
    "plt.plot(t, dataset)\n",
    "plt.xlim([0,0.1])\n",
    "plt.xlabel('time (s)')"
   ],
   "outputs": []
  },
  {
   "cell_type": "code",
   "execution_count": 7,
   "id": "1504f21a9eb5c8e8",
   "metadata": {
    "ExecuteTime": {
     "end_time": "2024-02-02T12:41:21.863244Z",
     "start_time": "2024-02-02T12:38:54.069391Z"
    }
   },
   "source": [
    "path = 'example_data/long_measurement.h5'\n",
    "group_key = 'day1'\n",
    "dataset = 'measurement1'\n",
    "\n",
    "config = SpectrumConfig(dataset=dataset, group_key=group_key, path=path, f_unit='Hz', \n",
    "                        spectrum_size=150, f_max=2000, order_in=[1,2,3,4], \n",
    "                        backend='cpu')\n",
    "\n",
    "spec = SpectrumCalculator(config)\n",
    "\n",
    "f, s, serr = spec.calc_spec()"
   ],
   "outputs": []
  },
  {
   "cell_type": "code",
   "execution_count": 8,
   "id": "462677aab161de47",
   "metadata": {
    "ExecuteTime": {
     "end_time": "2024-02-02T12:41:27.432375Z",
     "start_time": "2024-02-02T12:41:25.861055Z"
    }
   },
   "source": [
    "plot_config = PlotConfig(plot_orders=[2,3,4], arcsinh_plot=False, arcsinh_const=0.0002)\n",
    "fig = spec.plot(plot_config)"
   ],
   "outputs": []
  },
  {
   "cell_type": "code",
   "execution_count": 9,
   "id": "8612e8f87bef0f4e",
   "metadata": {
    "ExecuteTime": {
     "end_time": "2024-02-02T12:42:25.260657Z",
     "start_time": "2024-02-02T12:42:25.239991Z"
    }
   },
   "source": [
    "path = 'example_data/two_state_example_spectra.pkl'\n",
    "spec.save_spec(path, remove_S_stationarity=True)"
   ],
   "outputs": []
  },
  {
   "cell_type": "markdown",
   "id": "ee85f5a4ccac3a2c",
   "metadata": {},
   "source": [
    "## Characterizing the Two-State Model "
   ]
  },
  {
   "cell_type": "markdown",
   "id": "2fd59206c8d8e0ec",
   "metadata": {},
   "source": [
    "Characterization is performed by fitting the theoretical polyspectra of a Markov model with variable parameters to their experimental counterparts calculated above. We are assuming a two-state model for the system that produced the data; hence, we begin with defining such a model with two variable transition rates.    "
   ]
  },
  {
   "cell_type": "markdown",
   "id": "95a0f4f447226c9c",
   "metadata": {},
   "source": [
    "The system undergoes transitions from the 0 to 1 state and from the 1 to the 0 state at rates gamma_01 and gamma_10, respectively. Each needs to be associated with a measurement value. From the histogram above we know that the value of the 0 state might be around 0, whereas the value of the 1 state might be around 26. Since we don't know for sure, we leave these measurement values also as variable parameters n_0 and n_1."
   ]
  },
  {
   "cell_type": "code",
   "execution_count": 2,
   "id": "b58af2283ffccba5",
   "metadata": {
    "ExecuteTime": {
     "end_time": "2024-02-02T13:30:24.395302Z",
     "start_time": "2024-02-02T13:30:24.393217Z"
    }
   },
   "source": [
    "def set_system(params):\n",
    "      \n",
    "    rates = {'0->1': params['gamma_01'],\n",
    "             '1->0': params['gamma_10']}\n",
    "             \n",
    "    m_op = np.array([params['n_0'],params['n_1']])\n",
    "    \n",
    "    markov_system = ma.System(rates, m_op)\n",
    "\n",
    "    return markov_system"
   ],
   "outputs": []
  },
  {
   "cell_type": "markdown",
   "id": "367020820e9c5b69",
   "metadata": {},
   "source": [
    "Now, we can set start values and bounds for the fit of the parameters. A parameter c is always part of the fit and acconts for constant white noise outset in the power spectrum."
   ]
  },
  {
   "cell_type": "code",
   "execution_count": null,
   "id": "ca59cc747e5645ce",
   "metadata": {
    "ExecuteTime": {
     "start_time": "2024-02-02T13:30:24.395725Z"
    }
   },
   "source": [
    "system_fit = ma.FitSystem(set_system, f_unit='Hz')\n",
    "\n",
    "parameter = {'gamma_01': [2.0396975e+04, 0, 1e5, True],\n",
    "             'gamma_10': [1.0345057e+04, 0, 1e5, True],\n",
    "             'n_0': [0, 0, 1e8, True],\n",
    "             'n_1': [20, 0, 1e8, True],\n",
    "             'c': [-2.7651282e-01 , -1e14, 1e14, True]}\n",
    "\n",
    "path = 'example_data/two_state_example_spectra.pkl'\n",
    "\n",
    "result = system_fit.complete_fit(path, parameter, \n",
    "                        method='least_squares', xtol=1e-6, ftol=1e-6, show_plot=True, fit_modus='resolution_based',\n",
    "                        fit_orders=(1,2,3,4), beta_offset=False)"
   ],
   "outputs": []
  },
  {
   "cell_type": "code",
   "execution_count": null,
   "id": "4235a9b92da03ac6",
   "metadata": {},
   "source": [],
   "outputs": []
  }
 ],
 "metadata": {
  "kernelspec": {
   "display_name": "Python 3 (ipykernel)",
   "language": "python",
   "name": "python3"
  },
  "language_info": {
   "codemirror_mode": {
    "name": "ipython",
    "version": 2
   },
   "file_extension": ".py",
   "mimetype": "text/x-python",
   "name": "python",
   "nbconvert_exporter": "python",
   "pygments_lexer": "ipython2",
   "version": "2.7.6"
  },
  "toc": {
   "base_numbering": 1,
   "nav_menu": {},
   "number_sections": true,
   "sideBar": true,
   "skip_h1_title": false,
   "title_cell": "Table of Contents",
   "title_sidebar": "Contents",
   "toc_cell": false,
   "toc_position": {},
   "toc_section_display": true,
   "toc_window_display": false
  }
 },
 "nbformat": 4,
 "nbformat_minor": 5
}
