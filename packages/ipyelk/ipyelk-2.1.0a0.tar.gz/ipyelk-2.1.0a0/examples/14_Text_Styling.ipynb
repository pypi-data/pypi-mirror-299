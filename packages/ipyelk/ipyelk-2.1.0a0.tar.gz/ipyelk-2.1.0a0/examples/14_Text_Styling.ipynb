{
 "cells": [
  {
   "cell_type": "markdown",
   "id": "bee6c36a-6a0f-4be6-9601-f3dfc2014062",
   "metadata": {},
   "source": [
    "# 🦌 Text Styling 💨📜\n",
    "\n",
    "This notebook demonstrates updating the diagram's label css styling to a larger bold\n",
    "font and testing that the resulting label widths are larger than with the original\n",
    "style."
   ]
  },
  {
   "cell_type": "code",
   "execution_count": null,
   "id": "f5f8de7f-4a3e-45c8-87ba-5992cddff7c8",
   "metadata": {},
   "outputs": [],
   "source": [
    "if __name__ == \"__main__\":\n",
    "    %pip install -q -r requirements.txt"
   ]
  },
  {
   "cell_type": "code",
   "execution_count": null,
   "id": "b7ec61de-5df4-4f90-ac00-7f46ea7e77b2",
   "metadata": {},
   "outputs": [],
   "source": [
    "import asyncio\n",
    "\n",
    "with __import__(\"importnb\").Notebook():\n",
    "    from __13_Compounds import email_activity_example\n",
    "\n",
    "\n",
    "def get_label_widths(diagram):\n",
    "    widths = {id_: label.width for id_, label in diagram.source.index.elements.labels()}\n",
    "\n",
    "    return widths\n",
    "\n",
    "\n",
    "async def test_widths(diagram):\n",
    "    \"\"\"Test function to compare text widths with a style change\"\"\"\n",
    "    await diagram.pipe._task  # await for the first completion of the diagram pipe\n",
    "    await diagram.refresh()\n",
    "\n",
    "    # measure to get baseline text size\n",
    "    old = get_label_widths(diagram)\n",
    "\n",
    "    email_act_app.style = {\n",
    "        \" .final-state .inner-circle\": {\"fill\": \"var(--jp-elk-node-stroke)\"},\n",
    "        \" .activity-filled .elknode\": {\"fill\": \"var(--jp-elk-node-stroke)\"},\n",
    "        \" .activity-container > .elknode\": {\"rx\": \"var(--jp-code-font-size)\"},\n",
    "        \" text.elklabel\": {\n",
    "            \"font-weight\": \"bold\",\n",
    "        },\n",
    "    }\n",
    "\n",
    "    # measure text after refreshing the diagram with new bold style\n",
    "    await diagram.refresh()\n",
    "    new = get_label_widths(diagram)\n",
    "\n",
    "    assert all(old[elid] < new[elid] for elid in old.keys())\n",
    "\n",
    "\n",
    "if __name__ == \"__main__\":\n",
    "    email_act_app, email_activities = email_activity_example()\n",
    "    task = asyncio.ensure_future(test_widths(email_act_app))\n",
    "    display(email_act_app)\n",
    "    display(email_act_app.pipe)"
   ]
  }
 ],
 "metadata": {
  "kernelspec": {
   "display_name": "Python 3 (ipykernel)",
   "language": "python",
   "name": "python3"
  },
  "language_info": {
   "codemirror_mode": {
    "name": "ipython",
    "version": 3
   },
   "file_extension": ".py",
   "mimetype": "text/x-python",
   "name": "python",
   "nbconvert_exporter": "python",
   "pygments_lexer": "ipython3",
   "version": "3.10.8"
  }
 },
 "nbformat": 4,
 "nbformat_minor": 5
}
