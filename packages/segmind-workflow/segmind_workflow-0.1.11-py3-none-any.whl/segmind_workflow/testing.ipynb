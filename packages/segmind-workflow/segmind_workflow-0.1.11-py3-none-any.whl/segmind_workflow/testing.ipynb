{
 "cells": [
  {
   "cell_type": "code",
   "execution_count": null,
   "metadata": {},
   "outputs": [],
   "source": [
    "# add cloudinary expiry function\n",
    "# some problem with cloudinary upload function\n",
    "# test for some examples beforehand\n",
    "# write tests code"
   ]
  },
  {
   "cell_type": "code",
   "execution_count": 1,
   "metadata": {},
   "outputs": [],
   "source": [
    "api_key = \"SG_04a295ee8f69e6b1\""
   ]
  },
  {
   "cell_type": "code",
   "execution_count": 2,
   "metadata": {},
   "outputs": [
    {
     "name": "stdout",
     "output_type": "stream",
     "text": [
      "Getting the Function call sequence\n"
     ]
    },
    {
     "name": "stdout",
     "output_type": "stream",
     "text": [
      "Function call sequence obtained in 3s\n",
      "[\"flux_1_dev(prompt='image of a dog', steps='20', seed='123456789', sampler_name='euler', scheduler='normal', samples='1', width='1024', height='1024', denoise='1')\", 'clarity_upscaler(image=OUT[0])', 'background_removal_v2(image=OUT[1])']\n",
      "____________________________________________________________________________________________________\n",
      "Making Function call for flux-dev\n",
      "Completed making Function call for flux-dev in 14s\n",
      "____________________________________________________________________________________________________\n",
      "Making Function call for clarity-upscaler\n",
      "Completed making Function call for clarity-upscaler in 25s\n",
      "____________________________________________________________________________________________________\n",
      "Making Function call for bg-removal-v2\n",
      "Completed making Function call for bg-removal-v2 in 32s\n",
      "['/workspace/harish/SegmindWorkflow/src/segmind_workflow/outputs/0.png', '/workspace/harish/SegmindWorkflow/src/segmind_workflow/outputs/1.png', '/workspace/harish/SegmindWorkflow/src/segmind_workflow/outputs/2.png']\n"
     ]
    }
   ],
   "source": [
    "from workflow import Workflow\n",
    "workflow = Workflow(api_key)\n",
    "prompt = \"caption the image using llava 1.6 and generate new image with that generated caption using flux dev and flux pro model\"\n",
    "prompt = \"generate the image of a boy infront of tajmahal using flux dev, colossal lightning, playground models\"\n",
    "prompt = 'prompt llama 3 8b to generate a hello world function in python'\n",
    "prompt = \"convert this image from to anime style using flux image to image model\"\n",
    "prompt = 'generate an image of cat using flux dev'\n",
    "prompt = \"generate the image of a dog using flux dev, upscale it using clarity upscaler and remove background\"\n",
    "workflow.query(prompt)\n",
    "print(workflow.get_sequence())\n",
    "workflow.call([])\n",
    "r = workflow.get_result()\n",
    "print(r)"
   ]
  },
  {
   "cell_type": "code",
   "execution_count": null,
   "metadata": {},
   "outputs": [],
   "source": [
    "workflow.call([\"/workspace/harish/cloudinary_code/temp.png\"])\n",
    "r = workflow.get_result()\n",
    "print(r)"
   ]
  },
  {
   "cell_type": "code",
   "execution_count": 6,
   "metadata": {},
   "outputs": [],
   "source": [
    "# workflow.reset(outputs = False)\n",
    "workflow.reset(outputs = True) # also deletes the output directory"
   ]
  },
  {
   "cell_type": "code",
   "execution_count": null,
   "metadata": {},
   "outputs": [],
   "source": [
    "workflow.total_credits_left()"
   ]
  },
  {
   "cell_type": "code",
   "execution_count": 2,
   "metadata": {},
   "outputs": [
    {
     "name": "stdout",
     "output_type": "stream",
     "text": [
      "Getting the Function call sequence\n",
      "Function call sequence obtained in 2s\n",
      "Sequence Obtained before changing anything\n",
      "[\"flux_1_dev(prompt='image of a cat', steps=20, seed=123456789, sampler_name='euler', scheduler='normal', samples=1, width=1024, height=1024, denoise=1)\"]\n",
      "Sequence Obtained before changing steps param in flux dev model\n",
      "[\"flux_1_dev(prompt='image of a cat', steps=15, seed=123456789, sampler_name='euler', scheduler='normal', samples=1, width=1024, height=1024, denoise=1)\"]\n",
      "Sequence Obtained before changing flux dev model to schnell model\n",
      "[\"flux_1_schnell(prompt='image of a cat', steps=15, seed=123456789, sampler_name='euler', scheduler='normal', samples=1, width=1024, height=1024, denoise=1)\"]\n"
     ]
    }
   ],
   "source": [
    "from workflow import Workflow\n",
    "workflow = Workflow(api_key)\n",
    "prompt = 'generate an image of cat using flux dev'\n",
    "workflow.query(prompt)\n",
    "print(\"Sequence Obtained before changing anything\")\n",
    "print(workflow.get_sequence())\n",
    "workflow.change_params({'flux_1_dev':{'steps':15}})\n",
    "print(\"Sequence Obtained before changing steps param in flux dev model\")\n",
    "print(workflow.get_sequence())\n",
    "workflow.change_function_names([['flux_1_dev', 'flux_1_schnell']])\n",
    "print(\"Sequence Obtained before changing flux dev model to schnell model\")\n",
    "print(workflow.get_sequence())"
   ]
  },
  {
   "cell_type": "code",
   "execution_count": null,
   "metadata": {},
   "outputs": [],
   "source": [
    "# coloring to the logging\n",
    "\n",
    "# from colorama import Fore, Style, init\n",
    "# init(autoreset=True)\n",
    "# print(Fore.RED + \"This is red text.\")\n",
    "# print(Fore.GREEN + \"This is green text.\")\n",
    "# print(Fore.BLUE + \"This is blue text.\")\n",
    "# print(Style.BRIGHT + Fore.YELLOW + \"This is bright yellow text.\")\n",
    "\n",
    "# from rich.console import Console\n",
    "# console = Console()\n",
    "# console.print(\"[bold red]This is bold red text in Jupyter[/bold red]\")\n",
    "# console.print(\"[green]This is green text in Jupyter[/green]\")"
   ]
  }
 ],
 "metadata": {
  "kernelspec": {
   "display_name": "base",
   "language": "python",
   "name": "python3"
  },
  "language_info": {
   "codemirror_mode": {
    "name": "ipython",
    "version": 3
   },
   "file_extension": ".py",
   "mimetype": "text/x-python",
   "name": "python",
   "nbconvert_exporter": "python",
   "pygments_lexer": "ipython3",
   "version": "3.12.2"
  }
 },
 "nbformat": 4,
 "nbformat_minor": 2
}
