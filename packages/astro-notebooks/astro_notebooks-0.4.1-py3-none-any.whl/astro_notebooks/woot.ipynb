{
 "cells": [
  {
   "cell_type": "code",
   "execution_count": 1,
   "id": "31d82671-0a16-4e75-b1fb-f550dbf7659b",
   "metadata": {},
   "outputs": [],
   "source": [
    "from astro_notebooks.image_selector import ImageSelect"
   ]
  },
  {
   "cell_type": "code",
   "execution_count": 7,
   "id": "9e15806e-5246-42e5-bab5-638675b22a40",
   "metadata": {},
   "outputs": [],
   "source": [
    "isel = ImageSelect()"
   ]
  },
  {
   "cell_type": "code",
   "execution_count": 8,
   "id": "4dfa615f-b9ad-44be-bb90-89e3c65f7fa0",
   "metadata": {},
   "outputs": [
    {
     "data": {
      "application/vnd.jupyter.widget-view+json": {
       "model_id": "82a41eeed2f0475ca2c0b78e4a5f20f5",
       "version_major": 2,
       "version_minor": 0
      },
      "text/plain": [
       "ImageSelect(children=(GridspecLayout(children=(ImageWithSelector(children=(Image(value=b'\\x89PNG\\r\\n\\x1a\\n\\x00…"
      ]
     },
     "execution_count": 8,
     "metadata": {},
     "output_type": "execute_result"
    }
   ],
   "source": [
    "isel"
   ]
  },
  {
   "cell_type": "code",
   "execution_count": 4,
   "id": "d60794ee-dd33-44ba-801a-3fda3b71af1b",
   "metadata": {},
   "outputs": [
    {
     "ename": "AttributeError",
     "evalue": "'ImageWithSelector' object has no attribute 'value'",
     "output_type": "error",
     "traceback": [
      "\u001b[0;31m---------------------------------------------------------------------------\u001b[0m",
      "\u001b[0;31mAttributeError\u001b[0m                            Traceback (most recent call last)",
      "Cell \u001b[0;32mIn[4], line 3\u001b[0m\n\u001b[1;32m      1\u001b[0m ni \u001b[38;5;241m=\u001b[39m \u001b[38;5;241m0\u001b[39m\n\u001b[1;32m      2\u001b[0m \u001b[38;5;28;01mfor\u001b[39;00m s \u001b[38;5;129;01min\u001b[39;00m isel\u001b[38;5;241m.\u001b[39m_selectors:\n\u001b[0;32m----> 3\u001b[0m     ni \u001b[38;5;241m=\u001b[39m ni \u001b[38;5;241m+\u001b[39m \u001b[43ms\u001b[49m\u001b[38;5;241;43m.\u001b[39;49m\u001b[43mvalue\u001b[49m\n\u001b[1;32m      4\u001b[0m \u001b[38;5;28mprint\u001b[39m(ni)\n",
      "\u001b[0;31mAttributeError\u001b[0m: 'ImageWithSelector' object has no attribute 'value'"
     ]
    }
   ],
   "source": [
    "ni = 0\n",
    "for s in isel._selectors:\n",
    "    ni = ni + s.value\n",
    "print(ni)"
   ]
  },
  {
   "cell_type": "code",
   "execution_count": 5,
   "id": "afbf4304-9a5f-4447-bb46-f02849b019b5",
   "metadata": {},
   "outputs": [
    {
     "data": {
      "text/plain": [
       "[('TIC_224635135.01-S001-R083-C001-rp', True),\n",
       " ('TIC_224635135.01-S001-R093-C001-rp', True),\n",
       " ('wasp-10-b-S001-R001-C099-r', False)]"
      ]
     },
     "execution_count": 5,
     "metadata": {},
     "output_type": "execute_result"
    }
   ],
   "source": [
    "[(i._fname, i._valid_mark.value) for i in isel._selectors]"
   ]
  },
  {
   "cell_type": "code",
   "execution_count": 6,
   "id": "ac59e495-3ee9-4a38-8681-d93fb0cd785e",
   "metadata": {},
   "outputs": [
    {
     "data": {
      "text/plain": [
       "['TIC_224635135.01-S001-R083-C001-rp',\n",
       " 'TIC_224635135.01-S001-R093-C001-rp',\n",
       " 'wasp-10-b-S001-R001-C099-r']"
      ]
     },
     "execution_count": 6,
     "metadata": {},
     "output_type": "execute_result"
    }
   ],
   "source": [
    "isel._im_base_bames"
   ]
  },
  {
   "cell_type": "code",
   "execution_count": null,
   "id": "2acd68cd-09a9-49f4-993a-83105d975acd",
   "metadata": {},
   "outputs": [],
   "source": []
  }
 ],
 "metadata": {
  "kernelspec": {
   "display_name": "Python 3 (ipykernel)",
   "language": "python",
   "name": "python3"
  },
  "language_info": {
   "codemirror_mode": {
    "name": "ipython",
    "version": 3
   },
   "file_extension": ".py",
   "mimetype": "text/x-python",
   "name": "python",
   "nbconvert_exporter": "python",
   "pygments_lexer": "ipython3",
   "version": "3.12.6"
  }
 },
 "nbformat": 4,
 "nbformat_minor": 5
}
