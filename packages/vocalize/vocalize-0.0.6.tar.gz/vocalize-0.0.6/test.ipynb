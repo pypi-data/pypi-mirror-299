{
 "cells": [
  {
   "cell_type": "code",
   "execution_count": 1,
   "metadata": {},
   "outputs": [],
   "source": [
    "import asyncio\n",
    "import inspect\n",
    "from interrupter.interrupter import Interrupter\n",
    "from interrupter.cancellable import Cancellable"
   ]
  },
  {
   "cell_type": "code",
   "execution_count": 2,
   "metadata": {},
   "outputs": [],
   "source": [
    "interrupter = Interrupter(None, events=None, debug=True)"
   ]
  },
  {
   "cell_type": "code",
   "execution_count": 3,
   "metadata": {},
   "outputs": [
    {
     "data": {
      "text/plain": [
       "False"
      ]
     },
     "execution_count": 3,
     "metadata": {},
     "output_type": "execute_result"
    }
   ],
   "source": [
    "async def run(value: str):\n",
    "    await asyncio.sleep(2)\n",
    "    print(f\"value: {value}\")\n",
    "\n",
    "asyncio.iscoroutine(run)"
   ]
  },
  {
   "cell_type": "code",
   "execution_count": 4,
   "metadata": {},
   "outputs": [
    {
     "data": {
      "text/plain": [
       "False"
      ]
     },
     "execution_count": 4,
     "metadata": {},
     "output_type": "execute_result"
    }
   ],
   "source": [
    "inspect.iscoroutine( run)"
   ]
  },
  {
   "cell_type": "code",
   "execution_count": 9,
   "metadata": {},
   "outputs": [],
   "source": [
    "class Cancellable:\n",
    "    # could define the interrupter in the init\n",
    "    def __init__(self, interrupter: Interrupter):\n",
    "        self.interrupter = interrupter\n",
    "\n",
    "    def __call__(self, func, *args, **kwargs):\n",
    "        print(f\"__call__ func: {func}\")\n",
    "        # if not inspect.iscoroutine(func):\n",
    "            # raise TypeError(f\"Cancellable function received MUST be a coroutine --- function received: {func} --- Make sure you have 'called' the coroutine and given it the required arguments. Ex: my_coro('first arg', 'second arg') \")\n",
    "        self.task = asyncio.create_task(func)\n",
    "        print(f\"__call__ task: {self.task}\")\n",
    "        return self\n",
    "\n",
    "    async def __aenter__(self):\n",
    "        print(f\"__enter__ func: {self.task}\")\n",
    "        self.interrupter.register_cancellable(self.task)\n",
    "        return self.task\n",
    "\n",
    "    async def __aexit__(self, exc_type, exc_value, exc_tb):\n",
    "        print(f\"exc_type: {exc_type} -- exc_value: {exc_value} -- exc_tb: {exc_tb}\")\n",
    "        self.interrupter.deregister_cancellable(self.task)\n",
    "        print(\"exiting\")"
   ]
  },
  {
   "cell_type": "code",
   "execution_count": 10,
   "metadata": {},
   "outputs": [],
   "source": [
    "cancellable = Cancellable(interrupter)\n",
    "\n"
   ]
  },
  {
   "cell_type": "code",
   "execution_count": 13,
   "metadata": {},
   "outputs": [
    {
     "name": "stdout",
     "output_type": "stream",
     "text": [
      "__call__ func: <coroutine object run at 0x000001EA55C9DD80>\n",
      "__call__ task: <Task pending name='Task-13' coro=<run() running at C:\\Users\\Damon\\AppData\\Local\\Temp\\ipykernel_12216\\2920663390.py:1>>\n",
      "__enter__ func: <Task pending name='Task-13' coro=<run() running at C:\\Users\\Damon\\AppData\\Local\\Temp\\ipykernel_12216\\2920663390.py:1>>\n",
      "Interrupter registering cancellable: <Task pending name='Task-13' coro=<run() running at C:\\Users\\Damon\\AppData\\Local\\Temp\\ipykernel_12216\\2920663390.py:1>>\n",
      "with task: <Task pending name='Task-13' coro=<run() running at C:\\Users\\Damon\\AppData\\Local\\Temp\\ipykernel_12216\\2920663390.py:1>>\n",
      "value: hey\n",
      "exc_type: None -- exc_value: None -- exc_tb: None\n",
      "Interrupter deregistering cancellable: <Task finished name='Task-13' coro=<run() done, defined at C:\\Users\\Damon\\AppData\\Local\\Temp\\ipykernel_12216\\2920663390.py:1> result=None>\n",
      "exiting\n"
     ]
    }
   ],
   "source": [
    "async with cancellable(run('hey')) as task:\n",
    "    print(f'with task: {task}')\n",
    "    # task.cancel()\n",
    "    await task\n"
   ]
  },
  {
   "cell_type": "code",
   "execution_count": null,
   "metadata": {},
   "outputs": [],
   "source": []
  }
 ],
 "metadata": {
  "kernelspec": {
   "display_name": "nnfs",
   "language": "python",
   "name": "python3"
  },
  "language_info": {
   "codemirror_mode": {
    "name": "ipython",
    "version": 3
   },
   "file_extension": ".py",
   "mimetype": "text/x-python",
   "name": "python",
   "nbconvert_exporter": "python",
   "pygments_lexer": "ipython3",
   "version": "3.12.3"
  }
 },
 "nbformat": 4,
 "nbformat_minor": 2
}
