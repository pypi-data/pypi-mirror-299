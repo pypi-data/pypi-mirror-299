{
 "cells": [
  {
   "cell_type": "code",
   "execution_count": 9,
   "metadata": {},
   "outputs": [],
   "source": [
    "import swmm.pandas as spd\n",
    "import swmm_api as api\n",
    "import swmm.pandas.input.sections as s\n",
    "import swmm.pandas.input._section_classes as sc\n",
    "import datetime\n",
    "import pandas as pd\n",
    "import numpy.testing as nptest\n",
    "import numpy as np\n",
    "from textwrap import dedent\n",
    "from pprint import pprint\n",
    "\n",
    "from calendar import month_abbr\n",
    "\n",
    "def month_to_number(abrr):\n",
    "    try:\n",
    "        return list(month_abbr).index(abrr.capitalize())\n",
    "    except:\n",
    "        return -1\n",
    "    \n",
    "inp = spd.Input('Model.inp')"
   ]
  },
  {
   "cell_type": "code",
   "execution_count": 10,
   "metadata": {},
   "outputs": [],
   "source": [
    "inp.storage.loc[\"STOR1\", \"A1_L\"] = 200\n",
    "inp.storage.loc[\"STOR1\", \"desc\"] = \"shrunk store\"\n",
    "\n"
   ]
  },
  {
   "cell_type": "code",
   "execution_count": 12,
   "metadata": {},
   "outputs": [
    {
     "name": "stdout",
     "output_type": "stream",
     "text": [
      ";;Name  Elev    MaxDepth  InitDepth  Shape       CurveName  A1_L  A2_W  A0_Z  SurDepth  Fevap  Psi  Ksat  IMD  \n",
      ";;----  ------  --------  ---------  ----------  ---------  ----  ----  ----  --------  -----  ---  ----  ---  \n",
      "JUNC5   -6.5    13.2      0          TABULAR     Store1                       0         2      2    2     0.5  \n",
      ";shrunk store\n",
      "STOR1   -15.25  21.75     0          FUNCTIONAL             200   1     2     10        3                      \n",
      "\n"
     ]
    }
   ],
   "source": [
    "print(';;Name  Elev    MaxDepth  InitDepth  Shape       CurveName  A1_L  A2_W  A0_Z  SurDepth  Fevap  Psi  Ksat  IMD  \\n;;----  ------  --------  ---------  ----------  ---------  ----  ----  ----  --------  -----  ---  ----  ---  \\nJUNC5   -6.5    13.2      0          TABULAR     Store1                       0         2      2    2     0.5  \\n;shrunk store\\nSTOR1   -15.25  21.75     0          FUNCTIONAL             200   1     2     10        3                      \\n')"
   ]
  },
  {
   "cell_type": "code",
   "execution_count": 11,
   "metadata": {},
   "outputs": [
    {
     "name": "stdout",
     "output_type": "stream",
     "text": [
      ";;Name  Elev    MaxDepth  InitDepth  Shape       CurveName  A1_L  A2_W  A0_Z  SurDepth  Fevap  Psi  Ksat  IMD  \n",
      ";;----  ------  --------  ---------  ----------  ---------  ----  ----  ----  --------  -----  ---  ----  ---  \n",
      "JUNC5   -6.5    13.2      0          TABULAR     Store1                       0         2      2    2     0.5  \n",
      ";shrunk store\n",
      "STOR1   -15.25  21.75     0          FUNCTIONAL             200   1     2     10        3                      \n",
      "\n"
     ]
    }
   ],
   "source": [
    "print(inp.storage.to_swmm_string())"
   ]
  },
  {
   "cell_type": "code",
   "execution_count": 19,
   "metadata": {},
   "outputs": [
    {
     "name": "stdout",
     "output_type": "stream",
     "text": [
      ";;Name  Elevation  Type        StageData    Gated  RouteTo  \n",
      ";;----  ---------  ----------  -----------  -----  -------  \n",
      ";changed to normal outfall\n",
      "OUT1    0.1        FREE                     NO              \n",
      "OUT2    -1.04      FREE                     NO              \n",
      "OUT3    0.0        TIMESERIES  head_series  YES    SUB1     \n",
      "\n"
     ]
    }
   ],
   "source": [
    "print(inp.outfall.to_swmm_string())"
   ]
  },
  {
   "cell_type": "code",
   "execution_count": 18,
   "metadata": {},
   "outputs": [],
   "source": [
    "        # inp = self.test_base_model\n",
    "        # self.assertEqual(inp.outfall.reset_index().shape, (3, 7))\n",
    "\n",
    "        inp.outfall.loc[\"OUT1\", \"TYPE\"] = \"NORMAL\"\n",
    "        inp.outfall.loc[\"OUT1\", \"desc\"] = \"changed to normal outfall\""
   ]
  },
  {
   "cell_type": "code",
   "execution_count": 13,
   "metadata": {},
   "outputs": [],
   "source": [
    "inp.junc.loc['JUNC4','Elevation']-=5\n",
    "inp.junc.loc['JUNC4','desc']=\"dropped invert 5ft\""
   ]
  },
  {
   "cell_type": "code",
   "execution_count": 15,
   "metadata": {},
   "outputs": [
    {
     "name": "stdout",
     "output_type": "stream",
     "text": [
      ";;Name  Elevation  MaxDepth  InitDepth  SurDepth  Aponded  \n",
      ";;----  ---------  --------  ---------  --------  -------  \n",
      "JUNC1   1.5        10.25     0          0         5000     \n",
      "JUNC2   -1.04      6.2       0          0         5000     \n",
      "JUNC3   -3.47      11.5      0          0         5000     \n",
      ";dropped invert 5ft\n",
      "JUNC4   -10.25     13.8      0          0         5000     \n",
      "JUNC6   0.0        9.0       0          200       0        \n",
      "\n"
     ]
    }
   ],
   "source": [
    "print(inp.junc.to_swmm_string())"
   ]
  },
  {
   "cell_type": "code",
   "execution_count": 2,
   "metadata": {},
   "outputs": [
    {
     "name": "stdout",
     "output_type": "stream",
     "text": [
      ";;Name           Date       Time       Value     \n",
      ";;-------------- ---------- ---------- ----------\n",
      ";SCS_Type_III_1in design storm, total rainfall = 1 in, rain interval = 6 minutes, rain units = in.\n",
      "SCS_Type_III_1in             0:00 0.00100 \n",
      "SCS_Type_III_1in             0:06 0.00100 \n",
      "SCS_Type_III_1in             0:12 0.00100 \n",
      "SCS_Type_III_1in             0:18 0.00100 \n",
      "SCS_Type_III_1in             0:24 0.00100 \n",
      "SCS_Type_III_1in             0:30 0.00100 \n",
      "SCS_Type_III_1in             0:36 0.00100 \n",
      "SCS_Type_III_1in             0:42 0.00100 \n",
      "SCS_Type_III_1in             0:48 0.00100 \n",
      "SCS_Type_III_1in             0:54 0.00100 \n",
      "SCS_Type_III_1in             1:00 0.00100 \n",
      "SCS_Type_III_1in             1:06 0.00100 \n",
      "SCS_Type_III_1in             1:12 0.00100 \n",
      "SCS_Type_III_1in             1:18 0.00100 \n",
      "SCS_Type_III_1in             1:24 0.00100 \n",
      "SCS_Type_III_1in             1:30 0.00100 \n",
      "SCS_Type_III_1in             1:36 0.00100 \n",
      "SCS_Type_III_1in             1:42 0.00100 \n",
      "SCS_Type_III_1in             1:48 0.00100 \n",
      "SCS_Type_III_1in             1:54 0.00100 \n",
      "SCS_Type_III_1in 01/01/2014 02:00 0.00101 \n",
      "SCS_Type_III_1in             2:06 0.00102 \n",
      "SCS_Type_III_1in             2:12 0.00104 \n",
      "SCS_Type_III_1in             2:18 0.00105 \n",
      "SCS_Type_III_1in             2:24 0.00107 \n",
      "SCS_Type_III_1in             2:30 0.00108 \n",
      "SCS_Type_III_1in             2:36 0.00110 \n",
      "SCS_Type_III_1in             2:42 0.00111 \n",
      "SCS_Type_III_1in             2:48 0.00113 \n",
      "SCS_Type_III_1in             2:54 0.00114 \n",
      "SCS_Type_III_1in             3:00 0.00116 \n",
      "SCS_Type_III_1in             3:06 0.00117 \n",
      "SCS_Type_III_1in             3:12 0.00119 \n",
      "SCS_Type_III_1in             3:18 0.00120 \n",
      "SCS_Type_III_1in             3:24 0.00122 \n",
      "SCS_Type_III_1in             3:30 0.00123 \n",
      "SCS_Type_III_1in             3:36 0.00125 \n",
      "SCS_Type_III_1in             3:42 0.00126 \n",
      "SCS_Type_III_1in             3:48 0.00128 \n",
      "SCS_Type_III_1in             3:54 0.00129 \n",
      "SCS_Type_III_1in             4:00 0.00131 \n",
      "SCS_Type_III_1in             4:06 0.00132 \n",
      "SCS_Type_III_1in             4:12 0.00134 \n",
      "SCS_Type_III_1in             4:18 0.00135 \n",
      "SCS_Type_III_1in             4:24 0.00137 \n",
      "SCS_Type_III_1in             4:30 0.00138 \n",
      "SCS_Type_III_1in             4:36 0.00140 \n",
      "SCS_Type_III_1in             4:42 0.00141 \n",
      "SCS_Type_III_1in             4:48 0.00143 \n",
      "SCS_Type_III_1in             4:54 0.00144 \n",
      "SCS_Type_III_1in             5:00 0.00146 \n",
      "SCS_Type_III_1in             5:06 0.00147 \n",
      "SCS_Type_III_1in             5:12 0.00149 \n",
      "SCS_Type_III_1in             5:18 0.00150 \n",
      "SCS_Type_III_1in             5:24 0.00152 \n",
      "SCS_Type_III_1in             5:30 0.00153 \n",
      "SCS_Type_III_1in             5:36 0.00155 \n",
      "SCS_Type_III_1in             5:42 0.00156 \n",
      "SCS_Type_III_1in             5:48 0.00158 \n",
      "SCS_Type_III_1in             5:54 0.00159 \n",
      "SCS_Type_III_1in             6:00 0.00163 \n",
      "SCS_Type_III_1in             6:06 0.00167 \n",
      "SCS_Type_III_1in             6:12 0.00173 \n",
      "SCS_Type_III_1in             6:18 0.00177 \n",
      "SCS_Type_III_1in             6:24 0.00183 \n",
      "SCS_Type_III_1in             6:30 0.00187 \n",
      "SCS_Type_III_1in             6:36 0.00193 \n",
      "SCS_Type_III_1in             6:42 0.00197 \n",
      "SCS_Type_III_1in             6:48 0.00203 \n",
      "SCS_Type_III_1in             6:54 0.00207 \n",
      "SCS_Type_III_1in             7:00 0.00213 \n",
      "SCS_Type_III_1in             7:06 0.00217 \n",
      "SCS_Type_III_1in             7:12 0.00223 \n",
      "SCS_Type_III_1in             7:18 0.00227 \n",
      "SCS_Type_III_1in             7:24 0.00233 \n",
      "SCS_Type_III_1in             7:30 0.00237 \n",
      "SCS_Type_III_1in             7:36 0.00243 \n",
      "SCS_Type_III_1in             7:42 0.00247 \n",
      "SCS_Type_III_1in             7:48 0.00253 \n",
      "SCS_Type_III_1in             7:54 0.00257 \n",
      "SCS_Type_III_1in             8:00 0.00266 \n",
      "SCS_Type_III_1in             8:06 0.00277 \n",
      "SCS_Type_III_1in             8:12 0.00289 \n",
      "SCS_Type_III_1in             8:18 0.00300 \n",
      "SCS_Type_III_1in             8:24 0.00312 \n",
      "SCS_Type_III_1in             8:30 0.00323 \n",
      "SCS_Type_III_1in             8:36 0.00335 \n",
      "SCS_Type_III_1in             8:42 0.00346 \n",
      "SCS_Type_III_1in             8:48 0.00358 \n",
      "SCS_Type_III_1in             8:54 0.00369 \n",
      "SCS_Type_III_1in             9:00 0.00381 \n",
      "SCS_Type_III_1in             9:06 0.00392 \n",
      "SCS_Type_III_1in             9:12 0.00404 \n",
      "SCS_Type_III_1in             9:18 0.00415 \n",
      "SCS_Type_III_1in             9:24 0.00427 \n",
      "SCS_Type_III_1in             9:30 0.00438 \n",
      "SCS_Type_III_1in             9:36 0.00450 \n",
      "SCS_Type_III_1in             9:42 0.00461 \n",
      "SCS_Type_III_1in             9:48 0.00473 \n",
      "SCS_Type_III_1in             9:54 0.00484 \n",
      "SCS_Type_III_1in            10:00 0.00502 \n",
      "SCS_Type_III_1in            10:06 0.00526 \n",
      "SCS_Type_III_1in            10:12 0.00550 \n",
      "SCS_Type_III_1in            10:18 0.00574 \n",
      "SCS_Type_III_1in            10:24 0.00598 \n",
      "SCS_Type_III_1in            10:30 0.00622 \n",
      "SCS_Type_III_1in            10:36 0.00646 \n",
      "SCS_Type_III_1in            10:42 0.00670 \n",
      "SCS_Type_III_1in            10:48 0.00694 \n",
      "SCS_Type_III_1in            10:54 0.00718 \n",
      "SCS_Type_III_1in            11:00 0.00776 \n",
      "SCS_Type_III_1in            11:06 0.00868 \n",
      "SCS_Type_III_1in            11:12 0.00960 \n",
      "SCS_Type_III_1in            11:18 0.01052 \n",
      "SCS_Type_III_1in            11:24 0.01144 \n",
      "SCS_Type_III_1in            11:30 0.01630 \n",
      "SCS_Type_III_1in            11:36 0.02510 \n",
      "SCS_Type_III_1in            11:42 0.03390 \n",
      "SCS_Type_III_1in            11:48 0.04270 \n",
      "SCS_Type_III_1in            11:54 0.08400 \n",
      "SCS_Type_III_1in            12:00 0.08400 \n",
      "SCS_Type_III_1in            12:06 0.04270 \n",
      "SCS_Type_III_1in            12:12 0.03390 \n",
      "SCS_Type_III_1in            12:18 0.02510 \n",
      "SCS_Type_III_1in            12:24 0.01630 \n",
      "SCS_Type_III_1in            12:30 0.01144 \n",
      "SCS_Type_III_1in            12:36 0.01052 \n",
      "SCS_Type_III_1in            12:42 0.00960 \n",
      "SCS_Type_III_1in            12:48 0.00868 \n",
      "SCS_Type_III_1in            12:54 0.00776 \n",
      "SCS_Type_III_1in            13:00 0.00718 \n",
      "SCS_Type_III_1in            13:06 0.00694 \n",
      "SCS_Type_III_1in            13:12 0.00670 \n",
      "SCS_Type_III_1in            13:18 0.00646 \n",
      "SCS_Type_III_1in            13:24 0.00622 \n",
      "SCS_Type_III_1in            13:30 0.00598 \n",
      "SCS_Type_III_1in            13:36 0.00574 \n",
      "SCS_Type_III_1in            13:42 0.00550 \n",
      "SCS_Type_III_1in            13:48 0.00526 \n",
      "SCS_Type_III_1in            13:54 0.00502 \n",
      "SCS_Type_III_1in            14:00 0.00484 \n",
      "SCS_Type_III_1in            14:06 0.00473 \n",
      "SCS_Type_III_1in            14:12 0.00461 \n",
      "SCS_Type_III_1in            14:18 0.00450 \n",
      "SCS_Type_III_1in            14:24 0.00438 \n",
      "SCS_Type_III_1in            14:30 0.00427 \n",
      "SCS_Type_III_1in            14:36 0.00415 \n",
      "SCS_Type_III_1in            14:42 0.00404 \n",
      "SCS_Type_III_1in            14:48 0.00392 \n",
      "SCS_Type_III_1in            14:54 0.00381 \n",
      "SCS_Type_III_1in            15:00 0.00369 \n",
      "SCS_Type_III_1in            15:06 0.00358 \n",
      "SCS_Type_III_1in            15:12 0.00346 \n",
      "SCS_Type_III_1in            15:18 0.00335 \n",
      "SCS_Type_III_1in            15:24 0.00323 \n",
      "SCS_Type_III_1in            15:30 0.00312 \n",
      "SCS_Type_III_1in            15:36 0.00300 \n",
      "SCS_Type_III_1in            15:42 0.00289 \n",
      "SCS_Type_III_1in            15:48 0.00277 \n",
      "SCS_Type_III_1in            15:54 0.00266 \n",
      "SCS_Type_III_1in            16:00 0.00258 \n",
      "SCS_Type_III_1in            16:06 0.00252 \n",
      "SCS_Type_III_1in            16:12 0.00248 \n",
      "SCS_Type_III_1in            16:18 0.00242 \n",
      "SCS_Type_III_1in            16:24 0.00238 \n",
      "SCS_Type_III_1in            16:30 0.00232 \n",
      "SCS_Type_III_1in            16:36 0.00228 \n",
      "SCS_Type_III_1in            16:42 0.00222 \n",
      "SCS_Type_III_1in            16:48 0.00218 \n",
      "SCS_Type_III_1in            16:54 0.00212 \n",
      "SCS_Type_III_1in            17:00 0.00208 \n",
      "SCS_Type_III_1in            17:06 0.00202 \n",
      "SCS_Type_III_1in            17:12 0.00198 \n",
      "SCS_Type_III_1in            17:18 0.00192 \n",
      "SCS_Type_III_1in            17:24 0.00188 \n",
      "SCS_Type_III_1in            17:30 0.00182 \n",
      "SCS_Type_III_1in            17:36 0.00178 \n",
      "SCS_Type_III_1in            17:42 0.00172 \n",
      "SCS_Type_III_1in            17:48 0.00168 \n",
      "SCS_Type_III_1in            17:54 0.00162 \n",
      "SCS_Type_III_1in            18:00 0.00159 \n",
      "SCS_Type_III_1in            18:06 0.00158 \n",
      "SCS_Type_III_1in            18:12 0.00156 \n",
      "SCS_Type_III_1in            18:18 0.00155 \n",
      "SCS_Type_III_1in            18:24 0.00153 \n",
      "SCS_Type_III_1in            18:30 0.00152 \n",
      "SCS_Type_III_1in            18:36 0.00150 \n",
      "SCS_Type_III_1in            18:42 0.00149 \n",
      "SCS_Type_III_1in            18:48 0.00147 \n",
      "SCS_Type_III_1in            18:54 0.00146 \n",
      "SCS_Type_III_1in            19:00 0.00144 \n",
      "SCS_Type_III_1in            19:06 0.00143 \n",
      "SCS_Type_III_1in            19:12 0.00141 \n",
      "SCS_Type_III_1in            19:18 0.00140 \n",
      "SCS_Type_III_1in            19:24 0.00138 \n",
      "SCS_Type_III_1in            19:30 0.00137 \n",
      "SCS_Type_III_1in            19:36 0.00135 \n",
      "SCS_Type_III_1in            19:42 0.00134 \n",
      "SCS_Type_III_1in            19:48 0.00132 \n",
      "SCS_Type_III_1in            19:54 0.00131 \n",
      "SCS_Type_III_1in            20:00 0.00129 \n",
      "SCS_Type_III_1in            20:06 0.00129 \n",
      "SCS_Type_III_1in            20:12 0.00127 \n",
      "SCS_Type_III_1in            20:18 0.00126 \n",
      "SCS_Type_III_1in            20:24 0.00125 \n",
      "SCS_Type_III_1in            20:30 0.00124 \n",
      "SCS_Type_III_1in            20:36 0.00122 \n",
      "SCS_Type_III_1in            20:42 0.00122 \n",
      "SCS_Type_III_1in            20:48 0.00120 \n",
      "SCS_Type_III_1in            20:54 0.00120 \n",
      "SCS_Type_III_1in            21:00 0.00118 \n",
      "SCS_Type_III_1in            21:06 0.00117 \n",
      "SCS_Type_III_1in            21:12 0.00116 \n",
      "SCS_Type_III_1in            21:18 0.00115 \n",
      "SCS_Type_III_1in            21:24 0.00113 \n",
      "SCS_Type_III_1in            21:30 0.00113 \n",
      "SCS_Type_III_1in            21:36 0.00111 \n",
      "SCS_Type_III_1in            21:42 0.00111 \n",
      "SCS_Type_III_1in            21:48 0.00109 \n",
      "SCS_Type_III_1in            21:54 0.00108 \n",
      "SCS_Type_III_1in            22:00 0.00107 \n",
      "SCS_Type_III_1in            22:06 0.00106 \n",
      "SCS_Type_III_1in            22:12 0.00104 \n",
      "SCS_Type_III_1in            22:18 0.00104 \n",
      "SCS_Type_III_1in            22:24 0.00102 \n",
      "SCS_Type_III_1in            22:30 0.00102 \n",
      "SCS_Type_III_1in            22:36 0.00100 \n",
      "SCS_Type_III_1in            22:42 0.00099 \n",
      "SCS_Type_III_1in            22:48 0.00098 \n",
      "SCS_Type_III_1in            22:54 0.00097 \n",
      "SCS_Type_III_1in            23:00 0.00095 \n",
      "SCS_Type_III_1in            23:06 0.00095 \n",
      "SCS_Type_III_1in            23:12 0.00093 \n",
      "SCS_Type_III_1in            23:18 0.00093 \n",
      "SCS_Type_III_1in            23:24 0.00091 \n",
      "SCS_Type_III_1in            23:30 0.00090 \n",
      "SCS_Type_III_1in            23:36 0.00089 \n",
      "SCS_Type_III_1in            23:42 0.00088 \n",
      "SCS_Type_III_1in            23:48 0.00086 \n",
      "SCS_Type_III_1in            23:54 0.00086 \n",
      "\n",
      ";SCS_Type_III_3in design storm, total rainfall = 3 in, rain units = in.\n",
      "SCS_Type_III_3in  0:00 0.00750 \n",
      "SCS_Type_III_3in  0:15 0.00750 \n",
      "SCS_Type_III_3in  0:30 0.00750 \n",
      "SCS_Type_III_3in  0:45 0.00750 \n",
      "SCS_Type_III_3in  1:00 0.00750 \n",
      "SCS_Type_III_3in  1:15 0.00750 \n",
      "SCS_Type_III_3in  1:30 0.00750 \n",
      "SCS_Type_III_3in  1:45 0.00750 \n",
      "SCS_Type_III_3in  2:00 0.00863 \n",
      "SCS_Type_III_3in  2:15 0.00863 \n",
      "SCS_Type_III_3in  2:30 0.00863 \n",
      "SCS_Type_III_3in  2:45 0.00863 \n",
      "SCS_Type_III_3in  3:00 0.00863 \n",
      "SCS_Type_III_3in  3:15 0.00863 \n",
      "SCS_Type_III_3in  3:30 0.00863 \n",
      "SCS_Type_III_3in  3:45 0.00863 \n",
      "SCS_Type_III_3in  4:00 0.01090 \n",
      "SCS_Type_III_3in  4:15 0.01090 \n",
      "SCS_Type_III_3in  4:30 0.01090 \n",
      "SCS_Type_III_3in  4:45 0.01090 \n",
      "SCS_Type_III_3in  5:00 0.01090 \n",
      "SCS_Type_III_3in  5:15 0.01090 \n",
      "SCS_Type_III_3in  5:30 0.01090 \n",
      "SCS_Type_III_3in  5:45 0.01090 \n",
      "SCS_Type_III_3in  6:00 0.01270 \n",
      "SCS_Type_III_3in  6:15 0.01270 \n",
      "SCS_Type_III_3in  6:30 0.01270 \n",
      "SCS_Type_III_3in  6:45 0.01270 \n",
      "SCS_Type_III_3in  7:00 0.01950 \n",
      "SCS_Type_III_3in  7:15 0.01950 \n",
      "SCS_Type_III_3in  7:30 0.01950 \n",
      "SCS_Type_III_3in  7:45 0.01950 \n",
      "SCS_Type_III_3in  8:00 0.02250 \n",
      "SCS_Type_III_3in  8:15 0.02250 \n",
      "SCS_Type_III_3in  8:30 0.02700 \n",
      "SCS_Type_III_3in  8:45 0.02700 \n",
      "SCS_Type_III_3in  9:00 0.02850 \n",
      "SCS_Type_III_3in  9:15 0.02850 \n",
      "SCS_Type_III_3in  9:30 0.03300 \n",
      "SCS_Type_III_3in  9:45 0.03300 \n",
      "SCS_Type_III_3in 10:00 0.04050 \n",
      "SCS_Type_III_3in 10:15 0.04050 \n",
      "SCS_Type_III_3in 10:30 0.05100 \n",
      "SCS_Type_III_3in 10:45 0.05100 \n",
      "SCS_Type_III_3in 11:00 0.07200 \n",
      "SCS_Type_III_3in 11:15 0.07200 \n",
      "SCS_Type_III_3in 11:30 0.12300 \n",
      "SCS_Type_III_3in 11:45 0.48300 \n",
      "SCS_Type_III_3in 12:00 0.30300 \n",
      "SCS_Type_III_3in 12:15 0.30300 \n",
      "SCS_Type_III_3in 12:30 0.07350 \n",
      "SCS_Type_III_3in 12:45 0.07350 \n",
      "SCS_Type_III_3in 13:00 0.05100 \n",
      "SCS_Type_III_3in 13:15 0.05100 \n",
      "SCS_Type_III_3in 13:30 0.03900 \n",
      "SCS_Type_III_3in 13:45 0.03900 \n",
      "SCS_Type_III_3in 14:00 0.02810 \n",
      "SCS_Type_III_3in 14:15 0.02810 \n",
      "SCS_Type_III_3in 14:30 0.02810 \n",
      "SCS_Type_III_3in 14:45 0.02810 \n",
      "SCS_Type_III_3in 15:00 0.02810 \n",
      "SCS_Type_III_3in 15:15 0.02810 \n",
      "SCS_Type_III_3in 15:30 0.02810 \n",
      "SCS_Type_III_3in 15:45 0.02810 \n",
      "SCS_Type_III_3in 16:00 0.01330 \n",
      "SCS_Type_III_3in 16:15 0.01330 \n",
      "SCS_Type_III_3in 16:30 0.01330 \n",
      "SCS_Type_III_3in 16:45 0.01330 \n",
      "SCS_Type_III_3in 17:00 0.01330 \n",
      "SCS_Type_III_3in 17:15 0.01330 \n",
      "SCS_Type_III_3in 17:30 0.01330 \n",
      "SCS_Type_III_3in 17:45 0.01330 \n",
      "SCS_Type_III_3in 18:00 0.01330 \n",
      "SCS_Type_III_3in 18:15 0.01330 \n",
      "SCS_Type_III_3in 18:30 0.01330 \n",
      "SCS_Type_III_3in 18:45 0.01330 \n",
      "SCS_Type_III_3in 19:00 0.01330 \n",
      "SCS_Type_III_3in 19:15 0.01330 \n",
      "SCS_Type_III_3in 19:30 0.01330 \n",
      "SCS_Type_III_3in 19:45 0.01330 \n",
      "SCS_Type_III_3in 20:00 0.00806 \n",
      "SCS_Type_III_3in 20:15 0.00806 \n",
      "SCS_Type_III_3in 20:30 0.00806 \n",
      "SCS_Type_III_3in 20:45 0.00806 \n",
      "SCS_Type_III_3in 21:00 0.00806 \n",
      "SCS_Type_III_3in 21:15 0.00806 \n",
      "SCS_Type_III_3in 21:30 0.00806 \n",
      "SCS_Type_III_3in 21:45 0.00806 \n",
      "SCS_Type_III_3in 22:00 0.00806 \n",
      "SCS_Type_III_3in 22:15 0.00806 \n",
      "SCS_Type_III_3in 22:30 0.00806 \n",
      "SCS_Type_III_3in 22:45 0.00806 \n",
      "SCS_Type_III_3in 23:00 0.00806 \n",
      "SCS_Type_III_3in 23:15 0.00806 \n",
      "SCS_Type_III_3in 23:30 0.00806 \n",
      "SCS_Type_III_3in 23:45 0.00806 \n",
      "\n",
      "Temp 01/01/1900 00:00 70 \n",
      "Temp 01/01/2000 00:00 70 \n",
      "\n",
      "head_series 01/01/1900 00:00 70 \n",
      "head_series 01/01/2000 00:00 70 \n",
      "\n",
      "file_series  FILE  \"\\\\wsl\\ckaros\\src\\swmm-pandas\\tests\\data\\rain.dat\"\n",
      "\n",
      "\n"
     ]
    }
   ],
   "source": [
    "print(inp.timeseries.to_swmm_string())"
   ]
  },
  {
   "cell_type": "code",
   "execution_count": 1,
   "metadata": {},
   "outputs": [],
   "source": [
    "from email import header\n",
    "\n",
    "\n",
    "def _timeseries_to_swmm_dat(df):\n",
    "    def time_formatter(x):\n",
    "        if isinstance(x, pd.Timedelta):\n",
    "            total_seconds = x.total_seconds()\n",
    "            hours = int(total_seconds // 3600)  # Get the total hours\n",
    "            minutes = int((total_seconds % 3600) // 60)  # Get the remaining minutes\n",
    "            return f\"{hours}:{minutes:02}\"\n",
    "        elif isinstance(x, pd.Timestamp):\n",
    "            return x.strftime(\"%m/%d/%Y %H:%M\")\n",
    "        elif isinstance(x, (float, int)):\n",
    "            return x\n",
    "\n",
    "    def comment_formatter(x):\n",
    "        if len(x)>0:\n",
    "            return \";\" + x.strip(\"\\n\").strip(';').strip().replace(\"\\n\", \"\\n;\")\n",
    "        else:\n",
    "            return \"\"\n",
    "\n",
    "    df = df.reindex([\"value\", \"comment\"], axis=1)\n",
    "    comment = df.attrs.get('comment')\n",
    "    if len(comment:=df.attrs.get('comment',''))>0:\n",
    "        comment_line = comment_formatter(comment) + '\\n'\n",
    "    return comment_line+df.reset_index(names=\"time\").to_string(\n",
    "        formatters=dict(time=time_formatter, comment=comment_formatter),index=False,header=False\n",
    "    )\n"
   ]
  },
  {
   "cell_type": "code",
   "execution_count": null,
   "metadata": {},
   "outputs": [],
   "source": [
    "inp.timeseries"
   ]
  },
  {
   "cell_type": "code",
   "execution_count": null,
   "metadata": {},
   "outputs": [],
   "source": []
  },
  {
   "cell_type": "code",
   "execution_count": 13,
   "metadata": {},
   "outputs": [],
   "source": [
    "inp.timeseries['SCS_Type_III_1in  '].loc['1900-01-01','comment']='this is a commnt\\nthis'"
   ]
  },
  {
   "cell_type": "code",
   "execution_count": null,
   "metadata": {},
   "outputs": [],
   "source": [
    "print(_timeseries_to_swmm_dat(inp.timeseries['SCS_Type_III_1in']))"
   ]
  },
  {
   "cell_type": "code",
   "execution_count": null,
   "metadata": {},
   "outputs": [],
   "source": [
    "inp.timeseries"
   ]
  },
  {
   "cell_type": "code",
   "execution_count": 3,
   "metadata": {},
   "outputs": [],
   "source": [
    "pd.options.display.max_rows = 300"
   ]
  },
  {
   "cell_type": "code",
   "execution_count": 17,
   "metadata": {},
   "outputs": [],
   "source": [
    "td = pd.Timedelta('50:00:00')"
   ]
  },
  {
   "cell_type": "code",
   "execution_count": null,
   "metadata": {},
   "outputs": [],
   "source": [
    "td."
   ]
  },
  {
   "cell_type": "code",
   "execution_count": null,
   "metadata": {},
   "outputs": [],
   "source": [
    "def time_formatter(x):\n",
    "    if isinstance(x,pd.Timedelta):\n",
    "        total_seconds = x.total_seconds()\n",
    "        hours = int(total_seconds // 3600)   # Get the total hours\n",
    "        minutes = int((total_seconds % 3600) // 60)  # Get the remaining minutes\n",
    "        return f\"{hours}:{minutes:02}\"\n",
    "    elif isinstance(x,pd.Timestamp):\n",
    "        return x.strftime('%m/%d/%Y %H:%M')\n",
    "    elif isinstance(x,(float,int)):\n",
    "        return x\n",
    "print(inp.timeseries['SCS_Type_III_1in']['value'].reset_index(names='time').to_string(formatters=dict(time=time_formatter)))"
   ]
  },
  {
   "cell_type": "code",
   "execution_count": null,
   "metadata": {},
   "outputs": [],
   "source": [
    "inp.timeseries['SCS_Type_III_1in']['value'].reset_index(names='time')"
   ]
  },
  {
   "cell_type": "code",
   "execution_count": null,
   "metadata": {},
   "outputs": [],
   "source": [
    "inp.timeseries['SCS_Type_III_1in'].index.to_series.apply(time_formatter)"
   ]
  },
  {
   "cell_type": "code",
   "execution_count": null,
   "metadata": {},
   "outputs": [],
   "source": [
    "inp.timeseries._timeseries['file_series']"
   ]
  },
  {
   "cell_type": "code",
   "execution_count": null,
   "metadata": {},
   "outputs": [],
   "source": [
    "inp.hydrographs"
   ]
  },
  {
   "cell_type": "code",
   "execution_count": null,
   "metadata": {},
   "outputs": [],
   "source": [
    "print(inp.curves.to_swmm_string())"
   ]
  },
  {
   "cell_type": "code",
   "execution_count": null,
   "metadata": {},
   "outputs": [],
   "source": [
    "inp.curves.to_swmm_string()"
   ]
  },
  {
   "cell_type": "code",
   "execution_count": null,
   "metadata": {},
   "outputs": [],
   "source": [
    "inp.curves.loc[('P1',1),['X_Value','Y_Value']] #= [10,10]"
   ]
  },
  {
   "cell_type": "code",
   "execution_count": null,
   "metadata": {},
   "outputs": [],
   "source": [
    "print(inp.curves)"
   ]
  },
  {
   "cell_type": "code",
   "execution_count": null,
   "metadata": {},
   "outputs": [],
   "source": [
    "print(inp.curves.to_swmm_string())"
   ]
  },
  {
   "cell_type": "code",
   "execution_count": null,
   "metadata": {},
   "outputs": [],
   "source": [
    "print(inp.hydrographs.to_swmm_string())\n"
   ]
  },
  {
   "cell_type": "code",
   "execution_count": 32,
   "metadata": {},
   "outputs": [],
   "source": [
    "df = pd.DataFrame(index = [[hyd,rg,''] for hyd,rg in inp.hydrographs.attrs.items()])"
   ]
  },
  {
   "cell_type": "code",
   "execution_count": null,
   "metadata": {},
   "outputs": [],
   "source": [
    "df.index"
   ]
  },
  {
   "cell_type": "code",
   "execution_count": null,
   "metadata": {},
   "outputs": [],
   "source": [
    "[[hyd,rg,''] for hyd,rg in inp.hydrographs.attrs.items()]"
   ]
  },
  {
   "cell_type": "code",
   "execution_count": null,
   "metadata": {},
   "outputs": [],
   "source": [
    "inp.hydrographs.attrs"
   ]
  },
  {
   "cell_type": "code",
   "execution_count": 3,
   "metadata": {},
   "outputs": [],
   "source": [
    "inp.hydrographs.add_element(Name='Hyd100',Month_RG='RG10',Response='')"
   ]
  },
  {
   "cell_type": "code",
   "execution_count": null,
   "metadata": {},
   "outputs": [],
   "source": [
    "inp.hydrographs"
   ]
  },
  {
   "cell_type": "code",
   "execution_count": null,
   "metadata": {},
   "outputs": [],
   "source": [
    "pd.DataFrame.from_dict(inp.hydrographs.attrs,orient='index')"
   ]
  },
  {
   "cell_type": "code",
   "execution_count": null,
   "metadata": {},
   "outputs": [],
   "source": []
  },
  {
   "cell_type": "code",
   "execution_count": null,
   "metadata": {},
   "outputs": [],
   "source": [
    "def month_to_number(month):\n",
    "    try:\n",
    "        return list(month_abbr).index(month.capitalize())\n",
    "    except ValueError:\n",
    "        # Return a large number if the month abbreviation is not recognized\n",
    "        return -1  # This will sort unrecognized months to the end\n",
    "\n",
    "# Assuming inp.hydrographs is your DataFrame\n",
    "df = inp.hydrographs\n",
    "\n",
    "def index_mapper(index):\n",
    "    if index.name=='Month_RG':\n",
    "        return index.map(month_to_number)\n",
    "    else:\n",
    "        return index\n",
    "# Sort the DataFrame\n",
    "sorted_df = df.sort_index().sort_index(ascending=[True,True,False],key=index_mapper)\n",
    "\n",
    "print(sorted_df)\n"
   ]
  },
  {
   "cell_type": "code",
   "execution_count": null,
   "metadata": {},
   "outputs": [],
   "source": [
    "inp.hydrographs.index.get_level_values('Month_RG').map(month_to_number)"
   ]
  },
  {
   "cell_type": "code",
   "execution_count": 38,
   "metadata": {},
   "outputs": [],
   "source": [
    "# Function to safely get level values\n",
    "def safe_get_level_values(index, level_name):\n",
    "    try:\n",
    "        return index.get_level_values(level_name)\n",
    "    except KeyError:\n",
    "        return None\n",
    "\n",
    "# Prepare the sorting key\n",
    "sort_key = []\n",
    "for name in ['Name', 'Month_RG', 'Response']:\n",
    "    level_values = safe_get_level_values(inp.hydrographs.index, name)\n",
    "    if level_values is not None:\n",
    "        if name == 'Month_RG':\n",
    "            sort_key.append(level_values.map(month_to_number))\n",
    "        else:\n",
    "            sort_key.append(level_values)\n"
   ]
  },
  {
   "cell_type": "code",
   "execution_count": null,
   "metadata": {},
   "outputs": [],
   "source": [
    "sort_key"
   ]
  },
  {
   "cell_type": "code",
   "execution_count": null,
   "metadata": {},
   "outputs": [],
   "source": [
    "inp.hydrographs.sort_index().sort_index(key=lambda index: [\n",
    "    index.get_level_values('Name'),\n",
    "    index.get_level_values('Month_RG').map(month_to_number),\n",
    "    index.get_level_values('Response')\n",
    "])"
   ]
  },
  {
   "cell_type": "code",
   "execution_count": null,
   "metadata": {},
   "outputs": [],
   "source": [
    "inp.hydrographs.iloc[0]"
   ]
  },
  {
   "cell_type": "code",
   "execution_count": null,
   "metadata": {},
   "outputs": [],
   "source": [
    "pd.__version__"
   ]
  },
  {
   "cell_type": "code",
   "execution_count": null,
   "metadata": {},
   "outputs": [],
   "source": [
    "inp.hydrographs.add_element(pd.Series(name='HydrA',index=['Month/RG'],data=[1]))"
   ]
  },
  {
   "cell_type": "code",
   "execution_count": null,
   "metadata": {},
   "outputs": [],
   "source": [
    "inp.hydrographs.__class__.__newobj__"
   ]
  },
  {
   "cell_type": "code",
   "execution_count": null,
   "metadata": {},
   "outputs": [],
   "source": [
    "print(inp.hydrographs.to_swmm_string())"
   ]
  },
  {
   "cell_type": "code",
   "execution_count": 20,
   "metadata": {},
   "outputs": [],
   "source": [
    "inp = spd.Input('./LID_Model.inp')"
   ]
  },
  {
   "cell_type": "code",
   "execution_count": null,
   "metadata": {},
   "outputs": [],
   "source": [
    "inp.subcatchment.reset_index('Outlet')"
   ]
  },
  {
   "cell_type": "code",
   "execution_count": null,
   "metadata": {},
   "outputs": [],
   "source": [
    "print(inp.lid_usage.to_swmm_string())"
   ]
  },
  {
   "cell_type": "code",
   "execution_count": null,
   "metadata": {},
   "outputs": [],
   "source": [
    "inp.hydrographs"
   ]
  },
  {
   "cell_type": "code",
   "execution_count": null,
   "metadata": {},
   "outputs": [],
   "source": [
    "inp.hydrographs.to_swmm_string()"
   ]
  },
  {
   "cell_type": "code",
   "execution_count": null,
   "metadata": {},
   "outputs": [],
   "source": [
    "print(inp.hydrographs.to_string())"
   ]
  },
  {
   "cell_type": "code",
   "execution_count": 12,
   "metadata": {},
   "outputs": [],
   "source": [
    "def is_raingauge_row(row):\n",
    "    non_empty_values = row[row != ''].sum()\n",
    "    return non_empty_values == 1\n",
    "\n",
    "def find_raingauge_rows(df):\n",
    "    # Function to check if a row matches the raingauge criteria\n",
    "\n",
    "    # Apply the function to each row and get the indices where it's True\n",
    "    raingauge_indices = df.loc[df.apply(is_raingauge_row, axis=0)].index.tolist()\n",
    "    \n",
    "    return raingauge_indices"
   ]
  },
  {
   "cell_type": "code",
   "execution_count": null,
   "metadata": {},
   "outputs": [],
   "source": [
    "inp.hydrographs.iloc[0]"
   ]
  },
  {
   "cell_type": "code",
   "execution_count": null,
   "metadata": {},
   "outputs": [],
   "source": [
    "inp.hydrographs.apply(is_raingauge_row,axis=1)"
   ]
  },
  {
   "cell_type": "code",
   "execution_count": null,
   "metadata": {},
   "outputs": [],
   "source": [
    "find_raingauge_rows(inp.hydrographs)"
   ]
  },
  {
   "cell_type": "code",
   "execution_count": 11,
   "metadata": {},
   "outputs": [],
   "source": [
    "inp.report.FLOWSTATS"
   ]
  },
  {
   "cell_type": "code",
   "execution_count": null,
   "metadata": {},
   "outputs": [],
   "source": [
    "inp.adjustments"
   ]
  },
  {
   "cell_type": "code",
   "execution_count": 13,
   "metadata": {},
   "outputs": [],
   "source": [
    "inp.adjustments.loc['TEMPERATURE',:]=0"
   ]
  },
  {
   "cell_type": "code",
   "execution_count": null,
   "metadata": {},
   "outputs": [],
   "source": [
    "print(inp.adjustments.to_swmm_string())"
   ]
  },
  {
   "cell_type": "code",
   "execution_count": null,
   "metadata": {},
   "outputs": [],
   "source": [
    "inp = spd.Input('LID_Model.inp')"
   ]
  },
  {
   "cell_type": "code",
   "execution_count": null,
   "metadata": {},
   "outputs": [],
   "source": [
    "inp.adjustments"
   ]
  },
  {
   "cell_type": "code",
   "execution_count": null,
   "metadata": {},
   "outputs": [],
   "source": [
    "inp.report.LID[1].Fname"
   ]
  },
  {
   "cell_type": "code",
   "execution_count": null,
   "metadata": {},
   "outputs": [],
   "source": [
    "sc.Option.__doc__"
   ]
  },
  {
   "cell_type": "code",
   "execution_count": null,
   "metadata": {},
   "outputs": [],
   "source": [
    "inp.option.__annotations__"
   ]
  },
  {
   "cell_type": "code",
   "execution_count": null,
   "metadata": {},
   "outputs": [],
   "source": [
    "inp.infil._data"
   ]
  },
  {
   "cell_type": "code",
   "execution_count": null,
   "metadata": {},
   "outputs": [],
   "source": [
    "inp.infil.columns"
   ]
  },
  {
   "cell_type": "code",
   "execution_count": null,
   "metadata": {},
   "outputs": [],
   "source": [
    "nptest.assert_equal(\n",
    "    inp.infil.values,\n",
    "    np.array([[4.3, 0.86, 0.23, '', '', '', ''],\n",
    "       [4.3, 0.86, 0.23, '', '', 'MODIFIED_GREEN_AMPT', ''],\n",
    "       [4.3, 0.86, 0.23, 0.04, 2, 'HORTON', '']],dtype=object)\n",
    ")"
   ]
  },
  {
   "cell_type": "code",
   "execution_count": null,
   "metadata": {},
   "outputs": [],
   "source": [
    "inp.infil.values"
   ]
  },
  {
   "cell_type": "code",
   "execution_count": null,
   "metadata": {},
   "outputs": [],
   "source": [
    "inp.infil.loc[\"FAKE_SUB\"] = [0,0,0,0,0,\"\",\"This is fake\"]"
   ]
  },
  {
   "cell_type": "code",
   "execution_count": null,
   "metadata": {},
   "outputs": [],
   "source": []
  },
  {
   "cell_type": "code",
   "execution_count": null,
   "metadata": {},
   "outputs": [],
   "source": [
    "inp.infil.loc['my_really_long_subcatchment_name_that_should','param1'] = 'this'"
   ]
  },
  {
   "cell_type": "code",
   "execution_count": null,
   "metadata": {},
   "outputs": [],
   "source": [
    "print(inp.infil.to_swmm_string())"
   ]
  },
  {
   "cell_type": "code",
   "execution_count": null,
   "metadata": {},
   "outputs": [],
   "source": [
    "inp.subcatchment['Width'] = inp.subcatchment.Area**0.6\n",
    "# inp.temperature.loc['FILE','param1':'param3'] = ['./climate.dat','1/1/1900','F']"
   ]
  },
  {
   "cell_type": "code",
   "execution_count": null,
   "metadata": {},
   "outputs": [],
   "source": [
    "print(inp.subcatchment.to_swmm_string())"
   ]
  },
  {
   "cell_type": "code",
   "execution_count": null,
   "metadata": {},
   "outputs": [],
   "source": [
    "print(dedent(\"\"\"\\\n",
    "                ;;Name  RainGage          Outlet  Area  PctImp  Width              Slope  CurbLeng  SnowPack  \n",
    "                ;;----  ----------------  ------  ----  ------  -----------------  -----  --------  --------  \n",
    "                SUB1    SCS_Type_III_3in  JUNC1   5     30.83   2.626527804403767  0.5    0         SNOW1     \n",
    "                SUB2    SCS_Type_III_3in  JUNC2   17    40.74   5.473553316918489  0.5    0         SNOW1     \n",
    "                SUB3    SCS_Type_III_3in  JUNC4   38    62.21   8.868908165896258  0.5    0         SNOW1     \n",
    "                \"\"\"))"
   ]
  },
  {
   "cell_type": "code",
   "execution_count": null,
   "metadata": {},
   "outputs": [],
   "source": []
  },
  {
   "cell_type": "code",
   "execution_count": null,
   "metadata": {},
   "outputs": [],
   "source": []
  },
  {
   "cell_type": "code",
   "execution_count": null,
   "metadata": {},
   "outputs": [],
   "source": [
    "print(inp.adjustments.to_swmm_string().split('\\n')[3].strip())"
   ]
  },
  {
   "cell_type": "code",
   "execution_count": null,
   "metadata": {},
   "outputs": [],
   "source": [
    "inp.temperature.loc['FILE','desc']"
   ]
  },
  {
   "cell_type": "code",
   "execution_count": null,
   "metadata": {},
   "outputs": [],
   "source": [
    "inp.temperature.to_swmm_string().split(\"\\n\")[7].strip()"
   ]
  },
  {
   "cell_type": "code",
   "execution_count": null,
   "metadata": {},
   "outputs": [],
   "source": []
  },
  {
   "cell_type": "code",
   "execution_count": null,
   "metadata": {},
   "outputs": [],
   "source": [
    "pd.isnull()"
   ]
  },
  {
   "cell_type": "code",
   "execution_count": null,
   "metadata": {},
   "outputs": [],
   "source": [
    "inp.temperature"
   ]
  },
  {
   "cell_type": "code",
   "execution_count": null,
   "metadata": {},
   "outputs": [],
   "source": [
    "inp.temperature.to_swmm_string()"
   ]
  },
  {
   "cell_type": "code",
   "execution_count": null,
   "metadata": {},
   "outputs": [],
   "source": [
    "sc.Temperature.from_section_text(\n",
    "    \"\"\"\n",
    "    TIMESERIES   Temp\n",
    "    WINDSPEED    MONTHLY    8.900000 11.400000 9.900000 9.800000 8.700000 8.000000 7.300000 7.000000 7.300000 7.800000 8.400000 8.700000\n",
    "    SNOWMELT               34.000000 0.500000 0.600000 20.000000 41.599998 -4.000000\n",
    "    ADC          IMPERVIOUS 1.0 1.0 1.0 1.0 1.0 1.0 1.0 1.0 1.0 1.0\n",
    "    ADC          PERVIOUS   1.0 1.0 1.0 1.0 1.0 1.0 1.0 1.0 1.0 1.0\n",
    "    \"\"\"\n",
    ")"
   ]
  },
  {
   "cell_type": "code",
   "execution_count": null,
   "metadata": {},
   "outputs": [],
   "source": []
  },
  {
   "cell_type": "code",
   "execution_count": null,
   "metadata": {},
   "outputs": [],
   "source": [
    "len(inp.temperature.columns)"
   ]
  },
  {
   "cell_type": "code",
   "execution_count": null,
   "metadata": {},
   "outputs": [],
   "source": [
    "inp.raingage.loc['SCS_Type_III_3in'].values"
   ]
  },
  {
   "cell_type": "code",
   "execution_count": null,
   "metadata": {},
   "outputs": [],
   "source": [
    "inp.option.__class__._from_mgr"
   ]
  },
  {
   "cell_type": "code",
   "execution_count": null,
   "metadata": {},
   "outputs": [],
   "source": [
    "inp.option.loc[\"ROUTING_STEP\", \"Value\"] = 50\n",
    "inp.option.loc[\"ROUTING_STEP\", \"desc\"] = 'Updated routing step'"
   ]
  },
  {
   "cell_type": "code",
   "execution_count": null,
   "metadata": {},
   "outputs": [],
   "source": [
    "inp.option.to_swmm_string().split(\"\\n\")[22]"
   ]
  },
  {
   "cell_type": "code",
   "execution_count": null,
   "metadata": {},
   "outputs": [],
   "source": [
    "inp.event.to_swmm_string().split(\"\\n\")[4].split()"
   ]
  },
  {
   "cell_type": "code",
   "execution_count": null,
   "metadata": {},
   "outputs": [],
   "source": []
  },
  {
   "cell_type": "code",
   "execution_count": null,
   "metadata": {},
   "outputs": [],
   "source": [
    "inp.option.loc[\"ROUTING_STEP\", \"Value\"] = 50\n",
    "inp.option.loc[\"ROUTING_STEP\", \"desc\"] = 'Updated routing step'"
   ]
  },
  {
   "cell_type": "code",
   "execution_count": null,
   "metadata": {},
   "outputs": [],
   "source": [
    "inp = spd.Input('Model.inp')"
   ]
  },
  {
   "cell_type": "code",
   "execution_count": null,
   "metadata": {},
   "outputs": [],
   "source": [
    "all(inp.raingage.columns == ['Format', 'Interval', 'SCF', 'Source_Type', 'Source', 'Station','Units', 'desc'])"
   ]
  },
  {
   "cell_type": "code",
   "execution_count": null,
   "metadata": {},
   "outputs": [],
   "source": [
    "inp.raingage.iloc[0].values"
   ]
  },
  {
   "cell_type": "code",
   "execution_count": null,
   "metadata": {},
   "outputs": [],
   "source": [
    "inp.raingage.loc['SCS_Type_III_3in','Interval']"
   ]
  },
  {
   "cell_type": "code",
   "execution_count": null,
   "metadata": {},
   "outputs": [],
   "source": [
    "inp.raingage.loc['new_rg'] = ['VOLUME','0:5',1,'FILE','MYFILE','RG1','Inches','my_new_gage']"
   ]
  },
  {
   "cell_type": "code",
   "execution_count": null,
   "metadata": {},
   "outputs": [],
   "source": [
    "print(inp.raingage.to_swmm_string().split('\\n')[4])"
   ]
  },
  {
   "cell_type": "code",
   "execution_count": null,
   "metadata": {},
   "outputs": [],
   "source": [
    "len(inp.raingage.columns)"
   ]
  },
  {
   "cell_type": "code",
   "execution_count": null,
   "metadata": {},
   "outputs": [],
   "source": [
    "inp.event.loc[0,'Start']= datetime.datetime(1900,1,2)\n",
    "inp.event.loc[0,'desc']= 'my first event\\nthis is my event'\n"
   ]
  },
  {
   "cell_type": "code",
   "execution_count": null,
   "metadata": {},
   "outputs": [],
   "source": [
    "inp.event"
   ]
  },
  {
   "cell_type": "code",
   "execution_count": null,
   "metadata": {},
   "outputs": [],
   "source": [
    "print(inp.event.to_swmm_string())"
   ]
  },
  {
   "cell_type": "code",
   "execution_count": null,
   "metadata": {},
   "outputs": [],
   "source": [
    "inp.event.to_swmm_string().split(\"\\n\")[3]"
   ]
  },
  {
   "cell_type": "code",
   "execution_count": null,
   "metadata": {},
   "outputs": [],
   "source": []
  },
  {
   "cell_type": "code",
   "execution_count": null,
   "metadata": {},
   "outputs": [],
   "source": [
    "print(inp.event.to_swmm_string().split(\"\\n\")[2])"
   ]
  },
  {
   "cell_type": "code",
   "execution_count": null,
   "metadata": {},
   "outputs": [],
   "source": [
    "inp.event"
   ]
  },
  {
   "cell_type": "code",
   "execution_count": null,
   "metadata": {},
   "outputs": [],
   "source": [
    "isinstance(inp.event.Start[0],datetime.datetime)"
   ]
  },
  {
   "cell_type": "code",
   "execution_count": null,
   "metadata": {},
   "outputs": [],
   "source": [
    "print(inp.report.to_swmm_string())"
   ]
  },
  {
   "cell_type": "code",
   "execution_count": null,
   "metadata": {},
   "outputs": [],
   "source": [
    "len(inp.report.to_swmm_string().split('\\n')[5].split())"
   ]
  },
  {
   "cell_type": "code",
   "execution_count": null,
   "metadata": {},
   "outputs": [],
   "source": [
    "inp.event"
   ]
  },
  {
   "cell_type": "code",
   "execution_count": null,
   "metadata": {},
   "outputs": [],
   "source": [
    "inp.report.NODES = ['ALL']"
   ]
  },
  {
   "cell_type": "code",
   "execution_count": null,
   "metadata": {},
   "outputs": [],
   "source": [
    "print(inp.report.to_swmm_string().split('\\n')[4])"
   ]
  },
  {
   "cell_type": "code",
   "execution_count": null,
   "metadata": {},
   "outputs": [],
   "source": [
    "print(inp.option.to_swmm_string())"
   ]
  },
  {
   "cell_type": "code",
   "execution_count": null,
   "metadata": {},
   "outputs": [],
   "source": [
    "inp.option.loc['START_DATE'] = '01/02/1911'"
   ]
  },
  {
   "cell_type": "code",
   "execution_count": null,
   "metadata": {},
   "outputs": [],
   "source": [
    "inp.report"
   ]
  },
  {
   "cell_type": "code",
   "execution_count": null,
   "metadata": {},
   "outputs": [],
   "source": [
    "inp.title.to_swmm_string()"
   ]
  },
  {
   "cell_type": "code",
   "execution_count": null,
   "metadata": {},
   "outputs": [],
   "source": [
    "print(inp.option.to_swmm_string().split('\\n')[-2].strip())"
   ]
  },
  {
   "cell_type": "code",
   "execution_count": null,
   "metadata": {},
   "outputs": [],
   "source": [
    "inp.option.loc[\"ROUTING_STEP\",'Value'] = 50\n",
    "inp.option.loc[\"ROUTING_STEP\",'desc'] = 'Updated routing step'"
   ]
  },
  {
   "cell_type": "code",
   "execution_count": null,
   "metadata": {},
   "outputs": [],
   "source": [
    "inp.option.to_swmm_string().split(\"\\n\")[23].strip()"
   ]
  },
  {
   "cell_type": "code",
   "execution_count": null,
   "metadata": {},
   "outputs": [],
   "source": [
    "inp.option.to_swmm_string().split(\"\\n\")"
   ]
  },
  {
   "cell_type": "code",
   "execution_count": null,
   "metadata": {},
   "outputs": [],
   "source": [
    "print(inp.conduit.to_swmm_string())"
   ]
  },
  {
   "cell_type": "code",
   "execution_count": null,
   "metadata": {},
   "outputs": [],
   "source": [
    "print(inp.report.to_swmm_string())"
   ]
  },
  {
   "cell_type": "code",
   "execution_count": null,
   "metadata": {},
   "outputs": [],
   "source": [
    "print(inp.report.to_swmm_string())"
   ]
  },
  {
   "cell_type": "code",
   "execution_count": null,
   "metadata": {},
   "outputs": [],
   "source": [
    "print(inp.event.to_swmm_string())"
   ]
  },
  {
   "cell_type": "code",
   "execution_count": null,
   "metadata": {},
   "outputs": [],
   "source": [
    "from dataclasses import dataclass\n",
    "from typing import Iterable,Optional"
   ]
  },
  {
   "cell_type": "code",
   "execution_count": null,
   "metadata": {},
   "outputs": [],
   "source": [
    "class Report:\n",
    "    @dataclass\n",
    "    class LIDReportEntry:\n",
    "        Name: str\n",
    "        Subcatch: str\n",
    "        Fname: str\n",
    "\n",
    "    class LIDReport(list):\n",
    "        def __init__(self, entries: Iterable[Report.LIDReportEntry]):\n",
    "            for i in entries:\n",
    "                if not isinstance(i, Report.LIDReportEntry):\n",
    "                    raise ValueError(\n",
    "                        f\"LIDReport is instantiated with a sequence of LIDReportEntries, got {type(i)}\"\n",
    "                    )\n",
    "            super().__init__(entries)\n",
    "\n",
    "        def add(self, lid_name: str, subcatch: str, Fname: str) -> None:\n",
    "            self.append(\n",
    "                Report.LIDReportEntry(\n",
    "                    Name=lid_name,\n",
    "                    Subcatch=subcatch,\n",
    "                    Fname=Fname,\n",
    "                )\n",
    "            )\n",
    "\n",
    "        def remove(self, lid_name: str) -> None:\n",
    "            for i, v in enumerate(self):\n",
    "                if v.Name == lid_name:\n",
    "                    break\n",
    "            self.pop(i)\n",
    "\n",
    "        def __repr__(self):\n",
    "            return f\"LIDReportList({super().__repr__()})\"\n",
    "\n",
    "    def __init__(\n",
    "        self,\n",
    "        disabled: Optional[str] = None,\n",
    "        input: Optional[str] = None,\n",
    "        continuity: Optional[str] = None,\n",
    "        flowstats: Optional[str] = None,\n",
    "        controls: Optional[str] = None,\n",
    "        averages: Optional[str] = None,\n",
    "        subcatchments: list[str] = [],\n",
    "        nodes: list[str] = [],\n",
    "        links: list[str] = [],\n",
    "        lids: list[dict] = [],\n",
    "    ):\n",
    "        print(disabled)\n",
    "        self.DISABLED = disabled\n",
    "        self.INPUT = input\n",
    "        self.CONTINUITY = continuity\n",
    "        self.FLOWSTATS = flowstats\n",
    "        self.CONTROLS = controls\n",
    "        self.AVERAGES = averages\n",
    "        self.SUBCATCH = subcatchments\n",
    "        self.NODES = nodes\n",
    "        self.LINKS = links\n",
    "        self.LIDS = self.LIDReport([])\n",
    "\n",
    "        for lid in lids:\n",
    "            self.LIDS.add(lid[\"name\"], lid[\"subcatch\"], lid[\"fname\"])\n",
    "\n",
    "\n",
    "    @classmethod\n",
    "    def _from_section_text(cls, text: str, *args, **kwargs) :\n",
    "        raise NotImplementedError\n",
    "\n",
    "    @classmethod\n",
    "    def _new_empty(cls) :\n",
    "        return cls()\n",
    "\n",
    "    @classmethod\n",
    "    def _newobj(cls, *args, **kwargs) :\n",
    "        return cls(*args,**kwargs)\n",
    "\n",
    "#\n"
   ]
  },
  {
   "cell_type": "code",
   "execution_count": null,
   "metadata": {},
   "outputs": [],
   "source": [
    "r = Report()"
   ]
  },
  {
   "cell_type": "code",
   "execution_count": null,
   "metadata": {},
   "outputs": [],
   "source": [
    "r.DISABLED"
   ]
  },
  {
   "cell_type": "code",
   "execution_count": null,
   "metadata": {},
   "outputs": [],
   "source": [
    "t=[1,2,3,4,5,6,7]"
   ]
  },
  {
   "cell_type": "code",
   "execution_count": null,
   "metadata": {},
   "outputs": [],
   "source": [
    "if len(value:=t[1:3])>1:\n",
    "    print(value)"
   ]
  },
  {
   "cell_type": "code",
   "execution_count": null,
   "metadata": {},
   "outputs": [],
   "source": []
  },
  {
   "cell_type": "code",
   "execution_count": null,
   "metadata": {},
   "outputs": [],
   "source": [
    "t = LIDReport(\n",
    "    [\n",
    "        LIDReportEntry('this','that','those'),\n",
    "        LIDReportEntry('this1','that','those'),\n",
    "        LIDReportEntry('this2','that','those'),\n",
    "        LIDReportEntry('this3','that','those')\n",
    "    ]\n",
    ")"
   ]
  },
  {
   "cell_type": "code",
   "execution_count": null,
   "metadata": {},
   "outputs": [],
   "source": [
    "t"
   ]
  },
  {
   "cell_type": "code",
   "execution_count": null,
   "metadata": {},
   "outputs": [],
   "source": [
    "t.remove('this')"
   ]
  },
  {
   "cell_type": "code",
   "execution_count": null,
   "metadata": {},
   "outputs": [],
   "source": [
    "t.add(\n",
    "    'entry1',\n",
    "    'subcatch2',\n",
    "    'file'\n",
    ")"
   ]
  },
  {
   "cell_type": "code",
   "execution_count": null,
   "metadata": {},
   "outputs": [],
   "source": [
    "t"
   ]
  },
  {
   "cell_type": "code",
   "execution_count": null,
   "metadata": {},
   "outputs": [],
   "source": [
    "t = ['this']"
   ]
  },
  {
   "cell_type": "code",
   "execution_count": null,
   "metadata": {},
   "outputs": [],
   "source": [
    "filter()"
   ]
  },
  {
   "cell_type": "code",
   "execution_count": null,
   "metadata": {},
   "outputs": [],
   "source": [
    "t.remove('this')"
   ]
  },
  {
   "cell_type": "code",
   "execution_count": null,
   "metadata": {},
   "outputs": [],
   "source": [
    "t"
   ]
  },
  {
   "cell_type": "code",
   "execution_count": null,
   "metadata": {},
   "outputs": [],
   "source": [
    "inp.event"
   ]
  },
  {
   "cell_type": "code",
   "execution_count": null,
   "metadata": {},
   "outputs": [],
   "source": [
    "inp._section_texts['EVENT']"
   ]
  },
  {
   "cell_type": "code",
   "execution_count": null,
   "metadata": {},
   "outputs": [],
   "source": [
    "input.event"
   ]
  },
  {
   "cell_type": "code",
   "execution_count": null,
   "metadata": {},
   "outputs": [],
   "source": [
    "print(inp.title.to_swmm_string())"
   ]
  },
  {
   "cell_type": "code",
   "execution_count": null,
   "metadata": {},
   "outputs": [],
   "source": [
    "type(super(sc.SectionDf,inp.subarea))"
   ]
  },
  {
   "cell_type": "code",
   "execution_count": null,
   "metadata": {},
   "outputs": [],
   "source": [
    "t = ['list']\n",
    "t"
   ]
  },
  {
   "cell_type": "code",
   "execution_count": null,
   "metadata": {},
   "outputs": [],
   "source": [
    "t.comment = 'test'"
   ]
  },
  {
   "cell_type": "code",
   "execution_count": null,
   "metadata": {},
   "outputs": [],
   "source": [
    "t.comments"
   ]
  },
  {
   "cell_type": "code",
   "execution_count": null,
   "metadata": {},
   "outputs": [],
   "source": [
    "inp.subarea"
   ]
  },
  {
   "cell_type": "code",
   "execution_count": null,
   "metadata": {},
   "outputs": [],
   "source": [
    "inp.coordinates"
   ]
  },
  {
   "cell_type": "code",
   "execution_count": null,
   "metadata": {},
   "outputs": [],
   "source": [
    "print(inp.xsections.to_swmm_string())"
   ]
  },
  {
   "cell_type": "code",
   "execution_count": null,
   "metadata": {},
   "outputs": [],
   "source": [
    "print(inp._section_texts['STORAGE'])"
   ]
  },
  {
   "cell_type": "code",
   "execution_count": null,
   "metadata": {},
   "outputs": [],
   "source": [
    "print(inp.storage.to_swmm_string())"
   ]
  },
  {
   "cell_type": "code",
   "execution_count": null,
   "metadata": {},
   "outputs": [],
   "source": [
    "inp.re"
   ]
  },
  {
   "cell_type": "code",
   "execution_count": null,
   "metadata": {},
   "outputs": [],
   "source": [
    "inp.infil"
   ]
  },
  {
   "cell_type": "code",
   "execution_count": null,
   "metadata": {},
   "outputs": [],
   "source": [
    "inp.title?"
   ]
  },
  {
   "cell_type": "code",
   "execution_count": null,
   "metadata": {},
   "outputs": [],
   "source": [
    "df = inp.option.copy()"
   ]
  },
  {
   "cell_type": "code",
   "execution_count": null,
   "metadata": {},
   "outputs": [],
   "source": [
    "df.columns=['op','Value','desc']"
   ]
  },
  {
   "cell_type": "code",
   "execution_count": null,
   "metadata": {},
   "outputs": [],
   "source": [
    "inp.option=df"
   ]
  },
  {
   "cell_type": "code",
   "execution_count": null,
   "metadata": {},
   "outputs": [],
   "source": [
    "api_inp = api.SwmmInput('Model.inp')"
   ]
  },
  {
   "cell_type": "code",
   "execution_count": null,
   "metadata": {},
   "outputs": [],
   "source": []
  },
  {
   "cell_type": "markdown",
   "metadata": {},
   "source": []
  },
  {
   "cell_type": "code",
   "execution_count": null,
   "metadata": {},
   "outputs": [],
   "source": [
    "api_inp.SUBCATCHMENTS['SUB1']"
   ]
  },
  {
   "cell_type": "code",
   "execution_count": null,
   "metadata": {},
   "outputs": [],
   "source": [
    "inp.subcatchments.loc[0,\"CurbLeng\"] = 100"
   ]
  },
  {
   "cell_type": "code",
   "execution_count": null,
   "metadata": {},
   "outputs": [],
   "source": [
    "inp.temperature"
   ]
  },
  {
   "cell_type": "code",
   "execution_count": null,
   "metadata": {},
   "outputs": [],
   "source": [
    "inp.temperature.__class__.__name__.lower()"
   ]
  },
  {
   "cell_type": "code",
   "execution_count": null,
   "metadata": {},
   "outputs": [],
   "source": [
    "api_inp.SNOWPACKS"
   ]
  }
 ],
 "metadata": {
  "kernelspec": {
   "display_name": ".venv",
   "language": "python",
   "name": "python3"
  },
  "language_info": {
   "codemirror_mode": {
    "name": "ipython",
    "version": 3
   },
   "file_extension": ".py",
   "mimetype": "text/x-python",
   "name": "python",
   "nbconvert_exporter": "python",
   "pygments_lexer": "ipython3",
   "version": "3.12.2"
  }
 },
 "nbformat": 4,
 "nbformat_minor": 2
}
