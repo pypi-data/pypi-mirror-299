{
 "cells": [
  {
   "cell_type": "code",
   "execution_count": 8,
   "metadata": {},
   "outputs": [
    {
     "name": "stdout",
     "output_type": "stream",
     "text": [
      "Python 3.9.19\n"
     ]
    }
   ],
   "source": [
    "!python -V"
   ]
  },
  {
   "cell_type": "code",
   "execution_count": 2,
   "metadata": {},
   "outputs": [
    {
     "name": "stdout",
     "output_type": "stream",
     "text": [
      "Collecting QuantTraderLib==1.0.22\n",
      "  Downloading QuantTraderLib-1.0.22-py3-none-any.whl.metadata (1.0 kB)\n",
      "Requirement already satisfied: numpy==2.0.1 in c:\\users\\lemin\\anaconda3\\envs\\venv\\lib\\site-packages (from QuantTraderLib==1.0.22) (2.0.1)\n",
      "Requirement already satisfied: yfinance==0.2.41 in c:\\users\\lemin\\anaconda3\\envs\\venv\\lib\\site-packages (from QuantTraderLib==1.0.22) (0.2.41)\n",
      "Requirement already satisfied: vnstock==0.2.9.2.2 in c:\\users\\lemin\\anaconda3\\envs\\venv\\lib\\site-packages (from QuantTraderLib==1.0.22) (0.2.9.2.2)\n",
      "Requirement already satisfied: pandas==2.2.2 in c:\\users\\lemin\\anaconda3\\envs\\venv\\lib\\site-packages (from QuantTraderLib==1.0.22) (2.2.2)\n",
      "Requirement already satisfied: pandas-datareader==0.10.0 in c:\\users\\lemin\\anaconda3\\envs\\venv\\lib\\site-packages (from QuantTraderLib==1.0.22) (0.10.0)\n",
      "Requirement already satisfied: bokeh==3.4.3 in c:\\users\\lemin\\anaconda3\\envs\\venv\\lib\\site-packages (from QuantTraderLib==1.0.22) (3.4.3)\n",
      "Requirement already satisfied: backtesting==0.3.3 in c:\\users\\lemin\\anaconda3\\envs\\venv\\lib\\site-packages (from QuantTraderLib==1.0.22) (0.3.3)\n",
      "Requirement already satisfied: lunardate==0.2.2 in c:\\users\\lemin\\anaconda3\\envs\\venv\\lib\\site-packages (from QuantTraderLib==1.0.22) (0.2.2)\n",
      "Requirement already satisfied: seaborn==0.13.2 in c:\\users\\lemin\\anaconda3\\envs\\venv\\lib\\site-packages (from QuantTraderLib==1.0.22) (0.13.2)\n",
      "Requirement already satisfied: scikit-learn==1.5.1 in c:\\users\\lemin\\anaconda3\\envs\\venv\\lib\\site-packages (from QuantTraderLib==1.0.22) (1.5.1)\n",
      "Requirement already satisfied: Jinja2>=2.9 in c:\\users\\lemin\\appdata\\roaming\\python\\python39\\site-packages (from bokeh==3.4.3->QuantTraderLib==1.0.22) (3.1.4)\n",
      "Requirement already satisfied: contourpy>=1.2 in c:\\users\\lemin\\appdata\\roaming\\python\\python39\\site-packages (from bokeh==3.4.3->QuantTraderLib==1.0.22) (1.2.1)\n",
      "Requirement already satisfied: packaging>=16.8 in c:\\users\\lemin\\appdata\\roaming\\python\\python39\\site-packages (from bokeh==3.4.3->QuantTraderLib==1.0.22) (24.1)\n",
      "Requirement already satisfied: pillow>=7.1.0 in c:\\users\\lemin\\appdata\\roaming\\python\\python39\\site-packages (from bokeh==3.4.3->QuantTraderLib==1.0.22) (10.4.0)\n",
      "Requirement already satisfied: PyYAML>=3.10 in c:\\users\\lemin\\appdata\\roaming\\python\\python39\\site-packages (from bokeh==3.4.3->QuantTraderLib==1.0.22) (6.0.1)\n",
      "Requirement already satisfied: tornado>=6.2 in c:\\users\\lemin\\appdata\\roaming\\python\\python39\\site-packages (from bokeh==3.4.3->QuantTraderLib==1.0.22) (6.4.1)\n",
      "Requirement already satisfied: xyzservices>=2021.09.1 in c:\\users\\lemin\\anaconda3\\envs\\venv\\lib\\site-packages (from bokeh==3.4.3->QuantTraderLib==1.0.22) (2024.9.0)\n",
      "Requirement already satisfied: python-dateutil>=2.8.2 in c:\\users\\lemin\\appdata\\roaming\\python\\python39\\site-packages (from pandas==2.2.2->QuantTraderLib==1.0.22) (2.9.0.post0)\n",
      "Requirement already satisfied: pytz>=2020.1 in c:\\users\\lemin\\appdata\\roaming\\python\\python39\\site-packages (from pandas==2.2.2->QuantTraderLib==1.0.22) (2024.1)\n",
      "Requirement already satisfied: tzdata>=2022.7 in c:\\users\\lemin\\appdata\\roaming\\python\\python39\\site-packages (from pandas==2.2.2->QuantTraderLib==1.0.22) (2024.1)\n",
      "Requirement already satisfied: lxml in c:\\users\\lemin\\anaconda3\\envs\\venv\\lib\\site-packages (from pandas-datareader==0.10.0->QuantTraderLib==1.0.22) (5.3.0)\n",
      "Requirement already satisfied: requests>=2.19.0 in c:\\users\\lemin\\appdata\\roaming\\python\\python39\\site-packages (from pandas-datareader==0.10.0->QuantTraderLib==1.0.22) (2.32.3)\n",
      "Requirement already satisfied: scipy>=1.6.0 in c:\\users\\lemin\\appdata\\roaming\\python\\python39\\site-packages (from scikit-learn==1.5.1->QuantTraderLib==1.0.22) (1.13.1)\n",
      "Requirement already satisfied: joblib>=1.2.0 in c:\\users\\lemin\\appdata\\roaming\\python\\python39\\site-packages (from scikit-learn==1.5.1->QuantTraderLib==1.0.22) (1.4.2)\n",
      "Requirement already satisfied: threadpoolctl>=3.1.0 in c:\\users\\lemin\\appdata\\roaming\\python\\python39\\site-packages (from scikit-learn==1.5.1->QuantTraderLib==1.0.22) (3.5.0)\n",
      "Requirement already satisfied: matplotlib!=3.6.1,>=3.4 in c:\\users\\lemin\\anaconda3\\envs\\venv\\lib\\site-packages (from seaborn==0.13.2->QuantTraderLib==1.0.22) (3.9.2)\n",
      "Requirement already satisfied: multitasking>=0.0.7 in c:\\users\\lemin\\anaconda3\\envs\\venv\\lib\\site-packages (from yfinance==0.2.41->QuantTraderLib==1.0.22) (0.0.11)\n",
      "Requirement already satisfied: platformdirs>=2.0.0 in c:\\users\\lemin\\appdata\\roaming\\python\\python39\\site-packages (from yfinance==0.2.41->QuantTraderLib==1.0.22) (4.2.2)\n",
      "Requirement already satisfied: frozendict>=2.3.4 in c:\\users\\lemin\\anaconda3\\envs\\venv\\lib\\site-packages (from yfinance==0.2.41->QuantTraderLib==1.0.22) (2.4.4)\n",
      "Requirement already satisfied: peewee>=3.16.2 in c:\\users\\lemin\\anaconda3\\envs\\venv\\lib\\site-packages (from yfinance==0.2.41->QuantTraderLib==1.0.22) (3.17.6)\n",
      "Requirement already satisfied: beautifulsoup4>=4.11.1 in c:\\users\\lemin\\appdata\\roaming\\python\\python39\\site-packages (from yfinance==0.2.41->QuantTraderLib==1.0.22) (4.12.3)\n",
      "Requirement already satisfied: html5lib>=1.1 in c:\\users\\lemin\\anaconda3\\envs\\venv\\lib\\site-packages (from yfinance==0.2.41->QuantTraderLib==1.0.22) (1.1)\n",
      "Requirement already satisfied: soupsieve>1.2 in c:\\users\\lemin\\appdata\\roaming\\python\\python39\\site-packages (from beautifulsoup4>=4.11.1->yfinance==0.2.41->QuantTraderLib==1.0.22) (2.5)\n",
      "Requirement already satisfied: six>=1.9 in c:\\users\\lemin\\appdata\\roaming\\python\\python39\\site-packages (from html5lib>=1.1->yfinance==0.2.41->QuantTraderLib==1.0.22) (1.16.0)\n",
      "Requirement already satisfied: webencodings in c:\\users\\lemin\\appdata\\roaming\\python\\python39\\site-packages (from html5lib>=1.1->yfinance==0.2.41->QuantTraderLib==1.0.22) (0.5.1)\n",
      "Requirement already satisfied: MarkupSafe>=2.0 in c:\\users\\lemin\\appdata\\roaming\\python\\python39\\site-packages (from Jinja2>=2.9->bokeh==3.4.3->QuantTraderLib==1.0.22) (2.1.5)\n",
      "Requirement already satisfied: cycler>=0.10 in c:\\users\\lemin\\appdata\\roaming\\python\\python39\\site-packages (from matplotlib!=3.6.1,>=3.4->seaborn==0.13.2->QuantTraderLib==1.0.22) (0.12.1)\n",
      "Requirement already satisfied: fonttools>=4.22.0 in c:\\users\\lemin\\appdata\\roaming\\python\\python39\\site-packages (from matplotlib!=3.6.1,>=3.4->seaborn==0.13.2->QuantTraderLib==1.0.22) (4.53.0)\n",
      "Requirement already satisfied: kiwisolver>=1.3.1 in c:\\users\\lemin\\appdata\\roaming\\python\\python39\\site-packages (from matplotlib!=3.6.1,>=3.4->seaborn==0.13.2->QuantTraderLib==1.0.22) (1.4.5)\n",
      "Requirement already satisfied: pyparsing>=2.3.1 in c:\\users\\lemin\\appdata\\roaming\\python\\python39\\site-packages (from matplotlib!=3.6.1,>=3.4->seaborn==0.13.2->QuantTraderLib==1.0.22) (3.1.2)\n",
      "Requirement already satisfied: importlib-resources>=3.2.0 in c:\\users\\lemin\\appdata\\roaming\\python\\python39\\site-packages (from matplotlib!=3.6.1,>=3.4->seaborn==0.13.2->QuantTraderLib==1.0.22) (6.4.0)\n",
      "Requirement already satisfied: charset-normalizer<4,>=2 in c:\\users\\lemin\\appdata\\roaming\\python\\python39\\site-packages (from requests>=2.19.0->pandas-datareader==0.10.0->QuantTraderLib==1.0.22) (3.3.2)\n",
      "Requirement already satisfied: idna<4,>=2.5 in c:\\users\\lemin\\anaconda3\\envs\\venv\\lib\\site-packages (from requests>=2.19.0->pandas-datareader==0.10.0->QuantTraderLib==1.0.22) (3.10)\n",
      "Requirement already satisfied: urllib3<3,>=1.21.1 in c:\\users\\lemin\\anaconda3\\envs\\venv\\lib\\site-packages (from requests>=2.19.0->pandas-datareader==0.10.0->QuantTraderLib==1.0.22) (2.2.3)\n",
      "Requirement already satisfied: certifi>=2017.4.17 in c:\\users\\lemin\\appdata\\roaming\\python\\python39\\site-packages (from requests>=2.19.0->pandas-datareader==0.10.0->QuantTraderLib==1.0.22) (2024.7.4)\n",
      "Requirement already satisfied: zipp>=3.1.0 in c:\\users\\lemin\\appdata\\roaming\\python\\python39\\site-packages (from importlib-resources>=3.2.0->matplotlib!=3.6.1,>=3.4->seaborn==0.13.2->QuantTraderLib==1.0.22) (3.19.2)\n",
      "Downloading QuantTraderLib-1.0.22-py3-none-any.whl (64 kB)\n",
      "Installing collected packages: QuantTraderLib\n",
      "  Attempting uninstall: QuantTraderLib\n",
      "    Found existing installation: QuantTraderLib 1.0.17\n",
      "    Uninstalling QuantTraderLib-1.0.17:\n",
      "      Successfully uninstalled QuantTraderLib-1.0.17\n",
      "Successfully installed QuantTraderLib-1.0.22\n"
     ]
    }
   ],
   "source": [
    "!pip install QuantTraderLib==1.0.23"
   ]
  },
  {
   "cell_type": "code",
   "execution_count": 43,
   "metadata": {},
   "outputs": [],
   "source": [
    "from QuantTraderLib.data import get_data, clean_data\n",
    "from datetime import datetime"
   ]
  },
  {
   "cell_type": "markdown",
   "metadata": {},
   "source": [
    "## Get data"
   ]
  },
  {
   "cell_type": "markdown",
   "metadata": {},
   "source": [
    "### VN stock, index, derivative"
   ]
  },
  {
   "cell_type": "code",
   "execution_count": 44,
   "metadata": {},
   "outputs": [
    {
     "name": "stdout",
     "output_type": "stream",
     "text": [
      "The retrieval of stock data is restricted to the most recent 90 days from today for all resolutions shorter than 1 day. \n",
      "\n"
     ]
    },
    {
     "data": {
      "text/html": [
       "<div>\n",
       "<style scoped>\n",
       "    .dataframe tbody tr th:only-of-type {\n",
       "        vertical-align: middle;\n",
       "    }\n",
       "\n",
       "    .dataframe tbody tr th {\n",
       "        vertical-align: top;\n",
       "    }\n",
       "\n",
       "    .dataframe thead th {\n",
       "        text-align: right;\n",
       "    }\n",
       "</style>\n",
       "<table border=\"1\" class=\"dataframe\">\n",
       "  <thead>\n",
       "    <tr style=\"text-align: right;\">\n",
       "      <th></th>\n",
       "      <th>Date</th>\n",
       "      <th>Open</th>\n",
       "      <th>High</th>\n",
       "      <th>Low</th>\n",
       "      <th>Close</th>\n",
       "    </tr>\n",
       "  </thead>\n",
       "  <tbody>\n",
       "    <tr>\n",
       "      <th>0</th>\n",
       "      <td>2024-07-08 09:00:00</td>\n",
       "      <td>88.0</td>\n",
       "      <td>88.7</td>\n",
       "      <td>88.0</td>\n",
       "      <td>88.2</td>\n",
       "    </tr>\n",
       "    <tr>\n",
       "      <th>1</th>\n",
       "      <td>2024-07-08 10:00:00</td>\n",
       "      <td>88.2</td>\n",
       "      <td>88.3</td>\n",
       "      <td>87.8</td>\n",
       "      <td>87.8</td>\n",
       "    </tr>\n",
       "    <tr>\n",
       "      <th>2</th>\n",
       "      <td>2024-07-08 11:00:00</td>\n",
       "      <td>87.8</td>\n",
       "      <td>87.9</td>\n",
       "      <td>87.6</td>\n",
       "      <td>87.9</td>\n",
       "    </tr>\n",
       "    <tr>\n",
       "      <th>3</th>\n",
       "      <td>2024-07-08 13:00:00</td>\n",
       "      <td>87.9</td>\n",
       "      <td>88.2</td>\n",
       "      <td>87.6</td>\n",
       "      <td>88.2</td>\n",
       "    </tr>\n",
       "    <tr>\n",
       "      <th>4</th>\n",
       "      <td>2024-07-08 14:00:00</td>\n",
       "      <td>88.2</td>\n",
       "      <td>88.2</td>\n",
       "      <td>87.2</td>\n",
       "      <td>87.2</td>\n",
       "    </tr>\n",
       "    <tr>\n",
       "      <th>...</th>\n",
       "      <td>...</td>\n",
       "      <td>...</td>\n",
       "      <td>...</td>\n",
       "      <td>...</td>\n",
       "      <td>...</td>\n",
       "    </tr>\n",
       "    <tr>\n",
       "      <th>304</th>\n",
       "      <td>2024-10-03 09:00:00</td>\n",
       "      <td>92.6</td>\n",
       "      <td>93.1</td>\n",
       "      <td>92.4</td>\n",
       "      <td>93.0</td>\n",
       "    </tr>\n",
       "    <tr>\n",
       "      <th>305</th>\n",
       "      <td>2024-10-03 10:00:00</td>\n",
       "      <td>93.1</td>\n",
       "      <td>93.9</td>\n",
       "      <td>93.1</td>\n",
       "      <td>93.5</td>\n",
       "    </tr>\n",
       "    <tr>\n",
       "      <th>306</th>\n",
       "      <td>2024-10-03 11:00:00</td>\n",
       "      <td>93.5</td>\n",
       "      <td>93.6</td>\n",
       "      <td>93.2</td>\n",
       "      <td>93.2</td>\n",
       "    </tr>\n",
       "    <tr>\n",
       "      <th>307</th>\n",
       "      <td>2024-10-03 13:00:00</td>\n",
       "      <td>93.2</td>\n",
       "      <td>93.2</td>\n",
       "      <td>92.6</td>\n",
       "      <td>92.7</td>\n",
       "    </tr>\n",
       "    <tr>\n",
       "      <th>308</th>\n",
       "      <td>2024-10-03 14:00:00</td>\n",
       "      <td>92.8</td>\n",
       "      <td>92.8</td>\n",
       "      <td>92.5</td>\n",
       "      <td>92.6</td>\n",
       "    </tr>\n",
       "  </tbody>\n",
       "</table>\n",
       "<p>309 rows × 5 columns</p>\n",
       "</div>"
      ],
      "text/plain": [
       "                   Date  Open  High   Low  Close\n",
       "0   2024-07-08 09:00:00  88.0  88.7  88.0   88.2\n",
       "1   2024-07-08 10:00:00  88.2  88.3  87.8   87.8\n",
       "2   2024-07-08 11:00:00  87.8  87.9  87.6   87.9\n",
       "3   2024-07-08 13:00:00  87.9  88.2  87.6   88.2\n",
       "4   2024-07-08 14:00:00  88.2  88.2  87.2   87.2\n",
       "..                  ...   ...   ...   ...    ...\n",
       "304 2024-10-03 09:00:00  92.6  93.1  92.4   93.0\n",
       "305 2024-10-03 10:00:00  93.1  93.9  93.1   93.5\n",
       "306 2024-10-03 11:00:00  93.5  93.6  93.2   93.2\n",
       "307 2024-10-03 13:00:00  93.2  93.2  92.6   92.7\n",
       "308 2024-10-03 14:00:00  92.8  92.8  92.5   92.6\n",
       "\n",
       "[309 rows x 5 columns]"
      ]
     },
     "execution_count": 44,
     "metadata": {},
     "output_type": "execute_result"
    }
   ],
   "source": [
    "data = get_data.get_vnstock(symbol='VCB', start_date=\"2023-01-01\", resolution='1H')\n",
    "data"
   ]
  },
  {
   "cell_type": "code",
   "execution_count": 45,
   "metadata": {},
   "outputs": [
    {
     "name": "stdout",
     "output_type": "stream",
     "text": [
      "The retrieval of stock data is restricted to the most recent 90 days from today for all resolutions shorter than 1 day. \n",
      "\n"
     ]
    },
    {
     "data": {
      "text/html": [
       "<div>\n",
       "<style scoped>\n",
       "    .dataframe tbody tr th:only-of-type {\n",
       "        vertical-align: middle;\n",
       "    }\n",
       "\n",
       "    .dataframe tbody tr th {\n",
       "        vertical-align: top;\n",
       "    }\n",
       "\n",
       "    .dataframe thead th {\n",
       "        text-align: right;\n",
       "    }\n",
       "</style>\n",
       "<table border=\"1\" class=\"dataframe\">\n",
       "  <thead>\n",
       "    <tr style=\"text-align: right;\">\n",
       "      <th></th>\n",
       "      <th>Date</th>\n",
       "      <th>Open</th>\n",
       "      <th>High</th>\n",
       "      <th>Low</th>\n",
       "      <th>Close</th>\n",
       "    </tr>\n",
       "  </thead>\n",
       "  <tbody>\n",
       "    <tr>\n",
       "      <th>299</th>\n",
       "      <td>2024-10-03 09:15:00</td>\n",
       "      <td>1288.64</td>\n",
       "      <td>1295.46</td>\n",
       "      <td>1288.45</td>\n",
       "      <td>1292.57</td>\n",
       "    </tr>\n",
       "    <tr>\n",
       "      <th>300</th>\n",
       "      <td>2024-10-03 10:00:00</td>\n",
       "      <td>1292.58</td>\n",
       "      <td>1299.36</td>\n",
       "      <td>1292.48</td>\n",
       "      <td>1293.47</td>\n",
       "    </tr>\n",
       "    <tr>\n",
       "      <th>301</th>\n",
       "      <td>2024-10-03 11:00:00</td>\n",
       "      <td>1293.46</td>\n",
       "      <td>1293.57</td>\n",
       "      <td>1287.74</td>\n",
       "      <td>1287.79</td>\n",
       "    </tr>\n",
       "    <tr>\n",
       "      <th>302</th>\n",
       "      <td>2024-10-03 13:00:00</td>\n",
       "      <td>1286.62</td>\n",
       "      <td>1288.14</td>\n",
       "      <td>1280.19</td>\n",
       "      <td>1283.35</td>\n",
       "    </tr>\n",
       "    <tr>\n",
       "      <th>303</th>\n",
       "      <td>2024-10-03 14:00:00</td>\n",
       "      <td>1283.48</td>\n",
       "      <td>1286.56</td>\n",
       "      <td>1276.51</td>\n",
       "      <td>1278.10</td>\n",
       "    </tr>\n",
       "  </tbody>\n",
       "</table>\n",
       "</div>"
      ],
      "text/plain": [
       "                   Date     Open     High      Low    Close\n",
       "299 2024-10-03 09:15:00  1288.64  1295.46  1288.45  1292.57\n",
       "300 2024-10-03 10:00:00  1292.58  1299.36  1292.48  1293.47\n",
       "301 2024-10-03 11:00:00  1293.46  1293.57  1287.74  1287.79\n",
       "302 2024-10-03 13:00:00  1286.62  1288.14  1280.19  1283.35\n",
       "303 2024-10-03 14:00:00  1283.48  1286.56  1276.51  1278.10"
      ]
     },
     "execution_count": 45,
     "metadata": {},
     "output_type": "execute_result"
    }
   ],
   "source": [
    "data = get_data.get_vn_index(symbol='VNINDEX', start_date=\"2023-01-01\", resolution='1H')\n",
    "data.tail()"
   ]
  },
  {
   "cell_type": "code",
   "execution_count": 46,
   "metadata": {},
   "outputs": [
    {
     "name": "stdout",
     "output_type": "stream",
     "text": [
      "The retrieval of stock data is restricted to the most recent 90 days from today for all resolutions shorter than 1 day. \n",
      "\n"
     ]
    },
    {
     "data": {
      "text/html": [
       "<div>\n",
       "<style scoped>\n",
       "    .dataframe tbody tr th:only-of-type {\n",
       "        vertical-align: middle;\n",
       "    }\n",
       "\n",
       "    .dataframe tbody tr th {\n",
       "        vertical-align: top;\n",
       "    }\n",
       "\n",
       "    .dataframe thead th {\n",
       "        text-align: right;\n",
       "    }\n",
       "</style>\n",
       "<table border=\"1\" class=\"dataframe\">\n",
       "  <thead>\n",
       "    <tr style=\"text-align: right;\">\n",
       "      <th></th>\n",
       "      <th>Date</th>\n",
       "      <th>Open</th>\n",
       "      <th>High</th>\n",
       "      <th>Low</th>\n",
       "      <th>Close</th>\n",
       "    </tr>\n",
       "  </thead>\n",
       "  <tbody>\n",
       "    <tr>\n",
       "      <th>304</th>\n",
       "      <td>2024-10-03 09:00:00</td>\n",
       "      <td>1360.2</td>\n",
       "      <td>1370.5</td>\n",
       "      <td>1359.6</td>\n",
       "      <td>1368.4</td>\n",
       "    </tr>\n",
       "    <tr>\n",
       "      <th>305</th>\n",
       "      <td>2024-10-03 10:00:00</td>\n",
       "      <td>1368.4</td>\n",
       "      <td>1376.9</td>\n",
       "      <td>1368.4</td>\n",
       "      <td>1370.3</td>\n",
       "    </tr>\n",
       "    <tr>\n",
       "      <th>306</th>\n",
       "      <td>2024-10-03 11:00:00</td>\n",
       "      <td>1370.1</td>\n",
       "      <td>1370.3</td>\n",
       "      <td>1364.1</td>\n",
       "      <td>1364.4</td>\n",
       "    </tr>\n",
       "    <tr>\n",
       "      <th>307</th>\n",
       "      <td>2024-10-03 13:00:00</td>\n",
       "      <td>1364.4</td>\n",
       "      <td>1365.9</td>\n",
       "      <td>1356.0</td>\n",
       "      <td>1360.0</td>\n",
       "    </tr>\n",
       "    <tr>\n",
       "      <th>308</th>\n",
       "      <td>2024-10-03 14:00:00</td>\n",
       "      <td>1359.7</td>\n",
       "      <td>1363.7</td>\n",
       "      <td>1349.0</td>\n",
       "      <td>1349.0</td>\n",
       "    </tr>\n",
       "  </tbody>\n",
       "</table>\n",
       "</div>"
      ],
      "text/plain": [
       "                   Date    Open    High     Low   Close\n",
       "304 2024-10-03 09:00:00  1360.2  1370.5  1359.6  1368.4\n",
       "305 2024-10-03 10:00:00  1368.4  1376.9  1368.4  1370.3\n",
       "306 2024-10-03 11:00:00  1370.1  1370.3  1364.1  1364.4\n",
       "307 2024-10-03 13:00:00  1364.4  1365.9  1356.0  1360.0\n",
       "308 2024-10-03 14:00:00  1359.7  1363.7  1349.0  1349.0"
      ]
     },
     "execution_count": 46,
     "metadata": {},
     "output_type": "execute_result"
    }
   ],
   "source": [
    "data = get_data.get_vn_derivative(symbol='VN30F1M', start_date=\"2024-01-01\", resolution='1H')\n",
    "data.tail()"
   ]
  },
  {
   "cell_type": "markdown",
   "metadata": {},
   "source": [
    "### Stock"
   ]
  },
  {
   "cell_type": "code",
   "execution_count": 47,
   "metadata": {},
   "outputs": [
    {
     "data": {
      "text/html": [
       "<div>\n",
       "<style scoped>\n",
       "    .dataframe tbody tr th:only-of-type {\n",
       "        vertical-align: middle;\n",
       "    }\n",
       "\n",
       "    .dataframe tbody tr th {\n",
       "        vertical-align: top;\n",
       "    }\n",
       "\n",
       "    .dataframe thead th {\n",
       "        text-align: right;\n",
       "    }\n",
       "</style>\n",
       "<table border=\"1\" class=\"dataframe\">\n",
       "  <thead>\n",
       "    <tr style=\"text-align: right;\">\n",
       "      <th></th>\n",
       "      <th>Date</th>\n",
       "      <th>Open</th>\n",
       "      <th>High</th>\n",
       "      <th>Low</th>\n",
       "      <th>Close</th>\n",
       "    </tr>\n",
       "  </thead>\n",
       "  <tbody>\n",
       "    <tr>\n",
       "      <th>186</th>\n",
       "      <td>2024-09-27</td>\n",
       "      <td>257.380005</td>\n",
       "      <td>260.700012</td>\n",
       "      <td>254.119995</td>\n",
       "      <td>260.459991</td>\n",
       "    </tr>\n",
       "    <tr>\n",
       "      <th>187</th>\n",
       "      <td>2024-09-30</td>\n",
       "      <td>259.040009</td>\n",
       "      <td>264.859985</td>\n",
       "      <td>255.770004</td>\n",
       "      <td>261.630005</td>\n",
       "    </tr>\n",
       "    <tr>\n",
       "      <th>188</th>\n",
       "      <td>2024-10-01</td>\n",
       "      <td>262.670013</td>\n",
       "      <td>263.980011</td>\n",
       "      <td>248.529999</td>\n",
       "      <td>258.019989</td>\n",
       "    </tr>\n",
       "    <tr>\n",
       "      <th>189</th>\n",
       "      <td>2024-10-02</td>\n",
       "      <td>247.550003</td>\n",
       "      <td>251.160004</td>\n",
       "      <td>241.500000</td>\n",
       "      <td>249.020004</td>\n",
       "    </tr>\n",
       "    <tr>\n",
       "      <th>190</th>\n",
       "      <td>2024-10-03</td>\n",
       "      <td>244.479996</td>\n",
       "      <td>249.789993</td>\n",
       "      <td>237.809998</td>\n",
       "      <td>240.660004</td>\n",
       "    </tr>\n",
       "  </tbody>\n",
       "</table>\n",
       "</div>"
      ],
      "text/plain": [
       "           Date        Open        High         Low       Close\n",
       "186  2024-09-27  257.380005  260.700012  254.119995  260.459991\n",
       "187  2024-09-30  259.040009  264.859985  255.770004  261.630005\n",
       "188  2024-10-01  262.670013  263.980011  248.529999  258.019989\n",
       "189  2024-10-02  247.550003  251.160004  241.500000  249.020004\n",
       "190  2024-10-03  244.479996  249.789993  237.809998  240.660004"
      ]
     },
     "execution_count": 47,
     "metadata": {},
     "output_type": "execute_result"
    }
   ],
   "source": [
    "data = get_data.get_stock('TSLA', start_date='2024-01-01')\n",
    "data.tail()"
   ]
  },
  {
   "cell_type": "markdown",
   "metadata": {},
   "source": [
    "### Crypto"
   ]
  },
  {
   "cell_type": "code",
   "execution_count": 48,
   "metadata": {},
   "outputs": [
    {
     "name": "stderr",
     "output_type": "stream",
     "text": [
      "[*********************100%%**********************]  1 of 1 completed\n"
     ]
    },
    {
     "data": {
      "text/html": [
       "<div>\n",
       "<style scoped>\n",
       "    .dataframe tbody tr th:only-of-type {\n",
       "        vertical-align: middle;\n",
       "    }\n",
       "\n",
       "    .dataframe tbody tr th {\n",
       "        vertical-align: top;\n",
       "    }\n",
       "\n",
       "    .dataframe thead th {\n",
       "        text-align: right;\n",
       "    }\n",
       "</style>\n",
       "<table border=\"1\" class=\"dataframe\">\n",
       "  <thead>\n",
       "    <tr style=\"text-align: right;\">\n",
       "      <th></th>\n",
       "      <th>Date</th>\n",
       "      <th>Open</th>\n",
       "      <th>High</th>\n",
       "      <th>Low</th>\n",
       "      <th>Close</th>\n",
       "    </tr>\n",
       "  </thead>\n",
       "  <tbody>\n",
       "    <tr>\n",
       "      <th>637</th>\n",
       "      <td>2024-09-29</td>\n",
       "      <td>65888.898438</td>\n",
       "      <td>66069.343750</td>\n",
       "      <td>65450.015625</td>\n",
       "      <td>65635.304688</td>\n",
       "    </tr>\n",
       "    <tr>\n",
       "      <th>638</th>\n",
       "      <td>2024-09-30</td>\n",
       "      <td>65634.656250</td>\n",
       "      <td>65635.054688</td>\n",
       "      <td>62873.617188</td>\n",
       "      <td>63329.500000</td>\n",
       "    </tr>\n",
       "    <tr>\n",
       "      <th>639</th>\n",
       "      <td>2024-10-01</td>\n",
       "      <td>63335.605469</td>\n",
       "      <td>64110.980469</td>\n",
       "      <td>60189.277344</td>\n",
       "      <td>60837.007812</td>\n",
       "    </tr>\n",
       "    <tr>\n",
       "      <th>640</th>\n",
       "      <td>2024-10-02</td>\n",
       "      <td>60836.324219</td>\n",
       "      <td>62357.687500</td>\n",
       "      <td>59996.949219</td>\n",
       "      <td>60632.785156</td>\n",
       "    </tr>\n",
       "    <tr>\n",
       "      <th>641</th>\n",
       "      <td>2024-10-04</td>\n",
       "      <td>60747.640625</td>\n",
       "      <td>61215.414062</td>\n",
       "      <td>60498.156250</td>\n",
       "      <td>61120.480469</td>\n",
       "    </tr>\n",
       "  </tbody>\n",
       "</table>\n",
       "</div>"
      ],
      "text/plain": [
       "           Date          Open          High           Low         Close\n",
       "637  2024-09-29  65888.898438  66069.343750  65450.015625  65635.304688\n",
       "638  2024-09-30  65634.656250  65635.054688  62873.617188  63329.500000\n",
       "639  2024-10-01  63335.605469  64110.980469  60189.277344  60837.007812\n",
       "640  2024-10-02  60836.324219  62357.687500  59996.949219  60632.785156\n",
       "641  2024-10-04  60747.640625  61215.414062  60498.156250  61120.480469"
      ]
     },
     "execution_count": 48,
     "metadata": {},
     "output_type": "execute_result"
    }
   ],
   "source": [
    "crypto = get_data.get_crypto('BTC-USD', start_date='2023-01-01')\n",
    "crypto.tail()"
   ]
  },
  {
   "cell_type": "markdown",
   "metadata": {},
   "source": [
    "### Forex"
   ]
  },
  {
   "cell_type": "code",
   "execution_count": 49,
   "metadata": {},
   "outputs": [
    {
     "name": "stderr",
     "output_type": "stream",
     "text": [
      "[*********************100%%**********************]  1 of 1 completed\n"
     ]
    },
    {
     "data": {
      "text/html": [
       "<div>\n",
       "<style scoped>\n",
       "    .dataframe tbody tr th:only-of-type {\n",
       "        vertical-align: middle;\n",
       "    }\n",
       "\n",
       "    .dataframe tbody tr th {\n",
       "        vertical-align: top;\n",
       "    }\n",
       "\n",
       "    .dataframe thead th {\n",
       "        text-align: right;\n",
       "    }\n",
       "</style>\n",
       "<table border=\"1\" class=\"dataframe\">\n",
       "  <thead>\n",
       "    <tr style=\"text-align: right;\">\n",
       "      <th></th>\n",
       "      <th>Date</th>\n",
       "      <th>Open</th>\n",
       "      <th>High</th>\n",
       "      <th>Low</th>\n",
       "      <th>Close</th>\n",
       "    </tr>\n",
       "  </thead>\n",
       "  <tbody>\n",
       "    <tr>\n",
       "      <th>455</th>\n",
       "      <td>2024-09-30</td>\n",
       "      <td>1.116982</td>\n",
       "      <td>1.120838</td>\n",
       "      <td>1.113611</td>\n",
       "      <td>1.116982</td>\n",
       "    </tr>\n",
       "    <tr>\n",
       "      <th>456</th>\n",
       "      <td>2024-10-01</td>\n",
       "      <td>1.113660</td>\n",
       "      <td>1.114579</td>\n",
       "      <td>1.106109</td>\n",
       "      <td>1.113660</td>\n",
       "    </tr>\n",
       "    <tr>\n",
       "      <th>457</th>\n",
       "      <td>2024-10-02</td>\n",
       "      <td>1.106390</td>\n",
       "      <td>1.108217</td>\n",
       "      <td>1.103412</td>\n",
       "      <td>1.106390</td>\n",
       "    </tr>\n",
       "    <tr>\n",
       "      <th>458</th>\n",
       "      <td>2024-10-03</td>\n",
       "      <td>1.104850</td>\n",
       "      <td>1.104850</td>\n",
       "      <td>1.100958</td>\n",
       "      <td>1.104850</td>\n",
       "    </tr>\n",
       "    <tr>\n",
       "      <th>459</th>\n",
       "      <td>2024-10-04</td>\n",
       "      <td>1.103509</td>\n",
       "      <td>1.104240</td>\n",
       "      <td>1.103144</td>\n",
       "      <td>1.103509</td>\n",
       "    </tr>\n",
       "  </tbody>\n",
       "</table>\n",
       "</div>"
      ],
      "text/plain": [
       "           Date      Open      High       Low     Close\n",
       "455  2024-09-30  1.116982  1.120838  1.113611  1.116982\n",
       "456  2024-10-01  1.113660  1.114579  1.106109  1.113660\n",
       "457  2024-10-02  1.106390  1.108217  1.103412  1.106390\n",
       "458  2024-10-03  1.104850  1.104850  1.100958  1.104850\n",
       "459  2024-10-04  1.103509  1.104240  1.103144  1.103509"
      ]
     },
     "execution_count": 49,
     "metadata": {},
     "output_type": "execute_result"
    }
   ],
   "source": [
    "forex = get_data.get_forex('EURUSD=X', start_date='2023-01-01')\n",
    "forex.tail()"
   ]
  },
  {
   "cell_type": "markdown",
   "metadata": {},
   "source": [
    "### Get minute data"
   ]
  },
  {
   "cell_type": "code",
   "execution_count": 50,
   "metadata": {},
   "outputs": [
    {
     "name": "stderr",
     "output_type": "stream",
     "text": [
      "[*********************100%%**********************]  1 of 1 completed\n"
     ]
    },
    {
     "data": {
      "text/html": [
       "<div>\n",
       "<style scoped>\n",
       "    .dataframe tbody tr th:only-of-type {\n",
       "        vertical-align: middle;\n",
       "    }\n",
       "\n",
       "    .dataframe tbody tr th {\n",
       "        vertical-align: top;\n",
       "    }\n",
       "\n",
       "    .dataframe thead th {\n",
       "        text-align: right;\n",
       "    }\n",
       "</style>\n",
       "<table border=\"1\" class=\"dataframe\">\n",
       "  <thead>\n",
       "    <tr style=\"text-align: right;\">\n",
       "      <th></th>\n",
       "      <th>Date</th>\n",
       "      <th>Open</th>\n",
       "      <th>High</th>\n",
       "      <th>Low</th>\n",
       "      <th>Close</th>\n",
       "    </tr>\n",
       "  </thead>\n",
       "  <tbody>\n",
       "    <tr>\n",
       "      <th>0</th>\n",
       "      <td>2024-09-04 09:45:00</td>\n",
       "      <td>1.105828</td>\n",
       "      <td>1.105828</td>\n",
       "      <td>1.105705</td>\n",
       "      <td>1.105705</td>\n",
       "    </tr>\n",
       "    <tr>\n",
       "      <th>1</th>\n",
       "      <td>2024-09-04 09:50:00</td>\n",
       "      <td>1.105705</td>\n",
       "      <td>1.105705</td>\n",
       "      <td>1.105583</td>\n",
       "      <td>1.105583</td>\n",
       "    </tr>\n",
       "    <tr>\n",
       "      <th>2</th>\n",
       "      <td>2024-09-04 09:55:00</td>\n",
       "      <td>1.105583</td>\n",
       "      <td>1.105583</td>\n",
       "      <td>1.105461</td>\n",
       "      <td>1.105583</td>\n",
       "    </tr>\n",
       "    <tr>\n",
       "      <th>3</th>\n",
       "      <td>2024-09-04 10:00:00</td>\n",
       "      <td>1.105705</td>\n",
       "      <td>1.105828</td>\n",
       "      <td>1.105705</td>\n",
       "      <td>1.105828</td>\n",
       "    </tr>\n",
       "    <tr>\n",
       "      <th>4</th>\n",
       "      <td>2024-09-04 10:05:00</td>\n",
       "      <td>1.105828</td>\n",
       "      <td>1.105828</td>\n",
       "      <td>1.105705</td>\n",
       "      <td>1.105705</td>\n",
       "    </tr>\n",
       "    <tr>\n",
       "      <th>...</th>\n",
       "      <td>...</td>\n",
       "      <td>...</td>\n",
       "      <td>...</td>\n",
       "      <td>...</td>\n",
       "      <td>...</td>\n",
       "    </tr>\n",
       "    <tr>\n",
       "      <th>6259</th>\n",
       "      <td>2024-10-04 09:20:00</td>\n",
       "      <td>1.103631</td>\n",
       "      <td>1.103753</td>\n",
       "      <td>1.103631</td>\n",
       "      <td>1.103753</td>\n",
       "    </tr>\n",
       "    <tr>\n",
       "      <th>6260</th>\n",
       "      <td>2024-10-04 09:25:00</td>\n",
       "      <td>1.103631</td>\n",
       "      <td>1.103753</td>\n",
       "      <td>1.103631</td>\n",
       "      <td>1.103631</td>\n",
       "    </tr>\n",
       "    <tr>\n",
       "      <th>6261</th>\n",
       "      <td>2024-10-04 09:30:00</td>\n",
       "      <td>1.103509</td>\n",
       "      <td>1.103509</td>\n",
       "      <td>1.103387</td>\n",
       "      <td>1.103387</td>\n",
       "    </tr>\n",
       "    <tr>\n",
       "      <th>6262</th>\n",
       "      <td>2024-10-04 09:35:00</td>\n",
       "      <td>1.103266</td>\n",
       "      <td>1.103631</td>\n",
       "      <td>1.103266</td>\n",
       "      <td>1.103631</td>\n",
       "    </tr>\n",
       "    <tr>\n",
       "      <th>6263</th>\n",
       "      <td>2024-10-04 09:40:00</td>\n",
       "      <td>1.103631</td>\n",
       "      <td>1.103631</td>\n",
       "      <td>1.103509</td>\n",
       "      <td>1.103509</td>\n",
       "    </tr>\n",
       "  </tbody>\n",
       "</table>\n",
       "<p>6264 rows × 5 columns</p>\n",
       "</div>"
      ],
      "text/plain": [
       "                    Date      Open      High       Low     Close\n",
       "0    2024-09-04 09:45:00  1.105828  1.105828  1.105705  1.105705\n",
       "1    2024-09-04 09:50:00  1.105705  1.105705  1.105583  1.105583\n",
       "2    2024-09-04 09:55:00  1.105583  1.105583  1.105461  1.105583\n",
       "3    2024-09-04 10:00:00  1.105705  1.105828  1.105705  1.105828\n",
       "4    2024-09-04 10:05:00  1.105828  1.105828  1.105705  1.105705\n",
       "...                  ...       ...       ...       ...       ...\n",
       "6259 2024-10-04 09:20:00  1.103631  1.103753  1.103631  1.103753\n",
       "6260 2024-10-04 09:25:00  1.103631  1.103753  1.103631  1.103631\n",
       "6261 2024-10-04 09:30:00  1.103509  1.103509  1.103387  1.103387\n",
       "6262 2024-10-04 09:35:00  1.103266  1.103631  1.103266  1.103631\n",
       "6263 2024-10-04 09:40:00  1.103631  1.103631  1.103509  1.103509\n",
       "\n",
       "[6264 rows x 5 columns]"
      ]
     },
     "execution_count": 50,
     "metadata": {},
     "output_type": "execute_result"
    }
   ],
   "source": [
    "forex = get_data.get_forex_minute('EURUSD=X', period='1mo', interval='5m')\n",
    "forex"
   ]
  },
  {
   "cell_type": "code",
   "execution_count": 51,
   "metadata": {},
   "outputs": [
    {
     "name": "stdout",
     "output_type": "stream",
     "text": [
      "===> Data VN30F1M from 2023-06-30 17:00:00 to 2286-11-21 00:46:39 has been appended \n"
     ]
    },
    {
     "data": {
      "text/html": [
       "<div>\n",
       "<style scoped>\n",
       "    .dataframe tbody tr th:only-of-type {\n",
       "        vertical-align: middle;\n",
       "    }\n",
       "\n",
       "    .dataframe tbody tr th {\n",
       "        vertical-align: top;\n",
       "    }\n",
       "\n",
       "    .dataframe thead th {\n",
       "        text-align: right;\n",
       "    }\n",
       "</style>\n",
       "<table border=\"1\" class=\"dataframe\">\n",
       "  <thead>\n",
       "    <tr style=\"text-align: right;\">\n",
       "      <th></th>\n",
       "      <th>Date</th>\n",
       "      <th>Open</th>\n",
       "      <th>High</th>\n",
       "      <th>Low</th>\n",
       "      <th>Close</th>\n",
       "    </tr>\n",
       "  </thead>\n",
       "  <tbody>\n",
       "    <tr>\n",
       "      <th>0</th>\n",
       "      <td>2023-08-30 09:00:00</td>\n",
       "      <td>1214.0</td>\n",
       "      <td>1214.2</td>\n",
       "      <td>1213.5</td>\n",
       "      <td>1213.7</td>\n",
       "    </tr>\n",
       "    <tr>\n",
       "      <th>1</th>\n",
       "      <td>2023-08-30 09:01:00</td>\n",
       "      <td>1213.6</td>\n",
       "      <td>1213.8</td>\n",
       "      <td>1212.8</td>\n",
       "      <td>1213.0</td>\n",
       "    </tr>\n",
       "    <tr>\n",
       "      <th>2</th>\n",
       "      <td>2023-08-30 09:02:00</td>\n",
       "      <td>1213.0</td>\n",
       "      <td>1213.3</td>\n",
       "      <td>1213.0</td>\n",
       "      <td>1213.2</td>\n",
       "    </tr>\n",
       "    <tr>\n",
       "      <th>3</th>\n",
       "      <td>2023-08-30 09:03:00</td>\n",
       "      <td>1213.3</td>\n",
       "      <td>1213.4</td>\n",
       "      <td>1213.0</td>\n",
       "      <td>1213.1</td>\n",
       "    </tr>\n",
       "    <tr>\n",
       "      <th>4</th>\n",
       "      <td>2023-08-30 09:04:00</td>\n",
       "      <td>1213.0</td>\n",
       "      <td>1213.4</td>\n",
       "      <td>1213.0</td>\n",
       "      <td>1213.3</td>\n",
       "    </tr>\n",
       "    <tr>\n",
       "      <th>...</th>\n",
       "      <td>...</td>\n",
       "      <td>...</td>\n",
       "      <td>...</td>\n",
       "      <td>...</td>\n",
       "      <td>...</td>\n",
       "    </tr>\n",
       "    <tr>\n",
       "      <th>62477</th>\n",
       "      <td>2024-10-04 09:40:00</td>\n",
       "      <td>1349.1</td>\n",
       "      <td>1349.1</td>\n",
       "      <td>1348.8</td>\n",
       "      <td>1348.8</td>\n",
       "    </tr>\n",
       "    <tr>\n",
       "      <th>62478</th>\n",
       "      <td>2024-10-04 09:41:00</td>\n",
       "      <td>1348.8</td>\n",
       "      <td>1349.0</td>\n",
       "      <td>1348.5</td>\n",
       "      <td>1348.7</td>\n",
       "    </tr>\n",
       "    <tr>\n",
       "      <th>62479</th>\n",
       "      <td>2024-10-04 09:42:00</td>\n",
       "      <td>1348.9</td>\n",
       "      <td>1349.2</td>\n",
       "      <td>1348.7</td>\n",
       "      <td>1349.1</td>\n",
       "    </tr>\n",
       "    <tr>\n",
       "      <th>62480</th>\n",
       "      <td>2024-10-04 09:43:00</td>\n",
       "      <td>1349.3</td>\n",
       "      <td>1350.2</td>\n",
       "      <td>1349.1</td>\n",
       "      <td>1349.6</td>\n",
       "    </tr>\n",
       "    <tr>\n",
       "      <th>62481</th>\n",
       "      <td>2024-10-04 09:44:00</td>\n",
       "      <td>1349.6</td>\n",
       "      <td>1350.1</td>\n",
       "      <td>1349.5</td>\n",
       "      <td>1350.1</td>\n",
       "    </tr>\n",
       "  </tbody>\n",
       "</table>\n",
       "<p>62482 rows × 5 columns</p>\n",
       "</div>"
      ],
      "text/plain": [
       "                     Date    Open    High     Low   Close\n",
       "0     2023-08-30 09:00:00  1214.0  1214.2  1213.5  1213.7\n",
       "1     2023-08-30 09:01:00  1213.6  1213.8  1212.8  1213.0\n",
       "2     2023-08-30 09:02:00  1213.0  1213.3  1213.0  1213.2\n",
       "3     2023-08-30 09:03:00  1213.3  1213.4  1213.0  1213.1\n",
       "4     2023-08-30 09:04:00  1213.0  1213.4  1213.0  1213.3\n",
       "...                   ...     ...     ...     ...     ...\n",
       "62477 2024-10-04 09:40:00  1349.1  1349.1  1348.8  1348.8\n",
       "62478 2024-10-04 09:41:00  1348.8  1349.0  1348.5  1348.7\n",
       "62479 2024-10-04 09:42:00  1348.9  1349.2  1348.7  1349.1\n",
       "62480 2024-10-04 09:43:00  1349.3  1350.2  1349.1  1349.6\n",
       "62481 2024-10-04 09:44:00  1349.6  1350.1  1349.5  1350.1\n",
       "\n",
       "[62482 rows x 5 columns]"
      ]
     },
     "execution_count": 51,
     "metadata": {},
     "output_type": "execute_result"
    }
   ],
   "source": [
    "df = get_data.get_vn30f_minute('VN30F1M', '2023-07-01')\n",
    "df"
   ]
  },
  {
   "cell_type": "markdown",
   "metadata": {},
   "source": [
    "## Autoclean data"
   ]
  },
  {
   "cell_type": "markdown",
   "metadata": {},
   "source": [
    "### Miss in day"
   ]
  },
  {
   "cell_type": "code",
   "execution_count": 52,
   "metadata": {},
   "outputs": [],
   "source": [
    "trading_days = clean_data.get_vietnam_trading_days('2023-01-01', '2023-07-01')"
   ]
  },
  {
   "cell_type": "code",
   "execution_count": 53,
   "metadata": {},
   "outputs": [
    {
     "name": "stdout",
     "output_type": "stream",
     "text": [
      "Missing trading dates:\n",
      "          Date\n",
      "9   2024-01-15\n",
      "34  2024-02-19\n",
      "63  2024-03-29\n",
      "102 2024-05-27\n",
      "119 2024-06-19\n",
      "130 2024-07-04\n"
     ]
    }
   ],
   "source": [
    "missing_dates = clean_data.check_missing_trading_dates(data)\n",
    "\n",
    "print(\"Missing trading dates:\")\n",
    "print(missing_dates)"
   ]
  },
  {
   "cell_type": "code",
   "execution_count": 54,
   "metadata": {},
   "outputs": [
    {
     "name": "stdout",
     "output_type": "stream",
     "text": [
      "Missing trading dates:\n",
      "Empty DataFrame\n",
      "Columns: [Date]\n",
      "Index: []\n"
     ]
    },
    {
     "name": "stderr",
     "output_type": "stream",
     "text": [
      "The behavior of DataFrame concatenation with empty or all-NA entries is deprecated. In a future version, this will no longer exclude empty or all-NA columns when determining the result dtypes. To retain the old behavior, exclude the relevant entries before the concat operation.\n",
      "DataFrame.fillna with 'method' is deprecated and will raise in a future version. Use obj.ffill() or obj.bfill() instead.\n"
     ]
    }
   ],
   "source": [
    "dt = data.copy()\n",
    "dt = clean_data.fill_missing_days(dt)\n",
    "missing_dates = clean_data.check_missing_trading_dates(dt)\n",
    "\n",
    "print(\"Missing trading dates:\")\n",
    "print(missing_dates)"
   ]
  },
  {
   "cell_type": "markdown",
   "metadata": {},
   "source": [
    "### Miss in minute"
   ]
  },
  {
   "cell_type": "code",
   "execution_count": 55,
   "metadata": {},
   "outputs": [
    {
     "data": {
      "text/html": [
       "<div>\n",
       "<style scoped>\n",
       "    .dataframe tbody tr th:only-of-type {\n",
       "        vertical-align: middle;\n",
       "    }\n",
       "\n",
       "    .dataframe tbody tr th {\n",
       "        vertical-align: top;\n",
       "    }\n",
       "\n",
       "    .dataframe thead th {\n",
       "        text-align: right;\n",
       "    }\n",
       "</style>\n",
       "<table border=\"1\" class=\"dataframe\">\n",
       "  <thead>\n",
       "    <tr style=\"text-align: right;\">\n",
       "      <th></th>\n",
       "      <th>Date</th>\n",
       "      <th>Open</th>\n",
       "      <th>High</th>\n",
       "      <th>Low</th>\n",
       "      <th>Close</th>\n",
       "    </tr>\n",
       "  </thead>\n",
       "  <tbody>\n",
       "    <tr>\n",
       "      <th>0</th>\n",
       "      <td>2023-08-30 09:00:00</td>\n",
       "      <td>1214.0</td>\n",
       "      <td>1214.2</td>\n",
       "      <td>1213.5</td>\n",
       "      <td>1213.7</td>\n",
       "    </tr>\n",
       "    <tr>\n",
       "      <th>1</th>\n",
       "      <td>2023-08-30 09:01:00</td>\n",
       "      <td>1213.6</td>\n",
       "      <td>1213.8</td>\n",
       "      <td>1212.8</td>\n",
       "      <td>1213.0</td>\n",
       "    </tr>\n",
       "    <tr>\n",
       "      <th>2</th>\n",
       "      <td>2023-08-30 09:02:00</td>\n",
       "      <td>1213.0</td>\n",
       "      <td>1213.3</td>\n",
       "      <td>1213.0</td>\n",
       "      <td>1213.2</td>\n",
       "    </tr>\n",
       "  </tbody>\n",
       "</table>\n",
       "</div>"
      ],
      "text/plain": [
       "                 Date    Open    High     Low   Close\n",
       "0 2023-08-30 09:00:00  1214.0  1214.2  1213.5  1213.7\n",
       "1 2023-08-30 09:01:00  1213.6  1213.8  1212.8  1213.0\n",
       "2 2023-08-30 09:02:00  1213.0  1213.3  1213.0  1213.2"
      ]
     },
     "execution_count": 55,
     "metadata": {},
     "output_type": "execute_result"
    }
   ],
   "source": [
    "df.head(3)"
   ]
  },
  {
   "cell_type": "code",
   "execution_count": 56,
   "metadata": {},
   "outputs": [
    {
     "name": "stdout",
     "output_type": "stream",
     "text": [
      "Missing times per minutes:\n"
     ]
    },
    {
     "data": {
      "text/plain": [
       "{datetime.date(2023, 11, 29): ['11:06', '11:07'],\n",
       " datetime.date(2023, 12, 26): ['09:00'],\n",
       " datetime.date(2024, 9, 19): ['10:10',\n",
       "  '10:11',\n",
       "  '10:12',\n",
       "  '10:13',\n",
       "  '10:14',\n",
       "  '10:15',\n",
       "  '10:16',\n",
       "  '10:17'],\n",
       " datetime.date(2024, 10, 4): ['09:45']}"
      ]
     },
     "execution_count": 56,
     "metadata": {},
     "output_type": "execute_result"
    }
   ],
   "source": [
    "missing_times_per_day = clean_data.check_missing_minutes(df)\n",
    "print(\"Missing times per minutes:\")\n",
    "\n",
    "missing_times_per_day"
   ]
  },
  {
   "cell_type": "code",
   "execution_count": 103,
   "metadata": {},
   "outputs": [],
   "source": [
    "df1 = clean_data.fill_missing_minutes(df[['Date', 'Close']], verbose = 0)"
   ]
  },
  {
   "cell_type": "code",
   "execution_count": 104,
   "metadata": {},
   "outputs": [
    {
     "name": "stdout",
     "output_type": "stream",
     "text": [
      "Missing times per day:\n"
     ]
    },
    {
     "data": {
      "text/plain": [
       "{}"
      ]
     },
     "execution_count": 104,
     "metadata": {},
     "output_type": "execute_result"
    }
   ],
   "source": [
    "missing_times = clean_data.check_missing_minutes(df1)\n",
    "print(\"Missing times per day:\")\n",
    "missing_times"
   ]
  },
  {
   "cell_type": "markdown",
   "metadata": {},
   "source": [
    "## Event-base backtest"
   ]
  },
  {
   "cell_type": "code",
   "execution_count": 20,
   "metadata": {},
   "outputs": [],
   "source": [
    "import numpy as np\n",
    "import pandas as pd\n",
    "from QuantTraderLib.backtest import pnl\n",
    "\n",
    "# Random data\n",
    "data = {\n",
    "    'date': pd.date_range(start='2023-01-01', periods=100, freq='B'),\n",
    "    'close': np.random.random(100) * 100\n",
    "}\n",
    "df = pd.DataFrame(data)\n",
    "df['date'] = pd.to_datetime(df['date'])\n",
    "df.set_index('date', inplace=True)\n",
    "\n",
    "# Tạo vị thế\n",
    "positions = np.random.choice([-1, 0, 1], size=len(df))\n",
    "df['position'] = positions"
   ]
  },
  {
   "cell_type": "code",
   "execution_count": 21,
   "metadata": {},
   "outputs": [
    {
     "name": "stdout",
     "output_type": "stream",
     "text": [
      "Vị thế trong dữ liệu của bạn có vài chỗ không chính xác:\n",
      "Mua vào 2023-02-10 00:00:00, bán vào 2023-02-13 00:00:00\n",
      "Các vị thế hợp lệ:\n",
      "Mua vào 2023-01-02 00:00:00, bán vào 2023-01-04 00:00:00\n",
      "Mua vào 2023-01-03 00:00:00, bán vào 2023-01-11 00:00:00\n",
      "Mua vào 2023-01-06 00:00:00, bán vào 2023-01-13 00:00:00\n",
      "Mua vào 2023-01-17 00:00:00, bán vào 2023-01-20 00:00:00\n",
      "Mua vào 2023-01-24 00:00:00, bán vào 2023-01-26 00:00:00\n",
      "Mua vào 2023-02-16 00:00:00, bán vào 2023-02-20 00:00:00\n",
      "Mua vào 2023-02-21 00:00:00, bán vào 2023-02-24 00:00:00\n",
      "Mua vào 2023-02-22 00:00:00, bán vào 2023-03-01 00:00:00\n",
      "Mua vào 2023-02-23 00:00:00, bán vào 2023-03-02 00:00:00\n",
      "Mua vào 2023-03-07 00:00:00, bán vào 2023-03-10 00:00:00\n",
      "Mua vào 2023-03-08 00:00:00, bán vào 2023-03-20 00:00:00\n",
      "Mua vào 2023-03-14 00:00:00, bán vào 2023-03-22 00:00:00\n",
      "Mua vào 2023-03-24 00:00:00, bán vào 2023-03-28 00:00:00\n",
      "Mua vào 2023-04-04 00:00:00, bán vào 2023-04-06 00:00:00\n",
      "Mua vào 2023-04-05 00:00:00, bán vào 2023-04-07 00:00:00\n",
      "Mua vào 2023-04-13 00:00:00, bán vào 2023-04-17 00:00:00\n",
      "Mua vào 2023-04-14 00:00:00, bán vào 2023-04-18 00:00:00\n",
      "Mua vào 2023-04-19 00:00:00, bán vào 2023-04-21 00:00:00\n",
      "Mua vào 2023-04-27 00:00:00, bán vào 2023-05-04 00:00:00\n",
      "Mua vào 2023-04-28 00:00:00, bán vào 2023-05-08 00:00:00\n",
      "Mua vào 2023-05-02 00:00:00, bán vào 2023-05-10 00:00:00\n"
     ]
    },
    {
     "name": "stderr",
     "output_type": "stream",
     "text": [
      "Series.__getitem__ treating keys as positions is deprecated. In a future version, integer keys will always be treated as labels (consistent with DataFrame behavior). To access a value by position, use `ser.iloc[pos]`\n",
      "Series.__getitem__ treating keys as positions is deprecated. In a future version, integer keys will always be treated as labels (consistent with DataFrame behavior). To access a value by position, use `ser.iloc[pos]`\n"
     ]
    }
   ],
   "source": [
    "# Tính toán PnL\n",
    "pnl, valid_positions = pnl.calculate_pnl(df)\n",
    "\n",
    "# Thêm cột PnL vào DataFrame\n",
    "df['pnl'] = pnl\n",
    "\n",
    "# In ra các vị thế hợp lệ và không hợp lệ\n",
    "print(\"Các vị thế hợp lệ:\")\n",
    "for position in valid_positions:\n",
    "    buy_date = df.index[position[0]]\n",
    "    sell_date = df.index[position[1]]\n",
    "    print(f\"Mua vào {buy_date}, bán vào {sell_date}\")"
   ]
  },
  {
   "cell_type": "code",
   "execution_count": 22,
   "metadata": {},
   "outputs": [
    {
     "data": {
      "text/html": [
       "<div>\n",
       "<style scoped>\n",
       "    .dataframe tbody tr th:only-of-type {\n",
       "        vertical-align: middle;\n",
       "    }\n",
       "\n",
       "    .dataframe tbody tr th {\n",
       "        vertical-align: top;\n",
       "    }\n",
       "\n",
       "    .dataframe thead th {\n",
       "        text-align: right;\n",
       "    }\n",
       "</style>\n",
       "<table border=\"1\" class=\"dataframe\">\n",
       "  <thead>\n",
       "    <tr style=\"text-align: right;\">\n",
       "      <th></th>\n",
       "      <th>close</th>\n",
       "      <th>position</th>\n",
       "      <th>pnl</th>\n",
       "    </tr>\n",
       "    <tr>\n",
       "      <th>date</th>\n",
       "      <th></th>\n",
       "      <th></th>\n",
       "      <th></th>\n",
       "    </tr>\n",
       "  </thead>\n",
       "  <tbody>\n",
       "    <tr>\n",
       "      <th>2023-01-02</th>\n",
       "      <td>78.486276</td>\n",
       "      <td>1</td>\n",
       "      <td>0.000000</td>\n",
       "    </tr>\n",
       "    <tr>\n",
       "      <th>2023-01-03</th>\n",
       "      <td>33.959735</td>\n",
       "      <td>1</td>\n",
       "      <td>0.000000</td>\n",
       "    </tr>\n",
       "    <tr>\n",
       "      <th>2023-01-04</th>\n",
       "      <td>37.970530</td>\n",
       "      <td>-1</td>\n",
       "      <td>-40.515747</td>\n",
       "    </tr>\n",
       "    <tr>\n",
       "      <th>2023-01-05</th>\n",
       "      <td>89.589797</td>\n",
       "      <td>0</td>\n",
       "      <td>0.000000</td>\n",
       "    </tr>\n",
       "    <tr>\n",
       "      <th>2023-01-06</th>\n",
       "      <td>7.640831</td>\n",
       "      <td>1</td>\n",
       "      <td>0.000000</td>\n",
       "    </tr>\n",
       "    <tr>\n",
       "      <th>...</th>\n",
       "      <td>...</td>\n",
       "      <td>...</td>\n",
       "      <td>...</td>\n",
       "    </tr>\n",
       "    <tr>\n",
       "      <th>2023-05-15</th>\n",
       "      <td>41.763984</td>\n",
       "      <td>0</td>\n",
       "      <td>0.000000</td>\n",
       "    </tr>\n",
       "    <tr>\n",
       "      <th>2023-05-16</th>\n",
       "      <td>25.760431</td>\n",
       "      <td>1</td>\n",
       "      <td>0.000000</td>\n",
       "    </tr>\n",
       "    <tr>\n",
       "      <th>2023-05-17</th>\n",
       "      <td>94.777528</td>\n",
       "      <td>0</td>\n",
       "      <td>0.000000</td>\n",
       "    </tr>\n",
       "    <tr>\n",
       "      <th>2023-05-18</th>\n",
       "      <td>15.413327</td>\n",
       "      <td>0</td>\n",
       "      <td>0.000000</td>\n",
       "    </tr>\n",
       "    <tr>\n",
       "      <th>2023-05-19</th>\n",
       "      <td>29.480327</td>\n",
       "      <td>0</td>\n",
       "      <td>0.000000</td>\n",
       "    </tr>\n",
       "  </tbody>\n",
       "</table>\n",
       "<p>100 rows × 3 columns</p>\n",
       "</div>"
      ],
      "text/plain": [
       "                close  position        pnl\n",
       "date                                      \n",
       "2023-01-02  78.486276         1   0.000000\n",
       "2023-01-03  33.959735         1   0.000000\n",
       "2023-01-04  37.970530        -1 -40.515747\n",
       "2023-01-05  89.589797         0   0.000000\n",
       "2023-01-06   7.640831         1   0.000000\n",
       "...               ...       ...        ...\n",
       "2023-05-15  41.763984         0   0.000000\n",
       "2023-05-16  25.760431         1   0.000000\n",
       "2023-05-17  94.777528         0   0.000000\n",
       "2023-05-18  15.413327         0   0.000000\n",
       "2023-05-19  29.480327         0   0.000000\n",
       "\n",
       "[100 rows x 3 columns]"
      ]
     },
     "execution_count": 22,
     "metadata": {},
     "output_type": "execute_result"
    }
   ],
   "source": [
    "df"
   ]
  },
  {
   "cell_type": "code",
   "execution_count": null,
   "metadata": {},
   "outputs": [],
   "source": []
  }
 ],
 "metadata": {
  "kernelspec": {
   "display_name": "venv",
   "language": "python",
   "name": "python3"
  },
  "language_info": {
   "codemirror_mode": {
    "name": "ipython",
    "version": 3
   },
   "file_extension": ".py",
   "mimetype": "text/x-python",
   "name": "python",
   "nbconvert_exporter": "python",
   "pygments_lexer": "ipython3",
   "version": "3.9.19"
  }
 },
 "nbformat": 4,
 "nbformat_minor": 2
}
