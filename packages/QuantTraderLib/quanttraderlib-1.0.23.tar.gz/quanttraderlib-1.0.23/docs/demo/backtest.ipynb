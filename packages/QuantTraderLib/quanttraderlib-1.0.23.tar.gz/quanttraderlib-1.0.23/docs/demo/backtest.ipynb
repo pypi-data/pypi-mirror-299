{
  "cells": [
    {
      "cell_type": "code",
      "execution_count": 16,
      "metadata": {},
      "outputs": [
        {
          "name": "stdout",
          "output_type": "stream",
          "text": [
            "Collecting QuantTraderLib==1.0.22\n",
            "  Using cached QuantTraderLib-1.0.22-py3-none-any.whl.metadata (1.0 kB)\n",
            "Requirement already satisfied: numpy==2.0.1 in c:\\users\\lemin\\anaconda3\\envs\\htech\\lib\\site-packages (from QuantTraderLib==1.0.22) (2.0.1)\n",
            "Requirement already satisfied: yfinance==0.2.41 in c:\\users\\lemin\\anaconda3\\envs\\htech\\lib\\site-packages (from QuantTraderLib==1.0.22) (0.2.41)\n",
            "Requirement already satisfied: vnstock==0.2.9.2.2 in c:\\users\\lemin\\anaconda3\\envs\\htech\\lib\\site-packages (from QuantTraderLib==1.0.22) (0.2.9.2.2)\n",
            "Requirement already satisfied: pandas==2.2.2 in c:\\users\\lemin\\anaconda3\\envs\\htech\\lib\\site-packages (from QuantTraderLib==1.0.22) (2.2.2)\n",
            "Requirement already satisfied: pandas-datareader==0.10.0 in c:\\users\\lemin\\anaconda3\\envs\\htech\\lib\\site-packages (from QuantTraderLib==1.0.22) (0.10.0)\n",
            "Requirement already satisfied: bokeh==3.4.3 in c:\\users\\lemin\\anaconda3\\envs\\htech\\lib\\site-packages (from QuantTraderLib==1.0.22) (3.4.3)\n",
            "Requirement already satisfied: backtesting==0.3.3 in c:\\users\\lemin\\anaconda3\\envs\\htech\\lib\\site-packages (from QuantTraderLib==1.0.22) (0.3.3)\n",
            "Requirement already satisfied: lunardate==0.2.2 in c:\\users\\lemin\\anaconda3\\envs\\htech\\lib\\site-packages (from QuantTraderLib==1.0.22) (0.2.2)\n",
            "Requirement already satisfied: seaborn==0.13.2 in c:\\users\\lemin\\anaconda3\\envs\\htech\\lib\\site-packages (from QuantTraderLib==1.0.22) (0.13.2)\n",
            "Requirement already satisfied: scikit-learn==1.5.1 in c:\\users\\lemin\\anaconda3\\envs\\htech\\lib\\site-packages (from QuantTraderLib==1.0.22) (1.5.1)\n",
            "Requirement already satisfied: Jinja2>=2.9 in c:\\users\\lemin\\appdata\\roaming\\python\\python39\\site-packages (from bokeh==3.4.3->QuantTraderLib==1.0.22) (3.1.4)\n",
            "Requirement already satisfied: contourpy>=1.2 in c:\\users\\lemin\\appdata\\roaming\\python\\python39\\site-packages (from bokeh==3.4.3->QuantTraderLib==1.0.22) (1.2.1)\n",
            "Requirement already satisfied: packaging>=16.8 in c:\\users\\lemin\\appdata\\roaming\\python\\python39\\site-packages (from bokeh==3.4.3->QuantTraderLib==1.0.22) (24.1)\n",
            "Requirement already satisfied: pillow>=7.1.0 in c:\\users\\lemin\\appdata\\roaming\\python\\python39\\site-packages (from bokeh==3.4.3->QuantTraderLib==1.0.22) (10.4.0)\n",
            "Requirement already satisfied: PyYAML>=3.10 in c:\\users\\lemin\\appdata\\roaming\\python\\python39\\site-packages (from bokeh==3.4.3->QuantTraderLib==1.0.22) (6.0.1)\n",
            "Requirement already satisfied: tornado>=6.2 in c:\\users\\lemin\\appdata\\roaming\\python\\python39\\site-packages (from bokeh==3.4.3->QuantTraderLib==1.0.22) (6.4.1)\n",
            "Requirement already satisfied: xyzservices>=2021.09.1 in c:\\users\\lemin\\anaconda3\\envs\\htech\\lib\\site-packages (from bokeh==3.4.3->QuantTraderLib==1.0.22) (2024.9.0)\n",
            "Requirement already satisfied: python-dateutil>=2.8.2 in c:\\users\\lemin\\appdata\\roaming\\python\\python39\\site-packages (from pandas==2.2.2->QuantTraderLib==1.0.22) (2.9.0.post0)\n",
            "Requirement already satisfied: pytz>=2020.1 in c:\\users\\lemin\\appdata\\roaming\\python\\python39\\site-packages (from pandas==2.2.2->QuantTraderLib==1.0.22) (2024.1)\n",
            "Requirement already satisfied: tzdata>=2022.7 in c:\\users\\lemin\\appdata\\roaming\\python\\python39\\site-packages (from pandas==2.2.2->QuantTraderLib==1.0.22) (2024.1)\n",
            "Requirement already satisfied: lxml in c:\\users\\lemin\\anaconda3\\envs\\htech\\lib\\site-packages (from pandas-datareader==0.10.0->QuantTraderLib==1.0.22) (5.3.0)\n",
            "Requirement already satisfied: requests>=2.19.0 in c:\\users\\lemin\\appdata\\roaming\\python\\python39\\site-packages (from pandas-datareader==0.10.0->QuantTraderLib==1.0.22) (2.32.3)\n",
            "Requirement already satisfied: scipy>=1.6.0 in c:\\users\\lemin\\appdata\\roaming\\python\\python39\\site-packages (from scikit-learn==1.5.1->QuantTraderLib==1.0.22) (1.13.1)\n",
            "Requirement already satisfied: joblib>=1.2.0 in c:\\users\\lemin\\appdata\\roaming\\python\\python39\\site-packages (from scikit-learn==1.5.1->QuantTraderLib==1.0.22) (1.4.2)\n",
            "Requirement already satisfied: threadpoolctl>=3.1.0 in c:\\users\\lemin\\appdata\\roaming\\python\\python39\\site-packages (from scikit-learn==1.5.1->QuantTraderLib==1.0.22) (3.5.0)\n",
            "Requirement already satisfied: matplotlib!=3.6.1,>=3.4 in c:\\users\\lemin\\anaconda3\\envs\\htech\\lib\\site-packages (from seaborn==0.13.2->QuantTraderLib==1.0.22) (3.9.2)\n",
            "Requirement already satisfied: multitasking>=0.0.7 in c:\\users\\lemin\\anaconda3\\envs\\htech\\lib\\site-packages (from yfinance==0.2.41->QuantTraderLib==1.0.22) (0.0.11)\n",
            "Requirement already satisfied: platformdirs>=2.0.0 in c:\\users\\lemin\\appdata\\roaming\\python\\python39\\site-packages (from yfinance==0.2.41->QuantTraderLib==1.0.22) (4.2.2)\n",
            "Requirement already satisfied: frozendict>=2.3.4 in c:\\users\\lemin\\anaconda3\\envs\\htech\\lib\\site-packages (from yfinance==0.2.41->QuantTraderLib==1.0.22) (2.4.4)\n",
            "Requirement already satisfied: peewee>=3.16.2 in c:\\users\\lemin\\anaconda3\\envs\\htech\\lib\\site-packages (from yfinance==0.2.41->QuantTraderLib==1.0.22) (3.17.6)\n",
            "Requirement already satisfied: beautifulsoup4>=4.11.1 in c:\\users\\lemin\\appdata\\roaming\\python\\python39\\site-packages (from yfinance==0.2.41->QuantTraderLib==1.0.22) (4.12.3)\n",
            "Requirement already satisfied: html5lib>=1.1 in c:\\users\\lemin\\anaconda3\\envs\\htech\\lib\\site-packages (from yfinance==0.2.41->QuantTraderLib==1.0.22) (1.1)\n",
            "Requirement already satisfied: soupsieve>1.2 in c:\\users\\lemin\\appdata\\roaming\\python\\python39\\site-packages (from beautifulsoup4>=4.11.1->yfinance==0.2.41->QuantTraderLib==1.0.22) (2.5)\n",
            "Requirement already satisfied: six>=1.9 in c:\\users\\lemin\\appdata\\roaming\\python\\python39\\site-packages (from html5lib>=1.1->yfinance==0.2.41->QuantTraderLib==1.0.22) (1.16.0)\n",
            "Requirement already satisfied: webencodings in c:\\users\\lemin\\appdata\\roaming\\python\\python39\\site-packages (from html5lib>=1.1->yfinance==0.2.41->QuantTraderLib==1.0.22) (0.5.1)\n",
            "Requirement already satisfied: MarkupSafe>=2.0 in c:\\users\\lemin\\appdata\\roaming\\python\\python39\\site-packages (from Jinja2>=2.9->bokeh==3.4.3->QuantTraderLib==1.0.22) (2.1.5)\n",
            "Requirement already satisfied: cycler>=0.10 in c:\\users\\lemin\\appdata\\roaming\\python\\python39\\site-packages (from matplotlib!=3.6.1,>=3.4->seaborn==0.13.2->QuantTraderLib==1.0.22) (0.12.1)\n",
            "Requirement already satisfied: fonttools>=4.22.0 in c:\\users\\lemin\\appdata\\roaming\\python\\python39\\site-packages (from matplotlib!=3.6.1,>=3.4->seaborn==0.13.2->QuantTraderLib==1.0.22) (4.53.0)\n",
            "Requirement already satisfied: kiwisolver>=1.3.1 in c:\\users\\lemin\\appdata\\roaming\\python\\python39\\site-packages (from matplotlib!=3.6.1,>=3.4->seaborn==0.13.2->QuantTraderLib==1.0.22) (1.4.5)\n",
            "Requirement already satisfied: pyparsing>=2.3.1 in c:\\users\\lemin\\appdata\\roaming\\python\\python39\\site-packages (from matplotlib!=3.6.1,>=3.4->seaborn==0.13.2->QuantTraderLib==1.0.22) (3.1.2)\n",
            "Requirement already satisfied: importlib-resources>=3.2.0 in c:\\users\\lemin\\appdata\\roaming\\python\\python39\\site-packages (from matplotlib!=3.6.1,>=3.4->seaborn==0.13.2->QuantTraderLib==1.0.22) (6.4.0)\n",
            "Requirement already satisfied: charset-normalizer<4,>=2 in c:\\users\\lemin\\appdata\\roaming\\python\\python39\\site-packages (from requests>=2.19.0->pandas-datareader==0.10.0->QuantTraderLib==1.0.22) (3.3.2)\n",
            "Requirement already satisfied: idna<4,>=2.5 in c:\\users\\lemin\\anaconda3\\envs\\htech\\lib\\site-packages (from requests>=2.19.0->pandas-datareader==0.10.0->QuantTraderLib==1.0.22) (3.8)\n",
            "Requirement already satisfied: urllib3<3,>=1.21.1 in c:\\users\\lemin\\anaconda3\\envs\\htech\\lib\\site-packages (from requests>=2.19.0->pandas-datareader==0.10.0->QuantTraderLib==1.0.22) (1.26.19)\n",
            "Requirement already satisfied: certifi>=2017.4.17 in c:\\users\\lemin\\appdata\\roaming\\python\\python39\\site-packages (from requests>=2.19.0->pandas-datareader==0.10.0->QuantTraderLib==1.0.22) (2024.7.4)\n",
            "Requirement already satisfied: zipp>=3.1.0 in c:\\users\\lemin\\appdata\\roaming\\python\\python39\\site-packages (from importlib-resources>=3.2.0->matplotlib!=3.6.1,>=3.4->seaborn==0.13.2->QuantTraderLib==1.0.22) (3.19.2)\n",
            "Using cached QuantTraderLib-1.0.22-py3-none-any.whl (64 kB)\n",
            "Installing collected packages: QuantTraderLib\n",
            "  Attempting uninstall: QuantTraderLib\n",
            "    Found existing installation: QuantTraderLib 1.0.17\n",
            "    Uninstalling QuantTraderLib-1.0.17:\n",
            "      Successfully uninstalled QuantTraderLib-1.0.17\n",
            "Successfully installed QuantTraderLib-1.0.22\n"
          ]
        }
      ],
      "source": [
        "!pip install QuantTraderLib==1.0.23"
      ]
    },
    {
      "cell_type": "markdown",
      "metadata": {},
      "source": [
        "## Tạo dữ liệu"
      ]
    },
    {
      "cell_type": "code",
      "execution_count": 25,
      "metadata": {},
      "outputs": [],
      "source": [
        "from QuantTraderLib.backtest.event_base import use_changes\n",
        "from QuantTraderLib.backtest.vectorized import use_position, use_signal_ma, use_trailing"
      ]
    },
    {
      "cell_type": "code",
      "execution_count": 19,
      "metadata": {},
      "outputs": [],
      "source": [
        "from QuantTraderLib.data.get_data import *"
      ]
    },
    {
      "cell_type": "markdown",
      "metadata": {},
      "source": [
        "Lấy dữ liệu bitcoin"
      ]
    },
    {
      "cell_type": "code",
      "execution_count": 20,
      "metadata": {},
      "outputs": [
        {
          "name": "stderr",
          "output_type": "stream",
          "text": [
            "[*********************100%%**********************]  1 of 1 completed\n"
          ]
        }
      ],
      "source": [
        "data = get_crypto('BTC', dt.datetime(2023,1,1))"
      ]
    },
    {
      "cell_type": "code",
      "execution_count": 21,
      "metadata": {},
      "outputs": [
        {
          "data": {
            "text/html": [
              "<div>\n",
              "<style scoped>\n",
              "    .dataframe tbody tr th:only-of-type {\n",
              "        vertical-align: middle;\n",
              "    }\n",
              "\n",
              "    .dataframe tbody tr th {\n",
              "        vertical-align: top;\n",
              "    }\n",
              "\n",
              "    .dataframe thead th {\n",
              "        text-align: right;\n",
              "    }\n",
              "</style>\n",
              "<table border=\"1\" class=\"dataframe\">\n",
              "  <thead>\n",
              "    <tr style=\"text-align: right;\">\n",
              "      <th></th>\n",
              "      <th>Date</th>\n",
              "      <th>Open</th>\n",
              "      <th>High</th>\n",
              "      <th>Low</th>\n",
              "      <th>Close</th>\n",
              "    </tr>\n",
              "  </thead>\n",
              "  <tbody>\n",
              "    <tr>\n",
              "      <th>0</th>\n",
              "      <td>2024-07-31</td>\n",
              "      <td>5.90</td>\n",
              "      <td>5.930</td>\n",
              "      <td>5.760</td>\n",
              "      <td>5.79</td>\n",
              "    </tr>\n",
              "    <tr>\n",
              "      <th>1</th>\n",
              "      <td>2024-08-01</td>\n",
              "      <td>5.73</td>\n",
              "      <td>5.760</td>\n",
              "      <td>5.520</td>\n",
              "      <td>5.62</td>\n",
              "    </tr>\n",
              "    <tr>\n",
              "      <th>2</th>\n",
              "      <td>2024-08-02</td>\n",
              "      <td>5.75</td>\n",
              "      <td>5.810</td>\n",
              "      <td>5.530</td>\n",
              "      <td>5.56</td>\n",
              "    </tr>\n",
              "    <tr>\n",
              "      <th>3</th>\n",
              "      <td>2024-08-05</td>\n",
              "      <td>4.41</td>\n",
              "      <td>4.930</td>\n",
              "      <td>4.400</td>\n",
              "      <td>4.75</td>\n",
              "    </tr>\n",
              "    <tr>\n",
              "      <th>4</th>\n",
              "      <td>2024-08-06</td>\n",
              "      <td>4.90</td>\n",
              "      <td>5.070</td>\n",
              "      <td>4.830</td>\n",
              "      <td>5.05</td>\n",
              "    </tr>\n",
              "    <tr>\n",
              "      <th>5</th>\n",
              "      <td>2024-08-07</td>\n",
              "      <td>5.09</td>\n",
              "      <td>5.110</td>\n",
              "      <td>4.850</td>\n",
              "      <td>4.86</td>\n",
              "    </tr>\n",
              "    <tr>\n",
              "      <th>6</th>\n",
              "      <td>2024-08-08</td>\n",
              "      <td>5.13</td>\n",
              "      <td>5.315</td>\n",
              "      <td>5.040</td>\n",
              "      <td>5.27</td>\n",
              "    </tr>\n",
              "    <tr>\n",
              "      <th>7</th>\n",
              "      <td>2024-08-09</td>\n",
              "      <td>5.37</td>\n",
              "      <td>5.425</td>\n",
              "      <td>5.288</td>\n",
              "      <td>5.38</td>\n",
              "    </tr>\n",
              "    <tr>\n",
              "      <th>8</th>\n",
              "      <td>2024-08-12</td>\n",
              "      <td>5.29</td>\n",
              "      <td>5.385</td>\n",
              "      <td>5.130</td>\n",
              "      <td>5.24</td>\n",
              "    </tr>\n",
              "    <tr>\n",
              "      <th>9</th>\n",
              "      <td>2024-08-13</td>\n",
              "      <td>5.23</td>\n",
              "      <td>5.465</td>\n",
              "      <td>5.220</td>\n",
              "      <td>5.41</td>\n",
              "    </tr>\n",
              "    <tr>\n",
              "      <th>10</th>\n",
              "      <td>2024-08-14</td>\n",
              "      <td>5.39</td>\n",
              "      <td>5.410</td>\n",
              "      <td>5.206</td>\n",
              "      <td>5.22</td>\n",
              "    </tr>\n",
              "    <tr>\n",
              "      <th>11</th>\n",
              "      <td>2024-08-15</td>\n",
              "      <td>5.25</td>\n",
              "      <td>5.310</td>\n",
              "      <td>5.030</td>\n",
              "      <td>5.07</td>\n",
              "    </tr>\n",
              "    <tr>\n",
              "      <th>12</th>\n",
              "      <td>2024-08-16</td>\n",
              "      <td>5.20</td>\n",
              "      <td>5.320</td>\n",
              "      <td>5.120</td>\n",
              "      <td>5.29</td>\n",
              "    </tr>\n",
              "    <tr>\n",
              "      <th>13</th>\n",
              "      <td>2024-08-19</td>\n",
              "      <td>5.22</td>\n",
              "      <td>5.260</td>\n",
              "      <td>5.150</td>\n",
              "      <td>5.24</td>\n",
              "    </tr>\n",
              "    <tr>\n",
              "      <th>14</th>\n",
              "      <td>2024-08-20</td>\n",
              "      <td>5.37</td>\n",
              "      <td>5.410</td>\n",
              "      <td>5.195</td>\n",
              "      <td>5.28</td>\n",
              "    </tr>\n",
              "    <tr>\n",
              "      <th>15</th>\n",
              "      <td>2024-08-21</td>\n",
              "      <td>5.27</td>\n",
              "      <td>5.470</td>\n",
              "      <td>5.224</td>\n",
              "      <td>5.47</td>\n",
              "    </tr>\n",
              "    <tr>\n",
              "      <th>16</th>\n",
              "      <td>2024-08-22</td>\n",
              "      <td>5.40</td>\n",
              "      <td>5.406</td>\n",
              "      <td>5.330</td>\n",
              "      <td>5.34</td>\n",
              "    </tr>\n",
              "    <tr>\n",
              "      <th>17</th>\n",
              "      <td>2024-08-23</td>\n",
              "      <td>5.43</td>\n",
              "      <td>5.670</td>\n",
              "      <td>5.395</td>\n",
              "      <td>5.65</td>\n",
              "    </tr>\n",
              "    <tr>\n",
              "      <th>18</th>\n",
              "      <td>2024-08-26</td>\n",
              "      <td>5.67</td>\n",
              "      <td>5.670</td>\n",
              "      <td>5.590</td>\n",
              "      <td>5.61</td>\n",
              "    </tr>\n",
              "    <tr>\n",
              "      <th>19</th>\n",
              "      <td>2024-08-27</td>\n",
              "      <td>5.53</td>\n",
              "      <td>5.550</td>\n",
              "      <td>5.450</td>\n",
              "      <td>5.51</td>\n",
              "    </tr>\n",
              "    <tr>\n",
              "      <th>20</th>\n",
              "      <td>2024-08-28</td>\n",
              "      <td>5.32</td>\n",
              "      <td>5.325</td>\n",
              "      <td>5.130</td>\n",
              "      <td>5.23</td>\n",
              "    </tr>\n",
              "    <tr>\n",
              "      <th>21</th>\n",
              "      <td>2024-08-29</td>\n",
              "      <td>5.34</td>\n",
              "      <td>5.428</td>\n",
              "      <td>5.224</td>\n",
              "      <td>5.25</td>\n",
              "    </tr>\n",
              "    <tr>\n",
              "      <th>22</th>\n",
              "      <td>2024-08-30</td>\n",
              "      <td>5.28</td>\n",
              "      <td>5.306</td>\n",
              "      <td>5.120</td>\n",
              "      <td>5.20</td>\n",
              "    </tr>\n",
              "    <tr>\n",
              "      <th>23</th>\n",
              "      <td>2024-09-03</td>\n",
              "      <td>5.24</td>\n",
              "      <td>5.250</td>\n",
              "      <td>5.100</td>\n",
              "      <td>5.15</td>\n",
              "    </tr>\n",
              "    <tr>\n",
              "      <th>24</th>\n",
              "      <td>2024-09-04</td>\n",
              "      <td>5.01</td>\n",
              "      <td>5.190</td>\n",
              "      <td>4.974</td>\n",
              "      <td>5.15</td>\n",
              "    </tr>\n",
              "    <tr>\n",
              "      <th>25</th>\n",
              "      <td>2024-09-05</td>\n",
              "      <td>5.02</td>\n",
              "      <td>5.080</td>\n",
              "      <td>4.940</td>\n",
              "      <td>4.97</td>\n",
              "    </tr>\n",
              "    <tr>\n",
              "      <th>26</th>\n",
              "      <td>2024-09-06</td>\n",
              "      <td>5.02</td>\n",
              "      <td>5.040</td>\n",
              "      <td>4.720</td>\n",
              "      <td>4.75</td>\n",
              "    </tr>\n",
              "    <tr>\n",
              "      <th>27</th>\n",
              "      <td>2024-09-09</td>\n",
              "      <td>4.91</td>\n",
              "      <td>5.075</td>\n",
              "      <td>4.855</td>\n",
              "      <td>5.07</td>\n",
              "    </tr>\n",
              "    <tr>\n",
              "      <th>28</th>\n",
              "      <td>2024-09-10</td>\n",
              "      <td>5.05</td>\n",
              "      <td>5.150</td>\n",
              "      <td>5.010</td>\n",
              "      <td>5.14</td>\n",
              "    </tr>\n",
              "    <tr>\n",
              "      <th>29</th>\n",
              "      <td>2024-09-11</td>\n",
              "      <td>5.05</td>\n",
              "      <td>5.150</td>\n",
              "      <td>4.922</td>\n",
              "      <td>5.11</td>\n",
              "    </tr>\n",
              "    <tr>\n",
              "      <th>30</th>\n",
              "      <td>2024-09-12</td>\n",
              "      <td>5.11</td>\n",
              "      <td>5.195</td>\n",
              "      <td>5.080</td>\n",
              "      <td>5.17</td>\n",
              "    </tr>\n",
              "    <tr>\n",
              "      <th>31</th>\n",
              "      <td>2024-09-13</td>\n",
              "      <td>5.12</td>\n",
              "      <td>5.330</td>\n",
              "      <td>5.110</td>\n",
              "      <td>5.30</td>\n",
              "    </tr>\n",
              "    <tr>\n",
              "      <th>32</th>\n",
              "      <td>2024-09-16</td>\n",
              "      <td>5.20</td>\n",
              "      <td>5.200</td>\n",
              "      <td>5.100</td>\n",
              "      <td>5.14</td>\n",
              "    </tr>\n",
              "    <tr>\n",
              "      <th>33</th>\n",
              "      <td>2024-09-17</td>\n",
              "      <td>5.25</td>\n",
              "      <td>5.445</td>\n",
              "      <td>5.220</td>\n",
              "      <td>5.32</td>\n",
              "    </tr>\n",
              "    <tr>\n",
              "      <th>34</th>\n",
              "      <td>2024-09-18</td>\n",
              "      <td>5.32</td>\n",
              "      <td>5.448</td>\n",
              "      <td>5.245</td>\n",
              "      <td>5.33</td>\n",
              "    </tr>\n",
              "    <tr>\n",
              "      <th>35</th>\n",
              "      <td>2024-09-19</td>\n",
              "      <td>5.61</td>\n",
              "      <td>5.670</td>\n",
              "      <td>5.560</td>\n",
              "      <td>5.61</td>\n",
              "    </tr>\n",
              "    <tr>\n",
              "      <th>36</th>\n",
              "      <td>2024-09-20</td>\n",
              "      <td>5.59</td>\n",
              "      <td>5.638</td>\n",
              "      <td>5.530</td>\n",
              "      <td>5.58</td>\n",
              "    </tr>\n",
              "    <tr>\n",
              "      <th>37</th>\n",
              "      <td>2024-09-23</td>\n",
              "      <td>5.61</td>\n",
              "      <td>5.660</td>\n",
              "      <td>5.592</td>\n",
              "      <td>5.61</td>\n",
              "    </tr>\n",
              "    <tr>\n",
              "      <th>38</th>\n",
              "      <td>2024-09-24</td>\n",
              "      <td>5.62</td>\n",
              "      <td>5.710</td>\n",
              "      <td>5.560</td>\n",
              "      <td>5.71</td>\n",
              "    </tr>\n",
              "    <tr>\n",
              "      <th>39</th>\n",
              "      <td>2024-09-25</td>\n",
              "      <td>5.63</td>\n",
              "      <td>5.680</td>\n",
              "      <td>5.580</td>\n",
              "      <td>5.60</td>\n",
              "    </tr>\n",
              "    <tr>\n",
              "      <th>40</th>\n",
              "      <td>2024-09-26</td>\n",
              "      <td>5.71</td>\n",
              "      <td>5.845</td>\n",
              "      <td>5.690</td>\n",
              "      <td>5.74</td>\n",
              "    </tr>\n",
              "    <tr>\n",
              "      <th>41</th>\n",
              "      <td>2024-09-27</td>\n",
              "      <td>5.82</td>\n",
              "      <td>5.910</td>\n",
              "      <td>5.800</td>\n",
              "      <td>5.82</td>\n",
              "    </tr>\n",
              "    <tr>\n",
              "      <th>42</th>\n",
              "      <td>2024-09-30</td>\n",
              "      <td>5.68</td>\n",
              "      <td>5.690</td>\n",
              "      <td>5.580</td>\n",
              "      <td>5.63</td>\n",
              "    </tr>\n",
              "    <tr>\n",
              "      <th>43</th>\n",
              "      <td>2024-10-01</td>\n",
              "      <td>5.62</td>\n",
              "      <td>5.630</td>\n",
              "      <td>5.410</td>\n",
              "      <td>5.48</td>\n",
              "    </tr>\n",
              "  </tbody>\n",
              "</table>\n",
              "</div>"
            ],
            "text/plain": [
              "          Date  Open   High    Low  Close\n",
              "0   2024-07-31  5.90  5.930  5.760   5.79\n",
              "1   2024-08-01  5.73  5.760  5.520   5.62\n",
              "2   2024-08-02  5.75  5.810  5.530   5.56\n",
              "3   2024-08-05  4.41  4.930  4.400   4.75\n",
              "4   2024-08-06  4.90  5.070  4.830   5.05\n",
              "5   2024-08-07  5.09  5.110  4.850   4.86\n",
              "6   2024-08-08  5.13  5.315  5.040   5.27\n",
              "7   2024-08-09  5.37  5.425  5.288   5.38\n",
              "8   2024-08-12  5.29  5.385  5.130   5.24\n",
              "9   2024-08-13  5.23  5.465  5.220   5.41\n",
              "10  2024-08-14  5.39  5.410  5.206   5.22\n",
              "11  2024-08-15  5.25  5.310  5.030   5.07\n",
              "12  2024-08-16  5.20  5.320  5.120   5.29\n",
              "13  2024-08-19  5.22  5.260  5.150   5.24\n",
              "14  2024-08-20  5.37  5.410  5.195   5.28\n",
              "15  2024-08-21  5.27  5.470  5.224   5.47\n",
              "16  2024-08-22  5.40  5.406  5.330   5.34\n",
              "17  2024-08-23  5.43  5.670  5.395   5.65\n",
              "18  2024-08-26  5.67  5.670  5.590   5.61\n",
              "19  2024-08-27  5.53  5.550  5.450   5.51\n",
              "20  2024-08-28  5.32  5.325  5.130   5.23\n",
              "21  2024-08-29  5.34  5.428  5.224   5.25\n",
              "22  2024-08-30  5.28  5.306  5.120   5.20\n",
              "23  2024-09-03  5.24  5.250  5.100   5.15\n",
              "24  2024-09-04  5.01  5.190  4.974   5.15\n",
              "25  2024-09-05  5.02  5.080  4.940   4.97\n",
              "26  2024-09-06  5.02  5.040  4.720   4.75\n",
              "27  2024-09-09  4.91  5.075  4.855   5.07\n",
              "28  2024-09-10  5.05  5.150  5.010   5.14\n",
              "29  2024-09-11  5.05  5.150  4.922   5.11\n",
              "30  2024-09-12  5.11  5.195  5.080   5.17\n",
              "31  2024-09-13  5.12  5.330  5.110   5.30\n",
              "32  2024-09-16  5.20  5.200  5.100   5.14\n",
              "33  2024-09-17  5.25  5.445  5.220   5.32\n",
              "34  2024-09-18  5.32  5.448  5.245   5.33\n",
              "35  2024-09-19  5.61  5.670  5.560   5.61\n",
              "36  2024-09-20  5.59  5.638  5.530   5.58\n",
              "37  2024-09-23  5.61  5.660  5.592   5.61\n",
              "38  2024-09-24  5.62  5.710  5.560   5.71\n",
              "39  2024-09-25  5.63  5.680  5.580   5.60\n",
              "40  2024-09-26  5.71  5.845  5.690   5.74\n",
              "41  2024-09-27  5.82  5.910  5.800   5.82\n",
              "42  2024-09-30  5.68  5.690  5.580   5.63\n",
              "43  2024-10-01  5.62  5.630  5.410   5.48"
            ]
          },
          "execution_count": 21,
          "metadata": {},
          "output_type": "execute_result"
        }
      ],
      "source": [
        "data"
      ]
    },
    {
      "cell_type": "code",
      "execution_count": 22,
      "metadata": {},
      "outputs": [],
      "source": [
        "selected_columns = data[['Open', 'High', 'Low', 'Close']] # Một số hàm backtest chỉ nhận các cột dữ liệu này"
      ]
    },
    {
      "cell_type": "markdown",
      "metadata": {},
      "source": [
        "Tạo series vị thế ngẫu nhiên để sử dụng chiến thuật phía sau"
      ]
    },
    {
      "cell_type": "code",
      "execution_count": 23,
      "metadata": {},
      "outputs": [],
      "source": [
        "import pandas as pd\n",
        "import numpy as np\n",
        "\n",
        "# Generate random integers (-1, 0, 1)\n",
        "random_pos = np.random.randint(-1, 2, size=len(data.Close))\n",
        "\n",
        "# Convert to pandas Series\n",
        "random_pos = pd.Series(random_pos)"
      ]
    },
    {
      "cell_type": "markdown",
      "metadata": {
        "id": "eaKodIBwnUZk"
      },
      "source": [
        "## Backtesting"
      ]
    },
    {
      "cell_type": "markdown",
      "metadata": {},
      "source": [
        "### Backtest with use_position"
      ]
    },
    {
      "cell_type": "markdown",
      "metadata": {},
      "source": [
        "Backtest dữ liệu sử dụng chiến thuật vị thế"
      ]
    },
    {
      "cell_type": "code",
      "execution_count": 26,
      "metadata": {},
      "outputs": [
        {
          "name": "stderr",
          "output_type": "stream",
          "text": [
            "Data index is not datetime. Assuming simple periods, but `pd.DateTimeIndex` is advised.\n"
          ]
        }
      ],
      "source": [
        "stats, bt = use_position(selected_columns, random_pos) # Input là data và dãy vị thế của giá Close"
      ]
    },
    {
      "cell_type": "code",
      "execution_count": 27,
      "metadata": {},
      "outputs": [
        {
          "data": {
            "text/plain": [
              "Start                                     0.0\n",
              "End                                      43.0\n",
              "Duration                                 43.0\n",
              "Exposure Time [%]                   56.818182\n",
              "Equity Final [$]                   9933.72882\n",
              "Equity Peak [$]                   10178.44942\n",
              "Return [%]                          -0.662712\n",
              "Buy & Hold Return [%]               -5.354058\n",
              "Return (Ann.) [%]                         0.0\n",
              "Volatility (Ann.) [%]                     NaN\n",
              "Sharpe Ratio                              NaN\n",
              "Sortino Ratio                             NaN\n",
              "Calmar Ratio                              0.0\n",
              "Max. Drawdown [%]                  -13.978284\n",
              "Avg. Drawdown [%]                   -8.191293\n",
              "Max. Drawdown Duration                   33.0\n",
              "Avg. Drawdown Duration                   17.5\n",
              "# Trades                                  8.0\n",
              "Win Rate [%]                             50.0\n",
              "Best Trade [%]                       5.451127\n",
              "Worst Trade [%]                     -3.525048\n",
              "Avg. Trade [%]                      -0.083021\n",
              "Max. Trade Duration                       6.0\n",
              "Avg. Trade Duration                     2.125\n",
              "Profit Factor                        0.960761\n",
              "Expectancy [%]                      -0.045165\n",
              "SQN                                 -0.083719\n",
              "Kelly Criterion                     -0.040127\n",
              "_strategy                         PosStrategy\n",
              "_equity_curve                       Equity...\n",
              "_trades                      Size  EntryBa...\n",
              "dtype: object"
            ]
          },
          "execution_count": 27,
          "metadata": {},
          "output_type": "execute_result"
        }
      ],
      "source": [
        "stats"
      ]
    },
    {
      "cell_type": "code",
      "execution_count": 28,
      "metadata": {},
      "outputs": [
        {
          "name": "stderr",
          "output_type": "stream",
          "text": [
            "found multiple competing values for 'toolbar.active_drag' property; using the latest value\n",
            "found multiple competing values for 'toolbar.active_scroll' property; using the latest value\n"
          ]
        },
        {
          "data": {
            "text/html": [
              "<div style=\"display: table;\"><div style=\"display: table-row;\"><div style=\"display: table-cell;\"><b title=\"bokeh.models.plots.GridPlot\">GridPlot</b>(</div><div style=\"display: table-cell;\">id&nbsp;=&nbsp;'p1241', <span id=\"p1263\" style=\"cursor: pointer;\">&hellip;)</span></div></div><div class=\"p1262\" style=\"display: none;\"><div style=\"display: table-cell;\"></div><div style=\"display: table-cell;\">align&nbsp;=&nbsp;'auto',</div></div><div class=\"p1262\" style=\"display: none;\"><div style=\"display: table-cell;\"></div><div style=\"display: table-cell;\">aspect_ratio&nbsp;=&nbsp;None,</div></div><div class=\"p1262\" style=\"display: none;\"><div style=\"display: table-cell;\"></div><div style=\"display: table-cell;\">children&nbsp;=&nbsp;[(figure(id='p1044', ...), 0, 0), (figure(id='p1141', ...), 1, 0), (figure(id='p1002', ...), 2, 0)],</div></div><div class=\"p1262\" style=\"display: none;\"><div style=\"display: table-cell;\"></div><div style=\"display: table-cell;\">cols&nbsp;=&nbsp;None,</div></div><div class=\"p1262\" style=\"display: none;\"><div style=\"display: table-cell;\"></div><div style=\"display: table-cell;\">context_menu&nbsp;=&nbsp;None,</div></div><div class=\"p1262\" style=\"display: none;\"><div style=\"display: table-cell;\"></div><div style=\"display: table-cell;\">css_classes&nbsp;=&nbsp;[],</div></div><div class=\"p1262\" style=\"display: none;\"><div style=\"display: table-cell;\"></div><div style=\"display: table-cell;\">css_variables&nbsp;=&nbsp;{},</div></div><div class=\"p1262\" style=\"display: none;\"><div style=\"display: table-cell;\"></div><div style=\"display: table-cell;\">disabled&nbsp;=&nbsp;False,</div></div><div class=\"p1262\" style=\"display: none;\"><div style=\"display: table-cell;\"></div><div style=\"display: table-cell;\">elements&nbsp;=&nbsp;[],</div></div><div class=\"p1262\" style=\"display: none;\"><div style=\"display: table-cell;\"></div><div style=\"display: table-cell;\">flow_mode&nbsp;=&nbsp;'block',</div></div><div class=\"p1262\" style=\"display: none;\"><div style=\"display: table-cell;\"></div><div style=\"display: table-cell;\">height&nbsp;=&nbsp;None,</div></div><div class=\"p1262\" style=\"display: none;\"><div style=\"display: table-cell;\"></div><div style=\"display: table-cell;\">height_policy&nbsp;=&nbsp;'auto',</div></div><div class=\"p1262\" style=\"display: none;\"><div style=\"display: table-cell;\"></div><div style=\"display: table-cell;\">js_event_callbacks&nbsp;=&nbsp;{},</div></div><div class=\"p1262\" style=\"display: none;\"><div style=\"display: table-cell;\"></div><div style=\"display: table-cell;\">js_property_callbacks&nbsp;=&nbsp;{},</div></div><div class=\"p1262\" style=\"display: none;\"><div style=\"display: table-cell;\"></div><div style=\"display: table-cell;\">margin&nbsp;=&nbsp;None,</div></div><div class=\"p1262\" style=\"display: none;\"><div style=\"display: table-cell;\"></div><div style=\"display: table-cell;\">max_height&nbsp;=&nbsp;None,</div></div><div class=\"p1262\" style=\"display: none;\"><div style=\"display: table-cell;\"></div><div style=\"display: table-cell;\">max_width&nbsp;=&nbsp;None,</div></div><div class=\"p1262\" style=\"display: none;\"><div style=\"display: table-cell;\"></div><div style=\"display: table-cell;\">min_height&nbsp;=&nbsp;None,</div></div><div class=\"p1262\" style=\"display: none;\"><div style=\"display: table-cell;\"></div><div style=\"display: table-cell;\">min_width&nbsp;=&nbsp;None,</div></div><div class=\"p1262\" style=\"display: none;\"><div style=\"display: table-cell;\"></div><div style=\"display: table-cell;\">name&nbsp;=&nbsp;None,</div></div><div class=\"p1262\" style=\"display: none;\"><div style=\"display: table-cell;\"></div><div style=\"display: table-cell;\">resizable&nbsp;=&nbsp;False,</div></div><div class=\"p1262\" style=\"display: none;\"><div style=\"display: table-cell;\"></div><div style=\"display: table-cell;\">rows&nbsp;=&nbsp;None,</div></div><div class=\"p1262\" style=\"display: none;\"><div style=\"display: table-cell;\"></div><div style=\"display: table-cell;\">sizing_mode&nbsp;=&nbsp;'stretch_width',</div></div><div class=\"p1262\" style=\"display: none;\"><div style=\"display: table-cell;\"></div><div style=\"display: table-cell;\">spacing&nbsp;=&nbsp;0,</div></div><div class=\"p1262\" style=\"display: none;\"><div style=\"display: table-cell;\"></div><div style=\"display: table-cell;\">styles&nbsp;=&nbsp;{},</div></div><div class=\"p1262\" style=\"display: none;\"><div style=\"display: table-cell;\"></div><div style=\"display: table-cell;\">stylesheets&nbsp;=&nbsp;[],</div></div><div class=\"p1262\" style=\"display: none;\"><div style=\"display: table-cell;\"></div><div style=\"display: table-cell;\">subscribed_events&nbsp;=&nbsp;PropertyValueSet(),</div></div><div class=\"p1262\" style=\"display: none;\"><div style=\"display: table-cell;\"></div><div style=\"display: table-cell;\">syncable&nbsp;=&nbsp;True,</div></div><div class=\"p1262\" style=\"display: none;\"><div style=\"display: table-cell;\"></div><div style=\"display: table-cell;\">tags&nbsp;=&nbsp;[],</div></div><div class=\"p1262\" style=\"display: none;\"><div style=\"display: table-cell;\"></div><div style=\"display: table-cell;\">toolbar&nbsp;=&nbsp;Toolbar(id='p1240', ...),</div></div><div class=\"p1262\" style=\"display: none;\"><div style=\"display: table-cell;\"></div><div style=\"display: table-cell;\">toolbar_location&nbsp;=&nbsp;'right',</div></div><div class=\"p1262\" style=\"display: none;\"><div style=\"display: table-cell;\"></div><div style=\"display: table-cell;\">visible&nbsp;=&nbsp;True,</div></div><div class=\"p1262\" style=\"display: none;\"><div style=\"display: table-cell;\"></div><div style=\"display: table-cell;\">width&nbsp;=&nbsp;None,</div></div><div class=\"p1262\" style=\"display: none;\"><div style=\"display: table-cell;\"></div><div style=\"display: table-cell;\">width_policy&nbsp;=&nbsp;'auto')</div></div></div>\n",
              "<script>\n",
              "(function() {\n",
              "  let expanded = false;\n",
              "  const ellipsis = document.getElementById(\"p1263\");\n",
              "  ellipsis.addEventListener(\"click\", function() {\n",
              "    const rows = document.getElementsByClassName(\"p1262\");\n",
              "    for (let i = 0; i < rows.length; i++) {\n",
              "      const el = rows[i];\n",
              "      el.style.display = expanded ? \"none\" : \"table-row\";\n",
              "    }\n",
              "    ellipsis.innerHTML = expanded ? \"&hellip;)\" : \"&lsaquo;&lsaquo;&lsaquo;\";\n",
              "    expanded = !expanded;\n",
              "  });\n",
              "})();\n",
              "</script>\n"
            ],
            "text/plain": [
              "GridPlot(id='p1241', ...)"
            ]
          },
          "execution_count": 28,
          "metadata": {},
          "output_type": "execute_result"
        }
      ],
      "source": [
        "bt.plot()"
      ]
    },
    {
      "cell_type": "markdown",
      "metadata": {},
      "source": [
        "### Backtest with use_changes"
      ]
    },
    {
      "cell_type": "markdown",
      "metadata": {},
      "source": [
        "Sử dụng giá thay đổi được dự đoán để backtest"
      ]
    },
    {
      "cell_type": "code",
      "execution_count": 29,
      "metadata": {},
      "outputs": [],
      "source": [
        "changes = data['Close'] - data['Close'].shift(1) "
      ]
    },
    {
      "cell_type": "code",
      "execution_count": 30,
      "metadata": {},
      "outputs": [
        {
          "name": "stderr",
          "output_type": "stream",
          "text": [
            "\n",
            "A value is trying to be set on a copy of a slice from a DataFrame.\n",
            "Try using .loc[row_indexer,col_indexer] = value instead\n",
            "\n",
            "See the caveats in the documentation: https://pandas.pydata.org/pandas-docs/stable/user_guide/indexing.html#returning-a-view-versus-a-copy\n",
            "Data index is not datetime. Assuming simple periods, but `pd.DateTimeIndex` is advised.\n"
          ]
        }
      ],
      "source": [
        "stats, bt = use_changes(data, changes)"
      ]
    },
    {
      "cell_type": "code",
      "execution_count": 31,
      "metadata": {},
      "outputs": [
        {
          "data": {
            "text/plain": [
              "Start                                     0.0\n",
              "End                                      43.0\n",
              "Duration                                 43.0\n",
              "Exposure Time [%]                   72.727273\n",
              "Equity Final [$]                 10529.609519\n",
              "Equity Peak [$]                  10904.210055\n",
              "Return [%]                           5.296095\n",
              "Buy & Hold Return [%]               -5.354058\n",
              "Return (Ann.) [%]                         0.0\n",
              "Volatility (Ann.) [%]                     NaN\n",
              "Sharpe Ratio                              NaN\n",
              "Sortino Ratio                             NaN\n",
              "Calmar Ratio                              0.0\n",
              "Max. Drawdown [%]                   -5.852744\n",
              "Avg. Drawdown [%]                   -3.418818\n",
              "Max. Drawdown Duration                   16.0\n",
              "Avg. Drawdown Duration               5.142857\n",
              "# Trades                                 12.0\n",
              "Win Rate [%]                        58.333333\n",
              "Best Trade [%]                       5.451127\n",
              "Worst Trade [%]                     -3.436431\n",
              "Avg. Trade [%]                       0.430994\n",
              "Max. Trade Duration                       3.0\n",
              "Avg. Trade Duration                  1.666667\n",
              "Profit Factor                        1.472511\n",
              "Expectancy [%]                       0.467299\n",
              "SQN                                  0.533249\n",
              "Kelly Criterion                      0.176859\n",
              "_strategy                     ChangesStrategy\n",
              "_equity_curve                       Equity...\n",
              "_trades                       Size  EntryB...\n",
              "dtype: object"
            ]
          },
          "execution_count": 31,
          "metadata": {},
          "output_type": "execute_result"
        }
      ],
      "source": [
        "stats"
      ]
    },
    {
      "cell_type": "code",
      "execution_count": 32,
      "metadata": {},
      "outputs": [
        {
          "name": "stderr",
          "output_type": "stream",
          "text": [
            "found multiple competing values for 'toolbar.active_drag' property; using the latest value\n",
            "found multiple competing values for 'toolbar.active_scroll' property; using the latest value\n"
          ]
        },
        {
          "data": {
            "text/html": [
              "<div style=\"display: table;\"><div style=\"display: table-row;\"><div style=\"display: table-cell;\"><b title=\"bokeh.models.plots.GridPlot\">GridPlot</b>(</div><div style=\"display: table-cell;\">id&nbsp;=&nbsp;'p1504', <span id=\"p1526\" style=\"cursor: pointer;\">&hellip;)</span></div></div><div class=\"p1525\" style=\"display: none;\"><div style=\"display: table-cell;\"></div><div style=\"display: table-cell;\">align&nbsp;=&nbsp;'auto',</div></div><div class=\"p1525\" style=\"display: none;\"><div style=\"display: table-cell;\"></div><div style=\"display: table-cell;\">aspect_ratio&nbsp;=&nbsp;None,</div></div><div class=\"p1525\" style=\"display: none;\"><div style=\"display: table-cell;\"></div><div style=\"display: table-cell;\">children&nbsp;=&nbsp;[(figure(id='p1307', ...), 0, 0), (figure(id='p1404', ...), 1, 0), (figure(id='p1265', ...), 2, 0)],</div></div><div class=\"p1525\" style=\"display: none;\"><div style=\"display: table-cell;\"></div><div style=\"display: table-cell;\">cols&nbsp;=&nbsp;None,</div></div><div class=\"p1525\" style=\"display: none;\"><div style=\"display: table-cell;\"></div><div style=\"display: table-cell;\">context_menu&nbsp;=&nbsp;None,</div></div><div class=\"p1525\" style=\"display: none;\"><div style=\"display: table-cell;\"></div><div style=\"display: table-cell;\">css_classes&nbsp;=&nbsp;[],</div></div><div class=\"p1525\" style=\"display: none;\"><div style=\"display: table-cell;\"></div><div style=\"display: table-cell;\">css_variables&nbsp;=&nbsp;{},</div></div><div class=\"p1525\" style=\"display: none;\"><div style=\"display: table-cell;\"></div><div style=\"display: table-cell;\">disabled&nbsp;=&nbsp;False,</div></div><div class=\"p1525\" style=\"display: none;\"><div style=\"display: table-cell;\"></div><div style=\"display: table-cell;\">elements&nbsp;=&nbsp;[],</div></div><div class=\"p1525\" style=\"display: none;\"><div style=\"display: table-cell;\"></div><div style=\"display: table-cell;\">flow_mode&nbsp;=&nbsp;'block',</div></div><div class=\"p1525\" style=\"display: none;\"><div style=\"display: table-cell;\"></div><div style=\"display: table-cell;\">height&nbsp;=&nbsp;None,</div></div><div class=\"p1525\" style=\"display: none;\"><div style=\"display: table-cell;\"></div><div style=\"display: table-cell;\">height_policy&nbsp;=&nbsp;'auto',</div></div><div class=\"p1525\" style=\"display: none;\"><div style=\"display: table-cell;\"></div><div style=\"display: table-cell;\">js_event_callbacks&nbsp;=&nbsp;{},</div></div><div class=\"p1525\" style=\"display: none;\"><div style=\"display: table-cell;\"></div><div style=\"display: table-cell;\">js_property_callbacks&nbsp;=&nbsp;{},</div></div><div class=\"p1525\" style=\"display: none;\"><div style=\"display: table-cell;\"></div><div style=\"display: table-cell;\">margin&nbsp;=&nbsp;None,</div></div><div class=\"p1525\" style=\"display: none;\"><div style=\"display: table-cell;\"></div><div style=\"display: table-cell;\">max_height&nbsp;=&nbsp;None,</div></div><div class=\"p1525\" style=\"display: none;\"><div style=\"display: table-cell;\"></div><div style=\"display: table-cell;\">max_width&nbsp;=&nbsp;None,</div></div><div class=\"p1525\" style=\"display: none;\"><div style=\"display: table-cell;\"></div><div style=\"display: table-cell;\">min_height&nbsp;=&nbsp;None,</div></div><div class=\"p1525\" style=\"display: none;\"><div style=\"display: table-cell;\"></div><div style=\"display: table-cell;\">min_width&nbsp;=&nbsp;None,</div></div><div class=\"p1525\" style=\"display: none;\"><div style=\"display: table-cell;\"></div><div style=\"display: table-cell;\">name&nbsp;=&nbsp;None,</div></div><div class=\"p1525\" style=\"display: none;\"><div style=\"display: table-cell;\"></div><div style=\"display: table-cell;\">resizable&nbsp;=&nbsp;False,</div></div><div class=\"p1525\" style=\"display: none;\"><div style=\"display: table-cell;\"></div><div style=\"display: table-cell;\">rows&nbsp;=&nbsp;None,</div></div><div class=\"p1525\" style=\"display: none;\"><div style=\"display: table-cell;\"></div><div style=\"display: table-cell;\">sizing_mode&nbsp;=&nbsp;'stretch_width',</div></div><div class=\"p1525\" style=\"display: none;\"><div style=\"display: table-cell;\"></div><div style=\"display: table-cell;\">spacing&nbsp;=&nbsp;0,</div></div><div class=\"p1525\" style=\"display: none;\"><div style=\"display: table-cell;\"></div><div style=\"display: table-cell;\">styles&nbsp;=&nbsp;{},</div></div><div class=\"p1525\" style=\"display: none;\"><div style=\"display: table-cell;\"></div><div style=\"display: table-cell;\">stylesheets&nbsp;=&nbsp;[],</div></div><div class=\"p1525\" style=\"display: none;\"><div style=\"display: table-cell;\"></div><div style=\"display: table-cell;\">subscribed_events&nbsp;=&nbsp;PropertyValueSet(),</div></div><div class=\"p1525\" style=\"display: none;\"><div style=\"display: table-cell;\"></div><div style=\"display: table-cell;\">syncable&nbsp;=&nbsp;True,</div></div><div class=\"p1525\" style=\"display: none;\"><div style=\"display: table-cell;\"></div><div style=\"display: table-cell;\">tags&nbsp;=&nbsp;[],</div></div><div class=\"p1525\" style=\"display: none;\"><div style=\"display: table-cell;\"></div><div style=\"display: table-cell;\">toolbar&nbsp;=&nbsp;Toolbar(id='p1503', ...),</div></div><div class=\"p1525\" style=\"display: none;\"><div style=\"display: table-cell;\"></div><div style=\"display: table-cell;\">toolbar_location&nbsp;=&nbsp;'right',</div></div><div class=\"p1525\" style=\"display: none;\"><div style=\"display: table-cell;\"></div><div style=\"display: table-cell;\">visible&nbsp;=&nbsp;True,</div></div><div class=\"p1525\" style=\"display: none;\"><div style=\"display: table-cell;\"></div><div style=\"display: table-cell;\">width&nbsp;=&nbsp;None,</div></div><div class=\"p1525\" style=\"display: none;\"><div style=\"display: table-cell;\"></div><div style=\"display: table-cell;\">width_policy&nbsp;=&nbsp;'auto')</div></div></div>\n",
              "<script>\n",
              "(function() {\n",
              "  let expanded = false;\n",
              "  const ellipsis = document.getElementById(\"p1526\");\n",
              "  ellipsis.addEventListener(\"click\", function() {\n",
              "    const rows = document.getElementsByClassName(\"p1525\");\n",
              "    for (let i = 0; i < rows.length; i++) {\n",
              "      const el = rows[i];\n",
              "      el.style.display = expanded ? \"none\" : \"table-row\";\n",
              "    }\n",
              "    ellipsis.innerHTML = expanded ? \"&hellip;)\" : \"&lsaquo;&lsaquo;&lsaquo;\";\n",
              "    expanded = !expanded;\n",
              "  });\n",
              "})();\n",
              "</script>\n"
            ],
            "text/plain": [
              "GridPlot(id='p1504', ...)"
            ]
          },
          "execution_count": 32,
          "metadata": {},
          "output_type": "execute_result"
        }
      ],
      "source": [
        "bt.plot()"
      ]
    },
    {
      "cell_type": "markdown",
      "metadata": {},
      "source": [
        "### Backtest with use_changes"
      ]
    },
    {
      "cell_type": "markdown",
      "metadata": {},
      "source": [
        "Sử dụng 2 chu kỳ moving average khác nhau để tạo signal và tính backtest"
      ]
    },
    {
      "cell_type": "code",
      "execution_count": 33,
      "metadata": {},
      "outputs": [
        {
          "name": "stderr",
          "output_type": "stream",
          "text": [
            "Data index is not datetime. Assuming simple periods, but `pd.DateTimeIndex` is advised.\n"
          ]
        }
      ],
      "source": [
        "stats, bt = use_signal_ma(data, 10, 20)"
      ]
    },
    {
      "cell_type": "code",
      "execution_count": 34,
      "metadata": {},
      "outputs": [
        {
          "data": {
            "text/plain": [
              "Start                                     0.0\n",
              "End                                      43.0\n",
              "Duration                                 43.0\n",
              "Exposure Time [%]                   15.909091\n",
              "Equity Final [$]                  9999.509999\n",
              "Equity Peak [$]                  10000.710001\n",
              "Return [%]                            -0.0049\n",
              "Buy & Hold Return [%]               -5.354058\n",
              "Return (Ann.) [%]                         0.0\n",
              "Volatility (Ann.) [%]                     NaN\n",
              "Sharpe Ratio                              NaN\n",
              "Sortino Ratio                             NaN\n",
              "Calmar Ratio                              0.0\n",
              "Max. Drawdown [%]                   -0.011999\n",
              "Avg. Drawdown [%]                    -0.00725\n",
              "Max. Drawdown Duration                    2.0\n",
              "Avg. Drawdown Duration                    2.0\n",
              "# Trades                                  7.0\n",
              "Win Rate [%]                        14.285714\n",
              "Best Trade [%]                       0.178249\n",
              "Worst Trade [%]                     -3.436431\n",
              "Avg. Trade [%]                      -0.874334\n",
              "Max. Trade Duration                       6.0\n",
              "Avg. Trade Duration                       3.0\n",
              "Profit Factor                        0.028535\n",
              "Expectancy [%]                      -0.866904\n",
              "SQN                                 -1.747094\n",
              "Kelly Criterion                     -7.571633\n",
              "_strategy                            MASignal\n",
              "_equity_curve                       Equity...\n",
              "_trades                      Size  EntryBa...\n",
              "dtype: object"
            ]
          },
          "execution_count": 34,
          "metadata": {},
          "output_type": "execute_result"
        }
      ],
      "source": [
        "stats"
      ]
    },
    {
      "cell_type": "markdown",
      "metadata": {},
      "source": [
        "Thực hiện backtest chiến lược giao dịch sử dụng trailing stop-loss."
      ]
    },
    {
      "cell_type": "code",
      "execution_count": 35,
      "metadata": {},
      "outputs": [
        {
          "name": "stderr",
          "output_type": "stream",
          "text": [
            "Data index is not datetime. Assuming simple periods, but `pd.DateTimeIndex` is advised.\n"
          ]
        }
      ],
      "source": [
        "stats, bt = use_trailing(data=data, atr_periods=40, trailing_sl=3, rolling=10)"
      ]
    },
    {
      "cell_type": "code",
      "execution_count": 36,
      "metadata": {},
      "outputs": [
        {
          "data": {
            "text/plain": [
              "Start                                     0.0\n",
              "End                                      43.0\n",
              "Duration                                 43.0\n",
              "Exposure Time [%]                   63.636364\n",
              "Equity Final [$]                 10339.452478\n",
              "Equity Peak [$]                  10823.450584\n",
              "Return [%]                           3.394525\n",
              "Buy & Hold Return [%]               -5.354058\n",
              "Return (Ann.) [%]                         0.0\n",
              "Volatility (Ann.) [%]                     NaN\n",
              "Sharpe Ratio                              NaN\n",
              "Sortino Ratio                             NaN\n",
              "Calmar Ratio                              0.0\n",
              "Max. Drawdown [%]                  -13.137101\n",
              "Avg. Drawdown [%]                   -7.756427\n",
              "Max. Drawdown Duration                   26.0\n",
              "Avg. Drawdown Duration                   14.0\n",
              "# Trades                                  2.0\n",
              "Win Rate [%]                             50.0\n",
              "Best Trade [%]                       9.980425\n",
              "Worst Trade [%]                     -5.986586\n",
              "Avg. Trade [%]                       1.683997\n",
              "Max. Trade Duration                      13.0\n",
              "Avg. Trade Duration                      13.0\n",
              "Profit Factor                        1.667131\n",
              "Expectancy [%]                        1.99692\n",
              "SQN                                  0.220951\n",
              "Kelly Criterion                      0.180966\n",
              "_strategy                         SLTrailling\n",
              "_equity_curve                       Equity...\n",
              "_trades                      Size  EntryBa...\n",
              "dtype: object"
            ]
          },
          "execution_count": 36,
          "metadata": {},
          "output_type": "execute_result"
        }
      ],
      "source": [
        "stats"
      ]
    }
  ],
  "metadata": {
    "colab": {
      "provenance": []
    },
    "kaggle": {
      "accelerator": "none",
      "dataSources": [
        {
          "datasetId": 3441331,
          "sourceId": 6025334,
          "sourceType": "datasetVersion"
        }
      ],
      "dockerImageVersionId": 30664,
      "isGpuEnabled": false,
      "isInternetEnabled": true,
      "language": "python",
      "sourceType": "notebook"
    },
    "kernelspec": {
      "display_name": "Python 3",
      "language": "python",
      "name": "python3"
    },
    "language_info": {
      "codemirror_mode": {
        "name": "ipython",
        "version": 3
      },
      "file_extension": ".py",
      "mimetype": "text/x-python",
      "name": "python",
      "nbconvert_exporter": "python",
      "pygments_lexer": "ipython3",
      "version": "3.9.19"
    }
  },
  "nbformat": 4,
  "nbformat_minor": 0
}
