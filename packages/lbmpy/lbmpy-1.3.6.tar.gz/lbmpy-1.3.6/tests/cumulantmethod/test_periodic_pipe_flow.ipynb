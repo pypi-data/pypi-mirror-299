{
 "cells": [
  {
   "cell_type": "code",
   "execution_count": 1,
   "metadata": {},
   "outputs": [],
   "source": [
    "%load_ext autoreload\n",
    "%autoreload 2"
   ]
  },
  {
   "cell_type": "code",
   "execution_count": 2,
   "metadata": {},
   "outputs": [],
   "source": [
    "from dataclasses import replace\n",
    "\n",
    "import sympy as sp\n",
    "import numpy as np\n",
    "from numpy.testing import assert_allclose\n",
    "\n",
    "from pystencils.session import *\n",
    "from pystencils import Target\n",
    "from lbmpy.session import *\n",
    "\n",
    "from lbmpy.macroscopic_value_kernels import macroscopic_values_getter, macroscopic_values_setter"
   ]
  },
  {
   "cell_type": "code",
   "execution_count": 3,
   "metadata": {},
   "outputs": [],
   "source": [
    "try:\n",
    "    import cupy\n",
    "except ImportError:\n",
    "    cupy = None\n",
    "    target = ps.Target.CPU\n",
    "    print('No cupy installed')\n",
    "\n",
    "if cupy:\n",
    "    target = ps.Target.GPU"
   ]
  },
  {
   "cell_type": "markdown",
   "metadata": {},
   "source": [
    "## Pipe Flow Scenario"
   ]
  },
  {
   "cell_type": "code",
   "execution_count": 4,
   "metadata": {},
   "outputs": [],
   "source": [
    "class PeriodicPipeFlow:\n",
    "    def __init__(self, lbm_config, lbm_optimisation, config):\n",
    "\n",
    "        wall_boundary = NoSlip()\n",
    "\n",
    "        self.stencil = lbm_config.stencil\n",
    "        self.streaming_pattern = lbm_config.streaming_pattern\n",
    "        self.target = config.target\n",
    "\n",
    "        self.gpu = self.target == Target.GPU\n",
    "\n",
    "        #   Stencil\n",
    "        self.q = stencil.Q\n",
    "        self.dim = stencil.D\n",
    "\n",
    "        #   Streaming\n",
    "        self.inplace = is_inplace(self.streaming_pattern)\n",
    "        self.timesteps = get_timesteps(self.streaming_pattern)\n",
    "        self.zeroth_timestep = self.timesteps[0]\n",
    "\n",
    "        #   Domain, Data Handling and PDF fields\n",
    "        self.pipe_length = 60\n",
    "        self.pipe_radius = 15\n",
    "        self.domain_size = (self.pipe_length, ) + (2 * self.pipe_radius,) * (self.dim - 1)\n",
    "        self.periodicity = (True, ) + (False, ) * (self.dim - 1)\n",
    "        force = (0.0001, ) + (0.0,) * (self.dim - 1)\n",
    "        self.force = lbm_config.force\n",
    "\n",
    "        self.dh = create_data_handling(domain_size=self.domain_size,\n",
    "                                       periodicity=self.periodicity, default_target=self.target)\n",
    "\n",
    "        self.pdfs = self.dh.add_array('pdfs', self.q)\n",
    "        if not self.inplace:\n",
    "            self.pdfs_tmp = self.dh.add_array_like('pdfs_tmp', self.pdfs.name)\n",
    "\n",
    "        lbm_optimisation = replace(lbm_optimisation, symbolic_field=self.pdfs)\n",
    "\n",
    "        if not self.inplace:\n",
    "            lbm_optimisation = replace(lbm_optimisation, symbolic_temporary_field=self.pdfs_tmp)\n",
    "\n",
    "        self.lb_collision = create_lb_collision_rule(lbm_config=lbm_config, lbm_optimisation=lbm_optimisation)\n",
    "        self.lb_method = self.lb_collision.method\n",
    "\n",
    "        self.lb_kernels = []\n",
    "        for t in self.timesteps:\n",
    "            lbm_config = replace(lbm_config, timestep=t, collision_rule=self.lb_collision)\n",
    "            self.lb_kernels.append(create_lb_function(lbm_config=lbm_config,\n",
    "                                                      lbm_optimisation=lbm_optimisation,\n",
    "                                                      config=config))\n",
    "\n",
    "        #   Macroscopic Values\n",
    "        self.density = 1.0\n",
    "        self.density_field = self.dh.add_array('rho', 1)\n",
    "        u_x = 0.0\n",
    "        self.velocity = (u_x,) * self.dim\n",
    "        self.velocity_field = self.dh.add_array('u', self.dim)\n",
    "\n",
    "        single_gl_config = replace(config, ghost_layers=1)\n",
    "        setter = macroscopic_values_setter(\n",
    "            self.lb_method, self.density, self.velocity, self.pdfs,\n",
    "            streaming_pattern=self.streaming_pattern, previous_timestep=self.zeroth_timestep)\n",
    "        self.init_kernel = create_kernel(setter, config=single_gl_config).compile()\n",
    "\n",
    "        self.getter_kernels = []\n",
    "        for t in self.timesteps:\n",
    "            getter = macroscopic_values_getter(\n",
    "                self.lb_method, self.density_field, self.velocity_field, self.pdfs,\n",
    "                streaming_pattern=self.streaming_pattern, previous_timestep=t)\n",
    "            self.getter_kernels.append(create_kernel(getter, config=single_gl_config).compile())\n",
    "\n",
    "        #   Periodicity\n",
    "        self.periodicity_handler = LBMPeriodicityHandling(\n",
    "            self.stencil, self.dh, self.pdfs.name, streaming_pattern=self.streaming_pattern)\n",
    "\n",
    "        #   Boundary Handling\n",
    "        self.wall = wall_boundary\n",
    "        self.bh = LatticeBoltzmannBoundaryHandling(\n",
    "            self.lb_method, self.dh, self.pdfs.name,\n",
    "            streaming_pattern=self.streaming_pattern, target=self.target)\n",
    "\n",
    "        self.bh.set_boundary(boundary_obj=self.wall, mask_callback=self.mask_callback)\n",
    "\n",
    "        self.current_timestep = self.zeroth_timestep\n",
    "\n",
    "    def mask_callback(self, x, y, z=None):\n",
    "        y = y - self.pipe_radius\n",
    "        z = z - self.pipe_radius if z is not None else 0\n",
    "        return np.sqrt(y**2 + z**2) >= self.pipe_radius\n",
    "\n",
    "    def init(self):\n",
    "        self.current_timestep = self.zeroth_timestep\n",
    "        self.dh.run_kernel(self.init_kernel)\n",
    "\n",
    "    def step(self):\n",
    "        #   Order matters! First communicate, then boundaries, otherwise\n",
    "        #   periodicity handling overwrites reflected populations\n",
    "        # Periodicty\n",
    "        self.periodicity_handler(self.current_timestep)\n",
    "\n",
    "        # Boundaries\n",
    "        self.bh(prev_timestep=self.current_timestep)\n",
    "\n",
    "        # Here, the next time step begins\n",
    "        self.current_timestep = self.current_timestep.next()\n",
    "\n",
    "        # LBM Step\n",
    "        self.dh.run_kernel(self.lb_kernels[self.current_timestep.idx])\n",
    "\n",
    "        # Field Swaps\n",
    "        if not self.inplace:\n",
    "            self.dh.swap(self.pdfs.name, self.pdfs_tmp.name)\n",
    "\n",
    "        # Macroscopic Values\n",
    "        self.dh.run_kernel(self.getter_kernels[self.current_timestep.idx])\n",
    "\n",
    "    def run(self, iterations):\n",
    "        for _ in range(iterations):\n",
    "            self.step()\n",
    "\n",
    "    @property\n",
    "    def velocity_array(self):\n",
    "        if self.gpu:\n",
    "            self.dh.to_cpu(self.velocity_field.name)\n",
    "        return self.dh.gather_array(self.velocity_field.name)\n",
    "\n",
    "    def get_trimmed_velocity_array(self):\n",
    "        if self.gpu:\n",
    "            self.dh.to_cpu(self.velocity_field.name)\n",
    "        u = np.copy(self.dh.gather_array(self.velocity_field.name))\n",
    "        mask = self.bh.get_mask(None, self.wall)\n",
    "        for idx in np.ndindex(u.shape[:-1]):\n",
    "            if mask[idx] != 0:\n",
    "                u[idx] = np.full((self.dim, ), np.nan)\n",
    "        return u\n"
   ]
  },
  {
   "cell_type": "markdown",
   "metadata": {},
   "source": [
    "## General Setup"
   ]
  },
  {
   "cell_type": "code",
   "execution_count": 5,
   "metadata": {},
   "outputs": [],
   "source": [
    "stencil = LBStencil(Stencil.D3Q19)\n",
    "dim = stencil.D\n",
    "streaming_pattern = 'aa'\n",
    "\n",
    "config = ps.CreateKernelConfig(target=target)\n",
    "\n",
    "viscous_rr = 1.1\n",
    "force = (0.0001, ) + (0.0,) * (dim - 1)"
   ]
  },
  {
   "cell_type": "markdown",
   "metadata": {},
   "source": [
    "## 1. Reference: SRT Method"
   ]
  },
  {
   "cell_type": "code",
   "execution_count": 6,
   "metadata": {},
   "outputs": [
    {
     "ename": "AttributeError",
     "evalue": "'tuple' object has no attribute 'items'",
     "output_type": "error",
     "traceback": [
      "\u001b[0;31m---------------------------------------------------------------------------\u001b[0m",
      "\u001b[0;31mAttributeError\u001b[0m                            Traceback (most recent call last)",
      "Cell \u001b[0;32mIn[6], line 4\u001b[0m\n\u001b[1;32m      1\u001b[0m srt_config \u001b[38;5;241m=\u001b[39m LBMConfig(stencil\u001b[38;5;241m=\u001b[39mstencil, method\u001b[38;5;241m=\u001b[39mMethod\u001b[38;5;241m.\u001b[39mSRT, relaxation_rate\u001b[38;5;241m=\u001b[39mviscous_rr,\n\u001b[1;32m      2\u001b[0m                        force_model\u001b[38;5;241m=\u001b[39mForceModel\u001b[38;5;241m.\u001b[39mSIMPLE, force\u001b[38;5;241m=\u001b[39mforce, streaming_pattern\u001b[38;5;241m=\u001b[39mstreaming_pattern)\n\u001b[0;32m----> 4\u001b[0m srt_flow \u001b[38;5;241m=\u001b[39m \u001b[43mPeriodicPipeFlow\u001b[49m\u001b[43m(\u001b[49m\u001b[43msrt_config\u001b[49m\u001b[43m,\u001b[49m\u001b[43m \u001b[49m\u001b[43mLBMOptimisation\u001b[49m\u001b[43m(\u001b[49m\u001b[43m)\u001b[49m\u001b[43m,\u001b[49m\u001b[43m \u001b[49m\u001b[43mconfig\u001b[49m\u001b[43m)\u001b[49m\n\u001b[1;32m      5\u001b[0m srt_flow\u001b[38;5;241m.\u001b[39minit()\n\u001b[1;32m      6\u001b[0m srt_flow\u001b[38;5;241m.\u001b[39mrun(\u001b[38;5;241m400\u001b[39m)\n",
      "Cell \u001b[0;32mIn[4], line 47\u001b[0m, in \u001b[0;36mPeriodicPipeFlow.__init__\u001b[0;34m(self, lbm_config, lbm_optimisation, config)\u001b[0m\n\u001b[1;32m     45\u001b[0m \u001b[38;5;28;01mfor\u001b[39;00m t \u001b[38;5;129;01min\u001b[39;00m \u001b[38;5;28mself\u001b[39m\u001b[38;5;241m.\u001b[39mtimesteps:\n\u001b[1;32m     46\u001b[0m     lbm_config \u001b[38;5;241m=\u001b[39m replace(lbm_config, timestep\u001b[38;5;241m=\u001b[39mt, collision_rule\u001b[38;5;241m=\u001b[39m\u001b[38;5;28mself\u001b[39m\u001b[38;5;241m.\u001b[39mlb_collision)\n\u001b[0;32m---> 47\u001b[0m     \u001b[38;5;28mself\u001b[39m\u001b[38;5;241m.\u001b[39mlb_kernels\u001b[38;5;241m.\u001b[39mappend(\u001b[43mcreate_lb_function\u001b[49m\u001b[43m(\u001b[49m\u001b[43mlbm_config\u001b[49m\u001b[38;5;241;43m=\u001b[39;49m\u001b[43mlbm_config\u001b[49m\u001b[43m,\u001b[49m\n\u001b[1;32m     48\u001b[0m \u001b[43m                                              \u001b[49m\u001b[43mlbm_optimisation\u001b[49m\u001b[38;5;241;43m=\u001b[39;49m\u001b[43mlbm_optimisation\u001b[49m\u001b[43m,\u001b[49m\n\u001b[1;32m     49\u001b[0m \u001b[43m                                              \u001b[49m\u001b[43mconfig\u001b[49m\u001b[38;5;241;43m=\u001b[39;49m\u001b[43mconfig\u001b[49m\u001b[43m)\u001b[49m)\n\u001b[1;32m     51\u001b[0m \u001b[38;5;66;03m#   Macroscopic Values\u001b[39;00m\n\u001b[1;32m     52\u001b[0m \u001b[38;5;28mself\u001b[39m\u001b[38;5;241m.\u001b[39mdensity \u001b[38;5;241m=\u001b[39m \u001b[38;5;241m1.0\u001b[39m\n",
      "File \u001b[0;32m~/pystencils/lbmpy/lbmpy/creationfunctions.py:505\u001b[0m, in \u001b[0;36mcreate_lb_function\u001b[0;34m(ast, lbm_config, lbm_optimisation, config, optimization, **kwargs)\u001b[0m\n\u001b[1;32m    502\u001b[0m     ast \u001b[38;5;241m=\u001b[39m lbm_config\u001b[38;5;241m.\u001b[39mast\n\u001b[1;32m    504\u001b[0m \u001b[38;5;28;01mif\u001b[39;00m ast \u001b[38;5;129;01mis\u001b[39;00m \u001b[38;5;28;01mNone\u001b[39;00m:\n\u001b[0;32m--> 505\u001b[0m     ast \u001b[38;5;241m=\u001b[39m \u001b[43mcreate_lb_ast\u001b[49m\u001b[43m(\u001b[49m\u001b[43mlbm_config\u001b[49m\u001b[38;5;241;43m.\u001b[39;49m\u001b[43mupdate_rule\u001b[49m\u001b[43m,\u001b[49m\u001b[43m \u001b[49m\u001b[43mlbm_config\u001b[49m\u001b[38;5;241;43m=\u001b[39;49m\u001b[43mlbm_config\u001b[49m\u001b[43m,\u001b[49m\n\u001b[1;32m    506\u001b[0m \u001b[43m                        \u001b[49m\u001b[43mlbm_optimisation\u001b[49m\u001b[38;5;241;43m=\u001b[39;49m\u001b[43mlbm_optimisation\u001b[49m\u001b[43m,\u001b[49m\u001b[43m \u001b[49m\u001b[43mconfig\u001b[49m\u001b[38;5;241;43m=\u001b[39;49m\u001b[43mconfig\u001b[49m\u001b[43m)\u001b[49m\n\u001b[1;32m    508\u001b[0m res \u001b[38;5;241m=\u001b[39m ast\u001b[38;5;241m.\u001b[39mcompile()\n\u001b[1;32m    510\u001b[0m res\u001b[38;5;241m.\u001b[39mmethod \u001b[38;5;241m=\u001b[39m ast\u001b[38;5;241m.\u001b[39mmethod\n",
      "File \u001b[0;32m~/pystencils/lbmpy/lbmpy/creationfunctions.py:530\u001b[0m, in \u001b[0;36mcreate_lb_ast\u001b[0;34m(update_rule, lbm_config, lbm_optimisation, config, optimization, **kwargs)\u001b[0m\n\u001b[1;32m    525\u001b[0m     update_rule \u001b[38;5;241m=\u001b[39m create_lb_update_rule(lbm_config\u001b[38;5;241m.\u001b[39mcollision_rule, lbm_config\u001b[38;5;241m=\u001b[39mlbm_config,\n\u001b[1;32m    526\u001b[0m                                         lbm_optimisation\u001b[38;5;241m=\u001b[39mlbm_optimisation, config\u001b[38;5;241m=\u001b[39mconfig)\n\u001b[1;32m    528\u001b[0m field_types \u001b[38;5;241m=\u001b[39m \u001b[38;5;28mset\u001b[39m(fa\u001b[38;5;241m.\u001b[39mfield\u001b[38;5;241m.\u001b[39mdtype \u001b[38;5;28;01mfor\u001b[39;00m fa \u001b[38;5;129;01min\u001b[39;00m update_rule\u001b[38;5;241m.\u001b[39mdefined_symbols \u001b[38;5;28;01mif\u001b[39;00m \u001b[38;5;28misinstance\u001b[39m(fa, Field\u001b[38;5;241m.\u001b[39mAccess))\n\u001b[0;32m--> 530\u001b[0m config \u001b[38;5;241m=\u001b[39m \u001b[43mreplace\u001b[49m\u001b[43m(\u001b[49m\u001b[43mconfig\u001b[49m\u001b[43m,\u001b[49m\u001b[43m \u001b[49m\u001b[43mdata_type\u001b[49m\u001b[38;5;241;43m=\u001b[39;49m\u001b[43mcollate_types\u001b[49m\u001b[43m(\u001b[49m\u001b[43mfield_types\u001b[49m\u001b[43m)\u001b[49m\u001b[43m,\u001b[49m\u001b[43m \u001b[49m\u001b[43mghost_layers\u001b[49m\u001b[38;5;241;43m=\u001b[39;49m\u001b[38;5;241;43m1\u001b[39;49m\u001b[43m)\u001b[49m\n\u001b[1;32m    531\u001b[0m ast \u001b[38;5;241m=\u001b[39m create_kernel(update_rule, config\u001b[38;5;241m=\u001b[39mconfig)\n\u001b[1;32m    533\u001b[0m ast\u001b[38;5;241m.\u001b[39mmethod \u001b[38;5;241m=\u001b[39m update_rule\u001b[38;5;241m.\u001b[39mmethod\n",
      "File \u001b[0;32m/usr/lib/python3.11/dataclasses.py:1492\u001b[0m, in \u001b[0;36mreplace\u001b[0;34m(obj, **changes)\u001b[0m\n\u001b[1;32m   1485\u001b[0m         changes[f\u001b[38;5;241m.\u001b[39mname] \u001b[38;5;241m=\u001b[39m \u001b[38;5;28mgetattr\u001b[39m(obj, f\u001b[38;5;241m.\u001b[39mname)\n\u001b[1;32m   1487\u001b[0m \u001b[38;5;66;03m# Create the new object, which calls __init__() and\u001b[39;00m\n\u001b[1;32m   1488\u001b[0m \u001b[38;5;66;03m# __post_init__() (if defined), using all of the init fields we've\u001b[39;00m\n\u001b[1;32m   1489\u001b[0m \u001b[38;5;66;03m# added and/or left in 'changes'.  If there are values supplied in\u001b[39;00m\n\u001b[1;32m   1490\u001b[0m \u001b[38;5;66;03m# changes that aren't fields, this will correctly raise a\u001b[39;00m\n\u001b[1;32m   1491\u001b[0m \u001b[38;5;66;03m# TypeError.\u001b[39;00m\n\u001b[0;32m-> 1492\u001b[0m \u001b[38;5;28;01mreturn\u001b[39;00m \u001b[43mobj\u001b[49m\u001b[38;5;241;43m.\u001b[39;49m\u001b[38;5;18;43m__class__\u001b[39;49m\u001b[43m(\u001b[49m\u001b[38;5;241;43m*\u001b[39;49m\u001b[38;5;241;43m*\u001b[39;49m\u001b[43mchanges\u001b[49m\u001b[43m)\u001b[49m\n",
      "File \u001b[0;32m<string>:24\u001b[0m, in \u001b[0;36m__init__\u001b[0;34m(self, target, backend, function_name, data_type, default_number_float, default_number_int, iteration_slice, ghost_layers, cpu_openmp, cpu_vectorize_info, cpu_blocking, omp_single_loop, gpu_indexing, gpu_indexing_params, default_assignment_simplifications, cpu_prepend_optimizations, use_auto_for_assignments, index_fields, coordinate_names, allow_double_writes, skip_independence_check)\u001b[0m\n",
      "File \u001b[0;32m~/pystencils/pystencils/pystencils/config.py:177\u001b[0m, in \u001b[0;36mCreateKernelConfig.__post_init__\u001b[0;34m(self)\u001b[0m\n\u001b[1;32m    174\u001b[0m     \u001b[38;5;28mself\u001b[39m\u001b[38;5;241m.\u001b[39m_check_type(dtype)\n\u001b[1;32m    176\u001b[0m \u001b[38;5;28;01mif\u001b[39;00m \u001b[38;5;129;01mnot\u001b[39;00m \u001b[38;5;28misinstance\u001b[39m(\u001b[38;5;28mself\u001b[39m\u001b[38;5;241m.\u001b[39mdata_type, \u001b[38;5;28mdict\u001b[39m):\n\u001b[0;32m--> 177\u001b[0m     dt \u001b[38;5;241m=\u001b[39m \u001b[43mcopy\u001b[49m\u001b[43m(\u001b[49m\u001b[38;5;28;43mself\u001b[39;49m\u001b[38;5;241;43m.\u001b[39;49m\u001b[43mdata_type\u001b[49m\u001b[43m)\u001b[49m  \u001b[38;5;66;03m# The copy is necessary because BasicType has sympy shinanigans\u001b[39;00m\n\u001b[1;32m    178\u001b[0m     \u001b[38;5;28mself\u001b[39m\u001b[38;5;241m.\u001b[39mdata_type \u001b[38;5;241m=\u001b[39m defaultdict(\u001b[38;5;28mself\u001b[39m\u001b[38;5;241m.\u001b[39mDataTypeFactory(dt))\n\u001b[1;32m    180\u001b[0m \u001b[38;5;28;01mif\u001b[39;00m \u001b[38;5;28misinstance\u001b[39m(\u001b[38;5;28mself\u001b[39m\u001b[38;5;241m.\u001b[39mdata_type, \u001b[38;5;28mdict\u001b[39m) \u001b[38;5;129;01mand\u001b[39;00m \u001b[38;5;129;01mnot\u001b[39;00m \u001b[38;5;28misinstance\u001b[39m(\u001b[38;5;28mself\u001b[39m\u001b[38;5;241m.\u001b[39mdata_type, defaultdict):\n",
      "File \u001b[0;32m/usr/lib/python3.11/copy.py:102\u001b[0m, in \u001b[0;36mcopy\u001b[0;34m(x)\u001b[0m\n\u001b[1;32m    100\u001b[0m \u001b[38;5;28;01mif\u001b[39;00m \u001b[38;5;28misinstance\u001b[39m(rv, \u001b[38;5;28mstr\u001b[39m):\n\u001b[1;32m    101\u001b[0m     \u001b[38;5;28;01mreturn\u001b[39;00m x\n\u001b[0;32m--> 102\u001b[0m \u001b[38;5;28;01mreturn\u001b[39;00m \u001b[43m_reconstruct\u001b[49m\u001b[43m(\u001b[49m\u001b[43mx\u001b[49m\u001b[43m,\u001b[49m\u001b[43m \u001b[49m\u001b[38;5;28;43;01mNone\u001b[39;49;00m\u001b[43m,\u001b[49m\u001b[43m \u001b[49m\u001b[38;5;241;43m*\u001b[39;49m\u001b[43mrv\u001b[49m\u001b[43m)\u001b[49m\n",
      "File \u001b[0;32m/usr/lib/python3.11/copy.py:273\u001b[0m, in \u001b[0;36m_reconstruct\u001b[0;34m(x, memo, func, args, state, listiter, dictiter, deepcopy)\u001b[0m\n\u001b[1;32m    271\u001b[0m     state \u001b[38;5;241m=\u001b[39m deepcopy(state, memo)\n\u001b[1;32m    272\u001b[0m \u001b[38;5;28;01mif\u001b[39;00m \u001b[38;5;28mhasattr\u001b[39m(y, \u001b[38;5;124m'\u001b[39m\u001b[38;5;124m__setstate__\u001b[39m\u001b[38;5;124m'\u001b[39m):\n\u001b[0;32m--> 273\u001b[0m     \u001b[43my\u001b[49m\u001b[38;5;241;43m.\u001b[39;49m\u001b[43m__setstate__\u001b[49m\u001b[43m(\u001b[49m\u001b[43mstate\u001b[49m\u001b[43m)\u001b[49m\n\u001b[1;32m    274\u001b[0m \u001b[38;5;28;01melse\u001b[39;00m:\n\u001b[1;32m    275\u001b[0m     \u001b[38;5;28;01mif\u001b[39;00m \u001b[38;5;28misinstance\u001b[39m(state, \u001b[38;5;28mtuple\u001b[39m) \u001b[38;5;129;01mand\u001b[39;00m \u001b[38;5;28mlen\u001b[39m(state) \u001b[38;5;241m==\u001b[39m \u001b[38;5;241m2\u001b[39m:\n",
      "File \u001b[0;32m~/.local/lib/python3.11/site-packages/sympy/core/basic.py:144\u001b[0m, in \u001b[0;36mBasic.__setstate__\u001b[0;34m(self, state)\u001b[0m\n\u001b[1;32m    143\u001b[0m \u001b[38;5;28;01mdef\u001b[39;00m \u001b[38;5;21m__setstate__\u001b[39m(\u001b[38;5;28mself\u001b[39m, state):\n\u001b[0;32m--> 144\u001b[0m     \u001b[38;5;28;01mfor\u001b[39;00m name, value \u001b[38;5;129;01min\u001b[39;00m \u001b[43mstate\u001b[49m\u001b[38;5;241;43m.\u001b[39;49m\u001b[43mitems\u001b[49m():\n\u001b[1;32m    145\u001b[0m         \u001b[38;5;28msetattr\u001b[39m(\u001b[38;5;28mself\u001b[39m, name, value)\n",
      "\u001b[0;31mAttributeError\u001b[0m: 'tuple' object has no attribute 'items'"
     ]
    }
   ],
   "source": [
    "srt_config = LBMConfig(stencil=stencil, method=Method.SRT, relaxation_rate=viscous_rr,\n",
    "                       force_model=ForceModel.SIMPLE, force=force, streaming_pattern=streaming_pattern)\n",
    "\n",
    "srt_flow = PeriodicPipeFlow(srt_config, LBMOptimisation(), config)\n",
    "srt_flow.init()\n",
    "srt_flow.run(400)"
   ]
  },
  {
   "cell_type": "code",
   "execution_count": null,
   "metadata": {},
   "outputs": [],
   "source": [
    "srt_u = srt_flow.get_trimmed_velocity_array()\n",
    "ps.plot.vector_field_magnitude(srt_u[30,:,:,:])\n",
    "ps.plot.colorbar()"
   ]
  },
  {
   "cell_type": "markdown",
   "metadata": {},
   "source": [
    "## 2. Centered Cumulant Method with Central Moment-Space Forcing"
   ]
  },
  {
   "cell_type": "code",
   "execution_count": null,
   "metadata": {},
   "outputs": [],
   "source": [
    "cm_config = LBMConfig(method=Method.MONOMIAL_CUMULANT, stencil=stencil, compressible=True,\n",
    "                      relaxation_rate=viscous_rr,\n",
    "                      force=force, streaming_pattern=streaming_pattern)\n",
    "\n",
    "lbm_opt = LBMOptimisation(pre_simplification=True)\n",
    "\n",
    "cm_impl_f_flow = PeriodicPipeFlow(cm_config, lbm_opt, config)"
   ]
  },
  {
   "cell_type": "code",
   "execution_count": null,
   "metadata": {},
   "outputs": [],
   "source": [
    "lb_method = cm_impl_f_flow.lb_method\n",
    "assert all(rr == 0 for rr in lb_method.relaxation_rates[1:4])\n",
    "assert all(rr == viscous_rr for rr in lb_method.relaxation_rates[4:9])"
   ]
  },
  {
   "cell_type": "code",
   "execution_count": null,
   "metadata": {},
   "outputs": [],
   "source": [
    "cm_impl_f_flow.init()\n",
    "cm_impl_f_flow.run(400)"
   ]
  },
  {
   "cell_type": "code",
   "execution_count": null,
   "metadata": {},
   "outputs": [],
   "source": [
    "cm_impl_f_u = cm_impl_f_flow.get_trimmed_velocity_array()\n",
    "ps.plot.vector_field_magnitude(cm_impl_f_u[30,:,:,:])\n",
    "ps.plot.colorbar()"
   ]
  },
  {
   "cell_type": "code",
   "execution_count": null,
   "metadata": {},
   "outputs": [],
   "source": [
    "assert_allclose(cm_impl_f_u, srt_u, rtol=1, atol=1e-4)"
   ]
  },
  {
   "cell_type": "markdown",
   "metadata": {},
   "source": [
    "## 3. Centered Cumulant Method with Simple force model"
   ]
  },
  {
   "cell_type": "code",
   "execution_count": null,
   "metadata": {},
   "outputs": [],
   "source": [
    "from lbmpy.forcemodels import Simple\n",
    "\n",
    "cm_expl_force_config = LBMConfig(method=Method.CUMULANT, stencil=stencil, compressible=True,\n",
    "                      relaxation_rate=viscous_rr, force_model=Simple(force),\n",
    "                      force=force, streaming_pattern=streaming_pattern)\n",
    "\n",
    "lbm_opt = LBMOptimisation(pre_simplification=True)\n",
    "\n",
    "cm_expl_f_flow = PeriodicPipeFlow(cm_expl_force_config, lbm_opt, config)"
   ]
  },
  {
   "cell_type": "code",
   "execution_count": null,
   "metadata": {},
   "outputs": [],
   "source": [
    "lb_method = cm_expl_f_flow.lb_method\n",
    "assert all(rr == 0 for rr in lb_method.relaxation_rates[1:4])\n",
    "assert all(rr == viscous_rr for rr in lb_method.relaxation_rates[4:9])"
   ]
  },
  {
   "cell_type": "code",
   "execution_count": null,
   "metadata": {},
   "outputs": [],
   "source": [
    "cm_expl_f_flow.init()\n",
    "cm_expl_f_flow.run(400)"
   ]
  },
  {
   "cell_type": "code",
   "execution_count": null,
   "metadata": {},
   "outputs": [],
   "source": [
    "cm_expl_f_u = cm_expl_f_flow.get_trimmed_velocity_array()\n",
    "ps.plot.vector_field_magnitude(cm_expl_f_u[30,:,:,:])\n",
    "ps.plot.colorbar()"
   ]
  },
  {
   "cell_type": "code",
   "execution_count": null,
   "metadata": {},
   "outputs": [],
   "source": [
    "assert_allclose(cm_expl_f_u, srt_u, rtol=1, atol=1e-4)\n",
    "assert_allclose(cm_expl_f_u, cm_impl_f_u, rtol=1, atol=1e-4)"
   ]
  }
 ],
 "metadata": {
  "kernelspec": {
   "display_name": "Python 3 (ipykernel)",
   "language": "python",
   "name": "python3"
  },
  "language_info": {
   "codemirror_mode": {
    "name": "ipython",
    "version": 3
   },
   "file_extension": ".py",
   "mimetype": "text/x-python",
   "name": "python",
   "nbconvert_exporter": "python",
   "pygments_lexer": "ipython3",
   "version": "3.11.0rc1"
  },
  "vscode": {
   "interpreter": {
    "hash": "16c4475f8761a33edafce150242b66df5b4abe8839febe0da1ac663b672fe94f"
   }
  }
 },
 "nbformat": 4,
 "nbformat_minor": 2
}
