{
 "cells": [
  {
   "cell_type": "code",
   "execution_count": 1,
   "metadata": {},
   "outputs": [],
   "source": [
    "from lbmpy.session import *\n",
    "from lbmpy.phasefield.n_phase_boyer import *\n",
    "from lbmpy.phasefield.analytical import *\n",
    "from itertools import permutations"
   ]
  },
  {
   "cell_type": "markdown",
   "metadata": {},
   "source": [
    "# A) Homogenous surface tensions case (3.1)\n",
    "\n",
    "Equation numbers refer to paper *\"Hierarchy of consistent n-component Cahn-Hilliard systems\"* by Franck Boyer, Sebastian Minjeaud\n",
    "\n",
    "\n",
    "## 1) Testing properties of $\\bar{\\alpha}$\n",
    "\n",
    "testing if equation (3.1) is indeed fulfilled"
   ]
  },
  {
   "cell_type": "code",
   "execution_count": 2,
   "metadata": {},
   "outputs": [],
   "source": [
    "for n in [2, 3, 4, 5, 9]:  # test for various number of phases\n",
    "    σ_sym = sp.symbols(\"sigma\")\n",
    "    σ = sp.ImmutableDenseMatrix(n, n, lambda i, j: σ_sym if i != j else 0)\n",
    "    α_bar, _ = diffusion_coefficients(σ)\n",
    "    for i in range(n):\n",
    "        for j in range(n):\n",
    "            if i != j:\n",
    "                assert α_bar[i, j] == 1 / (n * σ_sym)\n",
    "            else:\n",
    "                assert α_bar[i, j] == -(n-1) / (n * σ_sym)"
   ]
  },
  {
   "cell_type": "markdown",
   "metadata": {},
   "source": [
    "## 2) Testing properties of $\\Psi_k^{[n]}$\n",
    "\n",
    "Proposition (3.1) in the paper"
   ]
  },
  {
   "cell_type": "code",
   "execution_count": 3,
   "metadata": {},
   "outputs": [],
   "source": [
    "for n in [2, 3, 7]:\n",
    "    c = sp.symbols(\"c_:{n}\".format(n=n-1))\n",
    "    f = lambda c: c**2 * (1-c)**2\n",
    "    for k in range(1, n):\n",
    "        assert sp.expand( psi(k, c + (0,), f) - psi(k, c, f) ) == 0  # Proposition 3.1 (i)\n",
    "    assert psi(n, c + (0,), f) == 0"
   ]
  },
  {
   "cell_type": "markdown",
   "metadata": {},
   "source": [
    "### 3) Assemble free energy and check necessary properties"
   ]
  },
  {
   "cell_type": "code",
   "execution_count": 4,
   "metadata": {},
   "outputs": [],
   "source": [
    "n = 5\n",
    "c = sp.symbols(\"c_:{n}\".format(n=n))\n",
    "f = lambda c: c**2 * (1-c)**2\n",
    "\n",
    "sigma = sp.symbols(\"sigma\")\n",
    "\n",
    "f_bulk = capital_f_bulk_equal_surface_tension(c, f, sigma, 1)\n",
    "\n",
    "σ_mag = sp.ImmutableDenseMatrix(n, n, lambda i, j: sigma if i != j else 0)\n",
    "lb = l_bar(f_bulk, diffusion_coefficients(σ_mag)[0], c)\n",
    "\n",
    "for i, lb_i in enumerate(lb):\n",
    "    if i != n-1:\n",
    "        term = lb_i.subs(c[-1], 1 - sum(c[:-1])).subs(c[i], 0) \n",
    "    else:\n",
    "        term = lb_i.subs(c[-1], 0).subs(c[-2], 1 - sum(c[:-2]))\n",
    "    assert sp.expand(term) == 0"
   ]
  },
  {
   "cell_type": "markdown",
   "metadata": {},
   "source": [
    "## Testing Proposition 3.3\n",
    "\n",
    "first line of Proposition 3.3"
   ]
  },
  {
   "cell_type": "code",
   "execution_count": 5,
   "metadata": {},
   "outputs": [],
   "source": [
    "for n in [2, 3, 4, 5, 6, 10]:\n",
    "    f = lambda c: c**2 * (1-c)**2\n",
    "    c = sp.symbols(\"c_:{n}\".format(n=n-1))\n",
    "    c = c + (1 - sum(c),)\n",
    "\n",
    "    result = psi(1, c, f) + psi(2, c, f)\n",
    "    if n in (2, 3):\n",
    "        assert result == 0\n",
    "    else:\n",
    "        expected = 24 * sum(c[i[0]] * c[i[1]] * c[i[2]] * c[i[3]] \n",
    "                            for i in capital_i(4, n))\n",
    "        assert sp.expand(result - expected) == 0"
   ]
  },
  {
   "cell_type": "markdown",
   "metadata": {},
   "source": [
    "last line"
   ]
  },
  {
   "cell_type": "code",
   "execution_count": 6,
   "metadata": {},
   "outputs": [
    {
     "name": "stdout",
     "output_type": "stream",
     "text": [
      "Testing n = 2:  ok\n",
      "Testing n = 3:  ok\n",
      "Testing n = 4:  ok\n",
      "Testing n = 5:  ok\n",
      "Testing n = 6:  ok\n"
     ]
    }
   ],
   "source": [
    "def compare_f_bulk(n):\n",
    "    sigma = sp.symbols(\"sigma\")\n",
    "    f = lambda c: c**2 * (1-c)**2\n",
    "    c = sp.symbols(\"c_:{n}\".format(n=n-1))\n",
    "    c = c + (1 - sum(c),)\n",
    "    own = capital_f_bulk_equal_surface_tension(c, f, sigma, 1)\n",
    "    if n == 2:\n",
    "        ref = sigma * f(c[0])\n",
    "    if n == 3:\n",
    "        ref = sigma / 2 * ( f(c[0]) + f(c[1]) + f(c[2]) )\n",
    "    else:\n",
    "        ref = ( sigma / 2 * sum(f(c_k) for c_k in c) + \n",
    "                2 * sigma * sum(c[i[0]] * c[i[1]] * c[i[2]] * c[i[3]] for i in capital_i(4, n) ) )\n",
    "    \n",
    "    assert sp.expand(ref - own) == 0\n",
    "\n",
    "for n in range(2, 7):\n",
    "    print(\"Testing n =\", n, end=':')\n",
    "    compare_f_bulk(n)\n",
    "    print(\"  ok\")"
   ]
  },
  {
   "cell_type": "markdown",
   "metadata": {},
   "source": [
    "# B) Arbitrary surface tension case (3.2)"
   ]
  },
  {
   "cell_type": "code",
   "execution_count": 7,
   "metadata": {},
   "outputs": [],
   "source": [
    "def numeric_surface_tensions(n):\n",
    "    \"\"\"Some numeric values for surface tensions - symbolic values take too long\"\"\"\n",
    "    return sp.ImmutableDenseMatrix(n, n, lambda i, j: 0 if i == j else (i+1) * (j+1))"
   ]
  },
  {
   "cell_type": "markdown",
   "metadata": {},
   "source": [
    "Checking consistency with 2-phase system\n",
    "\n",
    "Makes sure (C2) and (C3) are satisfied if $|I|=n-2$"
   ]
  },
  {
   "cell_type": "code",
   "execution_count": 8,
   "metadata": {},
   "outputs": [
    {
     "name": "stdout",
     "output_type": "stream",
     "text": [
      "n = 3\n",
      "  Testing 0 1 : OK\n",
      "  Testing 0 2 : OK\n",
      "  Testing 1 2 : OK\n",
      "n = 4\n",
      "  Testing 0 1 : OK\n",
      "  Testing 0 2 : OK\n",
      "  Testing 0 3 : OK\n",
      "  Testing 1 2 : OK\n",
      "  Testing 1 3 : OK\n",
      "  Testing 2 3 : OK\n",
      "n = 5\n",
      "  Testing 0 4 : OK\n",
      "  Testing 1 3 : OK\n",
      "  Testing 1 4 : OK\n",
      "n = 8\n",
      "  Testing 0 7 : OK\n",
      "  Testing 1 3 : OK\n",
      "  Testing 1 4 : OK\n"
     ]
    }
   ],
   "source": [
    "for n in [3, 4, 5, 8]:\n",
    "    print(\"n =\", n)\n",
    "    c = sp.symbols(f\"c_:{n}\")\n",
    "    σ = numeric_surface_tensions(n)\n",
    "    α, γ = diffusion_coefficients(σ)\n",
    "    f0 = capital_f0(c, σ, lambda c: c**2 * (1-c)**2)\n",
    "    \n",
    "    pairs_to_test = combinations(range(n), 2) if n < 5 else [(0, n-1), (1, 3), (1, 4)]\n",
    "    for i0, j0 in pairs_to_test:\n",
    "        print(\"  Testing\", i0, j0, end=' : ')\n",
    "\n",
    "        substitutions = {c[i]: 0 for i in range(n) if i not in (i0, j0)}\n",
    "        substitutions[c[j0]] = 1 - c[i0]\n",
    "        l = sp.expand(l_bar(f0, α, c).subs(substitutions))\n",
    "        for i in range(n):\n",
    "            if i not in (i0, j0):\n",
    "                assert l[i] == 0\n",
    "        print(\"OK\")"
   ]
  },
  {
   "cell_type": "markdown",
   "metadata": {},
   "source": [
    "Checking consistency with 3-phase system"
   ]
  },
  {
   "cell_type": "code",
   "execution_count": 9,
   "metadata": {},
   "outputs": [
    {
     "name": "stdout",
     "output_type": "stream",
     "text": [
      "n= 4\n",
      "  Testing (0, 1, 2) : OK\n",
      "  Testing (0, 1, 3) : OK\n",
      "  Testing (0, 2, 3) : OK\n",
      "  Testing (1, 2, 3) : OK\n",
      "n= 6\n",
      "  Testing (0, 4, 5) : OK\n",
      "  Testing (1, 2, 3) : OK\n",
      "  Testing (0, 1, 4) : OK\n"
     ]
    }
   ],
   "source": [
    "for n in [4, 6]:\n",
    "    print(\"n=\", n)\n",
    "    c = sp.symbols(f\"c_:{n}\", real=True)\n",
    "    σ = numeric_surface_tensions(n)\n",
    "    α, γ = diffusion_coefficients(σ)\n",
    "    f0 = capital_f0(c, σ, lambda c: c**2 * (1-c)**2) + correction_g(c, σ)\n",
    "    \n",
    "    triples_to_test = combinations(range(n), 3) if n < 5 else [(0, n-2, n-1), (1,2, 3), (0, 1, 4)]\n",
    "    for ind in triples_to_test:\n",
    "        print(\"  Testing\", ind, end=' : ')\n",
    "\n",
    "        substitutions = {c[i]: 0 for i in range(n) if i not in ind}\n",
    "        substitutions[c[ind[2]]] = 1 - c[ind[0]] - c[ind[1]]\n",
    "\n",
    "        l = l_bar(f0, α, c).subs(substitutions)\n",
    "        for i in range(n):\n",
    "            if i not in ind:\n",
    "                back_substitutions = { 1 - c[ind[0]] - c[ind[1]]: c[ind[2]] }\n",
    "                for c_i in c:\n",
    "                    back_substitutions[c_i] = sp.Symbol(c_i.name, positive=True)\n",
    "                l_i = sp.simplify(l[i]).subs(back_substitutions)\n",
    "                assert l_i == 0\n",
    "        print(\"OK\")"
   ]
  },
  {
   "cell_type": "markdown",
   "metadata": {},
   "source": [
    "Check explicit formula for $\\Theta$ in case of $n=4$"
   ]
  },
  {
   "cell_type": "code",
   "execution_count": 10,
   "metadata": {},
   "outputs": [],
   "source": [
    "def theta4(alpha, ind):\n",
    "    assert len(ind) == 4\n",
    "    assert alpha.rows == 4\n",
    "    k, l = ind[2], ind[3]\n",
    "    return 2 * alpha[k, l] / alpha[k, k]\n",
    "\n",
    "n = 4\n",
    "c = sp.symbols(f\"c_:{n}\")\n",
    "σ = numeric_surface_tensions(n)\n",
    "α, γ = diffusion_coefficients(σ)\n",
    "\n",
    "for ind in permutations(range(4)):\n",
    "    assert capital_theta(α, ind) == theta4(α, ind), \"Check failed for \" + str(ind)"
   ]
  },
  {
   "cell_type": "markdown",
   "metadata": {},
   "source": [
    "# C) Interface width and surface tension check on binary interface"
   ]
  },
  {
   "cell_type": "code",
   "execution_count": 11,
   "metadata": {},
   "outputs": [],
   "source": [
    "from lbmpy.phasefield.n_phase_boyer import free_energy as free_energy_boyer\n",
    "import pystencils as ps\n",
    "num_phases = 3\n",
    "\n",
    "epsilon = 5\n",
    "x = sp.symbols(\"x\")\n",
    "# Interface width is defined differently in this paper: i.e. (usual eps) = (their eps) / 4\n",
    "c_a = analytic_interface_profile(x, interface_width= epsilon * sp.Rational(1,4))\n",
    "c = sp.symbols(\"c_:{}\".format(num_phases))"
   ]
  },
  {
   "cell_type": "code",
   "execution_count": 12,
   "metadata": {},
   "outputs": [],
   "source": [
    "sigma = symbolic_surface_tensions(num_phases)\n",
    "F = free_energy_boyer(c, epsilon=epsilon, surface_tensions=sigma, stabilization_factor=0)\n",
    "mu = chemical_potentials_from_free_energy(F, c)"
   ]
  },
  {
   "cell_type": "code",
   "execution_count": 13,
   "metadata": {},
   "outputs": [
    {
     "name": "stdout",
     "output_type": "stream",
     "text": [
      "  -> Testing interface between 0 and 1\n",
      "  -> Testing interface between 0 and 2\n",
      "  -> Testing interface between 1 and 0\n",
      "  -> Testing interface between 1 and 2\n",
      "  -> Testing interface between 2 and 0\n",
      "  -> Testing interface between 2 and 1\n",
      "Done\n"
     ]
    }
   ],
   "source": [
    "# Check all permutations of phases\n",
    "for i in range(num_phases):\n",
    "    for j in range(num_phases):\n",
    "        if i == j:\n",
    "            continue\n",
    "        print(\"  -> Testing interface between\", i, \"and\", j)\n",
    "        substitutions = {c_i: 0 for c_i in c}\n",
    "        substitutions[c[i]] = c_a\n",
    "        substitutions[c[j]] = 1 - c_a\n",
    "\n",
    "        for μ_i in mu:\n",
    "            res = ps.fd.evaluate_diffs(μ_i.subs(substitutions), x).expand()\n",
    "            assert res == 0, \"Analytic interface profile wrong for phase between %d and %d\" % (i, j)\n",
    "\n",
    "        two_phase_free_energy = F.subs(substitutions)\n",
    "        two_phase_free_energy = sp.simplify(ps.fd.evaluate_diffs(two_phase_free_energy, x))\n",
    "        result = cosh_integral(two_phase_free_energy, x)\n",
    "        assert result == sigma[i, j]\n",
    "print(\"Done\")        "
   ]
  }
 ],
 "metadata": {
  "kernelspec": {
   "display_name": "Python 3 (ipykernel)",
   "language": "python",
   "name": "python3"
  },
  "language_info": {
   "codemirror_mode": {
    "name": "ipython",
    "version": 3
   },
   "file_extension": ".py",
   "mimetype": "text/x-python",
   "name": "python",
   "nbconvert_exporter": "python",
   "pygments_lexer": "ipython3",
   "version": "3.11.0rc1"
  }
 },
 "nbformat": 4,
 "nbformat_minor": 2
}
