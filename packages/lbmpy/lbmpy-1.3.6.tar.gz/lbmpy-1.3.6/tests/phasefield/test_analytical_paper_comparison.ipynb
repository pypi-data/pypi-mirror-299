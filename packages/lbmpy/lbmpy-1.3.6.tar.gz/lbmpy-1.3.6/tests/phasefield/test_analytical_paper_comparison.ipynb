{
 "cells": [
  {
   "cell_type": "code",
   "execution_count": 1,
   "metadata": {},
   "outputs": [],
   "source": [
    "from lbmpy.session import *\n",
    "from lbmpy.phasefield.analytical import *\n",
    "\n",
    "\n",
    "def laplacian(f):\n",
    "    return Diff(Diff(f))"
   ]
  },
  {
   "cell_type": "markdown",
   "metadata": {},
   "source": [
    "# Comparison of 3-phase model equations with paper\n",
    "\n",
    "[Semprebon, Krüger, Kusumaatmaja] 2016 "
   ]
  },
  {
   "cell_type": "markdown",
   "metadata": {},
   "source": [
    "#### Free Energy Function F\n",
    "First we compare the transformed free energy function (23):"
   ]
  },
  {
   "cell_type": "code",
   "execution_count": 2,
   "metadata": {},
   "outputs": [],
   "source": [
    "order_parameters = sp.symbols(\"rho phi psi\")\n",
    "κ = sp.symbols(\"kappa_:3\")\n",
    "α = sp.symbols(\"alpha\")\n",
    "ρ, φ, ψ = order_parameters\n",
    "F, _ = free_energy_functional_3_phases(order_parameters, kappa=κ, interface_width=α)\n",
    "\n",
    "eq_23 = κ[0] / 32 * (ρ + φ - ψ) ** 2 * (2 + ψ - ρ - φ) ** 2 \\\n",
    "        + α ** 2 * κ[0] / 8 * (Diff(ρ) + Diff(φ) - Diff(ψ)) ** 2 \\\n",
    "        + κ[1] / 32 * (ρ - φ - ψ) ** 2 * (2 + ψ - ρ + φ) ** 2 \\\n",
    "        + α ** 2 * κ[1] / 8 * (Diff(ρ) - Diff(φ) - Diff(ψ)) ** 2 \\\n",
    "        + κ[2] / 2 * ψ ** 2 * (1 - ψ) ** 2 + α ** 2 * κ[2] / 2 * (Diff(ψ)) ** 2\n",
    "\n",
    "assert F - eq_23.expand() == 0"
   ]
  },
  {
   "cell_type": "markdown",
   "metadata": {},
   "source": [
    "#### Chemical Potentials\n",
    "\n",
    "This compares formulas (38), (39) and (40) from the paper, as typed in the next cell, to the automatically derived version which starts from the potential formulation above. \n",
    "\n",
    "For equation (38) the automatically derived version is different than the version reported in the paper.\n",
    "See the code in the next cell for our correction."
   ]
  },
  {
   "cell_type": "code",
   "execution_count": 3,
   "metadata": {},
   "outputs": [],
   "source": [
    "def chemical_potential_formulas_from_paper(order_parameters=sp.symbols(\"rho phi psi\"),\n",
    "                                           κ=sp.symbols(\"kappa_:3\"),\n",
    "                                           α=sp.symbols(\"alpha\")):\n",
    "    ρ, φ, ψ = order_parameters\n",
    "\n",
    "    # --------------------- μ_ρ formulas ---------------------------------------------\n",
    "\n",
    "    # possibly wrong version in paper?\n",
    "    μ_ρ_paper = κ[0] / 8 * (ρ + φ - ψ) * (ρ + φ - ψ - 2) * (ρ + φ - ψ - 1) \\\n",
    "                - κ[1] / 8 * (ρ - φ - ψ) * (ρ - φ - ψ - 2) * (ρ - φ - ψ - 1) \\\n",
    "                + α ** 2 / 4 * ((κ[0] + κ[1]) * (laplacian(ψ) - laplacian(φ)) +\n",
    "                                (κ[1] - κ[0]) * laplacian(ρ))\n",
    "    # corrections from paper: sign of kappa[1] term + different interface term\n",
    "    μ_ρ = κ[0] / 8 * (ρ + φ - ψ) * (ρ + φ - ψ - 2) * (ρ + φ - ψ - 1) \\\n",
    "          + κ[1] / 8 * (ρ - φ - ψ) * (ρ - φ - ψ - 2) * (ρ - φ - ψ - 1) \\\n",
    "          - α ** 2 / 4 * ((κ[0] + κ[1]) * (laplacian(ρ) - laplacian(ψ)) +\n",
    "                          (κ[0] - κ[1]) * laplacian(φ))\n",
    "\n",
    "    # --------------------- μ_φ formulas ---------------------------------------------\n",
    "    μ_φ = κ[0] / 8 * (ρ + φ - ψ) * (ρ + φ - ψ - 2) * (ρ + φ - ψ - 1) \\\n",
    "          - κ[1] / 8 * (ρ - φ - ψ) * (ρ - φ - ψ - 2) * (ρ - φ - ψ - 1) \\\n",
    "          + α ** 2 / 4 * ((κ[1] - κ[0]) * (laplacian(ρ) - laplacian(ψ)) -\n",
    "                          (κ[0] + κ[1]) * laplacian(φ))\n",
    "\n",
    "    # --------------------- μ_ψ formulas ---------------------------------------------\n",
    "\n",
    "    μ_ψ = -κ[0] / 8 * (ρ + φ - ψ) * (ρ + φ - ψ - 2) * (ρ + φ - ψ - 1) \\\n",
    "          - κ[1] / 8 * (ρ - φ - ψ) * (ρ - φ - ψ - 2) * (ρ - φ - ψ - 1) \\\n",
    "          + κ[2] * ψ * (ψ - 1) * (2 * ψ - 1) + α ** 2 / 4 * ((κ[0] + κ[1]) * laplacian(ρ)\n",
    "                                                             - (κ[1] - κ[0]) * laplacian(φ) - (\n",
    "                                                                     κ[1] + κ[0] + 4 * κ[2]) * laplacian(ψ))\n",
    "\n",
    "    return μ_ρ, μ_φ, μ_ψ\n"
   ]
  },
  {
   "cell_type": "code",
   "execution_count": 4,
   "metadata": {},
   "outputs": [],
   "source": [
    "F, _ = free_energy_functional_3_phases(order_parameters)\n",
    "μ_derived = chemical_potentials_from_free_energy(F, order_parameters)\n",
    "μ_paper = chemical_potential_formulas_from_paper()\n"
   ]
  },
  {
   "cell_type": "code",
   "execution_count": 5,
   "metadata": {},
   "outputs": [],
   "source": [
    "assert (μ_derived[0] - μ_paper[0]).expand() == 0\n",
    "assert (μ_derived[1] - μ_paper[1]).expand() == 0\n",
    "assert (μ_derived[2] - μ_paper[2]).expand() == 0"
   ]
  }
 ],
 "metadata": {
  "kernelspec": {
   "display_name": "Python 3",
   "language": "python",
   "name": "python3"
  },
  "language_info": {
   "codemirror_mode": {
    "name": "ipython",
    "version": 3
   },
   "file_extension": ".py",
   "mimetype": "text/x-python",
   "name": "python",
   "nbconvert_exporter": "python",
   "pygments_lexer": "ipython3",
   "version": "3.8.2"
  }
 },
 "nbformat": 4,
 "nbformat_minor": 2
}
