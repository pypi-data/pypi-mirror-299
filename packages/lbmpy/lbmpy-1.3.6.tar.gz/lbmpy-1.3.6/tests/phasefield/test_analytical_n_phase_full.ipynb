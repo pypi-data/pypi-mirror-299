{
 "cells": [
  {
   "cell_type": "code",
   "execution_count": 1,
   "metadata": {},
   "outputs": [],
   "source": [
    "from lbmpy.session import *\n",
    "from lbmpy.phasefield.analytical import *\n",
    "import pystencils as ps"
   ]
  },
  {
   "cell_type": "markdown",
   "metadata": {},
   "source": [
    "# Full analytical checks for N phase model"
   ]
  },
  {
   "cell_type": "code",
   "execution_count": 2,
   "metadata": {},
   "outputs": [],
   "source": [
    "x = sp.symbols(\"x\")\n",
    "c_a = analytic_interface_profile(x)\n",
    "\n",
    "\n",
    "def gamma(i, j):\n",
    "    if i == j:\n",
    "        return 0\n",
    "    elif i < j:\n",
    "        return sp.Symbol(\"gamma_%d%d\" % (i, j))\n",
    "    else:\n",
    "        return sp.Symbol(\"gamma_%d%d\" % (j, i))"
   ]
  },
  {
   "cell_type": "markdown",
   "metadata": {},
   "source": [
    "The following checks if the 'tanh' shaped profile is a solution to $\\mu_i = 0$ and if the excess free energy is the surface tension parameter."
   ]
  },
  {
   "cell_type": "code",
   "execution_count": 3,
   "metadata": {},
   "outputs": [
    {
     "name": "stdout",
     "output_type": "stream",
     "text": [
      "Checking N = 3\n",
      "  -> Testing interface between 0 and 1\n",
      "  -> Testing interface between 0 and 2\n",
      "  -> Testing interface between 1 and 0\n",
      "  -> Testing interface between 1 and 2\n",
      "  -> Testing interface between 2 and 0\n",
      "  -> Testing interface between 2 and 1\n"
     ]
    }
   ],
   "source": [
    "numPhases = 3\n",
    "\n",
    "print(\"Checking N =\", numPhases)\n",
    "c = sp.symbols(\"c_:%d\" % (numPhases - 1,))\n",
    "F = free_energy_functional_n_phases(order_parameters=c, surface_tensions=gamma)\n",
    "\n",
    "μ = chemical_potentials_from_free_energy(F, c)\n",
    "\n",
    "lastPhaseIdx = numPhases - 1\n",
    "\n",
    "# Check all permutations of phases\n",
    "for i in range(numPhases):\n",
    "    for j in range(numPhases):\n",
    "        if i == j:\n",
    "            continue\n",
    "        print(\"  -> Testing interface between\", i, \"and\", j)\n",
    "        substitutions = {c_i: 0 for c_i in c}\n",
    "        if i != lastPhaseIdx:\n",
    "            substitutions[c[i]] = c_a\n",
    "        if j != lastPhaseIdx:\n",
    "            substitutions[c[j]] = 1 - c_a\n",
    "\n",
    "        for μ_i in μ:\n",
    "            res = ps.fd.evaluate_diffs(μ_i.subs(substitutions), x).expand()\n",
    "            assert res == 0, \"Analytic interface profile wrong for phase between %d and %d\" % (i, j)\n",
    "\n",
    "        two_phase_free_energy = F.subs(substitutions)\n",
    "        two_phase_free_energy = sp.simplify(ps.fd.evaluate_diffs(two_phase_free_energy, x))\n",
    "        result = cosh_integral(two_phase_free_energy, x)\n",
    "        assert result == gamma(i, j)"
   ]
  }
 ],
 "metadata": {
  "kernelspec": {
   "display_name": "Python 3",
   "language": "python",
   "name": "python3"
  },
  "language_info": {
   "codemirror_mode": {
    "name": "ipython",
    "version": 3
   },
   "file_extension": ".py",
   "mimetype": "text/x-python",
   "name": "python",
   "nbconvert_exporter": "python",
   "pygments_lexer": "ipython3",
   "version": "3.8.2"
  }
 },
 "nbformat": 4,
 "nbformat_minor": 2
}
