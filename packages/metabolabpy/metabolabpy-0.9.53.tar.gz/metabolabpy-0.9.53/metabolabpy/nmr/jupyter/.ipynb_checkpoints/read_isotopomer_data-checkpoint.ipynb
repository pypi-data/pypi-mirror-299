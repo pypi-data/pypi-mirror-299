{
 "cells": [
  {
   "cell_type": "code",
   "execution_count": 1,
   "id": "fb041431",
   "metadata": {
    "pycharm": {
     "name": "#%%\n"
    }
   },
   "outputs": [],
   "source": [
    "import numpy as np\n",
    "from metabolabpytools import isotopomerAnalysis\n",
    "ia = isotopomerAnalysis.IsotopomerAnalysis()\n",
    "ia.read_hsqc_multiplets('/Users/ludwigc/Documents/hsqcData.xlsx')\n",
    "ia.read_gcms_data('/Users/ludwigc/Documents/gcmsData.xlsx')\n",
    "m = 'L-LacticAcid'\n",
    "ia.set_fit_isotopomers(metabolite=m, isotopomers=[[0, 0, 1], [0, 1, 1]], percentages=[1, 4])\n",
    "ia.set_hsqc_isotopomers(metabolite=m)\n",
    "ia.set_gcms_percentages(metabolite=m)\n",
    "ia.set_nmr1d_percentages(metabolite=m)\n",
    "dd = ia.fit_isotopomers[m]\n",
    "pp = ia.isotopomer_percentages[m]\n",
    "d = ia.nmr_isotopomers[m].copy()\n",
    "p = ia.nmr_isotopomer_percentages[m].copy()"
   ]
  },
  {
   "cell_type": "code",
   "execution_count": 2,
   "id": "23329eae",
   "metadata": {},
   "outputs": [
    {
     "data": {
      "text/plain": [
       "[95.0, 1.0, 4.0, 0.0]"
      ]
     },
     "execution_count": 2,
     "metadata": {},
     "output_type": "execute_result"
    }
   ],
   "source": [
    "ia.gcms_percentages[m]"
   ]
  },
  {
   "cell_type": "code",
   "execution_count": 3,
   "id": "528af2e4",
   "metadata": {},
   "outputs": [
    {
     "data": {
      "text/plain": [
       "[1.0699999999999998, 5.0272, 6.016499999999999]"
      ]
     },
     "execution_count": 3,
     "metadata": {},
     "output_type": "execute_result"
    }
   ],
   "source": [
    "ia.nmr1d_percentages[m]"
   ]
  },
  {
   "cell_type": "code",
   "execution_count": 4,
   "id": "a3f1b844",
   "metadata": {},
   "outputs": [
    {
     "name": "stdout",
     "output_type": "stream",
     "text": [
      "[[0, 0, 0], [1, 0, 0], [0, 1, 0], [0, 0, 1], [1, 0, 1], [0, 1, 1], [1, 1, 1]]\n",
      "[91.9505, 1.0165, 1.0165, 1.9950999999999999, 0.010700000000000001, 3.9678999999999998, 0.042800000000000005]\n"
     ]
    }
   ],
   "source": [
    "print(d)\n",
    "print(p)"
   ]
  },
  {
   "cell_type": "code",
   "execution_count": 7,
   "id": "06737f3e",
   "metadata": {},
   "outputs": [
    {
     "data": {
      "text/plain": [
       "array([20.22000318, 78.92862826,  0.85136856])"
      ]
     },
     "execution_count": 7,
     "metadata": {},
     "output_type": "execute_result"
    }
   ],
   "source": [
    "pp = np.array([1.0165, 3.9678999999999998, 0.042800000000000005])\n",
    "pp * 100.0 / sum(pp)"
   ]
  },
  {
   "cell_type": "code",
   "execution_count": null,
   "id": "fee17c7a",
   "metadata": {},
   "outputs": [],
   "source": []
  }
 ],
 "metadata": {
  "kernelspec": {
   "display_name": "Python 3 (ipykernel)",
   "language": "python",
   "name": "python3"
  },
  "language_info": {
   "codemirror_mode": {
    "name": "ipython",
    "version": 3
   },
   "file_extension": ".py",
   "mimetype": "text/x-python",
   "name": "python",
   "nbconvert_exporter": "python",
   "pygments_lexer": "ipython3",
   "version": "3.11.4"
  }
 },
 "nbformat": 4,
 "nbformat_minor": 5
}
