{
 "cells": [
  {
   "cell_type": "code",
   "metadata": {
    "collapsed": true,
    "ExecuteTime": {
     "end_time": "2024-07-25T10:29:26.759308Z",
     "start_time": "2024-07-25T10:29:25.871175Z"
    }
   },
   "source": [
    "import pyisomme"
   ],
   "outputs": [],
   "execution_count": 1
  },
  {
   "metadata": {},
   "cell_type": "markdown",
   "source": "# Read"
  },
  {
   "cell_type": "code",
   "source": [
    "v11391 = pyisomme.Isomme().read(\"../data/nhtsa/11391/11391.mme\", \"11NECKUP0000FO?P\")\n",
    "v11391.print_channel_list()"
   ],
   "metadata": {
    "collapsed": false,
    "pycharm": {
     "name": "#%%\n"
    },
    "ExecuteTime": {
     "end_time": "2024-07-25T10:29:26.805144Z",
     "start_time": "2024-07-25T10:29:26.760301Z"
    }
   },
   "outputs": [
    {
     "data": {
      "text/plain": [
       "Read Channel of 11391:   0%|          | 0/489 [00:00<?, ?it/s]"
      ],
      "application/vnd.jupyter.widget-view+json": {
       "version_major": 2,
       "version_minor": 0,
       "model_id": "d4bf4f534a9847908106095e2b6ec1e0"
      }
     },
     "metadata": {},
     "output_type": "display_data"
    },
    {
     "name": "stdout",
     "output_type": "stream",
     "text": [
      "11391 - Channel List:\n",
      "\t001\t11NECKUP0000FOXP\n",
      "\t002\t11NECKUP0000FOYP\n",
      "\t003\t11NECKUP0000FOZP\n"
     ]
    }
   ],
   "execution_count": 2
  },
  {
   "metadata": {},
   "cell_type": "markdown",
   "source": "# Write"
  },
  {
   "cell_type": "code",
   "source": [
    "v11391.write(\"isomme_write/test1/11391.mme\")"
   ],
   "metadata": {
    "collapsed": false,
    "pycharm": {
     "name": "#%%\n"
    },
    "ExecuteTime": {
     "end_time": "2024-07-25T10:29:26.899456Z",
     "start_time": "2024-07-25T10:29:26.806143Z"
    }
   },
   "outputs": [
    {
     "data": {
      "text/plain": [
       "Write Channel of 11391:   0%|          | 0/3 [00:00<?, ?it/s]"
      ],
      "application/vnd.jupyter.widget-view+json": {
       "version_major": 2,
       "version_minor": 0,
       "model_id": "7028f2da1f3f4e969fc9b0a5c955a5c2"
      }
     },
     "metadata": {},
     "output_type": "display_data"
    },
    {
     "data": {
      "text/plain": [
       "Isomme(11391)"
      ]
     },
     "execution_count": 3,
     "metadata": {},
     "output_type": "execute_result"
    }
   ],
   "execution_count": 3
  },
  {
   "cell_type": "code",
   "source": [
    "v11391.write(\"isomme_write/test2\")"
   ],
   "metadata": {
    "collapsed": false,
    "pycharm": {
     "name": "#%%\n"
    },
    "ExecuteTime": {
     "end_time": "2024-07-25T10:29:26.977980Z",
     "start_time": "2024-07-25T10:29:26.899456Z"
    }
   },
   "outputs": [
    {
     "data": {
      "text/plain": [
       "Write Channel of 11391:   0%|          | 0/3 [00:00<?, ?it/s]"
      ],
      "application/vnd.jupyter.widget-view+json": {
       "version_major": 2,
       "version_minor": 0,
       "model_id": "d08f3a885eaf47eab19010ce344dbd5b"
      }
     },
     "metadata": {},
     "output_type": "display_data"
    },
    {
     "data": {
      "text/plain": [
       "Isomme(11391)"
      ]
     },
     "execution_count": 4,
     "metadata": {},
     "output_type": "execute_result"
    }
   ],
   "execution_count": 4
  },
  {
   "cell_type": "code",
   "source": "v11391.write(\"isomme_write/test3.zip\")",
   "metadata": {
    "collapsed": false,
    "pycharm": {
     "name": "#%%\n"
    },
    "ExecuteTime": {
     "end_time": "2024-07-25T10:29:27.103501Z",
     "start_time": "2024-07-25T10:29:26.978980Z"
    }
   },
   "outputs": [
    {
     "data": {
      "text/plain": [
       "Write Channel of 11391:   0%|          | 0/3 [00:00<?, ?it/s]"
      ],
      "application/vnd.jupyter.widget-view+json": {
       "version_major": 2,
       "version_minor": 0,
       "model_id": "870f909ef22b4071ac0902d0699693fd"
      }
     },
     "metadata": {},
     "output_type": "display_data"
    },
    {
     "data": {
      "text/plain": [
       "Isomme(11391)"
      ]
     },
     "execution_count": 5,
     "metadata": {},
     "output_type": "execute_result"
    }
   ],
   "execution_count": 5
  },
  {
   "metadata": {
    "ExecuteTime": {
     "end_time": "2024-07-25T10:29:27.213534Z",
     "start_time": "2024-07-25T10:29:27.104501Z"
    }
   },
   "cell_type": "code",
   "source": "v11391.write(\"isomme_write/test4.tar\")",
   "outputs": [
    {
     "data": {
      "text/plain": [
       "Write Channel of 11391:   0%|          | 0/3 [00:00<?, ?it/s]"
      ],
      "application/vnd.jupyter.widget-view+json": {
       "version_major": 2,
       "version_minor": 0,
       "model_id": "3fd54a1a903c4347b5ec2633b922fdc0"
      }
     },
     "metadata": {},
     "output_type": "display_data"
    },
    {
     "data": {
      "text/plain": [
       "Isomme(11391)"
      ]
     },
     "execution_count": 6,
     "metadata": {},
     "output_type": "execute_result"
    }
   ],
   "execution_count": 6
  },
  {
   "metadata": {
    "ExecuteTime": {
     "end_time": "2024-07-25T10:29:27.355889Z",
     "start_time": "2024-07-25T10:29:27.214535Z"
    }
   },
   "cell_type": "code",
   "source": "v11391.write(\"isomme_write/test5.tar.gz\")",
   "outputs": [
    {
     "data": {
      "text/plain": [
       "Write Channel of 11391:   0%|          | 0/3 [00:00<?, ?it/s]"
      ],
      "application/vnd.jupyter.widget-view+json": {
       "version_major": 2,
       "version_minor": 0,
       "model_id": "cf2d7d5e8c0d4664a027e48e75e6ad97"
      }
     },
     "metadata": {},
     "output_type": "display_data"
    },
    {
     "data": {
      "text/plain": [
       "Isomme(11391)"
      ]
     },
     "execution_count": 7,
     "metadata": {},
     "output_type": "execute_result"
    }
   ],
   "execution_count": 7
  },
  {
   "cell_type": "code",
   "source": [
    "import os\n",
    "\n",
    "def list_files(startpath):\n",
    "    for root, dirs, files in os.walk(startpath):\n",
    "        level = root.replace(startpath, '').count(os.sep)\n",
    "        indent = ' ' * 4 * level\n",
    "        print('{}{}/'.format(indent, os.path.basename(root)))\n",
    "        subindent = ' ' * 4 * (level + 1)\n",
    "        for f in files:\n",
    "            print('{}{}'.format(subindent, f))"
   ],
   "metadata": {
    "collapsed": false,
    "pycharm": {
     "name": "#%%\n"
    },
    "ExecuteTime": {
     "end_time": "2024-07-25T10:29:27.371681Z",
     "start_time": "2024-07-25T10:29:27.356872Z"
    }
   },
   "outputs": [],
   "execution_count": 8
  },
  {
   "cell_type": "code",
   "source": [
    "list_files(\"isomme_write\")"
   ],
   "metadata": {
    "collapsed": false,
    "pycharm": {
     "name": "#%%\n"
    },
    "ExecuteTime": {
     "end_time": "2024-07-25T10:29:27.387168Z",
     "start_time": "2024-07-25T10:29:27.372676Z"
    }
   },
   "outputs": [
    {
     "name": "stdout",
     "output_type": "stream",
     "text": [
      "isomme_write/\n",
      "    test3.zip\n",
      "    test4.tar\n",
      "    test5.tar.gz\n",
      "    test1/\n",
      "        11391.mme\n",
      "        Channel/\n",
      "            11391.001\n",
      "            11391.002\n",
      "            11391.003\n",
      "            11391.chn\n",
      "    test2/\n",
      "        11391.mme\n",
      "        Channel/\n",
      "            11391.001\n",
      "            11391.002\n",
      "            11391.003\n",
      "            11391.chn\n"
     ]
    }
   ],
   "execution_count": 9
  },
  {
   "cell_type": "markdown",
   "source": [],
   "metadata": {
    "collapsed": false,
    "pycharm": {
     "name": "#%% md\n"
    }
   }
  }
 ],
 "metadata": {
  "kernelspec": {
   "display_name": "Python 3",
   "language": "python",
   "name": "python3"
  },
  "language_info": {
   "codemirror_mode": {
    "name": "ipython",
    "version": 2
   },
   "file_extension": ".py",
   "mimetype": "text/x-python",
   "name": "python",
   "nbconvert_exporter": "python",
   "pygments_lexer": "ipython2",
   "version": "2.7.6"
  }
 },
 "nbformat": 4,
 "nbformat_minor": 0
}
