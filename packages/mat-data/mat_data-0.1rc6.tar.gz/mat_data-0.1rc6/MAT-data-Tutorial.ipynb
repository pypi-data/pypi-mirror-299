{
 "cells": [
  {
   "cell_type": "markdown",
   "metadata": {},
   "source": [
    "# MAT-data: Data Handler for Multiple Aspect Trajectory Data Mining \\[MAT-Tools Framework\\]\n",
    "\n",
    "Sample Code in python notebook to use mat-data as a python library.\n",
    "\n",
    "The present package offers a tool, to support the user in the task of data preprocessing of multiple aspect trajectories, or to generating synthetic datasets. It integrates into a unique framework for multiple aspects trajectories and in general for multidimensional sequence data mining methods.\n",
    "\n",
    "Created on Dec, 2023\n",
    "Copyright (C) 2023, License GPL Version 3 or superior (see LICENSE file)\n",
    "\n",
    "Check the Documentation: https://mat-analysis.github.io/mat-tools/mat-data"
   ]
  },
  {
   "cell_type": "code",
   "execution_count": null,
   "metadata": {
    "tags": []
   },
   "outputs": [],
   "source": [
    "!pip install mat-data\n",
    "#!pip install --upgrade mat-data"
   ]
  },
  {
   "cell_type": "markdown",
   "metadata": {},
   "source": [
    "This package provides the script `MAT-GetData.py` for downloading data in varios formats, k-fold and holdout cross-validation:"
   ]
  },
  {
   "cell_type": "code",
   "execution_count": null,
   "metadata": {
    "tags": []
   },
   "outputs": [],
   "source": [
    "!MAT-GetData.py . 'sequential.Promoters,mat.FoursquareNYC' -k 1"
   ]
  },
  {
   "cell_type": "code",
   "execution_count": null,
   "metadata": {
    "tags": []
   },
   "outputs": [],
   "source": [
    "!MAT-GetData.py --help"
   ]
  },
  {
   "cell_type": "markdown",
   "metadata": {
    "jp-MarkdownHeadingCollapsed": true,
    "tags": []
   },
   "source": [
    "### 1. Reading local data\n",
    "\n",
    "Sample code for trajectory dataset read from local files"
   ]
  },
  {
   "cell_type": "markdown",
   "metadata": {},
   "source": [
    "The easy way to read data is to load a csv file in pandas, such as:"
   ]
  },
  {
   "cell_type": "code",
   "execution_count": 6,
   "metadata": {},
   "outputs": [
    {
     "data": {
      "text/html": [
       "<div>\n",
       "<style scoped>\n",
       "    .dataframe tbody tr th:only-of-type {\n",
       "        vertical-align: middle;\n",
       "    }\n",
       "\n",
       "    .dataframe tbody tr th {\n",
       "        vertical-align: top;\n",
       "    }\n",
       "\n",
       "    .dataframe thead th {\n",
       "        text-align: right;\n",
       "    }\n",
       "</style>\n",
       "<table border=\"1\" class=\"dataframe\">\n",
       "  <thead>\n",
       "    <tr style=\"text-align: right;\">\n",
       "      <th></th>\n",
       "      <th>tid</th>\n",
       "      <th>lat_lon</th>\n",
       "      <th>date_time</th>\n",
       "      <th>time</th>\n",
       "      <th>rating</th>\n",
       "      <th>price</th>\n",
       "      <th>weather</th>\n",
       "      <th>day</th>\n",
       "      <th>root_type</th>\n",
       "      <th>type</th>\n",
       "    </tr>\n",
       "  </thead>\n",
       "  <tbody>\n",
       "    <tr>\n",
       "      <th>0</th>\n",
       "      <td>126</td>\n",
       "      <td>40.8331652006224 -73.9418603427692</td>\n",
       "      <td>2012-11-12 05:17:18</td>\n",
       "      <td>317</td>\n",
       "      <td>-1.0</td>\n",
       "      <td>-1</td>\n",
       "      <td>Clear</td>\n",
       "      <td>Monday</td>\n",
       "      <td>Residence</td>\n",
       "      <td>Home (private)</td>\n",
       "    </tr>\n",
       "    <tr>\n",
       "      <th>1</th>\n",
       "      <td>126</td>\n",
       "      <td>40.8340978041072 -73.9452672225881</td>\n",
       "      <td>2012-11-12 23:24:55</td>\n",
       "      <td>1404</td>\n",
       "      <td>8.2</td>\n",
       "      <td>1</td>\n",
       "      <td>Clouds</td>\n",
       "      <td>Monday</td>\n",
       "      <td>Food</td>\n",
       "      <td>Deli / Bodega</td>\n",
       "    </tr>\n",
       "    <tr>\n",
       "      <th>2</th>\n",
       "      <td>126</td>\n",
       "      <td>40.8331652006224 -73.9418603427692</td>\n",
       "      <td>2012-11-13 00:00:07</td>\n",
       "      <td>0</td>\n",
       "      <td>-1.0</td>\n",
       "      <td>-1</td>\n",
       "      <td>Clouds</td>\n",
       "      <td>Tuesday</td>\n",
       "      <td>Residence</td>\n",
       "      <td>Home (private)</td>\n",
       "    </tr>\n",
       "    <tr>\n",
       "      <th>3</th>\n",
       "      <td>126</td>\n",
       "      <td>40.7646959283254 -73.8851974964414</td>\n",
       "      <td>2012-11-15 17:49:01</td>\n",
       "      <td>1069</td>\n",
       "      <td>6.6</td>\n",
       "      <td>3</td>\n",
       "      <td>Clear</td>\n",
       "      <td>Thursday</td>\n",
       "      <td>Food</td>\n",
       "      <td>Fried Chicken Joint</td>\n",
       "    </tr>\n",
       "    <tr>\n",
       "      <th>4</th>\n",
       "      <td>126</td>\n",
       "      <td>40.7660790376824 -73.8835287094116</td>\n",
       "      <td>2012-11-15 18:40:16</td>\n",
       "      <td>1120</td>\n",
       "      <td>-1.0</td>\n",
       "      <td>-1</td>\n",
       "      <td>Clear</td>\n",
       "      <td>Thursday</td>\n",
       "      <td>Travel &amp; Transport</td>\n",
       "      <td>Bus Station</td>\n",
       "    </tr>\n",
       "    <tr>\n",
       "      <th>...</th>\n",
       "      <td>...</td>\n",
       "      <td>...</td>\n",
       "      <td>...</td>\n",
       "      <td>...</td>\n",
       "      <td>...</td>\n",
       "      <td>...</td>\n",
       "      <td>...</td>\n",
       "      <td>...</td>\n",
       "      <td>...</td>\n",
       "      <td>...</td>\n",
       "    </tr>\n",
       "    <tr>\n",
       "      <th>66957</th>\n",
       "      <td>29563</td>\n",
       "      <td>40.7047332789043 -73.9877378940582</td>\n",
       "      <td>2012-08-10 17:17:37</td>\n",
       "      <td>1037</td>\n",
       "      <td>-1.0</td>\n",
       "      <td>-1</td>\n",
       "      <td>Clouds</td>\n",
       "      <td>Friday</td>\n",
       "      <td>College &amp; University</td>\n",
       "      <td>General College &amp; University</td>\n",
       "    </tr>\n",
       "    <tr>\n",
       "      <th>66958</th>\n",
       "      <td>29563</td>\n",
       "      <td>40.6951627360199 -73.9954478691072</td>\n",
       "      <td>2012-08-10 20:10:59</td>\n",
       "      <td>1210</td>\n",
       "      <td>8.0</td>\n",
       "      <td>2</td>\n",
       "      <td>Clouds</td>\n",
       "      <td>Friday</td>\n",
       "      <td>Food</td>\n",
       "      <td>Thai Restaurant</td>\n",
       "    </tr>\n",
       "    <tr>\n",
       "      <th>66959</th>\n",
       "      <td>29563</td>\n",
       "      <td>40.6978026652822 -73.9941451630314</td>\n",
       "      <td>2012-08-11 08:01:20</td>\n",
       "      <td>481</td>\n",
       "      <td>6.9</td>\n",
       "      <td>-1</td>\n",
       "      <td>Clouds</td>\n",
       "      <td>Saturday</td>\n",
       "      <td>Outdoors &amp; Recreation</td>\n",
       "      <td>Gym</td>\n",
       "    </tr>\n",
       "    <tr>\n",
       "      <th>66960</th>\n",
       "      <td>29563</td>\n",
       "      <td>40.6946728967503 -73.9940820360805</td>\n",
       "      <td>2012-08-11 13:39:39</td>\n",
       "      <td>819</td>\n",
       "      <td>7.0</td>\n",
       "      <td>1</td>\n",
       "      <td>Clouds</td>\n",
       "      <td>Saturday</td>\n",
       "      <td>Food</td>\n",
       "      <td>Coffee Shop</td>\n",
       "    </tr>\n",
       "    <tr>\n",
       "      <th>66961</th>\n",
       "      <td>29563</td>\n",
       "      <td>40.6978026652822 -73.9941451630314</td>\n",
       "      <td>2012-08-12 07:56:26</td>\n",
       "      <td>476</td>\n",
       "      <td>6.9</td>\n",
       "      <td>-1</td>\n",
       "      <td>Clouds</td>\n",
       "      <td>Sunday</td>\n",
       "      <td>Outdoors &amp; Recreation</td>\n",
       "      <td>Gym</td>\n",
       "    </tr>\n",
       "  </tbody>\n",
       "</table>\n",
       "<p>66962 rows × 10 columns</p>\n",
       "</div>"
      ],
      "text/plain": [
       "         tid                             lat_lon            date_time  time  \\\n",
       "0        126  40.8331652006224 -73.9418603427692  2012-11-12 05:17:18   317   \n",
       "1        126  40.8340978041072 -73.9452672225881  2012-11-12 23:24:55  1404   \n",
       "2        126  40.8331652006224 -73.9418603427692  2012-11-13 00:00:07     0   \n",
       "3        126  40.7646959283254 -73.8851974964414  2012-11-15 17:49:01  1069   \n",
       "4        126  40.7660790376824 -73.8835287094116  2012-11-15 18:40:16  1120   \n",
       "...      ...                                 ...                  ...   ...   \n",
       "66957  29563  40.7047332789043 -73.9877378940582  2012-08-10 17:17:37  1037   \n",
       "66958  29563  40.6951627360199 -73.9954478691072  2012-08-10 20:10:59  1210   \n",
       "66959  29563  40.6978026652822 -73.9941451630314  2012-08-11 08:01:20   481   \n",
       "66960  29563  40.6946728967503 -73.9940820360805  2012-08-11 13:39:39   819   \n",
       "66961  29563  40.6978026652822 -73.9941451630314  2012-08-12 07:56:26   476   \n",
       "\n",
       "       rating  price weather       day              root_type  \\\n",
       "0        -1.0     -1   Clear    Monday              Residence   \n",
       "1         8.2      1  Clouds    Monday                   Food   \n",
       "2        -1.0     -1  Clouds   Tuesday              Residence   \n",
       "3         6.6      3   Clear  Thursday                   Food   \n",
       "4        -1.0     -1   Clear  Thursday     Travel & Transport   \n",
       "...       ...    ...     ...       ...                    ...   \n",
       "66957    -1.0     -1  Clouds    Friday   College & University   \n",
       "66958     8.0      2  Clouds    Friday                   Food   \n",
       "66959     6.9     -1  Clouds  Saturday  Outdoors & Recreation   \n",
       "66960     7.0      1  Clouds  Saturday                   Food   \n",
       "66961     6.9     -1  Clouds    Sunday  Outdoors & Recreation   \n",
       "\n",
       "                               type  \n",
       "0                    Home (private)  \n",
       "1                     Deli / Bodega  \n",
       "2                    Home (private)  \n",
       "3               Fried Chicken Joint  \n",
       "4                       Bus Station  \n",
       "...                             ...  \n",
       "66957  General College & University  \n",
       "66958               Thai Restaurant  \n",
       "66959                           Gym  \n",
       "66960                   Coffee Shop  \n",
       "66961                           Gym  \n",
       "\n",
       "[66962 rows x 10 columns]"
      ]
     },
     "execution_count": 6,
     "metadata": {},
     "output_type": "execute_result"
    }
   ],
   "source": [
    "import pandas as pd\n",
    "\n",
    "data_path = 'matdata/assets/sample'\n",
    "\n",
    "pd.read_csv(data_path + '/Foursquare_Sample.csv')"
   ]
  },
  {
   "cell_type": "markdown",
   "metadata": {},
   "source": [
    "`mat-data` provides modules to handle dataset reading in standard ways:"
   ]
  },
  {
   "cell_type": "markdown",
   "metadata": {},
   "source": [
    "    a) Read a dataset locally:\n",
    "    \n",
    "This is an example for .csv file, however this can read .csv, .parquet, .zip, .ts, and .xes file formats."
   ]
  },
  {
   "cell_type": "code",
   "execution_count": null,
   "metadata": {},
   "outputs": [],
   "source": [
    "from matdata.dataset import *"
   ]
  },
  {
   "cell_type": "code",
   "execution_count": null,
   "metadata": {
    "tags": []
   },
   "outputs": [],
   "source": [
    "df = read_ds('matdata/assets/sample/Foursquare_Sample.csv')\n",
    "df.head()"
   ]
  },
  {
   "cell_type": "markdown",
   "metadata": {},
   "source": [
    "Optionally, you can use the standardized reading, which will make 'tid'/'label' nomenclature (or rename columns) and will sort the trajectories"
   ]
  },
  {
   "cell_type": "code",
   "execution_count": null,
   "metadata": {},
   "outputs": [],
   "source": [
    "df = read_ds('matdata/assets/sample/Foursquare_Sample.csv', tid_col='tid', class_col='root_type')\n",
    "df.head()"
   ]
  },
  {
   "cell_type": "markdown",
   "metadata": {
    "jp-MarkdownHeadingCollapsed": true,
    "tags": []
   },
   "source": [
    "### 2. Loading Repository Data\n",
    "\n",
    "This module loads data from public repository [Git: mat-analysis datasets (v2_0)](https://github.com/mat-analysis/datasets)\n",
    "\n",
    "Check the GitHub repository to see available datasets."
   ]
  },
  {
   "cell_type": "markdown",
   "metadata": {},
   "source": [
    "To use helpers for data loading, import from package `matdata.dataset`:"
   ]
  },
  {
   "cell_type": "code",
   "execution_count": 7,
   "metadata": {},
   "outputs": [],
   "source": [
    "from matdata.dataset import *"
   ]
  },
  {
   "cell_type": "markdown",
   "metadata": {},
   "source": [
    "    a) First, you can load datasets by informing the category (parent folder) and dataset name (subfolder):"
   ]
  },
  {
   "cell_type": "code",
   "execution_count": 8,
   "metadata": {
    "tags": []
   },
   "outputs": [
    {
     "name": "stdout",
     "output_type": "stream",
     "text": [
      "Loading dataset file: https://github.com/mat-analysis/datasets/tree/main/mat/FoursquareNYC/\n"
     ]
    },
    {
     "name": "stderr",
     "output_type": "stream",
     "text": [
      "  % Total    % Received % Xferd  Average Speed   Time    Time     Time  Current\n",
      "                                 Dload  Upload   Total   Spent    Left  Speed\n",
      "100 1055k  100 1055k    0     0  2431k      0 --:--:-- --:--:-- --:--:-- 2448k\n"
     ]
    },
    {
     "data": {
      "application/vnd.jupyter.widget-view+json": {
       "model_id": "3ae026313d674e54964b2169d7a85b8e",
       "version_major": 2,
       "version_minor": 0
      },
      "text/plain": [
       "Stratification (class-balanced):   0%|          | 0/193 [00:00<?, ?it/s]"
      ]
     },
     "metadata": {},
     "output_type": "display_data"
    },
    {
     "data": {
      "application/vnd.jupyter.widget-view+json": {
       "model_id": "f55c2c3b365b4510842c27e4422a5128",
       "version_major": 2,
       "version_minor": 0
      },
      "text/plain": [
       "Sorting data:   0%|          | 0/193 [00:00<?, ?it/s]"
      ]
     },
     "metadata": {},
     "output_type": "display_data"
    },
    {
     "data": {
      "text/html": [
       "<div>\n",
       "<style scoped>\n",
       "    .dataframe tbody tr th:only-of-type {\n",
       "        vertical-align: middle;\n",
       "    }\n",
       "\n",
       "    .dataframe tbody tr th {\n",
       "        vertical-align: top;\n",
       "    }\n",
       "\n",
       "    .dataframe thead th {\n",
       "        text-align: right;\n",
       "    }\n",
       "</style>\n",
       "<table border=\"1\" class=\"dataframe\">\n",
       "  <thead>\n",
       "    <tr style=\"text-align: right;\">\n",
       "      <th></th>\n",
       "      <th>space</th>\n",
       "      <th>time</th>\n",
       "      <th>day</th>\n",
       "      <th>poi</th>\n",
       "      <th>type</th>\n",
       "      <th>root_type</th>\n",
       "      <th>rating</th>\n",
       "      <th>weather</th>\n",
       "      <th>tid</th>\n",
       "      <th>label</th>\n",
       "    </tr>\n",
       "  </thead>\n",
       "  <tbody>\n",
       "    <tr>\n",
       "      <th>0</th>\n",
       "      <td>40.8340978041072 -73.9452672225881</td>\n",
       "      <td>788</td>\n",
       "      <td>Monday</td>\n",
       "      <td>Galaxy Gourmet Deli</td>\n",
       "      <td>Deli / Bodega</td>\n",
       "      <td>Food</td>\n",
       "      <td>8.2</td>\n",
       "      <td>Clouds</td>\n",
       "      <td>127</td>\n",
       "      <td>6</td>\n",
       "    </tr>\n",
       "    <tr>\n",
       "      <th>1</th>\n",
       "      <td>40.5671960000000 -73.8825760000000</td>\n",
       "      <td>1175</td>\n",
       "      <td>Monday</td>\n",
       "      <td>MTA Bus - Beach 169 St &amp; Rockaway Point Bl (Q2...</td>\n",
       "      <td>Bus Stop</td>\n",
       "      <td>Travel &amp; Transport</td>\n",
       "      <td>-1.0</td>\n",
       "      <td>Clouds</td>\n",
       "      <td>127</td>\n",
       "      <td>6</td>\n",
       "    </tr>\n",
       "    <tr>\n",
       "      <th>2</th>\n",
       "      <td>40.6899127194574 -73.9815044403076</td>\n",
       "      <td>1381</td>\n",
       "      <td>Monday</td>\n",
       "      <td>MTA Subway - DeKalb Ave (B/Q/R)</td>\n",
       "      <td>Metro Station</td>\n",
       "      <td>Travel &amp; Transport</td>\n",
       "      <td>-1.0</td>\n",
       "      <td>Clouds</td>\n",
       "      <td>127</td>\n",
       "      <td>6</td>\n",
       "    </tr>\n",
       "    <tr>\n",
       "      <th>3</th>\n",
       "      <td>40.7085883614824 -73.9910316467285</td>\n",
       "      <td>1404</td>\n",
       "      <td>Monday</td>\n",
       "      <td>MTA Subway - Manhattan Bridge (B/D/N/Q)</td>\n",
       "      <td>Train</td>\n",
       "      <td>Travel &amp; Transport</td>\n",
       "      <td>-1.0</td>\n",
       "      <td>Clouds</td>\n",
       "      <td>127</td>\n",
       "      <td>6</td>\n",
       "    </tr>\n",
       "    <tr>\n",
       "      <th>4</th>\n",
       "      <td>40.8331652006224 -73.9418603427692</td>\n",
       "      <td>845</td>\n",
       "      <td>Tuesday</td>\n",
       "      <td>The Grinnell</td>\n",
       "      <td>Home (private)</td>\n",
       "      <td>Residence</td>\n",
       "      <td>-1.0</td>\n",
       "      <td>Clear</td>\n",
       "      <td>127</td>\n",
       "      <td>6</td>\n",
       "    </tr>\n",
       "    <tr>\n",
       "      <th>...</th>\n",
       "      <td>...</td>\n",
       "      <td>...</td>\n",
       "      <td>...</td>\n",
       "      <td>...</td>\n",
       "      <td>...</td>\n",
       "      <td>...</td>\n",
       "      <td>...</td>\n",
       "      <td>...</td>\n",
       "      <td>...</td>\n",
       "      <td>...</td>\n",
       "    </tr>\n",
       "    <tr>\n",
       "      <th>17</th>\n",
       "      <td>40.7047332789043 -73.9877378940582</td>\n",
       "      <td>939</td>\n",
       "      <td>Thursday</td>\n",
       "      <td>Miami Ad School Brooklyn</td>\n",
       "      <td>General College &amp; University</td>\n",
       "      <td>College &amp; University</td>\n",
       "      <td>-1.0</td>\n",
       "      <td>Clear</td>\n",
       "      <td>29559</td>\n",
       "      <td>1070</td>\n",
       "    </tr>\n",
       "    <tr>\n",
       "      <th>18</th>\n",
       "      <td>40.6978026652822 -73.9941451630314</td>\n",
       "      <td>483</td>\n",
       "      <td>Friday</td>\n",
       "      <td>Eastern Athletic Club</td>\n",
       "      <td>Gym</td>\n",
       "      <td>Outdoors &amp; Recreation</td>\n",
       "      <td>6.9</td>\n",
       "      <td>Clear</td>\n",
       "      <td>29559</td>\n",
       "      <td>1070</td>\n",
       "    </tr>\n",
       "    <tr>\n",
       "      <th>19</th>\n",
       "      <td>40.6946728967503 -73.9940820360805</td>\n",
       "      <td>794</td>\n",
       "      <td>Friday</td>\n",
       "      <td>Starbucks</td>\n",
       "      <td>Coffee Shop</td>\n",
       "      <td>Food</td>\n",
       "      <td>7.0</td>\n",
       "      <td>Clear</td>\n",
       "      <td>29559</td>\n",
       "      <td>1070</td>\n",
       "    </tr>\n",
       "    <tr>\n",
       "      <th>20</th>\n",
       "      <td>40.7023694709909 -73.9875124790989</td>\n",
       "      <td>1261</td>\n",
       "      <td>Friday</td>\n",
       "      <td>Superfine</td>\n",
       "      <td>American Restaurant</td>\n",
       "      <td>Food</td>\n",
       "      <td>7.6</td>\n",
       "      <td>Clear</td>\n",
       "      <td>29559</td>\n",
       "      <td>1070</td>\n",
       "    </tr>\n",
       "    <tr>\n",
       "      <th>21</th>\n",
       "      <td>40.6977207397189 -73.9930203524269</td>\n",
       "      <td>56</td>\n",
       "      <td>Saturday</td>\n",
       "      <td>EHS St. George Residence</td>\n",
       "      <td>College Residence Hall</td>\n",
       "      <td>College &amp; University</td>\n",
       "      <td>-1.0</td>\n",
       "      <td>Clouds</td>\n",
       "      <td>29559</td>\n",
       "      <td>1070</td>\n",
       "    </tr>\n",
       "  </tbody>\n",
       "</table>\n",
       "<p>15272 rows × 10 columns</p>\n",
       "</div>"
      ],
      "text/plain": [
       "                                 space  time       day  \\\n",
       "0   40.8340978041072 -73.9452672225881   788    Monday   \n",
       "1   40.5671960000000 -73.8825760000000  1175    Monday   \n",
       "2   40.6899127194574 -73.9815044403076  1381    Monday   \n",
       "3   40.7085883614824 -73.9910316467285  1404    Monday   \n",
       "4   40.8331652006224 -73.9418603427692   845   Tuesday   \n",
       "..                                 ...   ...       ...   \n",
       "17  40.7047332789043 -73.9877378940582   939  Thursday   \n",
       "18  40.6978026652822 -73.9941451630314   483    Friday   \n",
       "19  40.6946728967503 -73.9940820360805   794    Friday   \n",
       "20  40.7023694709909 -73.9875124790989  1261    Friday   \n",
       "21  40.6977207397189 -73.9930203524269    56  Saturday   \n",
       "\n",
       "                                                  poi  \\\n",
       "0                                 Galaxy Gourmet Deli   \n",
       "1   MTA Bus - Beach 169 St & Rockaway Point Bl (Q2...   \n",
       "2                     MTA Subway - DeKalb Ave (B/Q/R)   \n",
       "3             MTA Subway - Manhattan Bridge (B/D/N/Q)   \n",
       "4                                        The Grinnell   \n",
       "..                                                ...   \n",
       "17                           Miami Ad School Brooklyn   \n",
       "18                              Eastern Athletic Club   \n",
       "19                                          Starbucks   \n",
       "20                                          Superfine   \n",
       "21                           EHS St. George Residence   \n",
       "\n",
       "                            type              root_type  rating weather  \\\n",
       "0                  Deli / Bodega                   Food     8.2  Clouds   \n",
       "1                       Bus Stop     Travel & Transport    -1.0  Clouds   \n",
       "2                  Metro Station     Travel & Transport    -1.0  Clouds   \n",
       "3                          Train     Travel & Transport    -1.0  Clouds   \n",
       "4                 Home (private)              Residence    -1.0   Clear   \n",
       "..                           ...                    ...     ...     ...   \n",
       "17  General College & University   College & University    -1.0   Clear   \n",
       "18                           Gym  Outdoors & Recreation     6.9   Clear   \n",
       "19                   Coffee Shop                   Food     7.0   Clear   \n",
       "20           American Restaurant                   Food     7.6   Clear   \n",
       "21        College Residence Hall   College & University    -1.0  Clouds   \n",
       "\n",
       "      tid  label  \n",
       "0     127      6  \n",
       "1     127      6  \n",
       "2     127      6  \n",
       "3     127      6  \n",
       "4     127      6  \n",
       "..    ...    ...  \n",
       "17  29559   1070  \n",
       "18  29559   1070  \n",
       "19  29559   1070  \n",
       "20  29559   1070  \n",
       "21  29559   1070  \n",
       "\n",
       "[15272 rows x 10 columns]"
      ]
     },
     "execution_count": 8,
     "metadata": {},
     "output_type": "execute_result"
    }
   ],
   "source": [
    "# dataset='mat.FoursquareNYC' ## => dafault\n",
    "\n",
    "df = load_ds(sample_size=0.25)\n",
    "df"
   ]
  },
  {
   "cell_type": "markdown",
   "metadata": {},
   "source": [
    "     b) Second, you can load the 70/30 hold out split available (by default):"
   ]
  },
  {
   "cell_type": "code",
   "execution_count": 9,
   "metadata": {
    "tags": []
   },
   "outputs": [
    {
     "name": "stdout",
     "output_type": "stream",
     "text": [
      "Loading dataset file: https://github.com/mat-analysis/datasets/tree/main/mat/FoursquareNYC/\n"
     ]
    },
    {
     "name": "stderr",
     "output_type": "stream",
     "text": [
      "  % Total    % Received % Xferd  Average Speed   Time    Time     Time  Current\n",
      "                                 Dload  Upload   Total   Spent    Left  Speed\n",
      "100 1055k  100 1055k    0     0  2413k      0 --:--:-- --:--:-- --:--:-- 2437k\n"
     ]
    },
    {
     "data": {
      "application/vnd.jupyter.widget-view+json": {
       "model_id": "c7725eaf5a27402087585ed52a436c02",
       "version_major": 2,
       "version_minor": 0
      },
      "text/plain": [
       "Spliting Data (class-balanced):   0%|          | 0/193 [00:00<?, ?it/s]"
      ]
     },
     "metadata": {},
     "output_type": "display_data"
    },
    {
     "data": {
      "application/vnd.jupyter.widget-view+json": {
       "model_id": "862b75e4dda946cb9beca5a6dbfd6893",
       "version_major": 2,
       "version_minor": 0
      },
      "text/plain": [
       "Sorting data:   0%|          | 0/193 [00:00<?, ?it/s]"
      ]
     },
     "metadata": {},
     "output_type": "display_data"
    },
    {
     "data": {
      "application/vnd.jupyter.widget-view+json": {
       "model_id": "59521f4dfd73450bb3b566dfc51fba82",
       "version_major": 2,
       "version_minor": 0
      },
      "text/plain": [
       "Sorting data:   0%|          | 0/193 [00:00<?, ?it/s]"
      ]
     },
     "metadata": {},
     "output_type": "display_data"
    },
    {
     "name": "stdout",
     "output_type": "stream",
     "text": [
      "(44989, 10) (21957, 10)\n"
     ]
    },
    {
     "data": {
      "text/html": [
       "<div>\n",
       "<style scoped>\n",
       "    .dataframe tbody tr th:only-of-type {\n",
       "        vertical-align: middle;\n",
       "    }\n",
       "\n",
       "    .dataframe tbody tr th {\n",
       "        vertical-align: top;\n",
       "    }\n",
       "\n",
       "    .dataframe thead th {\n",
       "        text-align: right;\n",
       "    }\n",
       "</style>\n",
       "<table border=\"1\" class=\"dataframe\">\n",
       "  <thead>\n",
       "    <tr style=\"text-align: right;\">\n",
       "      <th></th>\n",
       "      <th>tid</th>\n",
       "      <th>label</th>\n",
       "      <th>space</th>\n",
       "      <th>time</th>\n",
       "      <th>day</th>\n",
       "      <th>poi</th>\n",
       "      <th>type</th>\n",
       "      <th>root_type</th>\n",
       "      <th>rating</th>\n",
       "      <th>weather</th>\n",
       "    </tr>\n",
       "  </thead>\n",
       "  <tbody>\n",
       "    <tr>\n",
       "      <th>0</th>\n",
       "      <td>127</td>\n",
       "      <td>6</td>\n",
       "      <td>40.8340978041072 -73.9452672225881</td>\n",
       "      <td>788</td>\n",
       "      <td>Monday</td>\n",
       "      <td>Galaxy Gourmet Deli</td>\n",
       "      <td>Deli / Bodega</td>\n",
       "      <td>Food</td>\n",
       "      <td>8.2</td>\n",
       "      <td>Clouds</td>\n",
       "    </tr>\n",
       "    <tr>\n",
       "      <th>1</th>\n",
       "      <td>127</td>\n",
       "      <td>6</td>\n",
       "      <td>40.5671960000000 -73.8825760000000</td>\n",
       "      <td>1175</td>\n",
       "      <td>Monday</td>\n",
       "      <td>MTA Bus - Beach 169 St &amp; Rockaway Point Bl (Q2...</td>\n",
       "      <td>Bus Stop</td>\n",
       "      <td>Travel &amp; Transport</td>\n",
       "      <td>-1.0</td>\n",
       "      <td>Clouds</td>\n",
       "    </tr>\n",
       "    <tr>\n",
       "      <th>2</th>\n",
       "      <td>127</td>\n",
       "      <td>6</td>\n",
       "      <td>40.6899127194574 -73.9815044403076</td>\n",
       "      <td>1381</td>\n",
       "      <td>Monday</td>\n",
       "      <td>MTA Subway - DeKalb Ave (B/Q/R)</td>\n",
       "      <td>Metro Station</td>\n",
       "      <td>Travel &amp; Transport</td>\n",
       "      <td>-1.0</td>\n",
       "      <td>Clouds</td>\n",
       "    </tr>\n",
       "    <tr>\n",
       "      <th>3</th>\n",
       "      <td>127</td>\n",
       "      <td>6</td>\n",
       "      <td>40.7085883614824 -73.9910316467285</td>\n",
       "      <td>1404</td>\n",
       "      <td>Monday</td>\n",
       "      <td>MTA Subway - Manhattan Bridge (B/D/N/Q)</td>\n",
       "      <td>Train</td>\n",
       "      <td>Travel &amp; Transport</td>\n",
       "      <td>-1.0</td>\n",
       "      <td>Clouds</td>\n",
       "    </tr>\n",
       "    <tr>\n",
       "      <th>4</th>\n",
       "      <td>127</td>\n",
       "      <td>6</td>\n",
       "      <td>40.8331652006224 -73.9418603427692</td>\n",
       "      <td>845</td>\n",
       "      <td>Tuesday</td>\n",
       "      <td>The Grinnell</td>\n",
       "      <td>Home (private)</td>\n",
       "      <td>Residence</td>\n",
       "      <td>-1.0</td>\n",
       "      <td>Clear</td>\n",
       "    </tr>\n",
       "    <tr>\n",
       "      <th>...</th>\n",
       "      <td>...</td>\n",
       "      <td>...</td>\n",
       "      <td>...</td>\n",
       "      <td>...</td>\n",
       "      <td>...</td>\n",
       "      <td>...</td>\n",
       "      <td>...</td>\n",
       "      <td>...</td>\n",
       "      <td>...</td>\n",
       "      <td>...</td>\n",
       "    </tr>\n",
       "    <tr>\n",
       "      <th>89</th>\n",
       "      <td>29563</td>\n",
       "      <td>1070</td>\n",
       "      <td>40.7047332789043 -73.9877378940582</td>\n",
       "      <td>1037</td>\n",
       "      <td>Friday</td>\n",
       "      <td>Miami Ad School Brooklyn</td>\n",
       "      <td>General College &amp; University</td>\n",
       "      <td>College &amp; University</td>\n",
       "      <td>-1.0</td>\n",
       "      <td>Clouds</td>\n",
       "    </tr>\n",
       "    <tr>\n",
       "      <th>90</th>\n",
       "      <td>29563</td>\n",
       "      <td>1070</td>\n",
       "      <td>40.6951627360199 -73.9954478691072</td>\n",
       "      <td>1210</td>\n",
       "      <td>Friday</td>\n",
       "      <td>Lantern Thai Kitchen</td>\n",
       "      <td>Thai Restaurant</td>\n",
       "      <td>Food</td>\n",
       "      <td>8.0</td>\n",
       "      <td>Clouds</td>\n",
       "    </tr>\n",
       "    <tr>\n",
       "      <th>91</th>\n",
       "      <td>29563</td>\n",
       "      <td>1070</td>\n",
       "      <td>40.6978026652822 -73.9941451630314</td>\n",
       "      <td>481</td>\n",
       "      <td>Saturday</td>\n",
       "      <td>Eastern Athletic Club</td>\n",
       "      <td>Gym</td>\n",
       "      <td>Outdoors &amp; Recreation</td>\n",
       "      <td>6.9</td>\n",
       "      <td>Clouds</td>\n",
       "    </tr>\n",
       "    <tr>\n",
       "      <th>92</th>\n",
       "      <td>29563</td>\n",
       "      <td>1070</td>\n",
       "      <td>40.6946728967503 -73.9940820360805</td>\n",
       "      <td>819</td>\n",
       "      <td>Saturday</td>\n",
       "      <td>Starbucks</td>\n",
       "      <td>Coffee Shop</td>\n",
       "      <td>Food</td>\n",
       "      <td>7.0</td>\n",
       "      <td>Clouds</td>\n",
       "    </tr>\n",
       "    <tr>\n",
       "      <th>93</th>\n",
       "      <td>29563</td>\n",
       "      <td>1070</td>\n",
       "      <td>40.6978026652822 -73.9941451630314</td>\n",
       "      <td>476</td>\n",
       "      <td>Sunday</td>\n",
       "      <td>Eastern Athletic Club</td>\n",
       "      <td>Gym</td>\n",
       "      <td>Outdoors &amp; Recreation</td>\n",
       "      <td>6.9</td>\n",
       "      <td>Clouds</td>\n",
       "    </tr>\n",
       "  </tbody>\n",
       "</table>\n",
       "<p>44989 rows × 10 columns</p>\n",
       "</div>"
      ],
      "text/plain": [
       "      tid  label                               space  time       day  \\\n",
       "0     127      6  40.8340978041072 -73.9452672225881   788    Monday   \n",
       "1     127      6  40.5671960000000 -73.8825760000000  1175    Monday   \n",
       "2     127      6  40.6899127194574 -73.9815044403076  1381    Monday   \n",
       "3     127      6  40.7085883614824 -73.9910316467285  1404    Monday   \n",
       "4     127      6  40.8331652006224 -73.9418603427692   845   Tuesday   \n",
       "..    ...    ...                                 ...   ...       ...   \n",
       "89  29563   1070  40.7047332789043 -73.9877378940582  1037    Friday   \n",
       "90  29563   1070  40.6951627360199 -73.9954478691072  1210    Friday   \n",
       "91  29563   1070  40.6978026652822 -73.9941451630314   481  Saturday   \n",
       "92  29563   1070  40.6946728967503 -73.9940820360805   819  Saturday   \n",
       "93  29563   1070  40.6978026652822 -73.9941451630314   476    Sunday   \n",
       "\n",
       "                                                  poi  \\\n",
       "0                                 Galaxy Gourmet Deli   \n",
       "1   MTA Bus - Beach 169 St & Rockaway Point Bl (Q2...   \n",
       "2                     MTA Subway - DeKalb Ave (B/Q/R)   \n",
       "3             MTA Subway - Manhattan Bridge (B/D/N/Q)   \n",
       "4                                        The Grinnell   \n",
       "..                                                ...   \n",
       "89                           Miami Ad School Brooklyn   \n",
       "90                               Lantern Thai Kitchen   \n",
       "91                              Eastern Athletic Club   \n",
       "92                                          Starbucks   \n",
       "93                              Eastern Athletic Club   \n",
       "\n",
       "                            type              root_type  rating weather  \n",
       "0                  Deli / Bodega                   Food     8.2  Clouds  \n",
       "1                       Bus Stop     Travel & Transport    -1.0  Clouds  \n",
       "2                  Metro Station     Travel & Transport    -1.0  Clouds  \n",
       "3                          Train     Travel & Transport    -1.0  Clouds  \n",
       "4                 Home (private)              Residence    -1.0   Clear  \n",
       "..                           ...                    ...     ...     ...  \n",
       "89  General College & University   College & University    -1.0  Clouds  \n",
       "90               Thai Restaurant                   Food     8.0  Clouds  \n",
       "91                           Gym  Outdoors & Recreation     6.9  Clouds  \n",
       "92                   Coffee Shop                   Food     7.0  Clouds  \n",
       "93                           Gym  Outdoors & Recreation     6.9  Clouds  \n",
       "\n",
       "[44989 rows x 10 columns]"
      ]
     },
     "execution_count": 9,
     "metadata": {},
     "output_type": "execute_result"
    }
   ],
   "source": [
    "df_train, df_test = load_ds_holdout()\n",
    "\n",
    "print(df_train.shape, df_test.shape)\n",
    "\n",
    "df_train"
   ]
  },
  {
   "cell_type": "markdown",
   "metadata": {},
   "source": [
    "Or, you can hold out split on another proportion (50% for instance):"
   ]
  },
  {
   "cell_type": "code",
   "execution_count": null,
   "metadata": {
    "tags": []
   },
   "outputs": [],
   "source": [
    "df_train, df_test = load_ds_holdout(train_size=0.5)\n",
    "\n",
    "# The split is class-balanced, thus train and test number of trajectories may not be exactly proportional.\n",
    "print(df_train.shape, df_test.shape) \n",
    "\n",
    "df_train"
   ]
  },
  {
   "cell_type": "markdown",
   "metadata": {},
   "source": [
    "    c) Or, you can load the k-fold split datasets available (deafult k=5):"
   ]
  },
  {
   "cell_type": "code",
   "execution_count": null,
   "metadata": {
    "tags": []
   },
   "outputs": [],
   "source": [
    "df_train, df_test = load_ds_kfold()\n",
    "\n",
    "for k in range(len(df_train)):\n",
    "    print('Shape train/test:', df_train[k].shape, df_test[k].shape)"
   ]
  },
  {
   "cell_type": "markdown",
   "metadata": {},
   "source": [
    "    d) You can load a different dataset from repository:"
   ]
  },
  {
   "cell_type": "code",
   "execution_count": null,
   "metadata": {
    "tags": []
   },
   "outputs": [],
   "source": [
    "# Use the format: 'category.DatasetName'\n",
    "dataset='raw.Animals'\n",
    "\n",
    "df = load_ds(dataset)\n",
    "df"
   ]
  },
  {
   "cell_type": "markdown",
   "metadata": {},
   "source": [
    "    e) To get a full list of anailable repositories and categories:"
   ]
  },
  {
   "cell_type": "code",
   "execution_count": null,
   "metadata": {},
   "outputs": [],
   "source": [
    "rd = repository_datasets()\n",
    "rd"
   ]
  },
  {
   "cell_type": "markdown",
   "metadata": {
    "jp-MarkdownHeadingCollapsed": true,
    "tags": []
   },
   "source": [
    "### 3. Pre-processing data\n",
    "To use helpers for data pre-processing, import from package `matdata.preprocess`:"
   ]
  },
  {
   "cell_type": "code",
   "execution_count": null,
   "metadata": {},
   "outputs": [],
   "source": [
    "from matdata.preprocess import *"
   ]
  },
  {
   "cell_type": "markdown",
   "metadata": {},
   "source": [
    "The **preprocess** module provides some functions to work data:\n",
    "\n",
    "Basic functions:\n",
    "- `readDataset`: load datasets as pandas DataFrame (from .csv, .parquet, .zip, .ts or .xes)\n",
    "- `organizeFrame`: standardize data columns for the DataFrame\n",
    "\n",
    "Train and Test split functions:\n",
    "- `trainTestSplit`: split dataset (pandas DataFrame) in train / test (70/30% by default)\n",
    "- `kfold_trainTestSplit`: split dataset (pandas DataFrame) in k-fold train / test (5-fold of 80/20% each fold by default)\n",
    "- `stratify`: extract trajectories from the dataset, respecting class balance, creating a subset of the data (to use when smaller datasets are needed)\n",
    "- `klabels_stratify`: k-labels statification (randomly select k-labels from the dataset)\n",
    "- `joinTrainTest`: joins the separated train and test files into one DataFrame.\n",
    "\n",
    "Statistical functions:\n",
    "- `printFeaturesJSON`: print a default JSON file descriptor for Movelets methods (version 1 or 2)\n",
    "- `countClasses`: calculates statistics from a dataset dataframe\n",
    "- `dfVariance`: calculates a variance rank from a dataset dataframe\n",
    "- `dfStats`: calculates attributes statistics ordered by variance from a dataset dataframe\n",
    "- `datasetStatistics`: generates dataset statistics from a dataframe in markdown text.\n",
    "\n",
    "Type reading functions:\n",
    "- `csv2df`: reads .csv dataset dataframe\n",
    "- `parquet2df`: reads .parquet dataset dataframe\n",
    "- `zip2df`: reads .zip dataset dataframe (zip containing trajectory csv files)\n",
    "- `ts2df`: reads .ts dataset dataframe (Time Series data format)\n",
    "- `xes2df`: reads .xes dataset dataframe (event log / event stream file)\n",
    "- `mat2df`: *TODO* reads .mat dataset dataframe (multiple aspect trajectory specific file format)\n",
    "\n",
    "File convertion functions:\n",
    "- `zip2csv`: converts .zip files and saves to .csv files\n",
    "- `df2zip`: converts DataFrame and saves to .zip files\n",
    "- `any2ts`: converts .zip or .csv files and saves to .ts files\n",
    "- `xes2csv`: reads .xes files and converts to DataFrame\n",
    "- `convertDataset`: default format conversions. Reads the dataset files and saves in .csv and .zip formats, also do k-fold split if not present"
   ]
  },
  {
   "cell_type": "markdown",
   "metadata": {
    "jp-MarkdownHeadingCollapsed": true,
    "tags": []
   },
   "source": [
    "    a) Basic reading the data, and organization:"
   ]
  },
  {
   "cell_type": "code",
   "execution_count": null,
   "metadata": {},
   "outputs": [],
   "source": [
    "data_path = 'matdata/assets/sample'\n",
    "\n",
    "df = readDataset(data_path, file='Foursquare_Sample.csv')\n",
    "df.head()"
   ]
  },
  {
   "cell_type": "code",
   "execution_count": null,
   "metadata": {},
   "outputs": [],
   "source": [
    "df, space_cols, ll_cols = organizeFrame(df, make_spatials=True)\n",
    "\n",
    "print('Columns with space: ', space_cols)\n",
    "print('Columns with lat/lon: ', ll_cols)\n",
    "df.head()"
   ]
  },
  {
   "cell_type": "markdown",
   "metadata": {
    "jp-MarkdownHeadingCollapsed": true,
    "tags": []
   },
   "source": [
    "**Note:** To better standard, we recomend for classification the use of `prepare_ds` function from `dataset` module, as you can indicate the class column:"
   ]
  },
  {
   "cell_type": "code",
   "execution_count": null,
   "metadata": {},
   "outputs": [],
   "source": [
    "from matdata.dataset import prepare_ds\n",
    "\n",
    "df = prepare_ds(df, class_col='root_type') # 'root_type' is then renamed 'label'\n",
    "df"
   ]
  },
  {
   "cell_type": "markdown",
   "metadata": {},
   "source": [
    "    b) Train and test split:"
   ]
  },
  {
   "cell_type": "markdown",
   "metadata": {},
   "source": [
    "To hold-out split a dataset into train and test (70/30% by deafult):"
   ]
  },
  {
   "cell_type": "code",
   "execution_count": null,
   "metadata": {},
   "outputs": [],
   "source": [
    "train, test = trainTestSplit(df, random_num=1)\n",
    "train.head()"
   ]
  },
  {
   "cell_type": "markdown",
   "metadata": {},
   "source": [
    "If you want to save, indicate the output format and data path:"
   ]
  },
  {
   "cell_type": "code",
   "execution_count": null,
   "metadata": {},
   "outputs": [],
   "source": [
    "trainTestSplit(df, data_path=data_path, outformats=['csv', 'parquet'])\n",
    "\n",
    "# Reading:\n",
    "df = readDataset(data_path, file='train.parquet')\n",
    "df.head()"
   ]
  },
  {
   "cell_type": "markdown",
   "metadata": {},
   "source": [
    "To k-fold split a dataset into train and test:"
   ]
  },
  {
   "cell_type": "code",
   "execution_count": null,
   "metadata": {
    "tags": []
   },
   "outputs": [],
   "source": [
    "train, test = kfold_trainTestSplit(df, k=3)\n",
    "\n",
    "for k in range(len(train)):\n",
    "    print('Shape train/test:', train[k].shape, test[k].shape)"
   ]
  },
  {
   "cell_type": "markdown",
   "metadata": {},
   "source": [
    "    c) Stratifying the data (example to get 50% of the dataset):"
   ]
  },
  {
   "cell_type": "code",
   "execution_count": null,
   "metadata": {
    "tags": []
   },
   "outputs": [],
   "source": [
    "train, test = stratify(df, sample_size=0.5)\n",
    "\n",
    "print('Shape train/test:', train.shape, test.shape)\n",
    "train.head()"
   ]
  },
  {
   "cell_type": "markdown",
   "metadata": {},
   "source": [
    "k-Fold Stratifying the data (example to get 50% of the dataset in 3-folds):"
   ]
  },
  {
   "cell_type": "code",
   "execution_count": null,
   "metadata": {
    "tags": []
   },
   "outputs": [],
   "source": [
    "train, test = klabels_stratify(df, kl=5)\n",
    "\n",
    "print('Shape train/test:', train.shape, test.shape)\n",
    "\n",
    "\n",
    "print('Labels before:', df.label.unique())\n",
    "print('Labels after:', train.label.unique())"
   ]
  },
  {
   "cell_type": "markdown",
   "metadata": {},
   "source": [
    "    d) Joining train and test files:"
   ]
  },
  {
   "cell_type": "code",
   "execution_count": null,
   "metadata": {},
   "outputs": [],
   "source": [
    "df = joinTrainTest(data_path, train_file=\"train.csv\", test_file=\"test.csv\", to_file=True) # Saves 'joined.csv' file\n",
    "\n",
    "df.head()"
   ]
  },
  {
   "cell_type": "markdown",
   "metadata": {},
   "source": [
    "**Note:** We standardized all repository datasets by creating a `data.parquet` file with `np.NaN` as missing values, as example:"
   ]
  },
  {
   "cell_type": "code",
   "execution_count": null,
   "metadata": {
    "tags": []
   },
   "outputs": [],
   "source": [
    "from matdata.preprocess import *\n",
    "from matdata.dataset import prepare_ds\n",
    "import numpy as np\n",
    "\n",
    "data_path = 'matdata/assets/sample'\n",
    "\n",
    "df.replace('?', np.NaN, inplace=True)\n",
    "\n",
    "df = prepare_ds(df)\n",
    "\n",
    "df2parquet(df, data_path, 'data')"
   ]
  },
  {
   "cell_type": "markdown",
   "metadata": {
    "jp-MarkdownHeadingCollapsed": true,
    "tags": []
   },
   "source": [
    "### 4. Synthetic Data Generation\n",
    "\n",
    "Methods for generating trajectory data, random or sampling data."
   ]
  },
  {
   "cell_type": "code",
   "execution_count": null,
   "metadata": {},
   "outputs": [],
   "source": [
    "from matdata.generator import *"
   ]
  },
  {
   "cell_type": "markdown",
   "metadata": {},
   "source": [
    "- `scalerSamplerGenerator`: generates trajectory datasets based on real data on scale intervals\n",
    "- `samplerGenerator`: generate a trajectory dataset based on real data\n",
    "- `scalerRandomGenerator`: generates trajectory datasets based on random data on scale intervals\n",
    "- `randomGenerator`: generate a trajectory dataset based on random data"
   ]
  },
  {
   "cell_type": "markdown",
   "metadata": {},
   "source": [
    "    a) To generate a sample dataset (default config):"
   ]
  },
  {
   "cell_type": "code",
   "execution_count": null,
   "metadata": {},
   "outputs": [],
   "source": [
    "samplerGenerator()"
   ]
  },
  {
   "cell_type": "markdown",
   "metadata": {},
   "source": [
    "To specify the synthetic dataset parameters:"
   ]
  },
  {
   "cell_type": "code",
   "execution_count": null,
   "metadata": {},
   "outputs": [],
   "source": [
    "N=10 # Number of trajectories\n",
    "M=50 # Number of points by trajectory\n",
    "C=3  # Number of classes (C1 to Cn)\n",
    "samplerGenerator(N, M, C)"
   ]
  },
  {
   "cell_type": "markdown",
   "metadata": {},
   "source": [
    "    b) To generate a set of sample datasets:\n",
    "    \n",
    "Creates and save dataset files (including movelets json descriptor file). Generates sample datasets in a increasing log scale for each parameter. It uses the middle value for the other configurations"
   ]
  },
  {
   "cell_type": "code",
   "execution_count": null,
   "metadata": {},
   "outputs": [],
   "source": [
    "data_path = 'matdata/assets/sample/samples'\n",
    "\n",
    "Ns=[100, 3]   # Min. number of trajectories: 100, 3 scales (by log increment)  \n",
    "Ms=[10,  3]   # Min. number of points: 10, 3 scales (by log increment)\n",
    "Ls=[8,   3]   # Min. number of attributes: 8, 3 scales (by log increment)\n",
    "Cs=[2,   3]   # Min. number of labels: 2, 3 scales (by log increment)\n",
    "\n",
    "scalerSamplerGenerator(Ns, Ms, Ls, Cs, save_to=data_path)"
   ]
  },
  {
   "cell_type": "markdown",
   "metadata": {},
   "source": [
    "    c) To generate a random dataset (default config):"
   ]
  },
  {
   "cell_type": "code",
   "execution_count": null,
   "metadata": {},
   "outputs": [],
   "source": [
    "randomGenerator()"
   ]
  },
  {
   "cell_type": "markdown",
   "metadata": {},
   "source": [
    "To specify the synthetic random dataset parameters:"
   ]
  },
  {
   "cell_type": "code",
   "execution_count": null,
   "metadata": {},
   "outputs": [],
   "source": [
    "N=10 # Number of trajectories\n",
    "M=50 # Number of points by trajectory\n",
    "L=10 # Number of attributes\n",
    "C=3  # Number of classes (C1 to Cn)\n",
    "randomGenerator(N, M, L, C)"
   ]
  },
  {
   "cell_type": "markdown",
   "metadata": {},
   "source": [
    "    d) To generate a set of random datasets:\n",
    "    \n",
    "Creates and save dataset files (including movelets json descriptor file). Generates randomic datasets in a increasing log scale for each parameter. It uses the middle value for the other configurations"
   ]
  },
  {
   "cell_type": "code",
   "execution_count": null,
   "metadata": {},
   "outputs": [],
   "source": [
    "data_path = 'matdata/assets/sample/random'\n",
    "\n",
    "Ns=[100, 3]   # Min. number of trajectories: 100, 3 scales (by log increment)  \n",
    "Ms=[10,  3]   # Min. number of points: 10, 3 scales (by log increment)\n",
    "Ls=[8,   3]   # Min. number of attributes: 8, 3 scales (by log increment)\n",
    "Cs=[2,   3]   # Min. number of labels: 2, 3 scales (by log increment)\n",
    "\n",
    "scalerRandomGenerator(Ns, Ms, Ls, Cs, save_to=data_path)"
   ]
  },
  {
   "cell_type": "markdown",
   "metadata": {
    "tags": []
   },
   "source": [
    "#\n",
    "--- "
   ]
  },
  {
   "cell_type": "markdown",
   "metadata": {},
   "source": [
    "\\# By Tarlis Portela (2024)"
   ]
  }
 ],
 "metadata": {
  "kernelspec": {
   "display_name": "Python 3 (ipykernel)",
   "language": "python",
   "name": "python3"
  },
  "language_info": {
   "codemirror_mode": {
    "name": "ipython",
    "version": 3
   },
   "file_extension": ".py",
   "mimetype": "text/x-python",
   "name": "python",
   "nbconvert_exporter": "python",
   "pygments_lexer": "ipython3",
   "version": "3.9.13"
  }
 },
 "nbformat": 4,
 "nbformat_minor": 4
}
