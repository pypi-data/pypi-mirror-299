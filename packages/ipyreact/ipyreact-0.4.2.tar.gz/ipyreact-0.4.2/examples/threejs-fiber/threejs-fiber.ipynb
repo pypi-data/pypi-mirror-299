{
 "cells": [
  {
   "cell_type": "markdown",
   "id": "0ba18ea4",
   "metadata": {},
   "source": [
    "## Creating the ES module\n",
    "We will first create a single self contained ES module, since using threejs-fiber from esm.sh does not work flawlessly.\n",
    "\n",
    "First create a simple file called `threejs-fiber.js` that exports what we need.\n",
    "\n",
    "```javascript\n",
    "export * from '@react-three/fiber'\n",
    "export * from \"@react-three/drei\";\n",
    "```\n",
    "\n",
    "Next, we install the libraries:\n",
    "\n",
    "```bash\n",
    "$ npm install @react-three/drei@9.68.6 @react-three/fiber@8.13.0\n",
    "```\n",
    "\n",
    "And use ESBuild to turn this into a self-contained module/bundle, without react, since ipyreact provides that for us.\n",
    "\n",
    "```\n",
    "$ npx esbuild ./threejs-fiber.js --bundle --outfile=./threejs-fiber.bundle.js --format=esm --external:react --external:react-dom --external:react-reconciler --external:react-reconciler/constants --target=esnext\n",
    "```\n",
    "\n",
    "\n",
    "Now we can define the module with a custom name (we call it threejs-fiber)."
   ]
  },
  {
   "cell_type": "code",
   "execution_count": null,
   "id": "b04a717e",
   "metadata": {},
   "outputs": [],
   "source": [
    "%pip install -q ipyreact\n",
    "# This line is needed for JupyterLite"
   ]
  },
  {
   "cell_type": "code",
   "execution_count": null,
   "id": "60544de0",
   "metadata": {},
   "outputs": [],
   "source": [
    "import ipyreact\n",
    "from pathlib import Path\n",
    "ipyreact.define_module(\"threejs-fiber\", Path(\"./threejs-fiber.bundle.js\"))"
   ]
  },
  {
   "cell_type": "code",
   "execution_count": null,
   "id": "c495be0f",
   "metadata": {},
   "outputs": [],
   "source": [
    "from traitlets import default\n",
    "\n",
    "\n",
    "class BoxWidget(ipyreact.Widget):\n",
    "    _esm = \"\"\"\n",
    "        import React, { useRef, useState } from \"react\"\n",
    "        import { Canvas, useFrame, useThree } from 'threejs-fiber'\n",
    "        import { OrbitControls } from \"threejs-fiber\";\n",
    "\n",
    "        export default function Box({position, color}) {\n",
    "          const ref = useRef()\n",
    "          useFrame(() => (ref.current.rotation.x = ref.current.rotation.y += 0.01))\n",
    "\n",
    "          return (\n",
    "            <mesh position={position} ref={ref}>\n",
    "              <boxGeometry args={[1, 1, 1]} attach=\"geometry\" />\n",
    "              <meshPhongMaterial color={color} attach=\"material\" />\n",
    "            </mesh>\n",
    "          )\n",
    "        }\n",
    "\n",
    "    \"\"\""
   ]
  },
  {
   "cell_type": "code",
   "execution_count": null,
   "id": "401762c0",
   "metadata": {},
   "outputs": [],
   "source": []
  },
  {
   "cell_type": "code",
   "execution_count": null,
   "id": "74751bd8",
   "metadata": {
    "scrolled": false
   },
   "outputs": [],
   "source": [
    "import random\n",
    "\n",
    "\n",
    "def random_color():\n",
    "    # Generates a random hex color code\n",
    "    return \"#\" + ''.join([random.choice('0123456789ABCDEF') for _ in range(6)])\n",
    "\n",
    "def add(_ignore=None):\n",
    "    x = random.random() * 4 - 2\n",
    "    z = random.random() * 4 - 1\n",
    "    color = random_color()  # Call the random_color function to get a random color\n",
    "    box = BoxWidget(props=dict(position=[x, 0, z], color=color))  # Use the random color for the box\n",
    "    canvas.children = [*canvas.children, box]\n",
    "\n",
    "canvas = ipyreact.Widget(_type=\"Canvas\", _module=\"threejs-fiber\",\n",
    "        events=dict(onClick=add),\n",
    "        children=[\n",
    "            BoxWidget(props=dict(position=[-1, 0, 3], color=\"#18a36e\")),\n",
    "            BoxWidget(props=dict(position=[1, 0, 3], color=\"#f56f42\")),\n",
    "            ipyreact.Widget(_type=\"OrbitControls\", _module=\"threejs-fiber\"),\n",
    "            # seems that if it starts with a small letter, it's globally available, and not exported\n",
    "            # from the threejs-fiber module, therefore we do not pass _module=\"threejs-fiber\"\n",
    "            ipyreact.Widget(_type=\"directionalLight\",\n",
    "                           props=dict(color=\"#ffffff\", intensity=1, position=[-1, 2, 4]))\n",
    "       ]\n",
    ")\n",
    "\n",
    "# the canvas fills the parent, so wrap it in a div with the fixed height\n",
    "ipyreact.Widget(_type=\"div\", props=dict(style=dict(height=\"600px\")), children=[canvas])"
   ]
  },
  {
   "cell_type": "markdown",
   "id": "b15124d9",
   "metadata": {},
   "source": [
    "# Using in solara\n",
    "\n",
    "*Note: this part does not work in JupyterLite*\n",
    "\n",
    "Although this shows the power of ipyreact, in how it composes, we can do better.\n",
    "\n",
    "The first problem is that it does not have a very nice API, it's very low level.\n",
    "\n",
    "The second problem is that although we now have a nice composable set of widgets, actually building a larger application by manually adding and removing widgets is tiresome, which is why we build [Solara](https://solara.dev).\n",
    "\n",
    "By following [the solara docs on how to use widgets](https://solara.dev/docs/howto/ipywidget-libraries) we can add wrapper component with a nicer API."
   ]
  },
  {
   "cell_type": "code",
   "execution_count": null,
   "id": "e53d754b",
   "metadata": {},
   "outputs": [],
   "source": [
    "import solara\n",
    "\n",
    "@solara.component\n",
    "def Box(position, color, props={}, events={}, children=[]):\n",
    "    return BoxWidget.element(props={**props, **dict(color=color, position=position)}, events=events, children=children)\n",
    "\n",
    "\n",
    "@solara.component\n",
    "def Canvas(props={}, events={}, children=[]):\n",
    "    return ipyreact.Widget.element(props=props, events=events, children=children, _type=\"Canvas\", _module=\"threejs-fiber\")\n",
    "\n",
    "\n",
    "@solara.component\n",
    "def OrbitControls(props={}, events={}, children=[]):\n",
    "    return ipyreact.Widget.element(_type=\"OrbitControls\", _module=\"threejs-fiber\", props=props, events=events, children=children)\n",
    "\n",
    "\n",
    "@solara.component\n",
    "def DirectionalLight(props={}, events={}, children=[]):\n",
    "    # starts with a lower case, should be available globally, so we don't need to pass\n",
    "    # _module=\"threejs-fiber\"\n",
    "    return ipyreact.Widget.element(_type=\"directionalLight\", props=props, events=events, children=children)\n",
    "\n",
    "\n",
    "@solara.component\n",
    "def Div(style={}, props={}, events={}, children=[]):\n",
    "    # we use a ipyreact based div to avoid an extra wrapper div which will affect layout\n",
    "    return ipyreact.Widget.element(_type=\"div\", props={**props, **dict(style=style)}, children=children, events=events)"
   ]
  },
  {
   "cell_type": "markdown",
   "id": "c0550eed",
   "metadata": {},
   "source": [
    "Now we can build a dynamic application without having to worry about how to add and remove widgets, and populating our scene dynamically based on data (the reactive variable). On top of that we also have a nicer API that we can customize to our needs."
   ]
  },
  {
   "cell_type": "code",
   "execution_count": null,
   "id": "df54baab",
   "metadata": {},
   "outputs": [],
   "source": [
    "boxes = solara.reactive([\n",
    "    ([-1, 0, 3], \"#18a36e\"),\n",
    "    ([1, 0, 3], \"#f56f42\"),\n",
    "])\n",
    "    \n",
    "def add(event_data=None):\n",
    "    x = random.random() * 4 - 2\n",
    "    z = random.random() * 4 - 1\n",
    "    color = random_color()  # Call the random_color function to get a random color\n",
    "    boxes.value = [*boxes.value, ([x, 0, z], color)]\n",
    "\n",
    "\n",
    "def clear():\n",
    "    boxes.value = boxes.value[:2]\n",
    "\n",
    "\n",
    "def add_10():\n",
    "    for i in range(10):\n",
    "        add()\n",
    "        \n",
    "@solara.component\n",
    "def Page():\n",
    "    with solara.Row():\n",
    "        solara.Button(\"Clear\", on_click=clear)\n",
    "        solara.Button(\"Add 10\", on_click=add_10)\n",
    "    solara.Markdown(\"Click to add a new box\")\n",
    "    with Div(style={\"height\": \"600px\"}):\n",
    "        # a canvas fill the available space, so we add a parent div with height\n",
    "        with Canvas(events={\"onClick\": add}):\n",
    "            for position, color in boxes.value:\n",
    "                Box(position=position, color=color)\n",
    "            OrbitControls()\n",
    "            DirectionalLight(props=dict(color=\"#ffffff\", intensity=1, position=[-1, 2, 4]))\n",
    "Page()"
   ]
  },
  {
   "cell_type": "code",
   "execution_count": null,
   "id": "e4823672",
   "metadata": {},
   "outputs": [],
   "source": []
  }
 ],
 "metadata": {
  "kernelspec": {
   "display_name": "Python 3 (ipykernel)",
   "language": "python",
   "name": "python3"
  },
  "language_info": {
   "codemirror_mode": {
    "name": "ipython",
    "version": 3
   },
   "file_extension": ".py",
   "mimetype": "text/x-python",
   "name": "python",
   "nbconvert_exporter": "python",
   "pygments_lexer": "ipython3",
   "version": "3.9.16"
  }
 },
 "nbformat": 4,
 "nbformat_minor": 5
}
